{
 "cells": [
  {
   "cell_type": "code",
   "execution_count": 1,
   "metadata": {},
   "outputs": [
    {
     "name": "stdout",
     "output_type": "stream",
     "text": [
      "0.025099372741157526\n"
     ]
    }
   ],
   "source": [
    "# testing timeit()\n",
    "import timeit\n",
    "print(timeit.timeit('output = 10*5'))\n"
   ]
  },
  {
   "cell_type": "code",
   "execution_count": 2,
   "metadata": {},
   "outputs": [
    {
     "name": "stdout",
     "output_type": "stream",
     "text": [
      "The time taken is  0.07273266718894433\n"
     ]
    }
   ],
   "source": [
    "#Using semicolon\n",
    "import timeit\n",
    "print(\"The time taken is \",timeit.timeit(stmt='a=10;b=10;sum=a+b'))\n"
   ]
  },
  {
   "cell_type": "code",
   "execution_count": 3,
   "metadata": {},
   "outputs": [
    {
     "name": "stdout",
     "output_type": "stream",
     "text": [
      "[0.11412105234185788, 0.09592871100158362, 0.09784976701325832]\n"
     ]
    }
   ],
   "source": [
    "#Using triple quotes\n",
    "import timeit\n",
    "import_module = \"import random\"\n",
    "testcode = ''' \n",
    "def test(): \n",
    "    return random.randint(10, 100)\n",
    "'''\n",
    "print(timeit.repeat(stmt=testcode, setup=import_module))\n"
   ]
  },
  {
   "cell_type": "code",
   "execution_count": 4,
   "metadata": {},
   "outputs": [
    {
     "name": "stdout",
     "output_type": "stream",
     "text": [
      "0.1317818921888545\n"
     ]
    }
   ],
   "source": [
    "#timeit Methods\n",
    "# testing timeit()\n",
    "import timeit\n",
    "import_module = \"import random\"\n",
    "testcode = ''' \n",
    "def test(): \n",
    "    return random.randint(10, 100)\n",
    "'''\n",
    "print(timeit.timeit(stmt=testcode, setup=import_module))\n"
   ]
  },
  {
   "cell_type": "code",
   "execution_count": 5,
   "metadata": {},
   "outputs": [
    {
     "name": "stdout",
     "output_type": "stream",
     "text": [
      "The start time is : 123.80590772151312\n",
      "The time difference is : 0.00033308256249142687\n"
     ]
    }
   ],
   "source": [
    "#default_timer() Example\n",
    "# testing timeit()\n",
    " \n",
    "import timeit\n",
    "import random\n",
    " \n",
    "def test(): \n",
    "    return random.randint(10, 100)\n",
    " \n",
    "starttime = timeit.default_timer()\n",
    "print(\"The start time is :\",starttime)\n",
    "test()\n",
    "print(\"The time difference is :\", timeit.default_timer() - starttime)\n"
   ]
  },
  {
   "cell_type": "code",
   "execution_count": 6,
   "metadata": {},
   "outputs": [
    {
     "name": "stdout",
     "output_type": "stream",
     "text": [
      "[0.10952382877630384, 0.1039652997012297, 0.09665707641835297, 0.09917556623258861, 0.09481283776702298]\n"
     ]
    }
   ],
   "source": [
    "#timeit.repeat()\n",
    "# testing timeit()\n",
    "import timeit\n",
    "import_module = \"import random\"\n",
    "testcode = ''' \n",
    "def test(): \n",
    "    return random.randint(10, 100)\n",
    "'''\n",
    "print(timeit.repeat(stmt=testcode, setup=import_module, repeat=5))\n"
   ]
  },
  {
   "cell_type": "code",
   "execution_count": 11,
   "metadata": {},
   "outputs": [
    {
     "name": "stdout",
     "output_type": "stream",
     "text": [
      "The time taken is  0.07799512287513721\n"
     ]
    }
   ],
   "source": [
    "#execute inside command line \n",
    "import timeit\n",
    ">>> print(\"The time taken is \",timeit.timeit(stmt='a=10;b=10;sum=a+b'))\n",
    "\n"
   ]
  },
  {
   "cell_type": "code",
   "execution_count": null,
   "metadata": {},
   "outputs": [],
   "source": []
  }
 ],
 "metadata": {
  "kernelspec": {
   "display_name": "Python 3",
   "language": "python",
   "name": "python3"
  },
  "language_info": {
   "codemirror_mode": {
    "name": "ipython",
    "version": 3
   },
   "file_extension": ".py",
   "mimetype": "text/x-python",
   "name": "python",
   "nbconvert_exporter": "python",
   "pygments_lexer": "ipython3",
   "version": "3.6.5"
  }
 },
 "nbformat": 4,
 "nbformat_minor": 2
}
