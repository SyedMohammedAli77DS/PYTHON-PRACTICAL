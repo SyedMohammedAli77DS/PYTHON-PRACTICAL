{
 "cells": [
  {
   "cell_type": "code",
   "execution_count": 1,
   "metadata": {},
   "outputs": [
    {
     "name": "stdout",
     "output_type": "stream",
     "text": [
      "Testing by using truncating upto 3 decimal places\n",
      "The original sum is =  29993.88318133774\n",
      "The total using truncate =  29494.114\n",
      "The difference from original - truncate =  499.7691813377387\n",
      "\n",
      "\n",
      "\n",
      "Testing by using round() upto 3 decimal places\n",
      "The original sum is = 29993.88318133774\n",
      "The total using round =  29993.896\n",
      "The difference from original - round = -0.012818662260542624\n"
     ]
    }
   ],
   "source": [
    "import random\n",
    "\n",
    "def truncate(num):\n",
    "    return int(num * 1000) / 1000\n",
    "\n",
    "arr = [random.uniform(0.01, 0.05) for _ in range(1000000)]\n",
    "sum_num = 0\n",
    "sum_truncate = 0\n",
    "for i in arr:\n",
    "    sum_num = sum_num + i        \n",
    "    sum_truncate = truncate(sum_truncate + i)\n",
    "    \n",
    "print(\"Testing by using truncating upto 3 decimal places\")\n",
    "print(\"The original sum is = \", sum_num)\n",
    "print(\"The total using truncate = \", sum_truncate)\n",
    "print(\"The difference from original - truncate = \", sum_num - sum_truncate)\n",
    "\n",
    "print(\"\\n\\n\")\n",
    "print(\"Testing by using round() upto 3 decimal places\")\n",
    "sum_num1 = 0\n",
    "sum_truncate1 = 0\n",
    "for i in arr:\n",
    "    sum_num1 = sum_num1 + i        \n",
    "    sum_truncate1 = round(sum_truncate1 + i, 3)\n",
    "\n",
    "\n",
    "print(\"The original sum is =\", sum_num1)\n",
    "print(\"The total using round = \", sum_truncate1)\n",
    "print(\"The difference from original - round =\", sum_num1 - sum_truncate1)\n"
   ]
  },
  {
   "cell_type": "code",
   "execution_count": null,
   "metadata": {},
   "outputs": [],
   "source": []
  }
 ],
 "metadata": {
  "kernelspec": {
   "display_name": "Python 3",
   "language": "python",
   "name": "python3"
  },
  "language_info": {
   "codemirror_mode": {
    "name": "ipython",
    "version": 3
   },
   "file_extension": ".py",
   "mimetype": "text/x-python",
   "name": "python",
   "nbconvert_exporter": "python",
   "pygments_lexer": "ipython3",
   "version": "3.6.5"
  }
 },
 "nbformat": 4,
 "nbformat_minor": 2
}
