{
 "cells": [
  {
   "cell_type": "code",
   "execution_count": 1,
   "metadata": {},
   "outputs": [
    {
     "name": "stdout",
     "output_type": "stream",
     "text": [
      "0\n",
      "1\n",
      "2\n",
      "3\n"
     ]
    }
   ],
   "source": [
    "#Example file for working with loops\n",
    "#\n",
    "def main():\n",
    "\tx=0\n",
    "\t#define a while loop\n",
    "\twhile(x <4):\n",
    "\t\tprint(x)\n",
    "\t\tx = x+1\n",
    "\n",
    "if __name__ == \"__main__\":\n",
    "    main()\n"
   ]
  },
  {
   "cell_type": "code",
   "execution_count": 4,
   "metadata": {},
   "outputs": [
    {
     "name": "stdout",
     "output_type": "stream",
     "text": [
      "2\n",
      "3\n",
      "4\n",
      "5\n",
      "6\n",
      "0\n",
      "1\n",
      "2\n",
      "3\n"
     ]
    }
   ],
   "source": [
    "#Example file for working with loops\n",
    "\n",
    "def main():\n",
    "\tx=0\n",
    "\t#define a while loop\n",
    "\twhile(x <4):\n",
    "\t\tprint (x)\n",
    "\t\tx = x+1\n",
    "\n",
    "\n",
    "\t#Define a for loop \n",
    "for x in range(2,7):\n",
    "\t\tprint(x)\n",
    "\n",
    "\n",
    "if __name__ == \"__main__\":\n",
    "    main()\n"
   ]
  },
  {
   "cell_type": "code",
   "execution_count": 5,
   "metadata": {},
   "outputs": [
    {
     "name": "stdout",
     "output_type": "stream",
     "text": [
      "Jan\n",
      "Feb\n",
      "Mar\n",
      "April\n",
      "May\n",
      "June\n"
     ]
    }
   ],
   "source": [
    "#For Loop for String\n",
    "def main():\n",
    "\t#use a for loop over a collection\n",
    "\tMonths = [\"Jan\",\"Feb\",\"Mar\",\"April\",\"May\",\"June\"]\n",
    "\tfor m in Months:\n",
    "\t\tprint(m)\n",
    "\t\t\n",
    "if __name__ == \"__main__\":\n",
    "\tmain()\n"
   ]
  },
  {
   "cell_type": "code",
   "execution_count": null,
   "metadata": {},
   "outputs": [],
   "source": []
  }
 ],
 "metadata": {
  "kernelspec": {
   "display_name": "Python 3",
   "language": "python",
   "name": "python3"
  },
  "language_info": {
   "codemirror_mode": {
    "name": "ipython",
    "version": 3
   },
   "file_extension": ".py",
   "mimetype": "text/x-python",
   "name": "python",
   "nbconvert_exporter": "python",
   "pygments_lexer": "ipython3",
   "version": "3.6.5"
  }
 },
 "nbformat": 4,
 "nbformat_minor": 2
}
