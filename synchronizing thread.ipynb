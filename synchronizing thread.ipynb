{
 "cells": [
  {
   "cell_type": "code",
   "execution_count": null,
   "metadata": {},
   "outputs": [],
   "source": [
    "import threading\n",
    "lock = threading.Lock()\n",
    "\n",
    "def first_function():\n",
    "    for i in range(5):\n",
    "        lock.acquire()\n",
    "        print ('lock acquired')\n",
    "        print ('Executing the first funcion')\n",
    "        lock.release()\n",
    "\n",
    "def second_function():\n",
    "    for i in range(5):\n",
    "        lock.acquire()\n",
    "        print ('lock acquired')\n",
    "        print ('Executing the second funcion')\n",
    "        lock.release()\n",
    "\n",
    "if __name__==\"__main__\":\n",
    "    thread_one = threading.Thread(target=first_function)\n",
    "    thread_two = threading.Thread(target=second_function)\n",
    "\n",
    "    thread_one.start()\n",
    "    thread_two.start()\n",
    "\n",
    "    thread_one.join()\n",
    "    thread_two.join()\n"
   ]
  },
  {
   "cell_type": "code",
   "execution_count": null,
   "metadata": {},
   "outputs": [],
   "source": []
  }
 ],
 "metadata": {
  "kernelspec": {
   "display_name": "Python 3",
   "language": "python",
   "name": "python3"
  },
  "language_info": {
   "codemirror_mode": {
    "name": "ipython",
    "version": 3
   },
   "file_extension": ".py",
   "mimetype": "text/x-python",
   "name": "python",
   "nbconvert_exporter": "python",
   "pygments_lexer": "ipython3",
   "version": "3.6.5"
  }
 },
 "nbformat": 4,
 "nbformat_minor": 2
}
