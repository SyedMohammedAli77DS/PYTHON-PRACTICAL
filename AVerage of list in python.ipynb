{
 "cells": [
  {
   "cell_type": "code",
   "execution_count": 1,
   "metadata": {},
   "outputs": [
    {
     "name": "stdout",
     "output_type": "stream",
     "text": [
      "The average is 18.4\n"
     ]
    }
   ],
   "source": [
    "#Python Average via Loop\n",
    "def cal_average(num):\n",
    "    sum_num = 0\n",
    "    for t in num:\n",
    "        sum_num = sum_num + t           \n",
    "\n",
    "    avg = sum_num / len(num)\n",
    "    return avg\n",
    "\n",
    "print(\"The average is\", cal_average([18,25,3,41,5]))\n"
   ]
  },
  {
   "cell_type": "code",
   "execution_count": 2,
   "metadata": {},
   "outputs": [
    {
     "name": "stdout",
     "output_type": "stream",
     "text": [
      "The average is  31.86\n"
     ]
    }
   ],
   "source": [
    "# Example to find average of list\n",
    "number_list = [45, 34, 10, 36, 12, 6, 80]\n",
    "avg = sum(number_list)/len(number_list)\n",
    "print(\"The average is \", round(avg,2))\n"
   ]
  },
  {
   "cell_type": "code",
   "execution_count": 3,
   "metadata": {},
   "outputs": [
    {
     "name": "stdout",
     "output_type": "stream",
     "text": [
      "The average is  31.86\n"
     ]
    }
   ],
   "source": [
    "# Example to find the average of the list\n",
    "from statistics import mean\n",
    " \n",
    "number_list = [45, 34, 10, 36, 12, 6, 80]\n",
    "avg = mean(number_list)\n",
    "print(\"The average is \", round(avg,2))\n"
   ]
  },
  {
   "cell_type": "code",
   "execution_count": 4,
   "metadata": {},
   "outputs": [
    {
     "name": "stdout",
     "output_type": "stream",
     "text": [
      "The average is  31.86\n"
     ]
    }
   ],
   "source": [
    "# Example to find avearge of list\n",
    "from numpy import mean\n",
    "number_list = [45, 34, 10, 36, 12, 6, 80]\n",
    "avg = mean(number_list)\n",
    "print(\"The average is \", round(avg,2))\n"
   ]
  },
  {
   "cell_type": "code",
   "execution_count": null,
   "metadata": {},
   "outputs": [],
   "source": []
  }
 ],
 "metadata": {
  "kernelspec": {
   "display_name": "Python 3",
   "language": "python",
   "name": "python3"
  },
  "language_info": {
   "codemirror_mode": {
    "name": "ipython",
    "version": 3
   },
   "file_extension": ".py",
   "mimetype": "text/x-python",
   "name": "python",
   "nbconvert_exporter": "python",
   "pygments_lexer": "ipython3",
   "version": "3.6.5"
  }
 },
 "nbformat": 4,
 "nbformat_minor": 2
}
