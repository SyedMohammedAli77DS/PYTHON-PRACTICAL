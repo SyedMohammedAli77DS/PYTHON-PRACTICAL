{
 "cells": [
  {
   "cell_type": "code",
   "execution_count": null,
   "metadata": {},
   "outputs": [],
   "source": [
    "# Python Getting Started\n",
    "Python Install\n",
    "Many PCs and Macs will have python already installed.\n",
    "To check if you have python installed on a Windows PC, search in the start bar for Python or run the\n",
    "following on the Command Line (cmd.exe):\n",
    "C:\\Users\\Your Name>python --version\n",
    "To check if you have python installed on a Linux or Mac, then on linux open the command \n",
    "line or on Mac open the Terminal and type:\n",
    "    python --version\n",
    "If you find that you do not have python installed on your computer, then you can download\n",
    "it for free from the following website: https://www.python.org/\n",
    "\n",
    "# Python Quickstart\n",
    "Python is an interpreted programming language, this means that as a developer you write Python (.py) \n",
    "files in a text editor and then put those files into the python interpreter to be executed.\n",
    "The way to run a python file is like this on the command line:\n",
    "C:\\Users\\Your Name>python helloworld.py\n",
    "Where \"helloworld.py\" is the name of your python file.\n",
    "Lets write Where \"helloworld.py\" is the name of your python file.\n",
    "Lets write our first Python file, called helloworld.py, which can be done in any text editor.\n",
    "helloworld.py\n",
    "print(\"Hello, World!\")\n",
    "Simple as that. Save your file. Open your command line, navigate to the directory where you \n",
    "saved your file, and run:\n",
    "C:\\Users\\Your Name>python helloworld.py\n",
    "The output should read:\n",
    "Hello, World!\n",
    "Congratulations, you have written and executed your first Python program.\n",
    "\n",
    "# The Python Command Line\n",
    "To test a short amount of code in python sometimes it is quickest and easiest not to write the code in a file. This is made possible because Python can be run as a command line itself.\n",
    "Type the following on the Windows, Mac or Linux command line:\n",
    "C:\\Users\\Your Name>python\n",
    "From there you can write any python, including our hello world example from earlier in the tutorial:\n",
    "    >>> print(\"Hello, World!\")\n",
    "\n",
    "Which will write \"Hello, World!\" in the command line:\n",
    "Hello, World!\n",
    "\n",
    "Whenever you are done in the python command line, you can simply type the following to quit the python command line interface:\n",
    "exit()\n",
    "\n",
    "\n",
    "\n",
    "\n",
    "\n"
   ]
  },
  {
   "cell_type": "code",
   "execution_count": null,
   "metadata": {},
   "outputs": [],
   "source": []
  }
 ],
 "metadata": {
  "kernelspec": {
   "display_name": "Python 3",
   "language": "python",
   "name": "python3"
  },
  "language_info": {
   "codemirror_mode": {
    "name": "ipython",
    "version": 3
   },
   "file_extension": ".py",
   "mimetype": "text/x-python",
   "name": "python",
   "nbconvert_exporter": "python",
   "pygments_lexer": "ipython3",
   "version": "3.7.6"
  }
 },
 "nbformat": 4,
 "nbformat_minor": 4
}
