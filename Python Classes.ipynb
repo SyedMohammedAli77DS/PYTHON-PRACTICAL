{
 "cells": [
  {
   "cell_type": "code",
   "execution_count": 7,
   "metadata": {},
   "outputs": [],
   "source": [
    "#Python classes\n",
    "class myClass():\n",
    "    def method1 (self):\n",
    "       print (\"DataZone\")\n",
    "    def method2 (self,someString): \n",
    "       print (\"Software Testing:\" + someString)\n"
   ]
  },
  {
   "cell_type": "code",
   "execution_count": 8,
   "metadata": {},
   "outputs": [
    {
     "name": "stdout",
     "output_type": "stream",
     "text": [
      "Guru99\n",
      "Software Testing: Testing is fun\n"
     ]
    }
   ],
   "source": [
    "# Example file for working with classes\n",
    "class myClass():\n",
    "  def method1(self):\n",
    "      print(\"DataZone\")\n",
    "        \n",
    "  def method2(self,someString):    \n",
    "      print(\"Software Testing:\" + someString)\n",
    "  \n",
    "      \n",
    "def main():           \n",
    "  # exercise the class methods\n",
    "  c = myClass ()\n",
    "  c.method1()\n",
    "  c.method2(\" Testing is fun\")\n",
    "  \n",
    "if __name__== \"__main__\":\n",
    "  main()\n"
   ]
  },
  {
   "cell_type": "code",
   "execution_count": null,
   "metadata": {},
   "outputs": [],
   "source": [
    "#Python Inheritance Syntax\n",
    "class DerivedClass(BaseClass):\n",
    "    body_of_derived_class\n"
   ]
  },
  {
   "cell_type": "code",
   "execution_count": 10,
   "metadata": {},
   "outputs": [
    {
     "name": "stdout",
     "output_type": "stream",
     "text": [
      "DataZone\n"
     ]
    }
   ],
   "source": [
    "# Example file for working with classes\n",
    "class myClass():\n",
    "  def method1(self):\n",
    "      print(\"DataZone\")\n",
    "        \n",
    "  \n",
    "class childClass(myClass):\n",
    "  #def method1(self):\n",
    "        #myClass.method1(self);\n",
    "        #print (\"childClass Method1\")\n",
    "        \n",
    "  def method2(self):\n",
    "        print(\"childClass method2\")     \n",
    "         \n",
    "def main():           \n",
    "  # exercise the class methods\n",
    "  c2 = childClass()\n",
    "  c2.method1()\n",
    "  #c2.method2()\n",
    "\n",
    "if __name__== \"__main__\":\n",
    "  main()\n"
   ]
  },
  {
   "cell_type": "code",
   "execution_count": 13,
   "metadata": {},
   "outputs": [
    {
     "name": "stdout",
     "output_type": "stream",
     "text": [
      "Welcome to DataZone, Jaweed\n"
     ]
    }
   ],
   "source": [
    "#Python Constructors\n",
    "class User:\n",
    "    name = \"\"\n",
    "\n",
    "    def __init__(self, name):\n",
    "        self.name = name\n",
    "\n",
    "    def sayHello(self):\n",
    "        print(\"Welcome to DataZone, \" + self.name)\n",
    "\n",
    "User1 = User(\"Jaweed\")\n",
    "User1.sayHello()\n"
   ]
  },
  {
   "cell_type": "code",
   "execution_count": null,
   "metadata": {},
   "outputs": [],
   "source": []
  }
 ],
 "metadata": {
  "kernelspec": {
   "display_name": "Python 3",
   "language": "python",
   "name": "python3"
  },
  "language_info": {
   "codemirror_mode": {
    "name": "ipython",
    "version": 3
   },
   "file_extension": ".py",
   "mimetype": "text/x-python",
   "name": "python",
   "nbconvert_exporter": "python",
   "pygments_lexer": "ipython3",
   "version": "3.6.5"
  }
 },
 "nbformat": 4,
 "nbformat_minor": 2
}
