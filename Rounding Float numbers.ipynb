{
 "cells": [
  {
   "cell_type": "code",
   "execution_count": 1,
   "metadata": {},
   "outputs": [
    {
     "name": "stdout",
     "output_type": "stream",
     "text": [
      "The rounded value without num_of_decimals is : 11\n",
      "The rounded value without num_of_decimals is : 10\n",
      "The rounded value with num_of_decimals as 2 is : 10.35\n",
      "The rounded value with num_of_decimals as 2 is : 10.34\n"
     ]
    }
   ],
   "source": [
    "# testing round() \n",
    "\n",
    "float_num1 = 10.60 # here the value will be rounded to 11 as after the decimal point the number is 6 that is >=5 \n",
    "\n",
    "float_num2 = 10.40 # here the value will be rounded to 10 as after the decimal point the number is 4 that is <5\n",
    "\n",
    "float_num3 = 10.3456 # here the value will be 10.35 as after the 2 decimal points the value >=5 \n",
    "\n",
    "float_num4 = 10.3445 #here the value will be 10.34 as after the 2 decimal points the value is <5 \n",
    "\n",
    "print(\"The rounded value without num_of_decimals is :\", round(float_num1))\n",
    "print(\"The rounded value without num_of_decimals is :\", round(float_num2))\n",
    "print(\"The rounded value with num_of_decimals as 2 is :\", round(float_num3, 2))\n",
    "print(\"The rounded value with num_of_decimals as 2 is :\", round(float_num4, 2))\n"
   ]
  },
  {
   "cell_type": "code",
   "execution_count": null,
   "metadata": {},
   "outputs": [],
   "source": []
  }
 ],
 "metadata": {
  "kernelspec": {
   "display_name": "Python 3",
   "language": "python",
   "name": "python3"
  },
  "language_info": {
   "codemirror_mode": {
    "name": "ipython",
    "version": 3
   },
   "file_extension": ".py",
   "mimetype": "text/x-python",
   "name": "python",
   "nbconvert_exporter": "python",
   "pygments_lexer": "ipython3",
   "version": "3.6.5"
  }
 },
 "nbformat": 4,
 "nbformat_minor": 2
}
