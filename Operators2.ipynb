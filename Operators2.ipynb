{
 "cells": [
  {
   "cell_type": "code",
   "execution_count": 1,
   "metadata": {},
   "outputs": [
    {
     "name": "stdout",
     "output_type": "stream",
     "text": [
      "x & y  SAME identity\n",
      "x & y have DIFFERENT identity\n"
     ]
    }
   ],
   "source": [
    "#Identity Operators\n",
    "x = 20\n",
    "y = 20\n",
    "if ( x is y ): \n",
    "\tprint(\"x & y  SAME identity\")\n",
    "y=30\n",
    "if ( x is not y ):\n",
    "\tprint(\"x & y have DIFFERENT identity\")\n"
   ]
  },
  {
   "cell_type": "code",
   "execution_count": 2,
   "metadata": {},
   "outputs": [
    {
     "name": "stdout",
     "output_type": "stream",
     "text": [
      "Value of (v+w) * x/ y is  36.0\n"
     ]
    }
   ],
   "source": [
    "#Operator precedence\n",
    "v = 4\n",
    "w = 5\n",
    "x = 8\n",
    "y = 2\n",
    "z = 0\n",
    "z = (v+w) * x / y;   \n",
    "print(\"Value of (v+w) * x/ y is \",  z)\n"
   ]
  },
  {
   "cell_type": "code",
   "execution_count": null,
   "metadata": {},
   "outputs": [],
   "source": []
  }
 ],
 "metadata": {
  "kernelspec": {
   "display_name": "Python 3",
   "language": "python",
   "name": "python3"
  },
  "language_info": {
   "codemirror_mode": {
    "name": "ipython",
    "version": 3
   },
   "file_extension": ".py",
   "mimetype": "text/x-python",
   "name": "python",
   "nbconvert_exporter": "python",
   "pygments_lexer": "ipython3",
   "version": "3.6.5"
  }
 },
 "nbformat": 4,
 "nbformat_minor": 2
}
