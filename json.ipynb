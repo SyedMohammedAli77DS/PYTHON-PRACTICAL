{
 "cells": [
  {
   "cell_type": "code",
   "execution_count": 6,
   "metadata": {},
   "outputs": [
    {
     "name": "stdout",
     "output_type": "stream",
     "text": [
      "{\n",
      "    \"age\": 45,\n",
      "    \"cars\": [\n",
      "        {\n",
      "            \"model\": \"Audi A1\",\n",
      "            \"mpg\": 15.1\n",
      "        },\n",
      "        {\n",
      "            \"model\": \"Zeep Compass\",\n",
      "            \"mpg\": 18.1\n",
      "        }\n",
      "    ],\n",
      "    \"children\": [\n",
      "        \"Alice\",\n",
      "        \"Bob\"\n",
      "    ],\n",
      "    \"married\": true,\n",
      "    \"name\": \"Ken\",\n",
      "    \"pets\": [\n",
      "        \"Dog\"\n",
      "    ]\n",
      "}\n"
     ]
    }
   ],
   "source": [
    "import json\n",
    "\n",
    "x = {\n",
    "  \"name\": \"Ken\",\n",
    "  \"age\": 45,\n",
    "  \"married\": True,\n",
    "  \"children\": (\"Alice\",\"Bob\"),\n",
    "  \"pets\": ['Dog'],\n",
    "  \"cars\": [\n",
    "    {\"model\": \"Audi A1\", \"mpg\": 15.1},\n",
    "    {\"model\": \"Zeep Compass\", \"mpg\": 18.1}\n",
    "  ]\n",
    "}\n",
    "# sorting result in asscending order by keys:\n",
    "sorted_string = json.dumps(x, indent=4, sort_keys=True)\n",
    "print(sorted_string)\n"
   ]
  },
  {
   "cell_type": "code",
   "execution_count": 9,
   "metadata": {},
   "outputs": [
    {
     "name": "stdout",
     "output_type": "stream",
     "text": [
      "{'person': {'name': 'Kenn', 'sex': 'male', 'age': 28}}\n",
      "Type of dict_obj <class 'dict'>\n",
      "Person...... {'name': 'Kenn', 'sex': 'male', 'age': 28}\n"
     ]
    }
   ],
   "source": [
    "  import json  # json library imported\n",
    "# json data string\n",
    "person_data = '{  \"person\":  { \"name\":  \"Kenn\",  \"sex\":  \"male\",  \"age\":  28}}'\n",
    "# Decoding or converting JSON format in dictionary using loads()\n",
    "dict_obj = json.loads(person_data)\n",
    "print(dict_obj)\n",
    "# check type of dict_obj\n",
    "print(\"Type of dict_obj\", type(dict_obj))\n",
    "# get human object details\n",
    "print(\"Person......\",  dict_obj.get('person'))\n",
    "  \n"
   ]
  },
  {
   "cell_type": "code",
   "execution_count": 13,
   "metadata": {},
   "outputs": [
    {
     "name": "stdout",
     "output_type": "stream",
     "text": [
      "[\"a\",\"b\",\"c\",{\"4\":5,\"6\":7}]\n"
     ]
    }
   ],
   "source": [
    "import json\n",
    "# Create a List that contains dictionary\n",
    "lst = ['a', 'b', 'c',{'4': 5, '6': 7}]\n",
    "# separator used for compact representation of JSON.\n",
    "# Use of ',' to identify list items\n",
    "# Use of ':' to identify key and value in dictionary\n",
    "compact_obj = json.dumps(lst, separators=(',', ':'))\n",
    "print(compact_obj)\n",
    "\n"
   ]
  },
  {
   "cell_type": "code",
   "execution_count": 14,
   "metadata": {},
   "outputs": [
    {
     "name": "stdout",
     "output_type": "stream",
     "text": [
      "{\n",
      "    \"a\": 4,\n",
      "    \"b\": 5\n",
      "}\n"
     ]
    }
   ],
   "source": [
    "#Format JSON code (Pretty print)\n",
    "import json\n",
    "dic = { 'a': 4, 'b': 5 }\n",
    "''' To format the code use of indent and 4 shows number of space and use of separator is not necessary but standard way to write code of particular function. '''\n",
    "formatted_obj = json.dumps(dic, indent=4, separators=(',', ': '))\n",
    "print(formatted_obj)\n"
   ]
  },
  {
   "cell_type": "code",
   "execution_count": 16,
   "metadata": {},
   "outputs": [
    {
     "name": "stdout",
     "output_type": "stream",
     "text": [
      "{\n",
      "    \"age\": 45,\n",
      "    \"cars\": [\n",
      "        {\n",
      "            \"model\": \"Audi A1\",\n",
      "            \"mpg\": 15.1\n",
      "        },\n",
      "        {\n",
      "            \"model\": \"Zeep Compass\",\n",
      "            \"mpg\": 18.1\n",
      "        }\n",
      "    ],\n",
      "    \"children\": [\n",
      "        \"Alice\",\n",
      "        \"Bob\"\n",
      "    ],\n",
      "    \"married\": true,\n",
      "    \"name\": \"Ken\",\n",
      "    \"pets\": [\n",
      "        \"Dog\"\n",
      "    ]\n",
      "}\n"
     ]
    }
   ],
   "source": [
    "#Ordering the JSON code\n",
    "import json\n",
    "\n",
    "x = {\n",
    "  \"name\": \"Ken\",\n",
    "  \"age\": 45,\n",
    "  \"married\": True,\n",
    "  \"children\": (\"Alice\", \"Bob\"),\n",
    "  \"pets\": [ 'Dog' ],\n",
    "  \"cars\": [\n",
    "    {\"model\": \"Audi A1\", \"mpg\": 15.1},\n",
    "    {\"model\": \"Zeep Compass\", \"mpg\": 18.1}\n",
    "  \t],\n",
    "}\n",
    "# sorting result in asscending order by keys:\n",
    "sorted_string = json.dumps(x, indent=4, sort_keys=True)\n",
    "print(sorted_string)\n"
   ]
  },
  {
   "cell_type": "code",
   "execution_count": null,
   "metadata": {},
   "outputs": [],
   "source": []
  }
 ],
 "metadata": {
  "kernelspec": {
   "display_name": "Python 3",
   "language": "python",
   "name": "python3"
  },
  "language_info": {
   "codemirror_mode": {
    "name": "ipython",
    "version": 3
   },
   "file_extension": ".py",
   "mimetype": "text/x-python",
   "name": "python",
   "nbconvert_exporter": "python",
   "pygments_lexer": "ipython3",
   "version": "3.6.5"
  }
 },
 "nbformat": 4,
 "nbformat_minor": 2
}
