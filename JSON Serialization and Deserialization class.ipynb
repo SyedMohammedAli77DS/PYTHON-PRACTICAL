{
 "cells": [
  {
   "cell_type": "code",
   "execution_count": 1,
   "metadata": {},
   "outputs": [
    {
     "data": {
      "text/plain": [
       "'{\"colour\": [\"red\", \"yellow\", \"green\"]}'"
      ]
     },
     "execution_count": 1,
     "metadata": {},
     "output_type": "execute_result"
    }
   ],
   "source": [
    "#JSON Serialization class JSONEncoder\n",
    "#With the help of encode() method of JSONEncoder class, we can also encode any Python object.\n",
    "# import JSONEncoder class from json\n",
    "from json.encoder import JSONEncoder\n",
    "colour_dict = { \"colour\": [\"red\", \"yellow\", \"green\" ]}\n",
    "# directly called encode method of JSON\n",
    "JSONEncoder().encode(colour_dict)\n"
   ]
  },
  {
   "cell_type": "code",
   "execution_count": 2,
   "metadata": {},
   "outputs": [
    {
     "data": {
      "text/plain": [
       "{'colour': ['red', 'yellow']}"
      ]
     },
     "execution_count": 2,
     "metadata": {},
     "output_type": "execute_result"
    }
   ],
   "source": [
    "#JSON Deserialization class JSONDecoder\n",
    "#With the help of decode() method of JSONDecoder class, we can also decode JSON string.\n",
    "import json\n",
    "# import JSONDecoder class from json\n",
    "from json.decoder import JSONDecoder\n",
    "colour_string = '{ \"colour\": [\"red\", \"yellow\"]}'\n",
    "# directly called decode method of JSON\n",
    "JSONDecoder().decode(colour_string)\n"
   ]
  },
  {
   "cell_type": "code",
   "execution_count": null,
   "metadata": {},
   "outputs": [],
   "source": []
  }
 ],
 "metadata": {
  "kernelspec": {
   "display_name": "Python 3",
   "language": "python",
   "name": "python3"
  },
  "language_info": {
   "codemirror_mode": {
    "name": "ipython",
    "version": 3
   },
   "file_extension": ".py",
   "mimetype": "text/x-python",
   "name": "python",
   "nbconvert_exporter": "python",
   "pygments_lexer": "ipython3",
   "version": "3.6.5"
  }
 },
 "nbformat": 4,
 "nbformat_minor": 2
}
