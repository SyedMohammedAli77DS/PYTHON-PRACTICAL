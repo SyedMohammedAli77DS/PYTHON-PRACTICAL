{
 "cells": [
  {
   "cell_type": "code",
   "execution_count": 13,
   "metadata": {
    "colab": {},
    "colab_type": "code",
    "id": "-JgK4OdlfbXE",
    "outputId": "8d48e97e-bbe3-45f0-df73-94fec1a2e1ca"
   },
   "outputs": [
    {
     "name": "stdout",
     "output_type": "stream",
     "text": [
      "Techzone \n",
      "Analyitcs \n"
     ]
    }
   ],
   "source": [
    "print (\"Techzone \\nAnalyitcs \")     # r  = raw string"
   ]
  },
  {
   "cell_type": "code",
   "execution_count": 2,
   "metadata": {
    "colab": {},
    "colab_type": "code",
    "collapsed": true,
    "id": "qBYMdj8FfbZV"
   },
   "outputs": [],
   "source": [
    "import re   # Regex;  Regular expression;  Text"
   ]
  },
  {
   "cell_type": "code",
   "execution_count": 14,
   "metadata": {
    "colab": {},
    "colab_type": "code",
    "collapsed": true,
    "id": "9F_tsr7xfbai",
    "outputId": "89dc71a7-8f92-4e60-af33-a7accb3c858f"
   },
   "outputs": [
    {
     "data": {
      "text/plain": [
       "['A',\n",
       " 'ASCII',\n",
       " 'DEBUG',\n",
       " 'DOTALL',\n",
       " 'I',\n",
       " 'IGNORECASE',\n",
       " 'L',\n",
       " 'LOCALE',\n",
       " 'M',\n",
       " 'MULTILINE',\n",
       " 'S',\n",
       " 'Scanner',\n",
       " 'T',\n",
       " 'TEMPLATE',\n",
       " 'U',\n",
       " 'UNICODE',\n",
       " 'VERBOSE',\n",
       " 'X',\n",
       " '_MAXCACHE',\n",
       " '__all__',\n",
       " '__builtins__',\n",
       " '__cached__',\n",
       " '__doc__',\n",
       " '__file__',\n",
       " '__loader__',\n",
       " '__name__',\n",
       " '__package__',\n",
       " '__spec__',\n",
       " '__version__',\n",
       " '_alphanum_bytes',\n",
       " '_alphanum_str',\n",
       " '_cache',\n",
       " '_cache_repl',\n",
       " '_compile',\n",
       " '_compile_repl',\n",
       " '_expand',\n",
       " '_locale',\n",
       " '_pattern_type',\n",
       " '_pickle',\n",
       " '_subx',\n",
       " 'compile',\n",
       " 'copyreg',\n",
       " 'error',\n",
       " 'escape',\n",
       " 'findall',\n",
       " 'finditer',\n",
       " 'fullmatch',\n",
       " 'match',\n",
       " 'purge',\n",
       " 'search',\n",
       " 'split',\n",
       " 'sre_compile',\n",
       " 'sre_parse',\n",
       " 'sub',\n",
       " 'subn',\n",
       " 'sys',\n",
       " 'template']"
      ]
     },
     "execution_count": 14,
     "metadata": {},
     "output_type": "execute_result"
    }
   ],
   "source": [
    "dir(re)"
   ]
  },
  {
   "cell_type": "code",
   "execution_count": 15,
   "metadata": {
    "colab": {},
    "colab_type": "code",
    "id": "WDt50pFbfbcD",
    "outputId": "16391e12-fcde-40a1-8c2f-090c19f38164"
   },
   "outputs": [
    {
     "data": {
      "text/plain": [
       "'2.2.1'"
      ]
     },
     "execution_count": 15,
     "metadata": {},
     "output_type": "execute_result"
    }
   ],
   "source": [
    "re.__version__"
   ]
  },
  {
   "cell_type": "code",
   "execution_count": 20,
   "metadata": {
    "colab": {},
    "colab_type": "code",
    "id": "WyFaF5wKfbdA",
    "outputId": "c4721cf7-c1da-4b8d-97cc-10494c65bafd"
   },
   "outputs": [
    {
     "data": {
      "text/plain": [
       "'india'"
      ]
     },
     "execution_count": 20,
     "metadata": {},
     "output_type": "execute_result"
    }
   ],
   "source": [
    "re.search(\"INDIA\",\"This is my country india\",re.IGNORECASE).group()"
   ]
  },
  {
   "cell_type": "code",
   "execution_count": 25,
   "metadata": {
    "colab": {},
    "colab_type": "code",
    "id": "E5l8rxuzfbeI"
   },
   "outputs": [
    {
     "data": {
      "text/plain": [
       "'qwe'"
      ]
     },
     "execution_count": 25,
     "metadata": {},
     "output_type": "execute_result"
    }
   ],
   "source": [
    "re.match(\"qwe\",\"qwe abc xyz\").group()"
   ]
  },
  {
   "cell_type": "code",
   "execution_count": 6,
   "metadata": {
    "colab": {},
    "colab_type": "code",
    "collapsed": true,
    "id": "W_wWK2QIfbfS"
   },
   "outputs": [],
   "source": [
    "s1 = \"Datazone Analytics hyderabad\""
   ]
  },
  {
   "cell_type": "code",
   "execution_count": 7,
   "metadata": {
    "colab": {},
    "colab_type": "code",
    "collapsed": true,
    "id": "2QPeTTFwfbg4"
   },
   "outputs": [],
   "source": [
    "p1 = \"hyderabad\""
   ]
  },
  {
   "cell_type": "code",
   "execution_count": 8,
   "metadata": {
    "colab": {},
    "colab_type": "code",
    "collapsed": true,
    "id": "PlYxMSXmfbjT",
    "outputId": "e822fb1e-b84f-43d6-b7b4-80ac5dda76ca"
   },
   "outputs": [
    {
     "data": {
      "text/plain": [
       "'hyderabad'"
      ]
     },
     "execution_count": 8,
     "metadata": {},
     "output_type": "execute_result"
    }
   ],
   "source": [
    "re.search(p1,s1,flags=re.IGNORECASE).group()"
   ]
  },
  {
   "cell_type": "code",
   "execution_count": 27,
   "metadata": {
    "colab": {},
    "colab_type": "code",
    "collapsed": true,
    "id": "bU_KMAeufbkE"
   },
   "outputs": [],
   "source": [
    "s2 = '''Techzone analtics offers training in the area of data science.\n",
    "Techzone is situated at Mehdipatnam in Hyderabad. techzone was started to\n",
    "this is multi line text string'''"
   ]
  },
  {
   "cell_type": "code",
   "execution_count": 28,
   "metadata": {
    "colab": {},
    "colab_type": "code",
    "id": "8VzAYCLmfbkw",
    "outputId": "91781e2e-8a95-4541-ba0e-8a7369eb8b7d"
   },
   "outputs": [
    {
     "data": {
      "text/plain": [
       "'Techzone analtics offers training in the area of data science.\\nTechzone is situated at Mehdipatnam in Hyderabad. techzone was started to\\nthis is multi line text string'"
      ]
     },
     "execution_count": 28,
     "metadata": {},
     "output_type": "execute_result"
    }
   ],
   "source": [
    "s2"
   ]
  },
  {
   "cell_type": "code",
   "execution_count": 29,
   "metadata": {
    "colab": {},
    "colab_type": "code",
    "collapsed": true,
    "id": "LEfG-H7ofbmY",
    "outputId": "f6bf8b87-0281-41c3-dcec-0b9d51a10cda"
   },
   "outputs": [],
   "source": [
    "tz = re.findall(\"Techzone\",s2,re.IGNORECASE)"
   ]
  },
  {
   "cell_type": "code",
   "execution_count": 31,
   "metadata": {},
   "outputs": [
    {
     "data": {
      "text/plain": [
       "['Techzone', 'Techzone', 'techzone']"
      ]
     },
     "execution_count": 31,
     "metadata": {},
     "output_type": "execute_result"
    }
   ],
   "source": [
    "tz"
   ]
  },
  {
   "cell_type": "code",
   "execution_count": 38,
   "metadata": {
    "colab": {},
    "colab_type": "code",
    "id": "n5tThE3WfbnX",
    "outputId": "3147f1c2-7e11-4ccc-8370-b951b8ec84ae"
   },
   "outputs": [
    {
     "data": {
      "text/plain": [
       "3"
      ]
     },
     "execution_count": 38,
     "metadata": {},
     "output_type": "execute_result"
    }
   ],
   "source": [
    "len(re.findall(\"Techzone\",s2,flags=re.IGNORECASE))"
   ]
  },
  {
   "cell_type": "code",
   "execution_count": 32,
   "metadata": {
    "colab": {},
    "colab_type": "code",
    "collapsed": true,
    "id": "qJtxWstwfboH",
    "outputId": "56faca47-048f-45f6-a618-06fdc8bd92b9"
   },
   "outputs": [
    {
     "data": {
      "text/plain": [
       "['T',\n",
       " 'e',\n",
       " 'c',\n",
       " 'h',\n",
       " 'z',\n",
       " 'o',\n",
       " 'n',\n",
       " 'e',\n",
       " 'a',\n",
       " 'n',\n",
       " 'a',\n",
       " 'l',\n",
       " 't',\n",
       " 'i',\n",
       " 'c',\n",
       " 's',\n",
       " 'o',\n",
       " 'f',\n",
       " 'f',\n",
       " 'e',\n",
       " 'r',\n",
       " 's',\n",
       " 't',\n",
       " 'r',\n",
       " 'a',\n",
       " 'i',\n",
       " 'n',\n",
       " 'i',\n",
       " 'n',\n",
       " 'g',\n",
       " 'i',\n",
       " 'n',\n",
       " 't',\n",
       " 'h',\n",
       " 'e',\n",
       " 'a',\n",
       " 'r',\n",
       " 'e',\n",
       " 'a',\n",
       " 'o',\n",
       " 'f',\n",
       " 'd',\n",
       " 'a',\n",
       " 't',\n",
       " 'a',\n",
       " 's',\n",
       " 'c',\n",
       " 'i',\n",
       " 'e',\n",
       " 'n',\n",
       " 'c',\n",
       " 'e',\n",
       " 'T',\n",
       " 'e',\n",
       " 'c',\n",
       " 'h',\n",
       " 'z',\n",
       " 'o',\n",
       " 'n',\n",
       " 'e',\n",
       " 'i',\n",
       " 's',\n",
       " 's',\n",
       " 'i',\n",
       " 't',\n",
       " 'u',\n",
       " 'a',\n",
       " 't',\n",
       " 'e',\n",
       " 'd',\n",
       " 'a',\n",
       " 't',\n",
       " 'M',\n",
       " 'e',\n",
       " 'h',\n",
       " 'd',\n",
       " 'i',\n",
       " 'p',\n",
       " 'a',\n",
       " 't',\n",
       " 'n',\n",
       " 'a',\n",
       " 'm',\n",
       " 'i',\n",
       " 'n',\n",
       " 'H',\n",
       " 'y',\n",
       " 'd',\n",
       " 'e',\n",
       " 'r',\n",
       " 'a',\n",
       " 'b',\n",
       " 'a',\n",
       " 'd',\n",
       " 't',\n",
       " 'e',\n",
       " 'c',\n",
       " 'h',\n",
       " 'z',\n",
       " 'o',\n",
       " 'n',\n",
       " 'e',\n",
       " 'w',\n",
       " 'a',\n",
       " 's',\n",
       " 's',\n",
       " 't',\n",
       " 'a',\n",
       " 'r',\n",
       " 't',\n",
       " 'e',\n",
       " 'd',\n",
       " 't',\n",
       " 'o',\n",
       " 't',\n",
       " 'h',\n",
       " 'i',\n",
       " 's',\n",
       " 'i',\n",
       " 's',\n",
       " 'm',\n",
       " 'u',\n",
       " 'l',\n",
       " 't',\n",
       " 'i',\n",
       " 'l',\n",
       " 'i',\n",
       " 'n',\n",
       " 'e',\n",
       " 't',\n",
       " 'e',\n",
       " 'x',\n",
       " 't',\n",
       " 's',\n",
       " 't',\n",
       " 'r',\n",
       " 'i',\n",
       " 'n',\n",
       " 'g']"
      ]
     },
     "execution_count": 32,
     "metadata": {},
     "output_type": "execute_result"
    }
   ],
   "source": [
    "re.findall(\"\\w\",s2)"
   ]
  },
  {
   "cell_type": "code",
   "execution_count": 33,
   "metadata": {
    "colab": {},
    "colab_type": "code",
    "collapsed": true,
    "id": "K57PNwpGfbpG"
   },
   "outputs": [],
   "source": [
    "s2 = \"Techzone Analytics contact number : 66660787  mobile: 9848484899, 44587876\""
   ]
  },
  {
   "cell_type": "code",
   "execution_count": 34,
   "metadata": {
    "colab": {},
    "colab_type": "code",
    "id": "v3YZw7czfbrF",
    "outputId": "b7127d8a-9faa-4a06-acb8-ea7af556da86"
   },
   "outputs": [
    {
     "data": {
      "text/plain": [
       "['Techzone',\n",
       " 'Analytics',\n",
       " 'contact',\n",
       " 'number',\n",
       " '66660787',\n",
       " 'mobile',\n",
       " '9848484899',\n",
       " '44587876']"
      ]
     },
     "execution_count": 34,
     "metadata": {},
     "output_type": "execute_result"
    }
   ],
   "source": [
    "re.findall(\"\\w{1,10}\",s2)"
   ]
  },
  {
   "cell_type": "code",
   "execution_count": 51,
   "metadata": {
    "colab": {},
    "colab_type": "code",
    "id": "wN94AkxZfbty",
    "outputId": "97769554-ab9f-4338-ba50-75b3c1050708"
   },
   "outputs": [
    {
     "data": {
      "text/plain": [
       "'Techzone Analytics contact number : 66660787  mobile: 9848484899, 44587876'"
      ]
     },
     "execution_count": 51,
     "metadata": {},
     "output_type": "execute_result"
    }
   ],
   "source": [
    "s2"
   ]
  },
  {
   "cell_type": "code",
   "execution_count": 35,
   "metadata": {
    "colab": {},
    "colab_type": "code",
    "id": "cTIyJieffbvT",
    "outputId": "0a916f3e-768e-4d79-8990-6c871f7887c8"
   },
   "outputs": [
    {
     "data": {
      "text/plain": [
       "0"
      ]
     },
     "execution_count": 35,
     "metadata": {},
     "output_type": "execute_result"
    }
   ],
   "source": [
    "re.search(\"Techzone\",s2).start()"
   ]
  },
  {
   "cell_type": "code",
   "execution_count": 36,
   "metadata": {
    "colab": {},
    "colab_type": "code",
    "id": "xWlS_PIofbwq",
    "outputId": "d7b416d0-e53d-4371-f511-b3ff18f273bd"
   },
   "outputs": [
    {
     "data": {
      "text/plain": [
       "8"
      ]
     },
     "execution_count": 36,
     "metadata": {},
     "output_type": "execute_result"
    }
   ],
   "source": [
    "re.search(\"Techzone\",s2).end()"
   ]
  },
  {
   "cell_type": "code",
   "execution_count": 54,
   "metadata": {
    "colab": {},
    "colab_type": "code",
    "id": "wLNa0zEEfbxO",
    "outputId": "9c04f6d5-c191-4632-e118-c644d5b336cb"
   },
   "outputs": [
    {
     "data": {
      "text/plain": [
       "'Datazone Analytics hyderabad'"
      ]
     },
     "execution_count": 54,
     "metadata": {},
     "output_type": "execute_result"
    }
   ],
   "source": [
    "s1"
   ]
  },
  {
   "cell_type": "code",
   "execution_count": 67,
   "metadata": {
    "colab": {},
    "colab_type": "code",
    "id": "xI3e7pyAfbxt",
    "outputId": "3b640905-7983-40cb-f9a4-9c3fa10fcdb9"
   },
   "outputs": [
    {
     "data": {
      "text/plain": [
       "'Techzone Analytics contact number : 66660787  mobile: 9848484899, 44587876'"
      ]
     },
     "execution_count": 67,
     "metadata": {},
     "output_type": "execute_result"
    }
   ],
   "source": [
    "s2"
   ]
  },
  {
   "cell_type": "code",
   "execution_count": 37,
   "metadata": {
    "colab": {},
    "colab_type": "code",
    "id": "McIslO3Bfbyu",
    "outputId": "1c343ad1-9533-427e-d1b1-06f7dad29b65"
   },
   "outputs": [
    {
     "data": {
      "text/plain": [
       "['Techzone ', ' number']"
      ]
     },
     "execution_count": 37,
     "metadata": {},
     "output_type": "execute_result"
    }
   ],
   "source": [
    "re.findall(\"Techzone | mobile | mobile | number\",s2)"
   ]
  },
  {
   "cell_type": "code",
   "execution_count": 0,
   "metadata": {
    "colab": {},
    "colab_type": "code",
    "id": "l22iGVGpfbzF",
    "outputId": "740c7ea5-408e-44c5-f2c1-e1ff310211c5"
   },
   "outputs": [
    {
     "data": {
      "text/plain": [
       "<_sre.SRE_Match object; span=(1, 2), match='n'>"
      ]
     },
     "execution_count": 92,
     "metadata": {
      "tags": []
     },
     "output_type": "execute_result"
    }
   ],
   "source": [
    "re.search(\"n\",r\"\\n\")"
   ]
  },
  {
   "cell_type": "code",
   "execution_count": 71,
   "metadata": {
    "colab": {},
    "colab_type": "code",
    "id": "xawNxgp8fb2O",
    "outputId": "27f8ad6f-669d-42a6-aaea-b7be80f9c416"
   },
   "outputs": [
    {
     "data": {
      "text/plain": [
       "['Techz',\n",
       " 'Analy',\n",
       " 'conta',\n",
       " 'numbe',\n",
       " '66660',\n",
       " 'mobil',\n",
       " '98484',\n",
       " '84899',\n",
       " '44587']"
      ]
     },
     "execution_count": 71,
     "metadata": {},
     "output_type": "execute_result"
    }
   ],
   "source": [
    "re.findall(\"\\w{5}\",s2)"
   ]
  },
  {
   "cell_type": "code",
   "execution_count": 42,
   "metadata": {
    "colab": {},
    "colab_type": "code",
    "id": "XSo9laCrfb31",
    "outputId": "57a122a4-b0d9-425d-bb6f-3f54698283a5"
   },
   "outputs": [
    {
     "data": {
      "text/plain": [
       "'12345'"
      ]
     },
     "execution_count": 42,
     "metadata": {},
     "output_type": "execute_result"
    }
   ],
   "source": [
    "re.search(\"\\d+\",\"abc12345\").group()"
   ]
  },
  {
   "cell_type": "code",
   "execution_count": 103,
   "metadata": {
    "colab": {},
    "colab_type": "code",
    "id": "q7xKiKUAfb4M",
    "outputId": "c98019df-a017-4d63-ee55-6850d4cc3d0c"
   },
   "outputs": [
    {
     "data": {
      "text/plain": [
       "'abc#'"
      ]
     },
     "execution_count": 103,
     "metadata": {},
     "output_type": "execute_result"
    }
   ],
   "source": [
    "re.search(\"\\D+\",\"abc#12345\").group()"
   ]
  },
  {
   "cell_type": "code",
   "execution_count": 43,
   "metadata": {
    "collapsed": true
   },
   "outputs": [],
   "source": [
    "code = \"ABC123\""
   ]
  },
  {
   "cell_type": "code",
   "execution_count": 44,
   "metadata": {
    "colab": {},
    "colab_type": "code",
    "id": "3FFmNr2Rfb4q",
    "outputId": "21cc1aad-489e-462b-b971-be82046f91e1"
   },
   "outputs": [
    {
     "data": {
      "text/plain": [
       "'ABC'"
      ]
     },
     "execution_count": 44,
     "metadata": {},
     "output_type": "execute_result"
    }
   ],
   "source": [
    "re.search(\"\\D+\",code).group()"
   ]
  },
  {
   "cell_type": "code",
   "execution_count": 45,
   "metadata": {
    "colab": {},
    "colab_type": "code",
    "id": "qF2wlTT1fb6C",
    "outputId": "0cbe11b1-5cff-4f70-a7ab-6bca2f21da9b"
   },
   "outputs": [
    {
     "data": {
      "text/plain": [
       "'$#$$'"
      ]
     },
     "execution_count": 45,
     "metadata": {},
     "output_type": "execute_result"
    }
   ],
   "source": [
    "re.search(\"\\W+\",\"abc12345$#$$\").group()"
   ]
  },
  {
   "cell_type": "code",
   "execution_count": 9,
   "metadata": {
    "colab": {},
    "colab_type": "code",
    "id": "8qo9U6XDfb6b",
    "outputId": "781c1782-ce37-469f-d26b-4aa1e2aea642"
   },
   "outputs": [
    {
     "data": {
      "text/plain": [
       "'abc12345$#$$'"
      ]
     },
     "execution_count": 9,
     "metadata": {},
     "output_type": "execute_result"
    }
   ],
   "source": [
    "re.search(\"\\w+\\W+\",\"abc12345$#$$\").group()"
   ]
  },
  {
   "cell_type": "code",
   "execution_count": 48,
   "metadata": {
    "colab": {},
    "colab_type": "code",
    "id": "Ih_I9L9sfb6x",
    "outputId": "17b9c811-e387-4217-ff62-3e0987e979fc"
   },
   "outputs": [
    {
     "name": "stdout",
     "output_type": "stream",
     "text": [
      "None\n",
      "<_sre.SRE_Match object; span=(4, 7), match='001'>\n",
      "<_sre.SRE_Match object; span=(4, 7), match='002'>\n",
      "<_sre.SRE_Match object; span=(4, 7), match='003'>\n",
      "<_sre.SRE_Match object; span=(4, 7), match='004'>\n",
      "<_sre.SRE_Match object; span=(3, 6), match='001'>\n",
      "<_sre.SRE_Match object; span=(3, 6), match='002'>\n",
      "<_sre.SRE_Match object; span=(4, 7), match='001'>\n"
     ]
    }
   ],
   "source": [
    "ds = open('employee.csv','r')\n",
    "for d in ds:\n",
    "    #print (d)\n",
    "    print (re.search(\"\\d+\",d))\n",
    "    \n",
    "\n",
    "ds.close()"
   ]
  },
  {
   "cell_type": "code",
   "execution_count": 0,
   "metadata": {
    "colab": {},
    "colab_type": "code",
    "collapsed": true,
    "id": "JZSABpezfb8d"
   },
   "outputs": [],
   "source": []
  }
 ],
 "metadata": {
  "colab": {
   "name": "Regular+Expression+sess1.ipynb",
   "provenance": [],
   "version": "0.3.2"
  },
  "kernelspec": {
   "display_name": "Python 3",
   "language": "python",
   "name": "python3"
  },
  "language_info": {
   "codemirror_mode": {
    "name": "ipython",
    "version": 3
   },
   "file_extension": ".py",
   "mimetype": "text/x-python",
   "name": "python",
   "nbconvert_exporter": "python",
   "pygments_lexer": "ipython3",
   "version": "3.5.2"
  }
 },
 "nbformat": 4,
 "nbformat_minor": 1
}
