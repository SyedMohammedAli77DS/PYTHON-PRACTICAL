{
 "cells": [
  {
   "cell_type": "code",
   "execution_count": null,
   "metadata": {},
   "outputs": [],
   "source": [
    "from selenium import webdriver\n",
    "from selenium.webdriver.support.ui import WebDriverWait\n",
    "# Step 1) Open Firefox \n",
    "browser = webdriver.Firefox()\n",
    "# Step 2) Navigate to Facebook\n",
    "browser.get(\"http://www.facebook.com\")\n",
    "# Step 3) Search & Enter the Email or Phone field & Enter Password\n",
    "username = browser.find_element_by_id(\"email\")\n",
    "password = browser.find_element_by_id(\"pass\")\n",
    "submit   = browser.find_element_by_id(\"loginbutton\")\n",
    "username.send_keys(\"you@email.com \")\n",
    "password.send_keys(\"yourpassword\")\n",
    "# Step 4) Click Login\n",
    "submit.click()\n",
    "\n"
   ]
  },
  {
   "cell_type": "code",
   "execution_count": null,
   "metadata": {},
   "outputs": [],
   "source": []
  }
 ],
 "metadata": {
  "kernelspec": {
   "display_name": "Python 3",
   "language": "python",
   "name": "python3"
  },
  "language_info": {
   "codemirror_mode": {
    "name": "ipython",
    "version": 3
   },
   "file_extension": ".py",
   "mimetype": "text/x-python",
   "name": "python",
   "nbconvert_exporter": "python",
   "pygments_lexer": "ipython3",
   "version": "3.6.5"
  }
 },
 "nbformat": 4,
 "nbformat_minor": 2
}
