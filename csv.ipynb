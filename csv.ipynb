{
 "cells": [
  {
   "cell_type": "code",
   "execution_count": 1,
   "metadata": {
    "collapsed": true
   },
   "outputs": [],
   "source": [
    "import csv"
   ]
  },
  {
   "cell_type": "code",
   "execution_count": 2,
   "metadata": {},
   "outputs": [
    {
     "name": "stdout",
     "output_type": "stream",
     "text": [
      "c:\\data\\Flights.csv  emp_exp.csv   mytips.csv\t\t  USA_Housing.csv\r\n",
      "Chronicdisease.csv   employee.csv  studyhours.csv\r\n",
      "demo.csv\t     exp.csv\t   temperature.csv\r\n",
      "department.csv\t     location.csv  Titanic_sur_train.csv\r\n"
     ]
    }
   ],
   "source": [
    "!ls *csv"
   ]
  },
  {
   "cell_type": "code",
   "execution_count": 3,
   "metadata": {
    "collapsed": true
   },
   "outputs": [],
   "source": [
    "lines = [line for line in open('employee.csv')]"
   ]
  },
  {
   "cell_type": "code",
   "execution_count": 12,
   "metadata": {},
   "outputs": [
    {
     "data": {
      "text/plain": [
       "'ind-001,Abdul Rehman,CSO,100000,,1\\n'"
      ]
     },
     "execution_count": 12,
     "metadata": {},
     "output_type": "execute_result"
    }
   ],
   "source": [
    "lines[1]"
   ]
  },
  {
   "cell_type": "code",
   "execution_count": 14,
   "metadata": {},
   "outputs": [
    {
     "data": {
      "text/plain": [
       "['ind-001', 'Abdul Rehman', 'CSO', '100000', '', '1']"
      ]
     },
     "execution_count": 14,
     "metadata": {},
     "output_type": "execute_result"
    }
   ],
   "source": [
    "lines[1].strip().split(',')"
   ]
  },
  {
   "cell_type": "code",
   "execution_count": 7,
   "metadata": {
    "collapsed": true
   },
   "outputs": [
    {
     "data": {
      "text/plain": [
       "[',employee id,fullname,position,salary,manager id,department id\\n',\n",
       " '0,ind-001,Abdul Rehman,CSO,100000,,1\\n',\n",
       " '1,ind-002,M. Yousuf,CTO,90000,ind-001,1\\n',\n",
       " \"2,ind-003,Joseph D'Souza,CVO,84000,ind-001,1\\n\",\n",
       " '3,ind-004,Mahesh Kalmadi,CWO,70000,ind-002,2\\n',\n",
       " '4,us-001,Jogender Singh,STO,56000,ind-002,2\\n',\n",
       " '5,us-002,Syed Mannan,SPO,56000,ind-003,3\\n',\n",
       " '6,dub-001,John,CTO,50000,ind-002,0\\n']"
      ]
     },
     "execution_count": 7,
     "metadata": {},
     "output_type": "execute_result"
    }
   ],
   "source": [
    "lines"
   ]
  },
  {
   "cell_type": "code",
   "execution_count": 13,
   "metadata": {
    "collapsed": true
   },
   "outputs": [
    {
     "name": "stdout",
     "output_type": "stream",
     "text": [
      "<class 'str'>\n",
      "<class 'str'>\n",
      "<class 'str'>\n",
      "<class 'str'>\n",
      "<class 'str'>\n",
      "<class 'str'>\n",
      "<class 'str'>\n",
      "<class 'str'>\n"
     ]
    }
   ],
   "source": [
    "for l in open('employee.csv'):\n",
    "    print (type(l))"
   ]
  },
  {
   "cell_type": "code",
   "execution_count": 15,
   "metadata": {},
   "outputs": [
    {
     "name": "stdout",
     "output_type": "stream",
     "text": [
      "['ind-001', 'Abdul Rehman', 'CSO', '100000', '', '1']\n",
      "['ind-002', 'M. Yousuf', 'CTO', '90000', 'ind-001', '1']\n",
      "['ind-003', \"Joseph D'Souza\", 'CVO', '84000', 'ind-001', '1']\n",
      "['ind-004', 'Mahesh Kalmadi', 'CWO', '70000', 'ind-002', '2']\n",
      "['us-001', 'Jogender Singh', 'STO', '56000', 'ind-002', '2']\n",
      "['us-002', 'Syed Mannan', 'SPO', '56000', 'ind-003', '3']\n",
      "['dub-001', 'John', 'CTO', '50000', 'ind-002', '0']\n"
     ]
    }
   ],
   "source": [
    "import csv\n",
    "path = 'employee.csv'\n",
    "file = open(path)\n",
    "reader = csv.reader(file)\n",
    "header = next(reader)\n",
    "for row in reader:\n",
    "    print (row)\n"
   ]
  },
  {
   "cell_type": "code",
   "execution_count": 46,
   "metadata": {},
   "outputs": [
    {
     "data": {
      "text/plain": [
       "[',employee id,fullname,position,salary,manager id,department id\\n',\n",
       " '0,ind-001,Abdul Rehman,CSO,100000,,1\\n',\n",
       " '1,ind-002,M. Yousuf,CTO,90000,ind-001,1\\n',\n",
       " \"2,ind-003,Joseph D'Souza,CVO,84000,ind-001,1\\n\",\n",
       " '3,ind-004,Mahesh Kalmadi,CWO,70000,ind-002,2\\n',\n",
       " '4,us-001,Jogender Singh,STO,56000,ind-002,2\\n',\n",
       " '5,us-002,Syed Mannan,SPO,56000,ind-003,3\\n',\n",
       " '6,dub-001,John,CTO,50000,ind-002,0\\n']"
      ]
     },
     "execution_count": 46,
     "metadata": {},
     "output_type": "execute_result"
    }
   ],
   "source": [
    "[line for line in open('employee.csv') ]"
   ]
  },
  {
   "cell_type": "code",
   "execution_count": 26,
   "metadata": {
    "collapsed": true
   },
   "outputs": [],
   "source": []
  },
  {
   "cell_type": "code",
   "execution_count": null,
   "metadata": {
    "collapsed": true
   },
   "outputs": [],
   "source": []
  }
 ],
 "metadata": {
  "kernelspec": {
   "display_name": "Python 3",
   "language": "python",
   "name": "python3"
  },
  "language_info": {
   "codemirror_mode": {
    "name": "ipython",
    "version": 3
   },
   "file_extension": ".py",
   "mimetype": "text/x-python",
   "name": "python",
   "nbconvert_exporter": "python",
   "pygments_lexer": "ipython3",
   "version": "3.6.5"
  }
 },
 "nbformat": 4,
 "nbformat_minor": 2
}
