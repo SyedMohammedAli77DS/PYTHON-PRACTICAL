{
 "cells": [
  {
   "cell_type": "code",
   "execution_count": 2,
   "metadata": {},
   "outputs": [
    {
     "name": "stdout",
     "output_type": "stream",
     "text": [
      "var1[0]: D\n",
      "var2[1:5]: oftw\n"
     ]
    }
   ],
   "source": [
    "var1 = \"DataZone!\"\n",
    "var2 = \"Software Testing\"\n",
    "print (\"var1[0]:\",var1[0])\n",
    "print (\"var2[1:5]:\",var2[1:5])\n"
   ]
  },
  {
   "cell_type": "code",
   "execution_count": 3,
   "metadata": {},
   "outputs": [
    {
     "name": "stdout",
     "output_type": "stream",
     "text": [
      "Hello \n",
      "Hello DataZone\n"
     ]
    }
   ],
   "source": [
    "x = \"Hello World!\"\n",
    "print(x[:6]) \n",
    "print(x[0:6] + \"DataZone\")\n"
   ]
  },
  {
   "cell_type": "code",
   "execution_count": 5,
   "metadata": {},
   "outputs": [
    {
     "name": "stdout",
     "output_type": "stream",
     "text": [
      "I love DataZone\n"
     ]
    }
   ],
   "source": [
    "oldstring = 'I like DataZone' \n",
    "newstring = oldstring.replace('like', 'love')\n",
    "print(newstring)\n"
   ]
  },
  {
   "cell_type": "code",
   "execution_count": 7,
   "metadata": {},
   "outputs": [
    {
     "name": "stdout",
     "output_type": "stream",
     "text": [
      "PYTHON AT DATAZONE\n"
     ]
    }
   ],
   "source": [
    "string=\"python at DataZone\"\n",
    "print(string.upper())\n"
   ]
  },
  {
   "cell_type": "code",
   "execution_count": 8,
   "metadata": {},
   "outputs": [
    {
     "name": "stdout",
     "output_type": "stream",
     "text": [
      "Python at datazone\n"
     ]
    }
   ],
   "source": [
    "string=\"python at DataZone\"\t\t\n",
    "print(string.capitalize())\n"
   ]
  },
  {
   "cell_type": "code",
   "execution_count": 9,
   "metadata": {},
   "outputs": [
    {
     "name": "stdout",
     "output_type": "stream",
     "text": [
      "python at datazone\n"
     ]
    }
   ],
   "source": [
    "string=\"PYTHON AT DataZone\"\n",
    "print(string.lower())\n"
   ]
  },
  {
   "cell_type": "code",
   "execution_count": 10,
   "metadata": {},
   "outputs": [
    {
     "name": "stdout",
     "output_type": "stream",
     "text": [
      "P:y:t:h:o:n\n"
     ]
    }
   ],
   "source": [
    "print(\":\".join(\"Python\"))"
   ]
  },
  {
   "cell_type": "code",
   "execution_count": 11,
   "metadata": {},
   "outputs": [
    {
     "name": "stdout",
     "output_type": "stream",
     "text": [
      "54321\n"
     ]
    }
   ],
   "source": [
    "string=\"12345\"\t\t\n",
    "print(''.join(reversed(string)))\n"
   ]
  },
  {
   "cell_type": "code",
   "execution_count": 12,
   "metadata": {},
   "outputs": [
    {
     "name": "stdout",
     "output_type": "stream",
     "text": [
      "['DataZone', 'career', 'DataZone']\n"
     ]
    }
   ],
   "source": [
    "    word=\"DataZone career DataZone\"\t\t\n",
    "print(word.split(' '))\n"
   ]
  },
  {
   "cell_type": "code",
   "execution_count": 13,
   "metadata": {},
   "outputs": [
    {
     "name": "stdout",
     "output_type": "stream",
     "text": [
      "['DataZone ca', 'ee', ' DataZone']\n"
     ]
    }
   ],
   "source": [
    "word=\"DataZone career DataZone\"\t\t\n",
    "print(word.split('r'))\n"
   ]
  },
  {
   "cell_type": "code",
   "execution_count": 14,
   "metadata": {},
   "outputs": [
    {
     "name": "stdout",
     "output_type": "stream",
     "text": [
      "DataZone\n"
     ]
    }
   ],
   "source": [
    "x = \"DataZone\"\n",
    "x.replace(\"DataZone\",\"Python\")\n",
    "print(x)\n"
   ]
  },
  {
   "cell_type": "code",
   "execution_count": 15,
   "metadata": {},
   "outputs": [
    {
     "name": "stdout",
     "output_type": "stream",
     "text": [
      "Python\n"
     ]
    }
   ],
   "source": [
    "x = \"DataZone\"\n",
    "x = x.replace(\"DataZone\",\"Python\")\n",
    "print(x)\n"
   ]
  },
  {
   "cell_type": "code",
   "execution_count": null,
   "metadata": {},
   "outputs": [],
   "source": []
  }
 ],
 "metadata": {
  "kernelspec": {
   "display_name": "Python 3",
   "language": "python",
   "name": "python3"
  },
  "language_info": {
   "codemirror_mode": {
    "name": "ipython",
    "version": 3
   },
   "file_extension": ".py",
   "mimetype": "text/x-python",
   "name": "python",
   "nbconvert_exporter": "python",
   "pygments_lexer": "ipython3",
   "version": "3.6.5"
  }
 },
 "nbformat": 4,
 "nbformat_minor": 2
}
