{
 "cells": [
  {
   "cell_type": "code",
   "execution_count": 2,
   "metadata": {},
   "outputs": [],
   "source": [
    "#Python Rename File and Directory using os.rename()\n",
    "import os\n",
    "import shutil\n",
    "from os import path\n",
    "\n",
    "def main():\n",
    "\t# make a duplicate of an existing file\n",
    "    if path.exists(\"DataZone.txt\"):\n",
    "\t# get the path to the file in the current directory\n",
    "        src = path.realpath(\"DataZone.txt\");\n",
    "\t\t\n",
    "\t# rename the original file\n",
    "        os.rename('DataZone.txt','career.DataZone.txt') \n",
    "\t\t\n",
    "if __name__ == \"__main__\":\n",
    "    main()\n"
   ]
  },
  {
   "cell_type": "code",
   "execution_count": null,
   "metadata": {},
   "outputs": [],
   "source": []
  }
 ],
 "metadata": {
  "kernelspec": {
   "display_name": "Python 3",
   "language": "python",
   "name": "python3"
  },
  "language_info": {
   "codemirror_mode": {
    "name": "ipython",
    "version": 3
   },
   "file_extension": ".py",
   "mimetype": "text/x-python",
   "name": "python",
   "nbconvert_exporter": "python",
   "pygments_lexer": "ipython3",
   "version": "3.6.5"
  }
 },
 "nbformat": 4,
 "nbformat_minor": 2
}
