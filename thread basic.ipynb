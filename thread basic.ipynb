{
 "cells": [
  {
   "cell_type": "code",
   "execution_count": null,
   "metadata": {},
   "outputs": [],
   "source": []
  },
  {
   "cell_type": "code",
   "execution_count": 1,
   "metadata": {},
   "outputs": [
    {
     "name": "stdout",
     "output_type": "stream",
     "text": [
      "Running First Thread\n",
      "\n",
      "Running Second Thread\n",
      "\n",
      "Running First Thread\n",
      "\n",
      "Running Third Thread\n",
      "\n",
      "Running First Thread\n",
      "\n",
      "Running Second Thread\n",
      "\n",
      "Running First Thread\n",
      "\n",
      "First Thread has finished execution\n",
      "Running Second Thread\n",
      "\n",
      "Running Third Thread\n",
      "\n",
      "Running Second Thread\n",
      "\n",
      "Second Thread has finished execution\n",
      "Running Third Thread\n",
      "\n",
      "Running Third Thread\n",
      "\n",
      "Third Thread has finished execution\n"
     ]
    }
   ],
   "source": [
    "import time\n",
    "import _thread\n",
    "\n",
    "def thread_test(name, wait):\n",
    "   i = 0\n",
    "   while i <= 3:\n",
    "      time.sleep(wait)\n",
    "      print(\"Running %s\\n\" %name)\n",
    "      i = i + 1\n",
    "\n",
    "   print(\"%s has finished execution\" %name)\n",
    "\n",
    "if __name__ == \"__main__\":\n",
    "    \n",
    "    _thread.start_new_thread(thread_test, (\"First Thread\", 1))\n",
    "    _thread.start_new_thread(thread_test, (\"Second Thread\", 2))\n",
    "    _thread.start_new_thread(thread_test, (\"Third Thread\", 3))\n"
   ]
  },
  {
   "cell_type": "code",
   "execution_count": null,
   "metadata": {},
   "outputs": [],
   "source": []
  }
 ],
 "metadata": {
  "kernelspec": {
   "display_name": "Python 3",
   "language": "python",
   "name": "python3"
  },
  "language_info": {
   "codemirror_mode": {
    "name": "ipython",
    "version": 3
   },
   "file_extension": ".py",
   "mimetype": "text/x-python",
   "name": "python",
   "nbconvert_exporter": "python",
   "pygments_lexer": "ipython3",
   "version": "3.6.5"
  }
 },
 "nbformat": 4,
 "nbformat_minor": 2
}
