{
 "cells": [
  {
   "cell_type": "code",
   "execution_count": 1,
   "metadata": {},
   "outputs": [],
   "source": [
    "#Run a subset of entire test\n",
    "#First Basic PyTest\n",
    "import pytest\n",
    "def test_file1_method1():\n",
    "\tx=5\n",
    "\ty=6\n",
    "\tassert x+1 == y,\"test failed\"\n",
    "\tassert x == y,\"test failed\"\n",
    "def test_file1_method2():\n",
    "\tx=5\n",
    "\ty=6\n",
    "\tassert x+1 == y,\"test failed\" \n"
   ]
  },
  {
   "cell_type": "code",
   "execution_count": 16,
   "metadata": {},
   "outputs": [],
   "source": [
    "#Here We are defining markers set1 and set2 on the test methods, and we will run the test using the marker names\n",
    "import pytest\n",
    "@pytest.mark.set1\n",
    "def test_file1_method1():\n",
    "\tx=5\n",
    "\ty=6\n",
    "\tassert x+1 == y,\"test failed\"\n",
    "\tassert x == y,\"test failed because x=\" + str(x) + \" y=\" + str(y)\n",
    "\n",
    "@pytest.mark.set2\n",
    "def test_file1_method2():\n",
    "\tx=5\n",
    "\ty=6\n",
    "\tassert x+1 == y,\"test failed\"\n",
    "\n",
    "\n",
    "\n"
   ]
  },
  {
   "cell_type": "code",
   "execution_count": 17,
   "metadata": {},
   "outputs": [],
   "source": [
    "#\n",
    "import pytest\n",
    "@pytest.mark.set1\n",
    "def test_file2_method1():\n",
    "\tx=5\n",
    "\ty=6\n",
    "\tassert x+1 == y,\"test failed\"\n",
    "\tassert x == y,\"test failed because x=\" + str(x) + \" y=\" + str(y)\n",
    "\n",
    "@pytest.mark.set1\n",
    "def test_file2_method2():\n",
    "\tx=5\n",
    "\ty=6\n",
    "\tassert x+1 == y,\"test failed\"\n"
   ]
  },
  {
   "cell_type": "code",
   "execution_count": 18,
   "metadata": {},
   "outputs": [],
   "source": [
    "#Pytest fixtures\n",
    "import pytest\n",
    "@pytest.fixture\n",
    "def supply_AA_BB_CC():\n",
    "\taa=25\n",
    "\tbb =35\n",
    "\tcc=45\n",
    "\treturn [aa,bb,cc]\n",
    "\n",
    "def test_comparewithAA(supply_AA_BB_CC):\n",
    "\tzz=35\n",
    "\tassert supply_AA_BB_CC[0]==zz,\"aa and zz comparison failed\"\n",
    "\n",
    "def test_comparewithBB(supply_AA_BB_CC):\n",
    "\tzz=35\n",
    "\tassert supply_AA_BB_CC[1]==zz,\"bb and zz comparison failed\"\n",
    "\n",
    "def test_comparewithCC(supply_AA_BB_CC):\n",
    "\tzz=35\n",
    "\tassert supply_AA_BB_CC[2]==zz,\"cc and zz comparison failed\"\n"
   ]
  },
  {
   "cell_type": "code",
   "execution_count": 19,
   "metadata": {},
   "outputs": [],
   "source": [
    "#Pytest fixtures\n",
    "import pytest\n",
    "@pytest.fixture\n",
    "def supply_AA_BB_CC():\n",
    "\taa=25\n",
    "\tbb =35\n",
    "\tcc=45\n",
    "\treturn [aa,bb,cc]\n"
   ]
  },
  {
   "cell_type": "code",
   "execution_count": 20,
   "metadata": {},
   "outputs": [],
   "source": [
    "#Pytest fixtures\n",
    "import pytest\n",
    "def test_comparewithAA(supply_AA_BB_CC):\n",
    "\tzz=35\n",
    "\tassert supply_AA_BB_CC[0]==zz,\"aa and zz comparison failed\"\n",
    "\n",
    "def test_comparewithBB(supply_AA_BB_CC):\n",
    "\tzz=35\n",
    "\tassert supply_AA_BB_CC[1]==zz,\"bb and zz comparison failed\"\n",
    "\n",
    "def test_comparewithCC(supply_AA_BB_CC):\n",
    "\tzz=35\n",
    "\tassert supply_AA_BB_CC[2]==zz,\"cc and zz comparison failed\"\n",
    "\n",
    "#\n",
    "import pytest\n",
    "def test_comparewithAA(supply_AA_BB_CC):\n",
    "\tzz=35\n",
    "\tassert supply_AA_BB_CC[0]==zz,\"aa and zz comparison failed\"\n",
    "\n",
    "def test_comparewithBB(supply_AA_BB_CC):\n",
    "\tzz=35\n",
    "\tassert supply_AA_BB_CC[1]==zz,\"bb and zz comparison failed\"\n",
    "\n",
    "def test_comparewithCC(supply_AA_BB_CC):\n",
    "\tzz=35\n",
    "\tassert supply_AA_BB_CC[2]==zz,\"cc and zz comparison failed\"\n"
   ]
  },
  {
   "cell_type": "code",
   "execution_count": 21,
   "metadata": {},
   "outputs": [],
   "source": [
    "#Pytest fixtures\n",
    "import pytest\n",
    "def test_comparewithAA_file2(supply_AA_BB_CC):\n",
    "\tzz=25\n",
    "\tassert supply_AA_BB_CC[0]==zz,\"aa and zz comparison failed\"\n",
    "\n",
    "def test_comparewithBB_file2(supply_AA_BB_CC):\n",
    "\tzz=25\n",
    "\tassert supply_AA_BB_CC[1]==zz,\"bb and zz comparison failed\"\n",
    "\n",
    "def test_comparewithCC_file2(supply_AA_BB_CC):\n",
    "\tzz=25\n",
    "\tassert supply_AA_BB_CC[2]==zz,\"cc and zz comparison failed\"\n"
   ]
  },
  {
   "cell_type": "code",
   "execution_count": 22,
   "metadata": {},
   "outputs": [],
   "source": [
    "#Parameterized tests\n",
    "import pytest\n",
    "@pytest.mark.parametrize(\"input1, input2, output\",[(5,5,10),(3,5,12)])\n",
    "def test_add(input1, input2, output):\n",
    "\tassert input1+input2 == output,\"failed\"\n"
   ]
  },
  {
   "cell_type": "code",
   "execution_count": 23,
   "metadata": {},
   "outputs": [],
   "source": [
    "#Xfail / Skip tests\n",
    "import pytest\n",
    "@pytest.mark.skip\n",
    "def test_add_1():\n",
    "\tassert 100+200 == 400,\"failed\"\n",
    "\n",
    "@pytest.mark.skip\n",
    "def test_add_2():\n",
    "\tassert 100+200 == 300,\"failed\"\n",
    "\n",
    "@pytest.mark.xfail\n",
    "def test_add_3():\n",
    "\tassert 15+13 == 28,\"failed\"\n",
    "\n",
    "@pytest.mark.xfail\n",
    "def test_add_4():\n",
    "\tassert 15+13 == 100,\"failed\"\n",
    "\n",
    "def test_add_5():\n",
    "\tassert 3+2 == 5,\"failed\"\n",
    "\n",
    "def test_add_6():\n",
    "\tassert 3+2 == 6,\"failed\"\n"
   ]
  },
  {
   "cell_type": "code",
   "execution_count": 25,
   "metadata": {},
   "outputs": [],
   "source": [
    "#it have a fixture which will supply base url for all the test methods\n",
    "import pytest\n",
    "@pytest.fixture\n",
    "def supply_url():\n",
    "\treturn \"https://reqres.in/api\"\n",
    "\n"
   ]
  },
  {
   "cell_type": "code",
   "execution_count": 26,
   "metadata": {},
   "outputs": [],
   "source": [
    "#contains test methods for testing login functionality\n",
    "import pytest\n",
    "import requests\n",
    "import json\n",
    "@pytest.mark.parametrize(\"userid, firstname\",[(1,\"George\"),(2,\"Janet\")])\n",
    "def test_list_valid_user(supply_url,userid,firstname):\n",
    "\turl = supply_url + \"/users/\" + str(userid)\n",
    "\tresp = requests.get(url)\n",
    "\tj = json.loads(resp.text)\n",
    "\tassert resp.status_code == 200, resp.text\n",
    "\tassert j['data']['id'] == userid, resp.text\n",
    "\tassert j['data']['first_name'] == firstname, resp.text\n",
    "\n",
    "def test_list_invaliduser(supply_url):\n",
    "\turl = supply_url + \"/users/50\"\n",
    "\tresp = requests.get(url)\n",
    "\tassert resp.status_code == 404, resp.text\n"
   ]
  },
  {
   "cell_type": "code",
   "execution_count": 27,
   "metadata": {},
   "outputs": [
    {
     "ename": "SyntaxError",
     "evalue": "EOL while scanning string literal (<ipython-input-27-612e46fc70b1>, line 6)",
     "output_type": "error",
     "traceback": [
      "\u001b[1;36m  File \u001b[1;32m\"<ipython-input-27-612e46fc70b1>\"\u001b[1;36m, line \u001b[1;32m6\u001b[0m\n\u001b[1;33m    data = {'email':'test@test.com\u001b[0m\n\u001b[1;37m                                  ^\u001b[0m\n\u001b[1;31mSyntaxError\u001b[0m\u001b[1;31m:\u001b[0m EOL while scanning string literal\n"
     ]
    }
   ],
   "source": [
    "#contains test methods for testing login functionality\n",
    "import pytest\n",
    "import requests\n",
    "import json\n",
    "def test_login_valid(supply_url):\n",
    "\turl = supply_url + \"/login/\" \n",
    "\tdata = {'email':'test@test.com\n",
    "\t','password':'something'}\n",
    "\tresp = requests.post(url, data=data)\n",
    "\tj = json.loads(resp.text)\n",
    "\tassert resp.status_code == 200, resp.text\n",
    "\tassert j['token'] == \"QpwL5tke4Pnpja7X\", resp.text\n",
    "\n",
    "def test_login_no_password(supply_url):\n",
    "\turl = supply_url + \"/login/\" \n",
    "\tdata = {'email':'test@test.com'}\n",
    "\tresp = requests.post(url, data=data)\n",
    "\tj = json.loads(resp.text)\n",
    "\tassert resp.status_code == 400, resp.text\n",
    "\tassert j['error'] == \"Missing password\", resp.text\n",
    "\n",
    "def test_login_no_email(supply_url):\n",
    "\turl = supply_url + \"/login/\" \n",
    "\tdata = {}\n",
    "\tresp = requests.post(url, data=data)\n",
    "\tj = json.loads(resp.text)\n",
    "\tassert resp.status_code == 400, resp.text\n",
    "\tassert j['error'] == \"Missing email or username\", resp.text\n"
   ]
  },
  {
   "cell_type": "code",
   "execution_count": null,
   "metadata": {},
   "outputs": [],
   "source": []
  }
 ],
 "metadata": {
  "kernelspec": {
   "display_name": "Python 3",
   "language": "python",
   "name": "python3"
  },
  "language_info": {
   "codemirror_mode": {
    "name": "ipython",
    "version": 3
   },
   "file_extension": ".py",
   "mimetype": "text/x-python",
   "name": "python",
   "nbconvert_exporter": "python",
   "pygments_lexer": "ipython3",
   "version": "3.6.5"
  }
 },
 "nbformat": 4,
 "nbformat_minor": 2
}
