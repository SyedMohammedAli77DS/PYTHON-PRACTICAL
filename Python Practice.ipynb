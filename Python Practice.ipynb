{
 "cells": [
  {
   "cell_type": "code",
   "execution_count": 1,
   "metadata": {},
   "outputs": [],
   "source": [
    "x = 300\n",
    "y = 200\n",
    "a = 10\n",
    "b = 20"
   ]
  },
  {
   "cell_type": "code",
   "execution_count": 2,
   "metadata": {},
   "outputs": [
    {
     "name": "stdout",
     "output_type": "stream",
     "text": [
      "done\n"
     ]
    }
   ],
   "source": [
    "if x > y and a > b:\n",
    "    print (\"x and a are greater\")\n",
    "print (\"done\")"
   ]
  },
  {
   "cell_type": "code",
   "execution_count": 4,
   "metadata": {},
   "outputs": [
    {
     "name": "stdout",
     "output_type": "stream",
     "text": [
      "Enter your age 20\n",
      "Enter your city hyderabad\n",
      "Enter your marks444\n",
      "You are not elig..\n"
     ]
    }
   ],
   "source": [
    "age = int(input(\"Enter your age \"))\n",
    "city = input (\"Enter your city \")\n",
    "marks = int(input(\"Enter your marks\"))\n",
    "if age > 20 and (city=='Hyderabad' or marks > 500):\n",
    "    print (\"You are eligible!!!\")\n",
    "else:\n",
    "    print (\"You are not elig..\")"
   ]
  },
  {
   "cell_type": "code",
   "execution_count": 5,
   "metadata": {},
   "outputs": [
    {
     "name": "stdout",
     "output_type": "stream",
     "text": [
      "b\n",
      "good\n"
     ]
    }
   ],
   "source": [
    "a,b = 10,20\n",
    "\n",
    "if a > b:\n",
    "    print (\"a\")\n",
    "elif b > a:\n",
    "    print (\"b\")\n",
    "else:\n",
    "    print (\"ab\")\n",
    "\n",
    "print (\"good\")"
   ]
  },
  {
   "cell_type": "code",
   "execution_count": 6,
   "metadata": {},
   "outputs": [
    {
     "name": "stdout",
     "output_type": "stream",
     "text": [
      "x is true\n"
     ]
    }
   ],
   "source": [
    "x = True\n",
    "y = False\n",
    "if y:\n",
    "    print (\"Y is true \")\n",
    "elif x:\n",
    "    print (\"x is true\")"
   ]
  },
  {
   "cell_type": "code",
   "execution_count": 7,
   "metadata": {},
   "outputs": [
    {
     "name": "stdout",
     "output_type": "stream",
     "text": [
      " x is true\n"
     ]
    }
   ],
   "source": [
    "x = True\n",
    "y = False\n",
    "if not x:\n",
    "    print (\"x is false\")\n",
    "else:\n",
    "    print (\" x is true\")"
   ]
  },
  {
   "cell_type": "code",
   "execution_count": 8,
   "metadata": {},
   "outputs": [],
   "source": [
    "fruits = [\"Apples\",\"Orange\",\"Mango\"]      #list ; python data structure"
   ]
  },
  {
   "cell_type": "code",
   "execution_count": 9,
   "metadata": {},
   "outputs": [
    {
     "data": {
      "text/plain": [
       "['Apples', 'Orange', 'Mango']"
      ]
     },
     "execution_count": 9,
     "metadata": {},
     "output_type": "execute_result"
    }
   ],
   "source": [
    "fruits"
   ]
  },
  {
   "cell_type": "code",
   "execution_count": 10,
   "metadata": {},
   "outputs": [],
   "source": [
    "marks = [40,55,66,80,99]"
   ]
  },
  {
   "cell_type": "code",
   "execution_count": 11,
   "metadata": {},
   "outputs": [
    {
     "data": {
      "text/plain": [
       "True"
      ]
     },
     "execution_count": 11,
     "metadata": {},
     "output_type": "execute_result"
    }
   ],
   "source": [
    "\"banana\" not in fruits"
   ]
  },
  {
   "cell_type": "code",
   "execution_count": 14,
   "metadata": {},
   "outputs": [
    {
     "data": {
      "text/plain": [
       "False"
      ]
     },
     "execution_count": 14,
     "metadata": {},
     "output_type": "execute_result"
    }
   ],
   "source": [
    "\"Apples\" not in fruits"
   ]
  },
  {
   "cell_type": "code",
   "execution_count": 15,
   "metadata": {},
   "outputs": [
    {
     "data": {
      "text/plain": [
       "list"
      ]
     },
     "execution_count": 15,
     "metadata": {},
     "output_type": "execute_result"
    }
   ],
   "source": [
    "type(fruits)"
   ]
  },
  {
   "cell_type": "code",
   "execution_count": 16,
   "metadata": {},
   "outputs": [
    {
     "name": "stdout",
     "output_type": "stream",
     "text": [
      "We have secured highest marks\n"
     ]
    }
   ],
   "source": [
    "highmarks = 99\n",
    "if highmarks in marks:\n",
    "    print (\"We have secured highest marks\")"
   ]
  },
  {
   "cell_type": "code",
   "execution_count": 17,
   "metadata": {},
   "outputs": [
    {
     "name": "stdout",
     "output_type": "stream",
     "text": [
      "we will buy\n"
     ]
    }
   ],
   "source": [
    "fruit = \"Mango\" \n",
    "if fruit in fruits:\n",
    "    print(\"we will buy\")"
   ]
  },
  {
   "cell_type": "code",
   "execution_count": 18,
   "metadata": {},
   "outputs": [],
   "source": [
    "# Tuple\n",
    "marks = (50,52,55,60,80)"
   ]
  },
  {
   "cell_type": "code",
   "execution_count": 19,
   "metadata": {},
   "outputs": [
    {
     "data": {
      "text/plain": [
       "(50, 52, 55, 60, 80)"
      ]
     },
     "execution_count": 19,
     "metadata": {},
     "output_type": "execute_result"
    }
   ],
   "source": [
    "marks"
   ]
  },
  {
   "cell_type": "code",
   "execution_count": 20,
   "metadata": {},
   "outputs": [],
   "source": [
    "prices = [10.10,20.50,50,60.310]"
   ]
  },
  {
   "cell_type": "code",
   "execution_count": 21,
   "metadata": {},
   "outputs": [
    {
     "data": {
      "text/plain": [
       "list"
      ]
     },
     "execution_count": 21,
     "metadata": {},
     "output_type": "execute_result"
    }
   ],
   "source": [
    "type(prices)"
   ]
  },
  {
   "cell_type": "code",
   "execution_count": 22,
   "metadata": {},
   "outputs": [
    {
     "data": {
      "text/plain": [
       "10.1"
      ]
     },
     "execution_count": 22,
     "metadata": {},
     "output_type": "execute_result"
    }
   ],
   "source": [
    "prices[0]    # element's index number"
   ]
  },
  {
   "cell_type": "code",
   "execution_count": 23,
   "metadata": {},
   "outputs": [
    {
     "data": {
      "text/plain": [
       "60.31"
      ]
     },
     "execution_count": 23,
     "metadata": {},
     "output_type": "execute_result"
    }
   ],
   "source": [
    "prices[-1]     # last element"
   ]
  },
  {
   "cell_type": "code",
   "execution_count": 24,
   "metadata": {},
   "outputs": [
    {
     "data": {
      "text/plain": [
       "60.31"
      ]
     },
     "execution_count": 24,
     "metadata": {},
     "output_type": "execute_result"
    }
   ],
   "source": [
    "prices[3]"
   ]
  },
  {
   "cell_type": "code",
   "execution_count": 25,
   "metadata": {},
   "outputs": [],
   "source": [
    "prices[0] = 20.20"
   ]
  },
  {
   "cell_type": "code",
   "execution_count": 26,
   "metadata": {},
   "outputs": [
    {
     "data": {
      "text/plain": [
       "[20.2, 20.5, 50, 60.31]"
      ]
     },
     "execution_count": 26,
     "metadata": {},
     "output_type": "execute_result"
    }
   ],
   "source": [
    "prices"
   ]
  },
  {
   "cell_type": "code",
   "execution_count": 29,
   "metadata": {},
   "outputs": [
    {
     "data": {
      "text/plain": [
       "tuple"
      ]
     },
     "execution_count": 29,
     "metadata": {},
     "output_type": "execute_result"
    }
   ],
   "source": [
    "type(marks)"
   ]
  },
  {
   "cell_type": "code",
   "execution_count": 30,
   "metadata": {},
   "outputs": [
    {
     "data": {
      "text/plain": [
       "50"
      ]
     },
     "execution_count": 30,
     "metadata": {},
     "output_type": "execute_result"
    }
   ],
   "source": [
    "marks[0]"
   ]
  },
  {
   "cell_type": "code",
   "execution_count": 31,
   "metadata": {},
   "outputs": [
    {
     "name": "stdout",
     "output_type": "stream",
     "text": [
      "20.2\n",
      "20.5\n",
      "50\n",
      "60.31\n"
     ]
    }
   ],
   "source": [
    "for p in prices:\n",
    "    print (p)"
   ]
  },
  {
   "cell_type": "code",
   "execution_count": 32,
   "metadata": {},
   "outputs": [
    {
     "name": "stdout",
     "output_type": "stream",
     "text": [
      "50\n",
      "60.31\n"
     ]
    }
   ],
   "source": [
    "for p in prices:\n",
    "    if p > 30:\n",
    "        print (p)"
   ]
  },
  {
   "cell_type": "code",
   "execution_count": 33,
   "metadata": {},
   "outputs": [
    {
     "name": "stdout",
     "output_type": "stream",
     "text": [
      "52\n",
      "55\n",
      "60\n",
      "80\n"
     ]
    }
   ],
   "source": [
    "for m in marks:\n",
    "    if m > 50:\n",
    "        print (m)"
   ]
  },
  {
   "cell_type": "code",
   "execution_count": 34,
   "metadata": {},
   "outputs": [
    {
     "data": {
      "text/plain": [
       "[20.2, 20.5, 50, 60.31]"
      ]
     },
     "execution_count": 34,
     "metadata": {},
     "output_type": "execute_result"
    }
   ],
   "source": [
    "prices"
   ]
  },
  {
   "cell_type": "code",
   "execution_count": 35,
   "metadata": {},
   "outputs": [],
   "source": [
    "prices.append(30)"
   ]
  },
  {
   "cell_type": "code",
   "execution_count": 36,
   "metadata": {},
   "outputs": [
    {
     "data": {
      "text/plain": [
       "[20.2, 20.5, 50, 60.31, 30]"
      ]
     },
     "execution_count": 36,
     "metadata": {},
     "output_type": "execute_result"
    }
   ],
   "source": [
    "prices"
   ]
  },
  {
   "cell_type": "code",
   "execution_count": 37,
   "metadata": {},
   "outputs": [],
   "source": [
    "prices.sort(reverse=True)"
   ]
  },
  {
   "cell_type": "code",
   "execution_count": 38,
   "metadata": {},
   "outputs": [
    {
     "data": {
      "text/plain": [
       "[60.31, 50, 30, 20.5, 20.2]"
      ]
     },
     "execution_count": 38,
     "metadata": {},
     "output_type": "execute_result"
    }
   ],
   "source": [
    "prices"
   ]
  },
  {
   "cell_type": "code",
   "execution_count": 39,
   "metadata": {},
   "outputs": [],
   "source": [
    "prices.sort()"
   ]
  },
  {
   "cell_type": "code",
   "execution_count": 40,
   "metadata": {},
   "outputs": [
    {
     "data": {
      "text/plain": [
       "[20.2, 20.5, 30, 50, 60.31]"
      ]
     },
     "execution_count": 40,
     "metadata": {},
     "output_type": "execute_result"
    }
   ],
   "source": [
    "prices"
   ]
  },
  {
   "cell_type": "code",
   "execution_count": 41,
   "metadata": {},
   "outputs": [],
   "source": [
    "s1 = {1,2,3}\n",
    "s2 = {3,4,5}"
   ]
  },
  {
   "cell_type": "code",
   "execution_count": 42,
   "metadata": {},
   "outputs": [
    {
     "data": {
      "text/plain": [
       "{1, 2, 3, 4, 5}"
      ]
     },
     "execution_count": 42,
     "metadata": {},
     "output_type": "execute_result"
    }
   ],
   "source": [
    "s1.union(s2)"
   ]
  },
  {
   "cell_type": "code",
   "execution_count": 43,
   "metadata": {},
   "outputs": [
    {
     "data": {
      "text/plain": [
       "{3}"
      ]
     },
     "execution_count": 43,
     "metadata": {},
     "output_type": "execute_result"
    }
   ],
   "source": [
    "s1.intersection(s2)"
   ]
  },
  {
   "cell_type": "code",
   "execution_count": 44,
   "metadata": {},
   "outputs": [],
   "source": [
    "s1.intersection_update(s2)"
   ]
  },
  {
   "cell_type": "code",
   "execution_count": 46,
   "metadata": {},
   "outputs": [
    {
     "data": {
      "text/plain": [
       "{3}"
      ]
     },
     "execution_count": 46,
     "metadata": {},
     "output_type": "execute_result"
    }
   ],
   "source": [
    "s1"
   ]
  },
  {
   "cell_type": "code",
   "execution_count": 47,
   "metadata": {},
   "outputs": [
    {
     "data": {
      "text/plain": [
       "set()"
      ]
     },
     "execution_count": 47,
     "metadata": {},
     "output_type": "execute_result"
    }
   ],
   "source": [
    "s1.difference(s2)"
   ]
  },
  {
   "cell_type": "code",
   "execution_count": 48,
   "metadata": {},
   "outputs": [
    {
     "data": {
      "text/plain": [
       "{3}"
      ]
     },
     "execution_count": 48,
     "metadata": {},
     "output_type": "execute_result"
    }
   ],
   "source": [
    "s1"
   ]
  },
  {
   "cell_type": "code",
   "execution_count": 49,
   "metadata": {},
   "outputs": [
    {
     "data": {
      "text/plain": [
       "{3, 4, 5}"
      ]
     },
     "execution_count": 49,
     "metadata": {},
     "output_type": "execute_result"
    }
   ],
   "source": [
    "s2"
   ]
  },
  {
   "cell_type": "code",
   "execution_count": 50,
   "metadata": {},
   "outputs": [],
   "source": [
    "s1 = {1,2,3}"
   ]
  },
  {
   "cell_type": "code",
   "execution_count": 51,
   "metadata": {},
   "outputs": [
    {
     "data": {
      "text/plain": [
       "{1, 2, 3}"
      ]
     },
     "execution_count": 51,
     "metadata": {},
     "output_type": "execute_result"
    }
   ],
   "source": [
    "s1"
   ]
  },
  {
   "cell_type": "code",
   "execution_count": 52,
   "metadata": {},
   "outputs": [
    {
     "data": {
      "text/plain": [
       "{1, 2}"
      ]
     },
     "execution_count": 52,
     "metadata": {},
     "output_type": "execute_result"
    }
   ],
   "source": [
    "s1.difference(s2)"
   ]
  },
  {
   "cell_type": "code",
   "execution_count": 53,
   "metadata": {},
   "outputs": [],
   "source": [
    "s3 = s1.intersection(s2)"
   ]
  },
  {
   "cell_type": "code",
   "execution_count": 54,
   "metadata": {},
   "outputs": [
    {
     "data": {
      "text/plain": [
       "{3}"
      ]
     },
     "execution_count": 54,
     "metadata": {},
     "output_type": "execute_result"
    }
   ],
   "source": [
    "s3"
   ]
  },
  {
   "cell_type": "code",
   "execution_count": null,
   "metadata": {},
   "outputs": [],
   "source": [
    "fruits = []    # an empty list\n",
    "for i in range(4):\n",
    "    f = input(\"Enter the Fruit name of your choice :\")\n",
    "    fruits.append(f)\n",
    "    "
   ]
  },
  {
   "cell_type": "code",
   "execution_count": null,
   "metadata": {},
   "outputs": [],
   "source": [
    "fruits"
   ]
  },
  {
   "cell_type": "code",
   "execution_count": 1,
   "metadata": {},
   "outputs": [],
   "source": [
    "org = \"DataZone Analytics\""
   ]
  },
  {
   "cell_type": "code",
   "execution_count": 2,
   "metadata": {},
   "outputs": [
    {
     "data": {
      "text/plain": [
       "'DataZone Analytics'"
      ]
     },
     "execution_count": 2,
     "metadata": {},
     "output_type": "execute_result"
    }
   ],
   "source": [
    "org"
   ]
  },
  {
   "cell_type": "code",
   "execution_count": 8,
   "metadata": {},
   "outputs": [
    {
     "data": {
      "text/plain": [
       "'DataZone Analytics'"
      ]
     },
     "execution_count": 8,
     "metadata": {},
     "output_type": "execute_result"
    }
   ],
   "source": [
    "org"
   ]
  },
  {
   "cell_type": "code",
   "execution_count": 9,
   "metadata": {},
   "outputs": [],
   "source": [
    "org = org.upper()"
   ]
  },
  {
   "cell_type": "code",
   "execution_count": 10,
   "metadata": {},
   "outputs": [
    {
     "data": {
      "text/plain": [
       "'DATAZONE ANALYTICS'"
      ]
     },
     "execution_count": 10,
     "metadata": {},
     "output_type": "execute_result"
    }
   ],
   "source": [
    "org"
   ]
  },
  {
   "cell_type": "code",
   "execution_count": null,
   "metadata": {},
   "outputs": [],
   "source": []
  },
  {
   "cell_type": "code",
   "execution_count": 12,
   "metadata": {},
   "outputs": [],
   "source": [
    "org = org.lower()"
   ]
  },
  {
   "cell_type": "code",
   "execution_count": 13,
   "metadata": {},
   "outputs": [
    {
     "data": {
      "text/plain": [
       "'datazone analytics'"
      ]
     },
     "execution_count": 13,
     "metadata": {},
     "output_type": "execute_result"
    }
   ],
   "source": [
    "org"
   ]
  },
  {
   "cell_type": "code",
   "execution_count": 15,
   "metadata": {},
   "outputs": [],
   "source": [
    "s1 = {1,2,3}"
   ]
  },
  {
   "cell_type": "code",
   "execution_count": 16,
   "metadata": {},
   "outputs": [],
   "source": [
    "s2={4,5,6}"
   ]
  },
  {
   "cell_type": "code",
   "execution_count": 17,
   "metadata": {},
   "outputs": [
    {
     "data": {
      "text/plain": [
       "{1, 2, 3}"
      ]
     },
     "execution_count": 17,
     "metadata": {},
     "output_type": "execute_result"
    }
   ],
   "source": [
    "s1"
   ]
  },
  {
   "cell_type": "code",
   "execution_count": 18,
   "metadata": {},
   "outputs": [
    {
     "data": {
      "text/plain": [
       "{4, 5, 6}"
      ]
     },
     "execution_count": 18,
     "metadata": {},
     "output_type": "execute_result"
    }
   ],
   "source": [
    "s2"
   ]
  },
  {
   "cell_type": "code",
   "execution_count": 19,
   "metadata": {},
   "outputs": [
    {
     "data": {
      "text/plain": [
       "True"
      ]
     },
     "execution_count": 19,
     "metadata": {},
     "output_type": "execute_result"
    }
   ],
   "source": [
    "s1.isdisjoint(s2)"
   ]
  },
  {
   "cell_type": "code",
   "execution_count": 24,
   "metadata": {},
   "outputs": [],
   "source": [
    "s3 = {4,5,6}\n",
    "s4 = {4,8,9}"
   ]
  },
  {
   "cell_type": "code",
   "execution_count": 26,
   "metadata": {},
   "outputs": [
    {
     "data": {
      "text/plain": [
       "True"
      ]
     },
     "execution_count": 26,
     "metadata": {},
     "output_type": "execute_result"
    }
   ],
   "source": [
    "s3.isdisjoint(s4)"
   ]
  },
  {
   "cell_type": "code",
   "execution_count": 27,
   "metadata": {},
   "outputs": [
    {
     "name": "stdout",
     "output_type": "stream",
     "text": [
      "Enter the Fruit name of your choice :orange\n",
      "Enter the Fruit name of your choice :mango\n",
      "Enter the Fruit name of your choice :apple\n",
      "Enter the Fruit name of your choice :banana\n"
     ]
    }
   ],
   "source": [
    "fruits = []    # an empty list\n",
    "for i in range(4):\n",
    "    f = input(\"Enter the Fruit name of your choice :\")\n",
    "    fruits.append(f)"
   ]
  },
  {
   "cell_type": "code",
   "execution_count": 28,
   "metadata": {},
   "outputs": [
    {
     "data": {
      "text/plain": [
       "['orange', 'mango', 'apple', 'banana']"
      ]
     },
     "execution_count": 28,
     "metadata": {},
     "output_type": "execute_result"
    }
   ],
   "source": [
    "fruits"
   ]
  },
  {
   "cell_type": "code",
   "execution_count": 33,
   "metadata": {},
   "outputs": [
    {
     "data": {
      "text/plain": [
       "True"
      ]
     },
     "execution_count": 33,
     "metadata": {},
     "output_type": "execute_result"
    }
   ],
   "source": [
    "s1.isdisjoint(s2)"
   ]
  },
  {
   "cell_type": "code",
   "execution_count": 34,
   "metadata": {},
   "outputs": [
    {
     "data": {
      "text/plain": [
       "True"
      ]
     },
     "execution_count": 34,
     "metadata": {},
     "output_type": "execute_result"
    }
   ],
   "source": [
    "s3.isdisjoint(s4)"
   ]
  },
  {
   "cell_type": "code",
   "execution_count": 35,
   "metadata": {},
   "outputs": [],
   "source": [
    "students = {'Math':90,'Physics':60,'Chem':80}"
   ]
  },
  {
   "cell_type": "code",
   "execution_count": 39,
   "metadata": {},
   "outputs": [],
   "source": [
    "s=students"
   ]
  },
  {
   "cell_type": "code",
   "execution_count": 40,
   "metadata": {},
   "outputs": [
    {
     "data": {
      "text/plain": [
       "{'Math': 90, 'Physics': 60, 'Chem': 80}"
      ]
     },
     "execution_count": 40,
     "metadata": {},
     "output_type": "execute_result"
    }
   ],
   "source": [
    "s"
   ]
  },
  {
   "cell_type": "code",
   "execution_count": 41,
   "metadata": {},
   "outputs": [
    {
     "name": "stdout",
     "output_type": "stream",
     "text": [
      "90\n",
      "60\n",
      "80\n"
     ]
    }
   ],
   "source": [
    "for s in students:\n",
    "    print (students[s])"
   ]
  },
  {
   "cell_type": "code",
   "execution_count": 42,
   "metadata": {},
   "outputs": [
    {
     "data": {
      "text/plain": [
       "60"
      ]
     },
     "execution_count": 42,
     "metadata": {},
     "output_type": "execute_result"
    }
   ],
   "source": [
    "students['Physics']"
   ]
  },
  {
   "cell_type": "code",
   "execution_count": 43,
   "metadata": {},
   "outputs": [],
   "source": [
    "# list ;  mutable/updateable\n",
    "price = [50,60.50,100,200,10]\n",
    "cities = [\"Hyderabad\",\"Mumbai\",'Delhi']"
   ]
  },
  {
   "cell_type": "code",
   "execution_count": 44,
   "metadata": {},
   "outputs": [
    {
     "data": {
      "text/plain": [
       "['Hyderabad', 'Mumbai', 'Delhi']"
      ]
     },
     "execution_count": 44,
     "metadata": {},
     "output_type": "execute_result"
    }
   ],
   "source": [
    "cities"
   ]
  },
  {
   "cell_type": "code",
   "execution_count": 45,
   "metadata": {},
   "outputs": [
    {
     "data": {
      "text/plain": [
       "'Delhi'"
      ]
     },
     "execution_count": 45,
     "metadata": {},
     "output_type": "execute_result"
    }
   ],
   "source": [
    "cities[-1]"
   ]
  },
  {
   "cell_type": "code",
   "execution_count": 46,
   "metadata": {},
   "outputs": [
    {
     "data": {
      "text/plain": [
       "200"
      ]
     },
     "execution_count": 46,
     "metadata": {},
     "output_type": "execute_result"
    }
   ],
   "source": [
    "price[-2]"
   ]
  },
  {
   "cell_type": "code",
   "execution_count": 47,
   "metadata": {},
   "outputs": [],
   "source": [
    "# tuple;  immutable/non updateable\n",
    "marks = (50,60,45,70,80)"
   ]
  },
  {
   "cell_type": "code",
   "execution_count": 48,
   "metadata": {},
   "outputs": [
    {
     "data": {
      "text/plain": [
       "tuple"
      ]
     },
     "execution_count": 48,
     "metadata": {},
     "output_type": "execute_result"
    }
   ],
   "source": [
    "type(marks)"
   ]
  },
  {
   "cell_type": "code",
   "execution_count": 49,
   "metadata": {},
   "outputs": [
    {
     "data": {
      "text/plain": [
       "list"
      ]
     },
     "execution_count": 49,
     "metadata": {},
     "output_type": "execute_result"
    }
   ],
   "source": [
    "type(price)"
   ]
  },
  {
   "cell_type": "code",
   "execution_count": 50,
   "metadata": {},
   "outputs": [
    {
     "data": {
      "text/plain": [
       "80"
      ]
     },
     "execution_count": 50,
     "metadata": {},
     "output_type": "execute_result"
    }
   ],
   "source": [
    "marks[-1]"
   ]
  },
  {
   "cell_type": "code",
   "execution_count": 51,
   "metadata": {},
   "outputs": [],
   "source": [
    "price[0]=55"
   ]
  },
  {
   "cell_type": "code",
   "execution_count": 52,
   "metadata": {},
   "outputs": [
    {
     "data": {
      "text/plain": [
       "[55, 60.5, 100, 200, 10]"
      ]
     },
     "execution_count": 52,
     "metadata": {},
     "output_type": "execute_result"
    }
   ],
   "source": [
    "price"
   ]
  },
  {
   "cell_type": "code",
   "execution_count": 55,
   "metadata": {},
   "outputs": [],
   "source": [
    "price[0] =60"
   ]
  },
  {
   "cell_type": "code",
   "execution_count": 56,
   "metadata": {},
   "outputs": [
    {
     "data": {
      "text/plain": [
       "[60, 60.5, 100, 200, 10]"
      ]
     },
     "execution_count": 56,
     "metadata": {},
     "output_type": "execute_result"
    }
   ],
   "source": [
    "price"
   ]
  },
  {
   "cell_type": "code",
   "execution_count": 59,
   "metadata": {},
   "outputs": [],
   "source": [
    "price[-1]=price[-1]*1.1"
   ]
  },
  {
   "cell_type": "code",
   "execution_count": 60,
   "metadata": {},
   "outputs": [
    {
     "data": {
      "text/plain": [
       "[60, 60.5, 100, 200, 11.0]"
      ]
     },
     "execution_count": 60,
     "metadata": {},
     "output_type": "execute_result"
    }
   ],
   "source": [
    "price"
   ]
  },
  {
   "cell_type": "code",
   "execution_count": 61,
   "metadata": {},
   "outputs": [],
   "source": [
    "price[0]=price[0]+5"
   ]
  },
  {
   "cell_type": "code",
   "execution_count": 62,
   "metadata": {},
   "outputs": [
    {
     "data": {
      "text/plain": [
       "[65, 60.5, 100, 200, 11.0]"
      ]
     },
     "execution_count": 62,
     "metadata": {},
     "output_type": "execute_result"
    }
   ],
   "source": [
    "price"
   ]
  },
  {
   "cell_type": "code",
   "execution_count": 63,
   "metadata": {},
   "outputs": [],
   "source": [
    "# set ;  curly brackets\n",
    "itemsA = {101,102,103}\n",
    "itemsB = {103,104,105}"
   ]
  },
  {
   "cell_type": "code",
   "execution_count": 64,
   "metadata": {},
   "outputs": [
    {
     "data": {
      "text/plain": [
       "{101, 102, 103, 104, 105}"
      ]
     },
     "execution_count": 64,
     "metadata": {},
     "output_type": "execute_result"
    }
   ],
   "source": [
    "itemsA.union(itemsB)"
   ]
  },
  {
   "cell_type": "code",
   "execution_count": 65,
   "metadata": {},
   "outputs": [
    {
     "data": {
      "text/plain": [
       "{103}"
      ]
     },
     "execution_count": 65,
     "metadata": {},
     "output_type": "execute_result"
    }
   ],
   "source": [
    "itemsA.intersection(itemsB)"
   ]
  },
  {
   "cell_type": "code",
   "execution_count": 66,
   "metadata": {},
   "outputs": [
    {
     "data": {
      "text/plain": [
       "{101, 102}"
      ]
     },
     "execution_count": 66,
     "metadata": {},
     "output_type": "execute_result"
    }
   ],
   "source": [
    "itemsA.difference(itemsB)"
   ]
  },
  {
   "cell_type": "code",
   "execution_count": 67,
   "metadata": {},
   "outputs": [
    {
     "data": {
      "text/plain": [
       "{104, 105}"
      ]
     },
     "execution_count": 67,
     "metadata": {},
     "output_type": "execute_result"
    }
   ],
   "source": [
    "itemsB.difference(itemsA)"
   ]
  },
  {
   "cell_type": "code",
   "execution_count": 68,
   "metadata": {},
   "outputs": [],
   "source": [
    "itemsAB = itemsA.intersection(itemsB)"
   ]
  },
  {
   "cell_type": "code",
   "execution_count": 69,
   "metadata": {},
   "outputs": [
    {
     "data": {
      "text/plain": [
       "{103}"
      ]
     },
     "execution_count": 69,
     "metadata": {},
     "output_type": "execute_result"
    }
   ],
   "source": [
    "itemsAB"
   ]
  },
  {
   "cell_type": "code",
   "execution_count": 70,
   "metadata": {},
   "outputs": [],
   "source": [
    "# dict (dictionary) ; key:value\n",
    "students = {101:'Ahmed',102:'Yousuf'}"
   ]
  },
  {
   "cell_type": "code",
   "execution_count": 71,
   "metadata": {},
   "outputs": [
    {
     "data": {
      "text/plain": [
       "{101: 'Ahmed', 102: 'Yousuf'}"
      ]
     },
     "execution_count": 71,
     "metadata": {},
     "output_type": "execute_result"
    }
   ],
   "source": [
    "students"
   ]
  },
  {
   "cell_type": "code",
   "execution_count": 72,
   "metadata": {},
   "outputs": [
    {
     "data": {
      "text/plain": [
       "'Yousuf'"
      ]
     },
     "execution_count": 72,
     "metadata": {},
     "output_type": "execute_result"
    }
   ],
   "source": [
    "students[102]"
   ]
  },
  {
   "cell_type": "code",
   "execution_count": 73,
   "metadata": {},
   "outputs": [
    {
     "data": {
      "text/plain": [
       "dict"
      ]
     },
     "execution_count": 73,
     "metadata": {},
     "output_type": "execute_result"
    }
   ],
   "source": [
    "type(students)"
   ]
  },
  {
   "cell_type": "code",
   "execution_count": 74,
   "metadata": {},
   "outputs": [
    {
     "data": {
      "text/plain": [
       "set"
      ]
     },
     "execution_count": 74,
     "metadata": {},
     "output_type": "execute_result"
    }
   ],
   "source": [
    "type(itemsA)"
   ]
  },
  {
   "cell_type": "code",
   "execution_count": 75,
   "metadata": {},
   "outputs": [
    {
     "data": {
      "text/plain": [
       "set"
      ]
     },
     "execution_count": 75,
     "metadata": {},
     "output_type": "execute_result"
    }
   ],
   "source": [
    "type(itemsB)"
   ]
  },
  {
   "cell_type": "code",
   "execution_count": 76,
   "metadata": {},
   "outputs": [
    {
     "data": {
      "text/plain": [
       "[65, 60.5, 100, 200, 11.0]"
      ]
     },
     "execution_count": 76,
     "metadata": {},
     "output_type": "execute_result"
    }
   ],
   "source": [
    "price"
   ]
  },
  {
   "cell_type": "code",
   "execution_count": 78,
   "metadata": {},
   "outputs": [],
   "source": [
    "price.append(20)"
   ]
  },
  {
   "cell_type": "code",
   "execution_count": 79,
   "metadata": {},
   "outputs": [
    {
     "data": {
      "text/plain": [
       "[65, 60.5, 100, 200, 11.0, 20]"
      ]
     },
     "execution_count": 79,
     "metadata": {},
     "output_type": "execute_result"
    }
   ],
   "source": [
    "price"
   ]
  },
  {
   "cell_type": "code",
   "execution_count": 80,
   "metadata": {},
   "outputs": [
    {
     "data": {
      "text/plain": [
       "1"
      ]
     },
     "execution_count": 80,
     "metadata": {},
     "output_type": "execute_result"
    }
   ],
   "source": [
    "price.count(200)"
   ]
  },
  {
   "cell_type": "code",
   "execution_count": 81,
   "metadata": {},
   "outputs": [
    {
     "data": {
      "text/plain": [
       "[65, 60.5, 100, 200, 11.0, 20]"
      ]
     },
     "execution_count": 81,
     "metadata": {},
     "output_type": "execute_result"
    }
   ],
   "source": [
    "price"
   ]
  },
  {
   "cell_type": "code",
   "execution_count": 82,
   "metadata": {},
   "outputs": [],
   "source": [
    "coun_cap = {\"India\":\"Delhi\",\"Sudan\":\"Khartoum\",\"Yemen\":\"Sanah\"}"
   ]
  },
  {
   "cell_type": "code",
   "execution_count": 83,
   "metadata": {},
   "outputs": [
    {
     "data": {
      "text/plain": [
       "{'India': 'Delhi', 'Sudan': 'Khartoum', 'Yemen': 'Sanah'}"
      ]
     },
     "execution_count": 83,
     "metadata": {},
     "output_type": "execute_result"
    }
   ],
   "source": [
    "coun_cap"
   ]
  },
  {
   "cell_type": "code",
   "execution_count": 84,
   "metadata": {},
   "outputs": [],
   "source": [
    "subj_marks = {\"Arabic\":90,\"English\":66,\"Math\":80,\"Physics\":60}"
   ]
  },
  {
   "cell_type": "code",
   "execution_count": 88,
   "metadata": {},
   "outputs": [
    {
     "data": {
      "text/plain": [
       "'Sanah'"
      ]
     },
     "execution_count": 88,
     "metadata": {},
     "output_type": "execute_result"
    }
   ],
   "source": [
    "coun_cap[\"Yemen\"]"
   ]
  },
  {
   "cell_type": "code",
   "execution_count": 89,
   "metadata": {},
   "outputs": [
    {
     "data": {
      "text/plain": [
       "66"
      ]
     },
     "execution_count": 89,
     "metadata": {},
     "output_type": "execute_result"
    }
   ],
   "source": [
    "subj_marks[\"English\"]"
   ]
  },
  {
   "cell_type": "code",
   "execution_count": 90,
   "metadata": {},
   "outputs": [],
   "source": [
    "import pandas as pd\n",
    "import numpy as np\n",
    "import matplotlib.pyplot as plt\n",
    "emp = pd.read_csv('d:/datasets/employee.csv')"
   ]
  },
  {
   "cell_type": "code",
   "execution_count": 91,
   "metadata": {},
   "outputs": [
    {
     "data": {
      "text/html": [
       "<div>\n",
       "<style scoped>\n",
       "    .dataframe tbody tr th:only-of-type {\n",
       "        vertical-align: middle;\n",
       "    }\n",
       "\n",
       "    .dataframe tbody tr th {\n",
       "        vertical-align: top;\n",
       "    }\n",
       "\n",
       "    .dataframe thead th {\n",
       "        text-align: right;\n",
       "    }\n",
       "</style>\n",
       "<table border=\"1\" class=\"dataframe\">\n",
       "  <thead>\n",
       "    <tr style=\"text-align: right;\">\n",
       "      <th></th>\n",
       "      <th>Unnamed: 0</th>\n",
       "      <th>dno</th>\n",
       "      <th>employee id</th>\n",
       "      <th>fullname</th>\n",
       "      <th>position</th>\n",
       "      <th>salary</th>\n",
       "      <th>manager id</th>\n",
       "      <th>department id</th>\n",
       "    </tr>\n",
       "  </thead>\n",
       "  <tbody>\n",
       "    <tr>\n",
       "      <th>0</th>\n",
       "      <td>0</td>\n",
       "      <td>10</td>\n",
       "      <td>ind-001</td>\n",
       "      <td>Abdul Rehman</td>\n",
       "      <td>CSO</td>\n",
       "      <td>100000</td>\n",
       "      <td>NaN</td>\n",
       "      <td>1</td>\n",
       "    </tr>\n",
       "    <tr>\n",
       "      <th>1</th>\n",
       "      <td>1</td>\n",
       "      <td>20</td>\n",
       "      <td>ind-002</td>\n",
       "      <td>M. Yousuf</td>\n",
       "      <td>CTO</td>\n",
       "      <td>90000</td>\n",
       "      <td>ind-001</td>\n",
       "      <td>1</td>\n",
       "    </tr>\n",
       "    <tr>\n",
       "      <th>2</th>\n",
       "      <td>2</td>\n",
       "      <td>30</td>\n",
       "      <td>ind-003</td>\n",
       "      <td>Joseph D'Souza</td>\n",
       "      <td>CVO</td>\n",
       "      <td>84000</td>\n",
       "      <td>ind-001</td>\n",
       "      <td>1</td>\n",
       "    </tr>\n",
       "    <tr>\n",
       "      <th>3</th>\n",
       "      <td>3</td>\n",
       "      <td>40</td>\n",
       "      <td>ind-004</td>\n",
       "      <td>Mahesh Kalmadi</td>\n",
       "      <td>CWO</td>\n",
       "      <td>70000</td>\n",
       "      <td>ind-002</td>\n",
       "      <td>2</td>\n",
       "    </tr>\n",
       "    <tr>\n",
       "      <th>4</th>\n",
       "      <td>4</td>\n",
       "      <td>50</td>\n",
       "      <td>us-001</td>\n",
       "      <td>Jogender Singh</td>\n",
       "      <td>STO</td>\n",
       "      <td>56000</td>\n",
       "      <td>ind-002</td>\n",
       "      <td>2</td>\n",
       "    </tr>\n",
       "    <tr>\n",
       "      <th>5</th>\n",
       "      <td>5</td>\n",
       "      <td>60</td>\n",
       "      <td>us-002</td>\n",
       "      <td>Syed Mannan</td>\n",
       "      <td>SPO</td>\n",
       "      <td>56000</td>\n",
       "      <td>ind-003</td>\n",
       "      <td>3</td>\n",
       "    </tr>\n",
       "    <tr>\n",
       "      <th>6</th>\n",
       "      <td>6</td>\n",
       "      <td>70</td>\n",
       "      <td>dub-001</td>\n",
       "      <td>John</td>\n",
       "      <td>CTO</td>\n",
       "      <td>50000</td>\n",
       "      <td>ind-002</td>\n",
       "      <td>0</td>\n",
       "    </tr>\n",
       "  </tbody>\n",
       "</table>\n",
       "</div>"
      ],
      "text/plain": [
       "   Unnamed: 0  dno employee id        fullname position  salary manager id  \\\n",
       "0           0   10     ind-001    Abdul Rehman      CSO  100000        NaN   \n",
       "1           1   20     ind-002       M. Yousuf      CTO   90000    ind-001   \n",
       "2           2   30     ind-003  Joseph D'Souza      CVO   84000    ind-001   \n",
       "3           3   40     ind-004  Mahesh Kalmadi      CWO   70000    ind-002   \n",
       "4           4   50      us-001  Jogender Singh      STO   56000    ind-002   \n",
       "5           5   60      us-002     Syed Mannan      SPO   56000    ind-003   \n",
       "6           6   70     dub-001            John      CTO   50000    ind-002   \n",
       "\n",
       "   department id  \n",
       "0              1  \n",
       "1              1  \n",
       "2              1  \n",
       "3              2  \n",
       "4              2  \n",
       "5              3  \n",
       "6              0  "
      ]
     },
     "execution_count": 91,
     "metadata": {},
     "output_type": "execute_result"
    }
   ],
   "source": [
    "emp"
   ]
  },
  {
   "cell_type": "code",
   "execution_count": 92,
   "metadata": {},
   "outputs": [
    {
     "data": {
      "text/html": [
       "<div>\n",
       "<style scoped>\n",
       "    .dataframe tbody tr th:only-of-type {\n",
       "        vertical-align: middle;\n",
       "    }\n",
       "\n",
       "    .dataframe tbody tr th {\n",
       "        vertical-align: top;\n",
       "    }\n",
       "\n",
       "    .dataframe thead th {\n",
       "        text-align: right;\n",
       "    }\n",
       "</style>\n",
       "<table border=\"1\" class=\"dataframe\">\n",
       "  <thead>\n",
       "    <tr style=\"text-align: right;\">\n",
       "      <th></th>\n",
       "      <th>Unnamed: 0</th>\n",
       "      <th>dno</th>\n",
       "      <th>employee id</th>\n",
       "      <th>fullname</th>\n",
       "      <th>position</th>\n",
       "      <th>salary</th>\n",
       "      <th>manager id</th>\n",
       "      <th>department id</th>\n",
       "    </tr>\n",
       "  </thead>\n",
       "  <tbody>\n",
       "    <tr>\n",
       "      <th>0</th>\n",
       "      <td>0</td>\n",
       "      <td>10</td>\n",
       "      <td>ind-001</td>\n",
       "      <td>Abdul Rehman</td>\n",
       "      <td>CSO</td>\n",
       "      <td>100000</td>\n",
       "      <td>NaN</td>\n",
       "      <td>1</td>\n",
       "    </tr>\n",
       "    <tr>\n",
       "      <th>1</th>\n",
       "      <td>1</td>\n",
       "      <td>20</td>\n",
       "      <td>ind-002</td>\n",
       "      <td>M. Yousuf</td>\n",
       "      <td>CTO</td>\n",
       "      <td>90000</td>\n",
       "      <td>ind-001</td>\n",
       "      <td>1</td>\n",
       "    </tr>\n",
       "    <tr>\n",
       "      <th>2</th>\n",
       "      <td>2</td>\n",
       "      <td>30</td>\n",
       "      <td>ind-003</td>\n",
       "      <td>Joseph D'Souza</td>\n",
       "      <td>CVO</td>\n",
       "      <td>84000</td>\n",
       "      <td>ind-001</td>\n",
       "      <td>1</td>\n",
       "    </tr>\n",
       "    <tr>\n",
       "      <th>3</th>\n",
       "      <td>3</td>\n",
       "      <td>40</td>\n",
       "      <td>ind-004</td>\n",
       "      <td>Mahesh Kalmadi</td>\n",
       "      <td>CWO</td>\n",
       "      <td>70000</td>\n",
       "      <td>ind-002</td>\n",
       "      <td>2</td>\n",
       "    </tr>\n",
       "    <tr>\n",
       "      <th>4</th>\n",
       "      <td>4</td>\n",
       "      <td>50</td>\n",
       "      <td>us-001</td>\n",
       "      <td>Jogender Singh</td>\n",
       "      <td>STO</td>\n",
       "      <td>56000</td>\n",
       "      <td>ind-002</td>\n",
       "      <td>2</td>\n",
       "    </tr>\n",
       "  </tbody>\n",
       "</table>\n",
       "</div>"
      ],
      "text/plain": [
       "   Unnamed: 0  dno employee id        fullname position  salary manager id  \\\n",
       "0           0   10     ind-001    Abdul Rehman      CSO  100000        NaN   \n",
       "1           1   20     ind-002       M. Yousuf      CTO   90000    ind-001   \n",
       "2           2   30     ind-003  Joseph D'Souza      CVO   84000    ind-001   \n",
       "3           3   40     ind-004  Mahesh Kalmadi      CWO   70000    ind-002   \n",
       "4           4   50      us-001  Jogender Singh      STO   56000    ind-002   \n",
       "\n",
       "   department id  \n",
       "0              1  \n",
       "1              1  \n",
       "2              1  \n",
       "3              2  \n",
       "4              2  "
      ]
     },
     "execution_count": 92,
     "metadata": {},
     "output_type": "execute_result"
    }
   ],
   "source": [
    "emp.head()"
   ]
  },
  {
   "cell_type": "code",
   "execution_count": 93,
   "metadata": {},
   "outputs": [],
   "source": [
    "emp.iloc[2,3] = np.nan"
   ]
  },
  {
   "cell_type": "code",
   "execution_count": 94,
   "metadata": {},
   "outputs": [
    {
     "data": {
      "text/html": [
       "<div>\n",
       "<style scoped>\n",
       "    .dataframe tbody tr th:only-of-type {\n",
       "        vertical-align: middle;\n",
       "    }\n",
       "\n",
       "    .dataframe tbody tr th {\n",
       "        vertical-align: top;\n",
       "    }\n",
       "\n",
       "    .dataframe thead th {\n",
       "        text-align: right;\n",
       "    }\n",
       "</style>\n",
       "<table border=\"1\" class=\"dataframe\">\n",
       "  <thead>\n",
       "    <tr style=\"text-align: right;\">\n",
       "      <th></th>\n",
       "      <th>Unnamed: 0</th>\n",
       "      <th>dno</th>\n",
       "      <th>employee id</th>\n",
       "      <th>fullname</th>\n",
       "      <th>position</th>\n",
       "      <th>salary</th>\n",
       "      <th>manager id</th>\n",
       "      <th>department id</th>\n",
       "    </tr>\n",
       "  </thead>\n",
       "  <tbody>\n",
       "    <tr>\n",
       "      <th>0</th>\n",
       "      <td>0</td>\n",
       "      <td>10</td>\n",
       "      <td>ind-001</td>\n",
       "      <td>Abdul Rehman</td>\n",
       "      <td>CSO</td>\n",
       "      <td>100000</td>\n",
       "      <td>NaN</td>\n",
       "      <td>1</td>\n",
       "    </tr>\n",
       "    <tr>\n",
       "      <th>1</th>\n",
       "      <td>1</td>\n",
       "      <td>20</td>\n",
       "      <td>ind-002</td>\n",
       "      <td>M. Yousuf</td>\n",
       "      <td>CTO</td>\n",
       "      <td>90000</td>\n",
       "      <td>ind-001</td>\n",
       "      <td>1</td>\n",
       "    </tr>\n",
       "    <tr>\n",
       "      <th>2</th>\n",
       "      <td>2</td>\n",
       "      <td>30</td>\n",
       "      <td>ind-003</td>\n",
       "      <td>NaN</td>\n",
       "      <td>CVO</td>\n",
       "      <td>84000</td>\n",
       "      <td>ind-001</td>\n",
       "      <td>1</td>\n",
       "    </tr>\n",
       "    <tr>\n",
       "      <th>3</th>\n",
       "      <td>3</td>\n",
       "      <td>40</td>\n",
       "      <td>ind-004</td>\n",
       "      <td>Mahesh Kalmadi</td>\n",
       "      <td>CWO</td>\n",
       "      <td>70000</td>\n",
       "      <td>ind-002</td>\n",
       "      <td>2</td>\n",
       "    </tr>\n",
       "    <tr>\n",
       "      <th>4</th>\n",
       "      <td>4</td>\n",
       "      <td>50</td>\n",
       "      <td>us-001</td>\n",
       "      <td>Jogender Singh</td>\n",
       "      <td>STO</td>\n",
       "      <td>56000</td>\n",
       "      <td>ind-002</td>\n",
       "      <td>2</td>\n",
       "    </tr>\n",
       "    <tr>\n",
       "      <th>5</th>\n",
       "      <td>5</td>\n",
       "      <td>60</td>\n",
       "      <td>us-002</td>\n",
       "      <td>Syed Mannan</td>\n",
       "      <td>SPO</td>\n",
       "      <td>56000</td>\n",
       "      <td>ind-003</td>\n",
       "      <td>3</td>\n",
       "    </tr>\n",
       "    <tr>\n",
       "      <th>6</th>\n",
       "      <td>6</td>\n",
       "      <td>70</td>\n",
       "      <td>dub-001</td>\n",
       "      <td>John</td>\n",
       "      <td>CTO</td>\n",
       "      <td>50000</td>\n",
       "      <td>ind-002</td>\n",
       "      <td>0</td>\n",
       "    </tr>\n",
       "  </tbody>\n",
       "</table>\n",
       "</div>"
      ],
      "text/plain": [
       "   Unnamed: 0  dno employee id        fullname position  salary manager id  \\\n",
       "0           0   10     ind-001    Abdul Rehman      CSO  100000        NaN   \n",
       "1           1   20     ind-002       M. Yousuf      CTO   90000    ind-001   \n",
       "2           2   30     ind-003             NaN      CVO   84000    ind-001   \n",
       "3           3   40     ind-004  Mahesh Kalmadi      CWO   70000    ind-002   \n",
       "4           4   50      us-001  Jogender Singh      STO   56000    ind-002   \n",
       "5           5   60      us-002     Syed Mannan      SPO   56000    ind-003   \n",
       "6           6   70     dub-001            John      CTO   50000    ind-002   \n",
       "\n",
       "   department id  \n",
       "0              1  \n",
       "1              1  \n",
       "2              1  \n",
       "3              2  \n",
       "4              2  \n",
       "5              3  \n",
       "6              0  "
      ]
     },
     "execution_count": 94,
     "metadata": {},
     "output_type": "execute_result"
    }
   ],
   "source": [
    "emp"
   ]
  },
  {
   "cell_type": "code",
   "execution_count": 95,
   "metadata": {},
   "outputs": [],
   "source": [
    "emp.iloc[2,5] = np.nan"
   ]
  },
  {
   "cell_type": "code",
   "execution_count": 96,
   "metadata": {},
   "outputs": [
    {
     "data": {
      "text/html": [
       "<div>\n",
       "<style scoped>\n",
       "    .dataframe tbody tr th:only-of-type {\n",
       "        vertical-align: middle;\n",
       "    }\n",
       "\n",
       "    .dataframe tbody tr th {\n",
       "        vertical-align: top;\n",
       "    }\n",
       "\n",
       "    .dataframe thead th {\n",
       "        text-align: right;\n",
       "    }\n",
       "</style>\n",
       "<table border=\"1\" class=\"dataframe\">\n",
       "  <thead>\n",
       "    <tr style=\"text-align: right;\">\n",
       "      <th></th>\n",
       "      <th>Unnamed: 0</th>\n",
       "      <th>dno</th>\n",
       "      <th>employee id</th>\n",
       "      <th>fullname</th>\n",
       "      <th>position</th>\n",
       "      <th>salary</th>\n",
       "      <th>manager id</th>\n",
       "      <th>department id</th>\n",
       "    </tr>\n",
       "  </thead>\n",
       "  <tbody>\n",
       "    <tr>\n",
       "      <th>0</th>\n",
       "      <td>0</td>\n",
       "      <td>10</td>\n",
       "      <td>ind-001</td>\n",
       "      <td>Abdul Rehman</td>\n",
       "      <td>CSO</td>\n",
       "      <td>100000.0</td>\n",
       "      <td>NaN</td>\n",
       "      <td>1</td>\n",
       "    </tr>\n",
       "    <tr>\n",
       "      <th>1</th>\n",
       "      <td>1</td>\n",
       "      <td>20</td>\n",
       "      <td>ind-002</td>\n",
       "      <td>M. Yousuf</td>\n",
       "      <td>CTO</td>\n",
       "      <td>90000.0</td>\n",
       "      <td>ind-001</td>\n",
       "      <td>1</td>\n",
       "    </tr>\n",
       "    <tr>\n",
       "      <th>2</th>\n",
       "      <td>2</td>\n",
       "      <td>30</td>\n",
       "      <td>ind-003</td>\n",
       "      <td>NaN</td>\n",
       "      <td>CVO</td>\n",
       "      <td>NaN</td>\n",
       "      <td>ind-001</td>\n",
       "      <td>1</td>\n",
       "    </tr>\n",
       "    <tr>\n",
       "      <th>3</th>\n",
       "      <td>3</td>\n",
       "      <td>40</td>\n",
       "      <td>ind-004</td>\n",
       "      <td>Mahesh Kalmadi</td>\n",
       "      <td>CWO</td>\n",
       "      <td>70000.0</td>\n",
       "      <td>ind-002</td>\n",
       "      <td>2</td>\n",
       "    </tr>\n",
       "    <tr>\n",
       "      <th>4</th>\n",
       "      <td>4</td>\n",
       "      <td>50</td>\n",
       "      <td>us-001</td>\n",
       "      <td>Jogender Singh</td>\n",
       "      <td>STO</td>\n",
       "      <td>56000.0</td>\n",
       "      <td>ind-002</td>\n",
       "      <td>2</td>\n",
       "    </tr>\n",
       "    <tr>\n",
       "      <th>5</th>\n",
       "      <td>5</td>\n",
       "      <td>60</td>\n",
       "      <td>us-002</td>\n",
       "      <td>Syed Mannan</td>\n",
       "      <td>SPO</td>\n",
       "      <td>56000.0</td>\n",
       "      <td>ind-003</td>\n",
       "      <td>3</td>\n",
       "    </tr>\n",
       "    <tr>\n",
       "      <th>6</th>\n",
       "      <td>6</td>\n",
       "      <td>70</td>\n",
       "      <td>dub-001</td>\n",
       "      <td>John</td>\n",
       "      <td>CTO</td>\n",
       "      <td>50000.0</td>\n",
       "      <td>ind-002</td>\n",
       "      <td>0</td>\n",
       "    </tr>\n",
       "  </tbody>\n",
       "</table>\n",
       "</div>"
      ],
      "text/plain": [
       "   Unnamed: 0  dno employee id        fullname position    salary manager id  \\\n",
       "0           0   10     ind-001    Abdul Rehman      CSO  100000.0        NaN   \n",
       "1           1   20     ind-002       M. Yousuf      CTO   90000.0    ind-001   \n",
       "2           2   30     ind-003             NaN      CVO       NaN    ind-001   \n",
       "3           3   40     ind-004  Mahesh Kalmadi      CWO   70000.0    ind-002   \n",
       "4           4   50      us-001  Jogender Singh      STO   56000.0    ind-002   \n",
       "5           5   60      us-002     Syed Mannan      SPO   56000.0    ind-003   \n",
       "6           6   70     dub-001            John      CTO   50000.0    ind-002   \n",
       "\n",
       "   department id  \n",
       "0              1  \n",
       "1              1  \n",
       "2              1  \n",
       "3              2  \n",
       "4              2  \n",
       "5              3  \n",
       "6              0  "
      ]
     },
     "execution_count": 96,
     "metadata": {},
     "output_type": "execute_result"
    }
   ],
   "source": [
    "emp"
   ]
  },
  {
   "cell_type": "code",
   "execution_count": 97,
   "metadata": {},
   "outputs": [],
   "source": [
    "avgsal = emp['salary'].mean()"
   ]
  },
  {
   "cell_type": "code",
   "execution_count": 98,
   "metadata": {},
   "outputs": [
    {
     "data": {
      "text/plain": [
       "70333.33333333333"
      ]
     },
     "execution_count": 98,
     "metadata": {},
     "output_type": "execute_result"
    }
   ],
   "source": [
    "avgsal"
   ]
  },
  {
   "cell_type": "code",
   "execution_count": 99,
   "metadata": {},
   "outputs": [],
   "source": [
    "emp['salary'].replace(np.nan,avgsal,inplace=True)"
   ]
  },
  {
   "cell_type": "code",
   "execution_count": 100,
   "metadata": {},
   "outputs": [
    {
     "data": {
      "text/html": [
       "<div>\n",
       "<style scoped>\n",
       "    .dataframe tbody tr th:only-of-type {\n",
       "        vertical-align: middle;\n",
       "    }\n",
       "\n",
       "    .dataframe tbody tr th {\n",
       "        vertical-align: top;\n",
       "    }\n",
       "\n",
       "    .dataframe thead th {\n",
       "        text-align: right;\n",
       "    }\n",
       "</style>\n",
       "<table border=\"1\" class=\"dataframe\">\n",
       "  <thead>\n",
       "    <tr style=\"text-align: right;\">\n",
       "      <th></th>\n",
       "      <th>Unnamed: 0</th>\n",
       "      <th>dno</th>\n",
       "      <th>employee id</th>\n",
       "      <th>fullname</th>\n",
       "      <th>position</th>\n",
       "      <th>salary</th>\n",
       "      <th>manager id</th>\n",
       "      <th>department id</th>\n",
       "    </tr>\n",
       "  </thead>\n",
       "  <tbody>\n",
       "    <tr>\n",
       "      <th>0</th>\n",
       "      <td>0</td>\n",
       "      <td>10</td>\n",
       "      <td>ind-001</td>\n",
       "      <td>Abdul Rehman</td>\n",
       "      <td>CSO</td>\n",
       "      <td>100000.000000</td>\n",
       "      <td>NaN</td>\n",
       "      <td>1</td>\n",
       "    </tr>\n",
       "    <tr>\n",
       "      <th>1</th>\n",
       "      <td>1</td>\n",
       "      <td>20</td>\n",
       "      <td>ind-002</td>\n",
       "      <td>M. Yousuf</td>\n",
       "      <td>CTO</td>\n",
       "      <td>90000.000000</td>\n",
       "      <td>ind-001</td>\n",
       "      <td>1</td>\n",
       "    </tr>\n",
       "    <tr>\n",
       "      <th>2</th>\n",
       "      <td>2</td>\n",
       "      <td>30</td>\n",
       "      <td>ind-003</td>\n",
       "      <td>NaN</td>\n",
       "      <td>CVO</td>\n",
       "      <td>70333.333333</td>\n",
       "      <td>ind-001</td>\n",
       "      <td>1</td>\n",
       "    </tr>\n",
       "    <tr>\n",
       "      <th>3</th>\n",
       "      <td>3</td>\n",
       "      <td>40</td>\n",
       "      <td>ind-004</td>\n",
       "      <td>Mahesh Kalmadi</td>\n",
       "      <td>CWO</td>\n",
       "      <td>70000.000000</td>\n",
       "      <td>ind-002</td>\n",
       "      <td>2</td>\n",
       "    </tr>\n",
       "    <tr>\n",
       "      <th>4</th>\n",
       "      <td>4</td>\n",
       "      <td>50</td>\n",
       "      <td>us-001</td>\n",
       "      <td>Jogender Singh</td>\n",
       "      <td>STO</td>\n",
       "      <td>56000.000000</td>\n",
       "      <td>ind-002</td>\n",
       "      <td>2</td>\n",
       "    </tr>\n",
       "    <tr>\n",
       "      <th>5</th>\n",
       "      <td>5</td>\n",
       "      <td>60</td>\n",
       "      <td>us-002</td>\n",
       "      <td>Syed Mannan</td>\n",
       "      <td>SPO</td>\n",
       "      <td>56000.000000</td>\n",
       "      <td>ind-003</td>\n",
       "      <td>3</td>\n",
       "    </tr>\n",
       "    <tr>\n",
       "      <th>6</th>\n",
       "      <td>6</td>\n",
       "      <td>70</td>\n",
       "      <td>dub-001</td>\n",
       "      <td>John</td>\n",
       "      <td>CTO</td>\n",
       "      <td>50000.000000</td>\n",
       "      <td>ind-002</td>\n",
       "      <td>0</td>\n",
       "    </tr>\n",
       "  </tbody>\n",
       "</table>\n",
       "</div>"
      ],
      "text/plain": [
       "   Unnamed: 0  dno employee id        fullname position         salary  \\\n",
       "0           0   10     ind-001    Abdul Rehman      CSO  100000.000000   \n",
       "1           1   20     ind-002       M. Yousuf      CTO   90000.000000   \n",
       "2           2   30     ind-003             NaN      CVO   70333.333333   \n",
       "3           3   40     ind-004  Mahesh Kalmadi      CWO   70000.000000   \n",
       "4           4   50      us-001  Jogender Singh      STO   56000.000000   \n",
       "5           5   60      us-002     Syed Mannan      SPO   56000.000000   \n",
       "6           6   70     dub-001            John      CTO   50000.000000   \n",
       "\n",
       "  manager id  department id  \n",
       "0        NaN              1  \n",
       "1    ind-001              1  \n",
       "2    ind-001              1  \n",
       "3    ind-002              2  \n",
       "4    ind-002              2  \n",
       "5    ind-003              3  \n",
       "6    ind-002              0  "
      ]
     },
     "execution_count": 100,
     "metadata": {},
     "output_type": "execute_result"
    }
   ],
   "source": [
    "emp"
   ]
  },
  {
   "cell_type": "code",
   "execution_count": 102,
   "metadata": {},
   "outputs": [
    {
     "data": {
      "text/plain": [
       "0          IT\n",
       "1       Sales\n",
       "2    Accounts\n",
       "3          40\n",
       "4          50\n",
       "5          60\n",
       "6          70\n",
       "Name: dno, dtype: object"
      ]
     },
     "execution_count": 102,
     "metadata": {},
     "output_type": "execute_result"
    }
   ],
   "source": [
    "emp['dno'].replace({10:'IT',20:'Sales',30:'Accounts'})"
   ]
  },
  {
   "cell_type": "code",
   "execution_count": 103,
   "metadata": {},
   "outputs": [
    {
     "data": {
      "text/html": [
       "<div>\n",
       "<style scoped>\n",
       "    .dataframe tbody tr th:only-of-type {\n",
       "        vertical-align: middle;\n",
       "    }\n",
       "\n",
       "    .dataframe tbody tr th {\n",
       "        vertical-align: top;\n",
       "    }\n",
       "\n",
       "    .dataframe thead th {\n",
       "        text-align: right;\n",
       "    }\n",
       "</style>\n",
       "<table border=\"1\" class=\"dataframe\">\n",
       "  <thead>\n",
       "    <tr style=\"text-align: right;\">\n",
       "      <th></th>\n",
       "      <th>Unnamed: 0</th>\n",
       "      <th>dno</th>\n",
       "      <th>employee id</th>\n",
       "      <th>fullname</th>\n",
       "      <th>position</th>\n",
       "      <th>salary</th>\n",
       "      <th>manager id</th>\n",
       "      <th>department id</th>\n",
       "    </tr>\n",
       "  </thead>\n",
       "  <tbody>\n",
       "    <tr>\n",
       "      <th>0</th>\n",
       "      <td>0</td>\n",
       "      <td>10</td>\n",
       "      <td>ind-001</td>\n",
       "      <td>Abdul Rehman</td>\n",
       "      <td>CSO</td>\n",
       "      <td>100000.000000</td>\n",
       "      <td>NaN</td>\n",
       "      <td>1</td>\n",
       "    </tr>\n",
       "    <tr>\n",
       "      <th>1</th>\n",
       "      <td>1</td>\n",
       "      <td>20</td>\n",
       "      <td>ind-002</td>\n",
       "      <td>M. Yousuf</td>\n",
       "      <td>CTO</td>\n",
       "      <td>90000.000000</td>\n",
       "      <td>ind-001</td>\n",
       "      <td>1</td>\n",
       "    </tr>\n",
       "    <tr>\n",
       "      <th>2</th>\n",
       "      <td>2</td>\n",
       "      <td>30</td>\n",
       "      <td>ind-003</td>\n",
       "      <td>NaN</td>\n",
       "      <td>CVO</td>\n",
       "      <td>70333.333333</td>\n",
       "      <td>ind-001</td>\n",
       "      <td>1</td>\n",
       "    </tr>\n",
       "    <tr>\n",
       "      <th>3</th>\n",
       "      <td>3</td>\n",
       "      <td>40</td>\n",
       "      <td>ind-004</td>\n",
       "      <td>Mahesh Kalmadi</td>\n",
       "      <td>CWO</td>\n",
       "      <td>70000.000000</td>\n",
       "      <td>ind-002</td>\n",
       "      <td>2</td>\n",
       "    </tr>\n",
       "    <tr>\n",
       "      <th>4</th>\n",
       "      <td>4</td>\n",
       "      <td>50</td>\n",
       "      <td>us-001</td>\n",
       "      <td>Jogender Singh</td>\n",
       "      <td>STO</td>\n",
       "      <td>56000.000000</td>\n",
       "      <td>ind-002</td>\n",
       "      <td>2</td>\n",
       "    </tr>\n",
       "    <tr>\n",
       "      <th>5</th>\n",
       "      <td>5</td>\n",
       "      <td>60</td>\n",
       "      <td>us-002</td>\n",
       "      <td>Syed Mannan</td>\n",
       "      <td>SPO</td>\n",
       "      <td>56000.000000</td>\n",
       "      <td>ind-003</td>\n",
       "      <td>3</td>\n",
       "    </tr>\n",
       "    <tr>\n",
       "      <th>6</th>\n",
       "      <td>6</td>\n",
       "      <td>70</td>\n",
       "      <td>dub-001</td>\n",
       "      <td>John</td>\n",
       "      <td>CTO</td>\n",
       "      <td>50000.000000</td>\n",
       "      <td>ind-002</td>\n",
       "      <td>0</td>\n",
       "    </tr>\n",
       "  </tbody>\n",
       "</table>\n",
       "</div>"
      ],
      "text/plain": [
       "   Unnamed: 0  dno employee id        fullname position         salary  \\\n",
       "0           0   10     ind-001    Abdul Rehman      CSO  100000.000000   \n",
       "1           1   20     ind-002       M. Yousuf      CTO   90000.000000   \n",
       "2           2   30     ind-003             NaN      CVO   70333.333333   \n",
       "3           3   40     ind-004  Mahesh Kalmadi      CWO   70000.000000   \n",
       "4           4   50      us-001  Jogender Singh      STO   56000.000000   \n",
       "5           5   60      us-002     Syed Mannan      SPO   56000.000000   \n",
       "6           6   70     dub-001            John      CTO   50000.000000   \n",
       "\n",
       "  manager id  department id  \n",
       "0        NaN              1  \n",
       "1    ind-001              1  \n",
       "2    ind-001              1  \n",
       "3    ind-002              2  \n",
       "4    ind-002              2  \n",
       "5    ind-003              3  \n",
       "6    ind-002              0  "
      ]
     },
     "execution_count": 103,
     "metadata": {},
     "output_type": "execute_result"
    }
   ],
   "source": [
    "emp"
   ]
  },
  {
   "cell_type": "code",
   "execution_count": 104,
   "metadata": {},
   "outputs": [
    {
     "name": "stdout",
     "output_type": "stream",
     "text": [
      "100000.0\n",
      "90000.0\n",
      "70333.33333333333\n",
      "70000.0\n",
      "56000.0\n",
      "56000.0\n",
      "50000.0\n"
     ]
    }
   ],
   "source": [
    "for i,r in emp.iterrows():\n",
    "    print (r.salary)"
   ]
  },
  {
   "cell_type": "code",
   "execution_count": 105,
   "metadata": {},
   "outputs": [
    {
     "name": "stdout",
     "output_type": "stream",
     "text": [
      "65388.88888888888\n"
     ]
    }
   ],
   "source": [
    "avgsal=0\n",
    "sumsal=0\n",
    "cnt=0\n",
    "for i,r in emp.iterrows():\n",
    "    if not (r.salary >= 100000):\n",
    "        sumsal = sumsal + r.salary\n",
    "        cnt+=1\n",
    "print (sumsal/cnt)\n",
    "#print (cnt)"
   ]
  },
  {
   "cell_type": "code",
   "execution_count": 106,
   "metadata": {},
   "outputs": [
    {
     "data": {
      "text/plain": [
       "492333.3333333333"
      ]
     },
     "execution_count": 106,
     "metadata": {},
     "output_type": "execute_result"
    }
   ],
   "source": [
    "emp['salary'].sum()"
   ]
  },
  {
   "cell_type": "code",
   "execution_count": 107,
   "metadata": {},
   "outputs": [
    {
     "data": {
      "text/html": [
       "<div>\n",
       "<style scoped>\n",
       "    .dataframe tbody tr th:only-of-type {\n",
       "        vertical-align: middle;\n",
       "    }\n",
       "\n",
       "    .dataframe tbody tr th {\n",
       "        vertical-align: top;\n",
       "    }\n",
       "\n",
       "    .dataframe thead th {\n",
       "        text-align: right;\n",
       "    }\n",
       "</style>\n",
       "<table border=\"1\" class=\"dataframe\">\n",
       "  <thead>\n",
       "    <tr style=\"text-align: right;\">\n",
       "      <th></th>\n",
       "      <th>Unnamed: 0</th>\n",
       "      <th>dno</th>\n",
       "      <th>employee id</th>\n",
       "      <th>fullname</th>\n",
       "      <th>position</th>\n",
       "      <th>salary</th>\n",
       "      <th>manager id</th>\n",
       "      <th>department id</th>\n",
       "    </tr>\n",
       "  </thead>\n",
       "  <tbody>\n",
       "    <tr>\n",
       "      <th>0</th>\n",
       "      <td>0</td>\n",
       "      <td>10</td>\n",
       "      <td>ind-001</td>\n",
       "      <td>Abdul Rehman</td>\n",
       "      <td>CSO</td>\n",
       "      <td>100000.000000</td>\n",
       "      <td>NaN</td>\n",
       "      <td>1</td>\n",
       "    </tr>\n",
       "    <tr>\n",
       "      <th>1</th>\n",
       "      <td>1</td>\n",
       "      <td>20</td>\n",
       "      <td>ind-002</td>\n",
       "      <td>M. Yousuf</td>\n",
       "      <td>CTO</td>\n",
       "      <td>90000.000000</td>\n",
       "      <td>ind-001</td>\n",
       "      <td>1</td>\n",
       "    </tr>\n",
       "    <tr>\n",
       "      <th>2</th>\n",
       "      <td>2</td>\n",
       "      <td>30</td>\n",
       "      <td>ind-003</td>\n",
       "      <td>NaN</td>\n",
       "      <td>CVO</td>\n",
       "      <td>70333.333333</td>\n",
       "      <td>ind-001</td>\n",
       "      <td>1</td>\n",
       "    </tr>\n",
       "    <tr>\n",
       "      <th>3</th>\n",
       "      <td>3</td>\n",
       "      <td>40</td>\n",
       "      <td>ind-004</td>\n",
       "      <td>Mahesh Kalmadi</td>\n",
       "      <td>CWO</td>\n",
       "      <td>70000.000000</td>\n",
       "      <td>ind-002</td>\n",
       "      <td>2</td>\n",
       "    </tr>\n",
       "    <tr>\n",
       "      <th>4</th>\n",
       "      <td>4</td>\n",
       "      <td>50</td>\n",
       "      <td>us-001</td>\n",
       "      <td>Jogender Singh</td>\n",
       "      <td>STO</td>\n",
       "      <td>56000.000000</td>\n",
       "      <td>ind-002</td>\n",
       "      <td>2</td>\n",
       "    </tr>\n",
       "    <tr>\n",
       "      <th>5</th>\n",
       "      <td>5</td>\n",
       "      <td>60</td>\n",
       "      <td>us-002</td>\n",
       "      <td>Syed Mannan</td>\n",
       "      <td>SPO</td>\n",
       "      <td>56000.000000</td>\n",
       "      <td>ind-003</td>\n",
       "      <td>3</td>\n",
       "    </tr>\n",
       "    <tr>\n",
       "      <th>6</th>\n",
       "      <td>6</td>\n",
       "      <td>70</td>\n",
       "      <td>dub-001</td>\n",
       "      <td>John</td>\n",
       "      <td>CTO</td>\n",
       "      <td>50000.000000</td>\n",
       "      <td>ind-002</td>\n",
       "      <td>0</td>\n",
       "    </tr>\n",
       "  </tbody>\n",
       "</table>\n",
       "</div>"
      ],
      "text/plain": [
       "   Unnamed: 0  dno employee id        fullname position         salary  \\\n",
       "0           0   10     ind-001    Abdul Rehman      CSO  100000.000000   \n",
       "1           1   20     ind-002       M. Yousuf      CTO   90000.000000   \n",
       "2           2   30     ind-003             NaN      CVO   70333.333333   \n",
       "3           3   40     ind-004  Mahesh Kalmadi      CWO   70000.000000   \n",
       "4           4   50      us-001  Jogender Singh      STO   56000.000000   \n",
       "5           5   60      us-002     Syed Mannan      SPO   56000.000000   \n",
       "6           6   70     dub-001            John      CTO   50000.000000   \n",
       "\n",
       "  manager id  department id  \n",
       "0        NaN              1  \n",
       "1    ind-001              1  \n",
       "2    ind-001              1  \n",
       "3    ind-002              2  \n",
       "4    ind-002              2  \n",
       "5    ind-003              3  \n",
       "6    ind-002              0  "
      ]
     },
     "execution_count": 107,
     "metadata": {},
     "output_type": "execute_result"
    }
   ],
   "source": [
    "emp"
   ]
  },
  {
   "cell_type": "code",
   "execution_count": 108,
   "metadata": {},
   "outputs": [],
   "source": [
    "def salinc(salary):\n",
    "    newsal=salary*1.1\n",
    "    return newsal"
   ]
  },
  {
   "cell_type": "code",
   "execution_count": 112,
   "metadata": {},
   "outputs": [
    {
     "data": {
      "text/plain": [
       "110000.00000000001"
      ]
     },
     "execution_count": 112,
     "metadata": {},
     "output_type": "execute_result"
    }
   ],
   "source": [
    "salinc(100000.000000)"
   ]
  },
  {
   "cell_type": "code",
   "execution_count": 113,
   "metadata": {},
   "outputs": [
    {
     "data": {
      "text/plain": [
       "0    110000.000000\n",
       "1     99000.000000\n",
       "2     77366.666667\n",
       "3     77000.000000\n",
       "4     61600.000000\n",
       "5     61600.000000\n",
       "6     55000.000000\n",
       "Name: salary, dtype: float64"
      ]
     },
     "execution_count": 113,
     "metadata": {},
     "output_type": "execute_result"
    }
   ],
   "source": [
    "emp['salary'].apply(salinc)"
   ]
  },
  {
   "cell_type": "code",
   "execution_count": 114,
   "metadata": {},
   "outputs": [
    {
     "data": {
      "text/html": [
       "<div>\n",
       "<style scoped>\n",
       "    .dataframe tbody tr th:only-of-type {\n",
       "        vertical-align: middle;\n",
       "    }\n",
       "\n",
       "    .dataframe tbody tr th {\n",
       "        vertical-align: top;\n",
       "    }\n",
       "\n",
       "    .dataframe thead th {\n",
       "        text-align: right;\n",
       "    }\n",
       "</style>\n",
       "<table border=\"1\" class=\"dataframe\">\n",
       "  <thead>\n",
       "    <tr style=\"text-align: right;\">\n",
       "      <th></th>\n",
       "      <th>Unnamed: 0</th>\n",
       "      <th>dno</th>\n",
       "      <th>employee id</th>\n",
       "      <th>fullname</th>\n",
       "      <th>position</th>\n",
       "      <th>salary</th>\n",
       "      <th>manager id</th>\n",
       "      <th>department id</th>\n",
       "    </tr>\n",
       "  </thead>\n",
       "  <tbody>\n",
       "    <tr>\n",
       "      <th>0</th>\n",
       "      <td>0</td>\n",
       "      <td>10</td>\n",
       "      <td>ind-001</td>\n",
       "      <td>Abdul Rehman</td>\n",
       "      <td>CSO</td>\n",
       "      <td>100000.000000</td>\n",
       "      <td>NaN</td>\n",
       "      <td>1</td>\n",
       "    </tr>\n",
       "    <tr>\n",
       "      <th>1</th>\n",
       "      <td>1</td>\n",
       "      <td>20</td>\n",
       "      <td>ind-002</td>\n",
       "      <td>M. Yousuf</td>\n",
       "      <td>CTO</td>\n",
       "      <td>90000.000000</td>\n",
       "      <td>ind-001</td>\n",
       "      <td>1</td>\n",
       "    </tr>\n",
       "    <tr>\n",
       "      <th>2</th>\n",
       "      <td>2</td>\n",
       "      <td>30</td>\n",
       "      <td>ind-003</td>\n",
       "      <td>NaN</td>\n",
       "      <td>CVO</td>\n",
       "      <td>70333.333333</td>\n",
       "      <td>ind-001</td>\n",
       "      <td>1</td>\n",
       "    </tr>\n",
       "    <tr>\n",
       "      <th>3</th>\n",
       "      <td>3</td>\n",
       "      <td>40</td>\n",
       "      <td>ind-004</td>\n",
       "      <td>Mahesh Kalmadi</td>\n",
       "      <td>CWO</td>\n",
       "      <td>70000.000000</td>\n",
       "      <td>ind-002</td>\n",
       "      <td>2</td>\n",
       "    </tr>\n",
       "    <tr>\n",
       "      <th>4</th>\n",
       "      <td>4</td>\n",
       "      <td>50</td>\n",
       "      <td>us-001</td>\n",
       "      <td>Jogender Singh</td>\n",
       "      <td>STO</td>\n",
       "      <td>56000.000000</td>\n",
       "      <td>ind-002</td>\n",
       "      <td>2</td>\n",
       "    </tr>\n",
       "    <tr>\n",
       "      <th>5</th>\n",
       "      <td>5</td>\n",
       "      <td>60</td>\n",
       "      <td>us-002</td>\n",
       "      <td>Syed Mannan</td>\n",
       "      <td>SPO</td>\n",
       "      <td>56000.000000</td>\n",
       "      <td>ind-003</td>\n",
       "      <td>3</td>\n",
       "    </tr>\n",
       "    <tr>\n",
       "      <th>6</th>\n",
       "      <td>6</td>\n",
       "      <td>70</td>\n",
       "      <td>dub-001</td>\n",
       "      <td>John</td>\n",
       "      <td>CTO</td>\n",
       "      <td>50000.000000</td>\n",
       "      <td>ind-002</td>\n",
       "      <td>0</td>\n",
       "    </tr>\n",
       "  </tbody>\n",
       "</table>\n",
       "</div>"
      ],
      "text/plain": [
       "   Unnamed: 0  dno employee id        fullname position         salary  \\\n",
       "0           0   10     ind-001    Abdul Rehman      CSO  100000.000000   \n",
       "1           1   20     ind-002       M. Yousuf      CTO   90000.000000   \n",
       "2           2   30     ind-003             NaN      CVO   70333.333333   \n",
       "3           3   40     ind-004  Mahesh Kalmadi      CWO   70000.000000   \n",
       "4           4   50      us-001  Jogender Singh      STO   56000.000000   \n",
       "5           5   60      us-002     Syed Mannan      SPO   56000.000000   \n",
       "6           6   70     dub-001            John      CTO   50000.000000   \n",
       "\n",
       "  manager id  department id  \n",
       "0        NaN              1  \n",
       "1    ind-001              1  \n",
       "2    ind-001              1  \n",
       "3    ind-002              2  \n",
       "4    ind-002              2  \n",
       "5    ind-003              3  \n",
       "6    ind-002              0  "
      ]
     },
     "execution_count": 114,
     "metadata": {},
     "output_type": "execute_result"
    }
   ],
   "source": [
    "emp"
   ]
  },
  {
   "cell_type": "code",
   "execution_count": 115,
   "metadata": {},
   "outputs": [
    {
     "name": "stdout",
     "output_type": "stream",
     "text": [
      "Welcome \t to datazone\n",
      "Welcome \t to datazone\n",
      "Welcome \t to datazone\n",
      "Welcome \t to datazone\n",
      "Welcome \t to datazone\n",
      "Welcome \t to datazone\n",
      "Welcome \t to datazone\n",
      "Welcome \t to datazone\n",
      "Welcome \t to datazone\n",
      "Welcome \t to datazone\n",
      "Welcome \t to datazone\n"
     ]
    }
   ],
   "source": [
    "# for loop\n",
    "for i in range(11):\n",
    "    print (\"Welcome \\t to datazone\")"
   ]
  },
  {
   "cell_type": "code",
   "execution_count": 117,
   "metadata": {},
   "outputs": [
    {
     "name": "stdout",
     "output_type": "stream",
     "text": [
      "0 \n",
      "\n",
      "1 \n",
      "\n",
      "2 \n",
      "\n",
      "3 \n",
      "\n",
      "4 \n",
      "\n",
      "5 \n",
      "\n",
      "6 \n",
      "\n",
      "7 \n",
      "\n",
      "8 \n",
      "\n",
      "9 \n",
      "\n",
      "10 \n",
      "\n"
     ]
    }
   ],
   "source": [
    "for i in range(11):\n",
    "    print(i,\"\\n\")"
   ]
  },
  {
   "cell_type": "code",
   "execution_count": 118,
   "metadata": {},
   "outputs": [
    {
     "name": "stdout",
     "output_type": "stream",
     "text": [
      "1 \t\n",
      "2 \t\n",
      "3 \t\n",
      "4 \t\n",
      "5 \t\n",
      "6 \t\n",
      "7 \t\n",
      "8 \t\n",
      "9 \t\n",
      "10 \t\n"
     ]
    }
   ],
   "source": [
    "for i in range(1,11):\n",
    "    print (i,\"\\t\")"
   ]
  },
  {
   "cell_type": "code",
   "execution_count": 121,
   "metadata": {},
   "outputs": [
    {
     "name": "stdout",
     "output_type": "stream",
     "text": [
      "1\n",
      "3\n",
      "5\n",
      "7\n",
      "9\n",
      "11\n"
     ]
    }
   ],
   "source": [
    "# printing odd numbers\n",
    "for j in range(1,12,2):\n",
    "    print (j)"
   ]
  },
  {
   "cell_type": "code",
   "execution_count": 122,
   "metadata": {},
   "outputs": [
    {
     "name": "stdout",
     "output_type": "stream",
     "text": [
      "0\n",
      "2\n",
      "4\n",
      "6\n",
      "8\n",
      "10\n"
     ]
    }
   ],
   "source": [
    "# print even numbers\n",
    "for k in range(0,11,2):\n",
    "    print (k)"
   ]
  },
  {
   "cell_type": "code",
   "execution_count": 123,
   "metadata": {},
   "outputs": [],
   "source": [
    "fruits = [\"Apple\",\"Mango\",\"banana\",\"grapes\",\"Apple\",\"Orange\"]"
   ]
  },
  {
   "cell_type": "code",
   "execution_count": 124,
   "metadata": {},
   "outputs": [
    {
     "name": "stdout",
     "output_type": "stream",
     "text": [
      "Apple\n",
      "Mango\n",
      "banana\n",
      "grapes\n",
      "Apple\n",
      "Orange\n",
      "Number of apples  2\n"
     ]
    }
   ],
   "source": [
    "cnt = 0\n",
    "for f in fruits:\n",
    "    print (f)\n",
    "    if f == \"Apple\":\n",
    "        cnt+=1\n",
    "print (\"Number of apples \",cnt)"
   ]
  },
  {
   "cell_type": "code",
   "execution_count": 128,
   "metadata": {},
   "outputs": [
    {
     "name": "stdout",
     "output_type": "stream",
     "text": [
      "\n",
      "\n"
     ]
    }
   ],
   "source": [
    "for f in fruits:\n",
    "    if f == \"Apple\":\n",
    "        cnt+=1\n",
    "        print()"
   ]
  },
  {
   "cell_type": "code",
   "execution_count": 129,
   "metadata": {},
   "outputs": [
    {
     "name": "stdout",
     "output_type": "stream",
     "text": [
      "1\n",
      "2\n",
      "3\n",
      "4\n",
      "5\n",
      "6\n",
      "7\n",
      "8\n",
      "9\n",
      "10\n"
     ]
    }
   ],
   "source": [
    "i = 1\n",
    "while i <= 10:\n",
    "    print (i)\n",
    "    i+=1"
   ]
  },
  {
   "cell_type": "code",
   "execution_count": 131,
   "metadata": {},
   "outputs": [
    {
     "name": "stdout",
     "output_type": "stream",
     "text": [
      "Enter table number:9\n",
      "9 * 1 = 9\n",
      "9 * 2 = 18\n",
      "9 * 3 = 27\n",
      "9 * 4 = 36\n",
      "9 * 5 = 45\n",
      "9 * 6 = 54\n",
      "9 * 7 = 63\n",
      "9 * 8 = 72\n",
      "9 * 9 = 81\n",
      "9 * 10 = 90\n",
      "9 * 11 = 99\n"
     ]
    }
   ],
   "source": [
    "#tab = 10\n",
    "tab = int(input(\"Enter table number:\"))\n",
    "for i in range(1,12):\n",
    "    res = tab * i\n",
    "    print (tab,\"*\",i,\"=\",res)"
   ]
  },
  {
   "cell_type": "code",
   "execution_count": 133,
   "metadata": {},
   "outputs": [
    {
     "name": "stdout",
     "output_type": "stream",
     "text": [
      "*\n",
      "*\n",
      "*\n",
      "*\n",
      "*\n",
      "*\n",
      "*\n",
      "*\n",
      "*\n",
      "*\n"
     ]
    }
   ],
   "source": [
    "s = \"*\"\n",
    "for i in range(10):\n",
    "    print (s)"
   ]
  },
  {
   "cell_type": "code",
   "execution_count": 134,
   "metadata": {},
   "outputs": [
    {
     "name": "stdout",
     "output_type": "stream",
     "text": [
      "techzoneanalytics\n"
     ]
    }
   ],
   "source": [
    "s1 =\"techzone\"\n",
    "s2 = \"analytics\"\n",
    "s3 = s1+s2\n",
    "print (s3)"
   ]
  },
  {
   "cell_type": "code",
   "execution_count": 135,
   "metadata": {},
   "outputs": [
    {
     "name": "stdout",
     "output_type": "stream",
     "text": [
      "Datazone\n",
      "Datazone\n",
      "Datazone\n",
      "Datazone\n",
      "Datazone\n",
      "Datazone\n",
      "Datazone\n",
      "Datazone\n",
      "Datazone\n",
      "Datazone\n",
      "Datazone\n",
      "Datazone\n",
      "Datazone\n",
      "Datazone\n",
      "Datazone\n",
      "Datazone\n",
      "Datazone\n",
      "Datazone\n",
      "Datazone\n",
      "Datazone\n",
      "Datazone\n",
      "Datazone\n",
      "Datazone\n",
      "Datazone\n",
      "Datazone\n",
      "Datazone\n",
      "Datazone\n",
      "Datazone\n",
      "Datazone\n",
      "Datazone\n",
      "Datazone\n",
      "Datazone\n",
      "Datazone\n",
      "Datazone\n",
      "Datazone\n",
      "Datazone\n",
      "Datazone\n",
      "Datazone\n",
      "Datazone\n",
      "Datazone\n",
      "Datazone\n",
      "Datazone\n",
      "Datazone\n",
      "Datazone\n",
      "Datazone\n",
      "Datazone\n",
      "Datazone\n",
      "Datazone\n",
      "Datazone\n",
      "Datazone\n"
     ]
    }
   ],
   "source": [
    "cnt = 0\n",
    "while True:\n",
    "    print (\"Datazone\")\n",
    "    cnt+=1\n",
    "    if cnt ==50:\n",
    "        break"
   ]
  },
  {
   "cell_type": "code",
   "execution_count": 139,
   "metadata": {},
   "outputs": [
    {
     "name": "stdout",
     "output_type": "stream",
     "text": [
      "Apple\n",
      "********\n",
      "Mango\n",
      "********\n",
      "banana\n",
      "********\n",
      "grapes\n",
      "End of list\n"
     ]
    }
   ],
   "source": [
    "index = 0\n",
    "while True:\n",
    "    print (fruits[index])\n",
    "    if fruits[index] == \"grapes\":\n",
    "        break\n",
    "    index+=1\n",
    "    print (\"********\")\n",
    "print (\"End of list\")"
   ]
  },
  {
   "cell_type": "code",
   "execution_count": 137,
   "metadata": {},
   "outputs": [
    {
     "data": {
      "text/plain": [
       "['Apple', 'Mango', 'banana', 'grapes', 'Apple', 'Orange']"
      ]
     },
     "execution_count": 137,
     "metadata": {},
     "output_type": "execute_result"
    }
   ],
   "source": [
    "fruits"
   ]
  },
  {
   "cell_type": "code",
   "execution_count": 140,
   "metadata": {},
   "outputs": [
    {
     "data": {
      "text/plain": [
       "6"
      ]
     },
     "execution_count": 140,
     "metadata": {},
     "output_type": "execute_result"
    }
   ],
   "source": [
    "len(fruits)"
   ]
  },
  {
   "cell_type": "code",
   "execution_count": 1,
   "metadata": {},
   "outputs": [],
   "source": [
    "def sqall(n1,n2,n3):\n",
    "    res = []\n",
    "    r1 = n1 ** 2\n",
    "    r2 = n2 ** 2\n",
    "    r3 = n3 ** 2\n",
    "    res.append(r1)\n",
    "    res.append(r2)\n",
    "    res.append(r3)\n",
    "    return res"
   ]
  },
  {
   "cell_type": "code",
   "execution_count": 3,
   "metadata": {},
   "outputs": [
    {
     "data": {
      "text/plain": [
       "[100, 529, 16]"
      ]
     },
     "execution_count": 3,
     "metadata": {},
     "output_type": "execute_result"
    }
   ],
   "source": [
    "sqall(10,23,4)"
   ]
  },
  {
   "cell_type": "code",
   "execution_count": 4,
   "metadata": {},
   "outputs": [],
   "source": [
    "s = sqall(2,3,4)"
   ]
  },
  {
   "cell_type": "code",
   "execution_count": 5,
   "metadata": {},
   "outputs": [
    {
     "data": {
      "text/plain": [
       "9"
      ]
     },
     "execution_count": 5,
     "metadata": {},
     "output_type": "execute_result"
    }
   ],
   "source": [
    "s[1]"
   ]
  },
  {
   "cell_type": "code",
   "execution_count": 6,
   "metadata": {},
   "outputs": [
    {
     "data": {
      "text/plain": [
       "16"
      ]
     },
     "execution_count": 6,
     "metadata": {},
     "output_type": "execute_result"
    }
   ],
   "source": [
    "s[2]"
   ]
  },
  {
   "cell_type": "code",
   "execution_count": 7,
   "metadata": {},
   "outputs": [
    {
     "data": {
      "text/plain": [
       "4"
      ]
     },
     "execution_count": 7,
     "metadata": {},
     "output_type": "execute_result"
    }
   ],
   "source": [
    "s[0]"
   ]
  },
  {
   "cell_type": "code",
   "execution_count": 8,
   "metadata": {},
   "outputs": [],
   "source": [
    "def fun1(n1,n2,n3=2):\n",
    "    res = (n1 + n2) / n3\n",
    "    return res"
   ]
  },
  {
   "cell_type": "code",
   "execution_count": 9,
   "metadata": {},
   "outputs": [
    {
     "data": {
      "text/plain": [
       "7.5"
      ]
     },
     "execution_count": 9,
     "metadata": {},
     "output_type": "execute_result"
    }
   ],
   "source": [
    "fun1(5,10)"
   ]
  },
  {
   "cell_type": "code",
   "execution_count": 10,
   "metadata": {},
   "outputs": [
    {
     "data": {
      "text/plain": [
       "20.0"
      ]
     },
     "execution_count": 10,
     "metadata": {},
     "output_type": "execute_result"
    }
   ],
   "source": [
    "fun1(20,20)"
   ]
  },
  {
   "cell_type": "code",
   "execution_count": 11,
   "metadata": {},
   "outputs": [],
   "source": [
    "def sumall(*rg):\n",
    "    r = 0\n",
    "    for v in rg:\n",
    "        r=r+v\n",
    "    return r"
   ]
  },
  {
   "cell_type": "code",
   "execution_count": 12,
   "metadata": {},
   "outputs": [
    {
     "data": {
      "text/plain": [
       "18"
      ]
     },
     "execution_count": 12,
     "metadata": {},
     "output_type": "execute_result"
    }
   ],
   "source": [
    "sumall(5,6,7)"
   ]
  },
  {
   "cell_type": "code",
   "execution_count": 13,
   "metadata": {},
   "outputs": [
    {
     "data": {
      "text/plain": [
       "10"
      ]
     },
     "execution_count": 13,
     "metadata": {},
     "output_type": "execute_result"
    }
   ],
   "source": [
    "sumall(5,5)"
   ]
  },
  {
   "cell_type": "code",
   "execution_count": 14,
   "metadata": {},
   "outputs": [
    {
     "data": {
      "text/plain": [
       "24"
      ]
     },
     "execution_count": 14,
     "metadata": {},
     "output_type": "execute_result"
    }
   ],
   "source": [
    "sumall(4,5,6,9)"
   ]
  },
  {
   "cell_type": "code",
   "execution_count": 15,
   "metadata": {},
   "outputs": [
    {
     "data": {
      "text/plain": [
       "30"
      ]
     },
     "execution_count": 15,
     "metadata": {},
     "output_type": "execute_result"
    }
   ],
   "source": [
    "sumall(1,2,3,4,5,6,9)"
   ]
  },
  {
   "cell_type": "code",
   "execution_count": 16,
   "metadata": {},
   "outputs": [],
   "source": [
    "y = lambda x: x**2 if x > 10 else x"
   ]
  },
  {
   "cell_type": "code",
   "execution_count": 22,
   "metadata": {},
   "outputs": [],
   "source": [
    "fruits = [\"Apple\",\"Mango\",\"Banana\"]"
   ]
  },
  {
   "cell_type": "code",
   "execution_count": 23,
   "metadata": {},
   "outputs": [
    {
     "name": "stdout",
     "output_type": "stream",
     "text": [
      "Apple Mango Banana "
     ]
    }
   ],
   "source": [
    "for f in fruits:\n",
    "    print(f,end=\" \")"
   ]
  },
  {
   "cell_type": "code",
   "execution_count": 24,
   "metadata": {},
   "outputs": [
    {
     "name": "stdout",
     "output_type": "stream",
     "text": [
      "Apple\n",
      "Mango\n",
      "Banana\n"
     ]
    }
   ],
   "source": [
    "for f in fruits:\n",
    "    print(f)"
   ]
  },
  {
   "cell_type": "code",
   "execution_count": 25,
   "metadata": {},
   "outputs": [],
   "source": [
    "fruits.append(\"Grapes\")"
   ]
  },
  {
   "cell_type": "code",
   "execution_count": 26,
   "metadata": {},
   "outputs": [
    {
     "data": {
      "text/plain": [
       "['Apple', 'Mango', 'Banana', 'Grapes']"
      ]
     },
     "execution_count": 26,
     "metadata": {},
     "output_type": "execute_result"
    }
   ],
   "source": [
    "fruits"
   ]
  },
  {
   "cell_type": "code",
   "execution_count": 29,
   "metadata": {},
   "outputs": [
    {
     "name": "stdout",
     "output_type": "stream",
     "text": [
      "Enter fruit name:Guva\n"
     ]
    }
   ],
   "source": [
    "f = input (\"Enter fruit name:\")\n",
    "fruits.append(f)"
   ]
  },
  {
   "cell_type": "code",
   "execution_count": 30,
   "metadata": {},
   "outputs": [
    {
     "data": {
      "text/plain": [
       "['Apple', 'Mango', 'Banana', 'Grapes', 'Mango', 'Guva']"
      ]
     },
     "execution_count": 30,
     "metadata": {},
     "output_type": "execute_result"
    }
   ],
   "source": [
    "fruits"
   ]
  },
  {
   "cell_type": "code",
   "execution_count": 2,
   "metadata": {},
   "outputs": [],
   "source": [
    "y = lambda x:x**2"
   ]
  },
  {
   "cell_type": "code",
   "execution_count": 3,
   "metadata": {},
   "outputs": [],
   "source": [
    "r = y(5)"
   ]
  },
  {
   "cell_type": "code",
   "execution_count": 4,
   "metadata": {},
   "outputs": [
    {
     "data": {
      "text/plain": [
       "25"
      ]
     },
     "execution_count": 4,
     "metadata": {},
     "output_type": "execute_result"
    }
   ],
   "source": [
    "r"
   ]
  },
  {
   "cell_type": "code",
   "execution_count": 5,
   "metadata": {},
   "outputs": [
    {
     "name": "stdout",
     "output_type": "stream",
     "text": [
      "100\n"
     ]
    }
   ],
   "source": [
    "s = y(10)\n",
    "print (s)"
   ]
  },
  {
   "cell_type": "code",
   "execution_count": 6,
   "metadata": {},
   "outputs": [
    {
     "data": {
      "text/plain": [
       "<function __main__.<lambda>(arguments)>"
      ]
     },
     "execution_count": 6,
     "metadata": {},
     "output_type": "execute_result"
    }
   ],
   "source": [
    "# Python lambda\n",
    "# Syntax \n",
    "lambda arguments : expression\n"
   ]
  },
  {
   "cell_type": "code",
   "execution_count": 7,
   "metadata": {},
   "outputs": [
    {
     "name": "stdout",
     "output_type": "stream",
     "text": [
      "15\n"
     ]
    }
   ],
   "source": [
    "# A lambda function that adds 10 to the number passed in as an argument, and print the result:\n",
    "x = lambda a : a + 10\n",
    "print(x(5))\n"
   ]
  },
  {
   "cell_type": "code",
   "execution_count": 8,
   "metadata": {},
   "outputs": [
    {
     "name": "stdout",
     "output_type": "stream",
     "text": [
      "30\n"
     ]
    }
   ],
   "source": [
    "# A lambda function that multiplies argument a with argument b and print the result:\n",
    "x = lambda a, b : a * b\n",
    "print(x(5, 6))\n"
   ]
  },
  {
   "cell_type": "code",
   "execution_count": 17,
   "metadata": {},
   "outputs": [
    {
     "name": "stdout",
     "output_type": "stream",
     "text": [
      "13\n"
     ]
    }
   ],
   "source": [
    "# A lambda function that sums argument a, b, and c and print the result:\n",
    "x = lambda a, b, c : a + b + c\n",
    "print(x(5, 6, 2))\n"
   ]
  },
  {
   "cell_type": "code",
   "execution_count": 10,
   "metadata": {},
   "outputs": [],
   "source": [
    "# you have a function definition that takes one argument, and that argument will be multiplied with an unknown number:\n",
    "def myfunc(n):\n",
    "return lambda a : a * n\n"
   ]
  },
  {
   "cell_type": "code",
   "execution_count": 11,
   "metadata": {},
   "outputs": [
    {
     "name": "stdout",
     "output_type": "stream",
     "text": [
      "22\n"
     ]
    }
   ],
   "source": [
    "# Use that function definition to make a function that always doubles the number you send in:\n",
    "def myfunc(n):\n",
    " return lambda a : a * n\n",
    "\n",
    "mydoubler = myfunc(2)\n",
    "\n",
    "print(mydoubler(11))\n"
   ]
  },
  {
   "cell_type": "code",
   "execution_count": 16,
   "metadata": {},
   "outputs": [
    {
     "name": "stdout",
     "output_type": "stream",
     "text": [
      "33\n"
     ]
    }
   ],
   "source": [
    "# use the same function definition to make a function that always triples the number you send in:\n",
    "def myfunc(n):\n",
    " return lambda a : a * n\n",
    "\n",
    "mytripler = myfunc(3)\n",
    "\n",
    "print(mytripler(11))\n"
   ]
  },
  {
   "cell_type": "code",
   "execution_count": 14,
   "metadata": {},
   "outputs": [
    {
     "name": "stdout",
     "output_type": "stream",
     "text": [
      "22\n",
      "33\n"
     ]
    }
   ],
   "source": [
    "# use the same function definition to make both functions, in the same program:\n",
    "def myfunc(n):\n",
    " return lambda a : a * n\n",
    "\n",
    "mydoubler = myfunc(2)\n",
    "mytripler = myfunc(3)\n",
    "\n",
    "print(mydoubler(11)) \n",
    "print(mytripler(11))\n"
   ]
  },
  {
   "cell_type": "code",
   "execution_count": 18,
   "metadata": {},
   "outputs": [],
   "source": [
    "def square(n):   # doc string\n",
    "    ''' This is a function to\n",
    "    calculate square of a given\n",
    "    number\n",
    "    to call this function : var = square(value)'''\n",
    "    res = n**2\n",
    "    return res"
   ]
  },
  {
   "cell_type": "code",
   "execution_count": 19,
   "metadata": {},
   "outputs": [
    {
     "name": "stdout",
     "output_type": "stream",
     "text": [
      "Help on function square in module __main__:\n",
      "\n",
      "square(n)\n",
      "    This is a function to\n",
      "    calculate square of a given\n",
      "    number\n",
      "    to call this function : var = square(value)\n",
      "\n"
     ]
    }
   ],
   "source": [
    "help(square)"
   ]
  },
  {
   "cell_type": "code",
   "execution_count": 20,
   "metadata": {},
   "outputs": [],
   "source": [
    "var=square(2)"
   ]
  },
  {
   "cell_type": "code",
   "execution_count": 21,
   "metadata": {},
   "outputs": [
    {
     "data": {
      "text/plain": [
       "4"
      ]
     },
     "execution_count": 21,
     "metadata": {},
     "output_type": "execute_result"
    }
   ],
   "source": [
    "var"
   ]
  },
  {
   "cell_type": "code",
   "execution_count": 22,
   "metadata": {},
   "outputs": [],
   "source": [
    "# Map function\n",
    "price = [50,55,60,80,100]"
   ]
  },
  {
   "cell_type": "code",
   "execution_count": 23,
   "metadata": {},
   "outputs": [],
   "source": [
    "price_new = []\n",
    "for p in price:\n",
    "    res = p * 1.1\n",
    "    price_new.append(res)"
   ]
  },
  {
   "cell_type": "code",
   "execution_count": 24,
   "metadata": {},
   "outputs": [
    {
     "data": {
      "text/plain": [
       "[55.00000000000001, 60.50000000000001, 66.0, 88.0, 110.00000000000001]"
      ]
     },
     "execution_count": 24,
     "metadata": {},
     "output_type": "execute_result"
    }
   ],
   "source": [
    "price_new"
   ]
  },
  {
   "cell_type": "code",
   "execution_count": 25,
   "metadata": {},
   "outputs": [
    {
     "name": "stdout",
     "output_type": "stream",
     "text": [
      "[50, 55, 60, 80, 100]\n",
      "\n",
      "[55.00000000000001, 60.50000000000001, 66.0, 88.0, 110.00000000000001]\n"
     ]
    }
   ],
   "source": [
    "print (price)\n",
    "print ()\n",
    "print (price_new)"
   ]
  },
  {
   "cell_type": "code",
   "execution_count": 26,
   "metadata": {},
   "outputs": [
    {
     "data": {
      "text/plain": [
       "<map at 0x5400710>"
      ]
     },
     "execution_count": 26,
     "metadata": {},
     "output_type": "execute_result"
    }
   ],
   "source": [
    "map(lambda p :p * 1.1,price)"
   ]
  },
  {
   "cell_type": "code",
   "execution_count": 27,
   "metadata": {},
   "outputs": [],
   "source": [
    "price_new = list(map(lambda p :p * 1.1,price))"
   ]
  },
  {
   "cell_type": "code",
   "execution_count": 28,
   "metadata": {},
   "outputs": [
    {
     "data": {
      "text/plain": [
       "[55.00000000000001, 60.50000000000001, 66.0, 88.0, 110.00000000000001]"
      ]
     },
     "execution_count": 28,
     "metadata": {},
     "output_type": "execute_result"
    }
   ],
   "source": [
    "price_new"
   ]
  },
  {
   "cell_type": "code",
   "execution_count": 29,
   "metadata": {},
   "outputs": [],
   "source": [
    "def pinc(price):\n",
    "    res = price * 1.1\n",
    "    return res"
   ]
  },
  {
   "cell_type": "code",
   "execution_count": 30,
   "metadata": {},
   "outputs": [
    {
     "data": {
      "text/plain": [
       "110.00000000000001"
      ]
     },
     "execution_count": 30,
     "metadata": {},
     "output_type": "execute_result"
    }
   ],
   "source": [
    "res"
   ]
  },
  {
   "cell_type": "code",
   "execution_count": 31,
   "metadata": {},
   "outputs": [],
   "source": [
    "price_new = list(map(pinc,price))"
   ]
  },
  {
   "cell_type": "code",
   "execution_count": 32,
   "metadata": {},
   "outputs": [
    {
     "data": {
      "text/plain": [
       "[55.00000000000001, 60.50000000000001, 66.0, 88.0, 110.00000000000001]"
      ]
     },
     "execution_count": 32,
     "metadata": {},
     "output_type": "execute_result"
    }
   ],
   "source": [
    "price_new"
   ]
  },
  {
   "cell_type": "code",
   "execution_count": 33,
   "metadata": {},
   "outputs": [
    {
     "data": {
      "text/plain": [
       "[50, 55, 60, 80, 100]"
      ]
     },
     "execution_count": 33,
     "metadata": {},
     "output_type": "execute_result"
    }
   ],
   "source": [
    "price"
   ]
  },
  {
   "cell_type": "code",
   "execution_count": 34,
   "metadata": {},
   "outputs": [
    {
     "data": {
      "text/plain": [
       "[50]"
      ]
     },
     "execution_count": 34,
     "metadata": {},
     "output_type": "execute_result"
    }
   ],
   "source": [
    "list(filter(lambda p: p < 55,price))"
   ]
  },
  {
   "cell_type": "code",
   "execution_count": 35,
   "metadata": {},
   "outputs": [],
   "source": [
    "y = lambda n1,n2,n3:n1+n2+n3"
   ]
  },
  {
   "cell_type": "code",
   "execution_count": 36,
   "metadata": {},
   "outputs": [
    {
     "data": {
      "text/plain": [
       "20"
      ]
     },
     "execution_count": 36,
     "metadata": {},
     "output_type": "execute_result"
    }
   ],
   "source": [
    "y(5,5,10)"
   ]
  },
  {
   "cell_type": "code",
   "execution_count": 37,
   "metadata": {},
   "outputs": [],
   "source": [
    "y = lambda n1,n2,n3:n1*n2*n3"
   ]
  },
  {
   "cell_type": "code",
   "execution_count": 38,
   "metadata": {},
   "outputs": [
    {
     "data": {
      "text/plain": [
       "125"
      ]
     },
     "execution_count": 38,
     "metadata": {},
     "output_type": "execute_result"
    }
   ],
   "source": [
    "y(5,5,5)"
   ]
  },
  {
   "cell_type": "code",
   "execution_count": 40,
   "metadata": {},
   "outputs": [
    {
     "data": {
      "text/plain": [
       "[50, 55, 60, 80, 100]"
      ]
     },
     "execution_count": 40,
     "metadata": {},
     "output_type": "execute_result"
    }
   ],
   "source": [
    "price"
   ]
  },
  {
   "cell_type": "code",
   "execution_count": 41,
   "metadata": {},
   "outputs": [],
   "source": [
    "from functools import reduce"
   ]
  },
  {
   "cell_type": "code",
   "execution_count": 42,
   "metadata": {},
   "outputs": [
    {
     "data": {
      "text/plain": [
       "1320000000"
      ]
     },
     "execution_count": 42,
     "metadata": {},
     "output_type": "execute_result"
    }
   ],
   "source": [
    "reduce(lambda n1,n2: n1*n2,price)"
   ]
  },
  {
   "cell_type": "code",
   "execution_count": 44,
   "metadata": {},
   "outputs": [
    {
     "name": "stdout",
     "output_type": "stream",
     "text": [
      "290\n"
     ]
    }
   ],
   "source": [
    "tot = 0\n",
    "for p in price:\n",
    "    if p != 55:\n",
    "        tot+=p\n",
    "print (tot)"
   ]
  },
  {
   "cell_type": "code",
   "execution_count": 45,
   "metadata": {},
   "outputs": [],
   "source": [
    "#list comprehension\n",
    "salaries= [60000,80000,100000]"
   ]
  },
  {
   "cell_type": "code",
   "execution_count": 46,
   "metadata": {},
   "outputs": [
    {
     "data": {
      "text/plain": [
       "[60000, 80000, 100000]"
      ]
     },
     "execution_count": 46,
     "metadata": {},
     "output_type": "execute_result"
    }
   ],
   "source": [
    "[s for s in salaries]"
   ]
  },
  {
   "cell_type": "code",
   "execution_count": 47,
   "metadata": {},
   "outputs": [],
   "source": [
    "sal_inc = [s*1.1 for s in salaries]"
   ]
  },
  {
   "cell_type": "code",
   "execution_count": 48,
   "metadata": {},
   "outputs": [
    {
     "data": {
      "text/plain": [
       "[66000.0, 88000.0, 110000.00000000001]"
      ]
     },
     "execution_count": 48,
     "metadata": {},
     "output_type": "execute_result"
    }
   ],
   "source": [
    "sal_inc"
   ]
  },
  {
   "cell_type": "code",
   "execution_count": 49,
   "metadata": {},
   "outputs": [
    {
     "data": {
      "text/plain": [
       "[88000.0, 110000.00000000001]"
      ]
     },
     "execution_count": 49,
     "metadata": {},
     "output_type": "execute_result"
    }
   ],
   "source": [
    "[s*1.1 for s in salaries if s>70000]"
   ]
  },
  {
   "cell_type": "code",
   "execution_count": 50,
   "metadata": {},
   "outputs": [],
   "source": [
    "commision = [1000,2000,4000]"
   ]
  },
  {
   "cell_type": "code",
   "execution_count": 51,
   "metadata": {},
   "outputs": [
    {
     "data": {
      "text/plain": [
       "[61000, 62000, 64000, 81000, 82000, 84000, 101000, 102000, 104000]"
      ]
     },
     "execution_count": 51,
     "metadata": {},
     "output_type": "execute_result"
    }
   ],
   "source": [
    "[(sal+comm) for sal in salaries for comm in commision]"
   ]
  },
  {
   "cell_type": "code",
   "execution_count": 52,
   "metadata": {},
   "outputs": [
    {
     "data": {
      "text/plain": [
       "'DATAZONE ANALYTICS'"
      ]
     },
     "execution_count": 52,
     "metadata": {},
     "output_type": "execute_result"
    }
   ],
   "source": [
    "name = \"Datazone Analytics\"\n",
    "name.upper()"
   ]
  },
  {
   "cell_type": "code",
   "execution_count": 53,
   "metadata": {},
   "outputs": [],
   "source": [
    "name_new = [letter for letter in name]"
   ]
  },
  {
   "cell_type": "code",
   "execution_count": 54,
   "metadata": {},
   "outputs": [
    {
     "data": {
      "text/plain": [
       "['D',\n",
       " 'a',\n",
       " 't',\n",
       " 'a',\n",
       " 'z',\n",
       " 'o',\n",
       " 'n',\n",
       " 'e',\n",
       " ' ',\n",
       " 'A',\n",
       " 'n',\n",
       " 'a',\n",
       " 'l',\n",
       " 'y',\n",
       " 't',\n",
       " 'i',\n",
       " 'c',\n",
       " 's']"
      ]
     },
     "execution_count": 54,
     "metadata": {},
     "output_type": "execute_result"
    }
   ],
   "source": [
    "name_new"
   ]
  },
  {
   "cell_type": "code",
   "execution_count": 55,
   "metadata": {},
   "outputs": [
    {
     "data": {
      "text/plain": [
       "type"
      ]
     },
     "execution_count": 55,
     "metadata": {},
     "output_type": "execute_result"
    }
   ],
   "source": [
    "type(str)"
   ]
  },
  {
   "cell_type": "code",
   "execution_count": 56,
   "metadata": {},
   "outputs": [
    {
     "data": {
      "text/plain": [
       "'s'"
      ]
     },
     "execution_count": 56,
     "metadata": {},
     "output_type": "execute_result"
    }
   ],
   "source": [
    "name_new[-1]"
   ]
  },
  {
   "cell_type": "code",
   "execution_count": 57,
   "metadata": {},
   "outputs": [
    {
     "data": {
      "text/plain": [
       "'c'"
      ]
     },
     "execution_count": 57,
     "metadata": {},
     "output_type": "execute_result"
    }
   ],
   "source": [
    "name_new[-2]"
   ]
  },
  {
   "cell_type": "code",
   "execution_count": 59,
   "metadata": {},
   "outputs": [
    {
     "name": "stdout",
     "output_type": "stream",
     "text": [
      "60000 1000\n",
      "60000 2000\n",
      "60000 4000\n",
      "80000 1000\n",
      "80000 2000\n",
      "80000 4000\n",
      "100000 1000\n",
      "100000 2000\n",
      "100000 4000\n"
     ]
    }
   ],
   "source": [
    "for s in salaries:\n",
    "    for c in commision:\n",
    "        print (s,c)"
   ]
  },
  {
   "cell_type": "code",
   "execution_count": 60,
   "metadata": {},
   "outputs": [],
   "source": [
    "x = zip(salaries,commision)"
   ]
  },
  {
   "cell_type": "code",
   "execution_count": 61,
   "metadata": {},
   "outputs": [
    {
     "data": {
      "text/plain": [
       "<zip at 0x540ab08>"
      ]
     },
     "execution_count": 61,
     "metadata": {},
     "output_type": "execute_result"
    }
   ],
   "source": [
    "x"
   ]
  },
  {
   "cell_type": "code",
   "execution_count": 84,
   "metadata": {},
   "outputs": [
    {
     "data": {
      "text/plain": [
       "[]"
      ]
     },
     "execution_count": 84,
     "metadata": {},
     "output_type": "execute_result"
    }
   ],
   "source": [
    "[sal+comm for sal,comm in x]"
   ]
  },
  {
   "cell_type": "code",
   "execution_count": 85,
   "metadata": {},
   "outputs": [
    {
     "name": "stdout",
     "output_type": "stream",
     "text": [
      "<zip object at 0x000000000540AB08>\n"
     ]
    }
   ],
   "source": [
    "print(x)"
   ]
  },
  {
   "cell_type": "code",
   "execution_count": 87,
   "metadata": {},
   "outputs": [],
   "source": [
    "for i in x:\n",
    "    print (i)"
   ]
  },
  {
   "cell_type": "code",
   "execution_count": 88,
   "metadata": {},
   "outputs": [],
   "source": [
    "c_c = [('India','Delhi')]"
   ]
  },
  {
   "cell_type": "code",
   "execution_count": 89,
   "metadata": {},
   "outputs": [
    {
     "data": {
      "text/plain": [
       "[('India', 'Delhi')]"
      ]
     },
     "execution_count": 89,
     "metadata": {},
     "output_type": "execute_result"
    }
   ],
   "source": [
    "c_c"
   ]
  },
  {
   "cell_type": "code",
   "execution_count": 90,
   "metadata": {},
   "outputs": [],
   "source": [
    "# matplotlib.pyplot\n",
    "import numpy as np\n",
    "import pandas as pd\n",
    "import matplotlib.pyplot as plt\n",
    "%matplotlib inline\n",
    "emp = pd.read_csv('d:/datasets/employee.csv')"
   ]
  },
  {
   "cell_type": "code",
   "execution_count": 91,
   "metadata": {},
   "outputs": [
    {
     "data": {
      "text/html": [
       "<div>\n",
       "<style scoped>\n",
       "    .dataframe tbody tr th:only-of-type {\n",
       "        vertical-align: middle;\n",
       "    }\n",
       "\n",
       "    .dataframe tbody tr th {\n",
       "        vertical-align: top;\n",
       "    }\n",
       "\n",
       "    .dataframe thead th {\n",
       "        text-align: right;\n",
       "    }\n",
       "</style>\n",
       "<table border=\"1\" class=\"dataframe\">\n",
       "  <thead>\n",
       "    <tr style=\"text-align: right;\">\n",
       "      <th></th>\n",
       "      <th>Unnamed: 0</th>\n",
       "      <th>dno</th>\n",
       "      <th>employee id</th>\n",
       "      <th>fullname</th>\n",
       "      <th>position</th>\n",
       "      <th>salary</th>\n",
       "      <th>manager id</th>\n",
       "      <th>department id</th>\n",
       "    </tr>\n",
       "  </thead>\n",
       "  <tbody>\n",
       "    <tr>\n",
       "      <th>0</th>\n",
       "      <td>0</td>\n",
       "      <td>10</td>\n",
       "      <td>ind-001</td>\n",
       "      <td>Abdul Rehman</td>\n",
       "      <td>CSO</td>\n",
       "      <td>100000</td>\n",
       "      <td>NaN</td>\n",
       "      <td>1</td>\n",
       "    </tr>\n",
       "    <tr>\n",
       "      <th>1</th>\n",
       "      <td>1</td>\n",
       "      <td>20</td>\n",
       "      <td>ind-002</td>\n",
       "      <td>M. Yousuf</td>\n",
       "      <td>CTO</td>\n",
       "      <td>90000</td>\n",
       "      <td>ind-001</td>\n",
       "      <td>1</td>\n",
       "    </tr>\n",
       "    <tr>\n",
       "      <th>2</th>\n",
       "      <td>2</td>\n",
       "      <td>30</td>\n",
       "      <td>ind-003</td>\n",
       "      <td>Joseph D'Souza</td>\n",
       "      <td>CVO</td>\n",
       "      <td>84000</td>\n",
       "      <td>ind-001</td>\n",
       "      <td>1</td>\n",
       "    </tr>\n",
       "    <tr>\n",
       "      <th>3</th>\n",
       "      <td>3</td>\n",
       "      <td>40</td>\n",
       "      <td>ind-004</td>\n",
       "      <td>Mahesh Kalmadi</td>\n",
       "      <td>CWO</td>\n",
       "      <td>70000</td>\n",
       "      <td>ind-002</td>\n",
       "      <td>2</td>\n",
       "    </tr>\n",
       "    <tr>\n",
       "      <th>4</th>\n",
       "      <td>4</td>\n",
       "      <td>50</td>\n",
       "      <td>us-001</td>\n",
       "      <td>Jogender Singh</td>\n",
       "      <td>STO</td>\n",
       "      <td>56000</td>\n",
       "      <td>ind-002</td>\n",
       "      <td>2</td>\n",
       "    </tr>\n",
       "    <tr>\n",
       "      <th>5</th>\n",
       "      <td>5</td>\n",
       "      <td>60</td>\n",
       "      <td>us-002</td>\n",
       "      <td>Syed Mannan</td>\n",
       "      <td>SPO</td>\n",
       "      <td>56000</td>\n",
       "      <td>ind-003</td>\n",
       "      <td>3</td>\n",
       "    </tr>\n",
       "    <tr>\n",
       "      <th>6</th>\n",
       "      <td>6</td>\n",
       "      <td>70</td>\n",
       "      <td>dub-001</td>\n",
       "      <td>John</td>\n",
       "      <td>CTO</td>\n",
       "      <td>50000</td>\n",
       "      <td>ind-002</td>\n",
       "      <td>0</td>\n",
       "    </tr>\n",
       "  </tbody>\n",
       "</table>\n",
       "</div>"
      ],
      "text/plain": [
       "   Unnamed: 0  dno employee id        fullname position  salary manager id  \\\n",
       "0           0   10     ind-001    Abdul Rehman      CSO  100000        NaN   \n",
       "1           1   20     ind-002       M. Yousuf      CTO   90000    ind-001   \n",
       "2           2   30     ind-003  Joseph D'Souza      CVO   84000    ind-001   \n",
       "3           3   40     ind-004  Mahesh Kalmadi      CWO   70000    ind-002   \n",
       "4           4   50      us-001  Jogender Singh      STO   56000    ind-002   \n",
       "5           5   60      us-002     Syed Mannan      SPO   56000    ind-003   \n",
       "6           6   70     dub-001            John      CTO   50000    ind-002   \n",
       "\n",
       "   department id  \n",
       "0              1  \n",
       "1              1  \n",
       "2              1  \n",
       "3              2  \n",
       "4              2  \n",
       "5              3  \n",
       "6              0  "
      ]
     },
     "execution_count": 91,
     "metadata": {},
     "output_type": "execute_result"
    }
   ],
   "source": [
    "emp"
   ]
  },
  {
   "cell_type": "code",
   "execution_count": 95,
   "metadata": {},
   "outputs": [],
   "source": [
    "experience=[1,2,3,4,5,6,7]\n",
    "emp['experience']= experience"
   ]
  },
  {
   "cell_type": "code",
   "execution_count": 96,
   "metadata": {},
   "outputs": [
    {
     "data": {
      "text/html": [
       "<div>\n",
       "<style scoped>\n",
       "    .dataframe tbody tr th:only-of-type {\n",
       "        vertical-align: middle;\n",
       "    }\n",
       "\n",
       "    .dataframe tbody tr th {\n",
       "        vertical-align: top;\n",
       "    }\n",
       "\n",
       "    .dataframe thead th {\n",
       "        text-align: right;\n",
       "    }\n",
       "</style>\n",
       "<table border=\"1\" class=\"dataframe\">\n",
       "  <thead>\n",
       "    <tr style=\"text-align: right;\">\n",
       "      <th></th>\n",
       "      <th>Unnamed: 0</th>\n",
       "      <th>dno</th>\n",
       "      <th>employee id</th>\n",
       "      <th>fullname</th>\n",
       "      <th>position</th>\n",
       "      <th>salary</th>\n",
       "      <th>manager id</th>\n",
       "      <th>department id</th>\n",
       "      <th>experience</th>\n",
       "    </tr>\n",
       "  </thead>\n",
       "  <tbody>\n",
       "    <tr>\n",
       "      <th>0</th>\n",
       "      <td>0</td>\n",
       "      <td>10</td>\n",
       "      <td>ind-001</td>\n",
       "      <td>Abdul Rehman</td>\n",
       "      <td>CSO</td>\n",
       "      <td>100000</td>\n",
       "      <td>NaN</td>\n",
       "      <td>1</td>\n",
       "      <td>1</td>\n",
       "    </tr>\n",
       "    <tr>\n",
       "      <th>1</th>\n",
       "      <td>1</td>\n",
       "      <td>20</td>\n",
       "      <td>ind-002</td>\n",
       "      <td>M. Yousuf</td>\n",
       "      <td>CTO</td>\n",
       "      <td>90000</td>\n",
       "      <td>ind-001</td>\n",
       "      <td>1</td>\n",
       "      <td>2</td>\n",
       "    </tr>\n",
       "    <tr>\n",
       "      <th>2</th>\n",
       "      <td>2</td>\n",
       "      <td>30</td>\n",
       "      <td>ind-003</td>\n",
       "      <td>Joseph D'Souza</td>\n",
       "      <td>CVO</td>\n",
       "      <td>84000</td>\n",
       "      <td>ind-001</td>\n",
       "      <td>1</td>\n",
       "      <td>3</td>\n",
       "    </tr>\n",
       "    <tr>\n",
       "      <th>3</th>\n",
       "      <td>3</td>\n",
       "      <td>40</td>\n",
       "      <td>ind-004</td>\n",
       "      <td>Mahesh Kalmadi</td>\n",
       "      <td>CWO</td>\n",
       "      <td>70000</td>\n",
       "      <td>ind-002</td>\n",
       "      <td>2</td>\n",
       "      <td>4</td>\n",
       "    </tr>\n",
       "    <tr>\n",
       "      <th>4</th>\n",
       "      <td>4</td>\n",
       "      <td>50</td>\n",
       "      <td>us-001</td>\n",
       "      <td>Jogender Singh</td>\n",
       "      <td>STO</td>\n",
       "      <td>56000</td>\n",
       "      <td>ind-002</td>\n",
       "      <td>2</td>\n",
       "      <td>5</td>\n",
       "    </tr>\n",
       "    <tr>\n",
       "      <th>5</th>\n",
       "      <td>5</td>\n",
       "      <td>60</td>\n",
       "      <td>us-002</td>\n",
       "      <td>Syed Mannan</td>\n",
       "      <td>SPO</td>\n",
       "      <td>56000</td>\n",
       "      <td>ind-003</td>\n",
       "      <td>3</td>\n",
       "      <td>6</td>\n",
       "    </tr>\n",
       "    <tr>\n",
       "      <th>6</th>\n",
       "      <td>6</td>\n",
       "      <td>70</td>\n",
       "      <td>dub-001</td>\n",
       "      <td>John</td>\n",
       "      <td>CTO</td>\n",
       "      <td>50000</td>\n",
       "      <td>ind-002</td>\n",
       "      <td>0</td>\n",
       "      <td>7</td>\n",
       "    </tr>\n",
       "  </tbody>\n",
       "</table>\n",
       "</div>"
      ],
      "text/plain": [
       "   Unnamed: 0  dno employee id        fullname position  salary manager id  \\\n",
       "0           0   10     ind-001    Abdul Rehman      CSO  100000        NaN   \n",
       "1           1   20     ind-002       M. Yousuf      CTO   90000    ind-001   \n",
       "2           2   30     ind-003  Joseph D'Souza      CVO   84000    ind-001   \n",
       "3           3   40     ind-004  Mahesh Kalmadi      CWO   70000    ind-002   \n",
       "4           4   50      us-001  Jogender Singh      STO   56000    ind-002   \n",
       "5           5   60      us-002     Syed Mannan      SPO   56000    ind-003   \n",
       "6           6   70     dub-001            John      CTO   50000    ind-002   \n",
       "\n",
       "   department id  experience  \n",
       "0              1           1  \n",
       "1              1           2  \n",
       "2              1           3  \n",
       "3              2           4  \n",
       "4              2           5  \n",
       "5              3           6  \n",
       "6              0           7  "
      ]
     },
     "execution_count": 96,
     "metadata": {},
     "output_type": "execute_result"
    }
   ],
   "source": [
    "emp"
   ]
  },
  {
   "cell_type": "code",
   "execution_count": 97,
   "metadata": {},
   "outputs": [
    {
     "data": {
      "text/plain": [
       "<matplotlib.axes._subplots.AxesSubplot at 0x8d37fd0>"
      ]
     },
     "execution_count": 97,
     "metadata": {},
     "output_type": "execute_result"
    },
    {
     "data": {
      "image/png": "[encoded data removed]",
      "text/plain": [
       "<Figure size 432x288 with 1 Axes>"
      ]
     },
     "metadata": {},
     "output_type": "display_data"
    }
   ],
   "source": [
    "emp['salary'].plot(kind='bar')"
   ]
  },
  {
   "cell_type": "code",
   "execution_count": 98,
   "metadata": {},
   "outputs": [
    {
     "data": {
      "text/plain": [
       "Text(0,0.5,'Salary')"
      ]
     },
     "execution_count": 98,
     "metadata": {},
     "output_type": "execute_result"
    },
    {
     "data": {
      "image/png": "[encoded data removed]",
      "text/plain": [
       "<Figure size 432x288 with 1 Axes>"
      ]
     },
     "metadata": {},
     "output_type": "display_data"
    }
   ],
   "source": [
    "emp.groupby('department id')['salary'].sum().plot(kind='bar')\n",
    "plt.title('Departmentwise Total Salary')\n",
    "plt.xlabel('Departments')\n",
    "plt.ylabel('Salary')"
   ]
  },
  {
   "cell_type": "code",
   "execution_count": 99,
   "metadata": {},
   "outputs": [
    {
     "data": {
      "text/plain": [
       "<matplotlib.axes._subplots.AxesSubplot at 0x8fb7550>"
      ]
     },
     "execution_count": 99,
     "metadata": {},
     "output_type": "execute_result"
    },
    {
     "data": {
      "image/png": "[encoded data removed]",
      "text/plain": [
       "<Figure size 432x288 with 1 Axes>"
      ]
     },
     "metadata": {},
     "output_type": "display_data"
    }
   ],
   "source": [
    "emp['salary'].plot(kind='hist',bins=4)    # distributin of data/values or range"
   ]
  },
  {
   "cell_type": "code",
   "execution_count": 104,
   "metadata": {},
   "outputs": [
    {
     "data": {
      "text/plain": [
       "<matplotlib.axes._subplots.AxesSubplot at 0x911c550>"
      ]
     },
     "execution_count": 104,
     "metadata": {},
     "output_type": "execute_result"
    },
    {
     "data": {
      "image/png": "[encoded data removed]",
      "text/plain": [
       "<Figure size 432x288 with 1 Axes>"
      ]
     },
     "metadata": {},
     "output_type": "display_data"
    }
   ],
   "source": [
    "emp['salary'].plot(kind='box')"
   ]
  },
  {
   "cell_type": "code",
   "execution_count": 105,
   "metadata": {},
   "outputs": [
    {
     "data": {
      "text/plain": [
       "{'whiskers': [<matplotlib.lines.Line2D at 0x91a6f60>,\n",
       "  <matplotlib.lines.Line2D at 0x91b1438>],\n",
       " 'caps': [<matplotlib.lines.Line2D at 0x91b1860>,\n",
       "  <matplotlib.lines.Line2D at 0x91b1c88>],\n",
       " 'boxes': [<matplotlib.lines.Line2D at 0x91a6e10>],\n",
       " 'medians': [<matplotlib.lines.Line2D at 0x91ba160>],\n",
       " 'fliers': [<matplotlib.lines.Line2D at 0x91ba908>],\n",
       " 'means': [<matplotlib.lines.Line2D at 0x91ba588>]}"
      ]
     },
     "execution_count": 105,
     "metadata": {},
     "output_type": "execute_result"
    },
    {
     "data": {
      "image/png": "[encoded data removed]",
      "text/plain": [
       "<Figure size 432x288 with 1 Axes>"
      ]
     },
     "metadata": {},
     "output_type": "display_data"
    }
   ],
   "source": [
    "plt.boxplot(emp['salary'],showmeans=True)"
   ]
  },
  {
   "cell_type": "code",
   "execution_count": 106,
   "metadata": {},
   "outputs": [],
   "source": [
    "marks = np.array([90,92,88,98,100])"
   ]
  },
  {
   "cell_type": "code",
   "execution_count": 108,
   "metadata": {},
   "outputs": [
    {
     "data": {
      "text/plain": [
       "93.6"
      ]
     },
     "execution_count": 108,
     "metadata": {},
     "output_type": "execute_result"
    }
   ],
   "source": [
    "marks.mean()"
   ]
  },
  {
   "cell_type": "code",
   "execution_count": 110,
   "metadata": {},
   "outputs": [
    {
     "data": {
      "text/plain": [
       "92.0"
      ]
     },
     "execution_count": 110,
     "metadata": {},
     "output_type": "execute_result"
    }
   ],
   "source": [
    "np.median(marks)"
   ]
  },
  {
   "cell_type": "code",
   "execution_count": 111,
   "metadata": {},
   "outputs": [
    {
     "data": {
      "text/plain": [
       "{'whiskers': [<matplotlib.lines.Line2D at 0x9208f28>,\n",
       "  <matplotlib.lines.Line2D at 0xa1e0390>],\n",
       " 'caps': [<matplotlib.lines.Line2D at 0xa1e07b8>,\n",
       "  <matplotlib.lines.Line2D at 0xa1e0be0>],\n",
       " 'boxes': [<matplotlib.lines.Line2D at 0x9208dd8>],\n",
       " 'medians': [<matplotlib.lines.Line2D at 0xa1ec048>],\n",
       " 'fliers': [<matplotlib.lines.Line2D at 0xa1ec860>],\n",
       " 'means': [<matplotlib.lines.Line2D at 0xa1ec470>]}"
      ]
     },
     "execution_count": 111,
     "metadata": {},
     "output_type": "execute_result"
    },
    {
     "data": {
      "image/png": "[encoded data removed]",
      "text/plain": [
       "<Figure size 432x288 with 1 Axes>"
      ]
     },
     "metadata": {},
     "output_type": "display_data"
    }
   ],
   "source": [
    "plt.boxplot(marks,showmeans=True)"
   ]
  },
  {
   "cell_type": "code",
   "execution_count": 114,
   "metadata": {},
   "outputs": [],
   "source": [
    "import seaborn as sns"
   ]
  },
  {
   "cell_type": "code",
   "execution_count": 115,
   "metadata": {},
   "outputs": [
    {
     "name": "stderr",
     "output_type": "stream",
     "text": [
      "C:\\Users\\admin\\Anaconda3\\lib\\site-packages\\matplotlib\\axes\\_axes.py:6462: UserWarning: The 'normed' kwarg is deprecated, and has been replaced by the 'density' kwarg.\n",
      "  warnings.warn(\"The 'normed' kwarg is deprecated, and has been \"\n"
     ]
    },
    {
     "data": {
      "text/plain": [
       "<matplotlib.axes._subplots.AxesSubplot at 0xb058828>"
      ]
     },
     "execution_count": 115,
     "metadata": {},
     "output_type": "execute_result"
    },
    {
     "data": {
      "image/png": "[encoded data removed]",
      "text/plain": [
       "<Figure size 432x288 with 1 Axes>"
      ]
     },
     "metadata": {},
     "output_type": "display_data"
    }
   ],
   "source": [
    "sns.distplot(marks)"
   ]
  },
  {
   "cell_type": "code",
   "execution_count": 116,
   "metadata": {},
   "outputs": [
    {
     "data": {
      "text/plain": [
       "<matplotlib.axes._subplots.AxesSubplot at 0x917ef98>"
      ]
     },
     "execution_count": 116,
     "metadata": {},
     "output_type": "execute_result"
    },
    {
     "data": {
      "image/png": "[encoded data removed]",
      "text/plain": [
       "<Figure size 432x288 with 1 Axes>"
      ]
     },
     "metadata": {},
     "output_type": "display_data"
    }
   ],
   "source": [
    "sns.boxplot(marks)"
   ]
  },
  {
   "cell_type": "code",
   "execution_count": 117,
   "metadata": {},
   "outputs": [],
   "source": [
    "n = np.array([1,2,3,4,5,6,7,8,9])"
   ]
  },
  {
   "cell_type": "code",
   "execution_count": 118,
   "metadata": {},
   "outputs": [
    {
     "data": {
      "text/plain": [
       "5.0"
      ]
     },
     "execution_count": 118,
     "metadata": {},
     "output_type": "execute_result"
    }
   ],
   "source": [
    "np.mean(n)"
   ]
  },
  {
   "cell_type": "code",
   "execution_count": 119,
   "metadata": {},
   "outputs": [
    {
     "data": {
      "text/plain": [
       "5.0"
      ]
     },
     "execution_count": 119,
     "metadata": {},
     "output_type": "execute_result"
    }
   ],
   "source": [
    "np.median(n)"
   ]
  },
  {
   "cell_type": "code",
   "execution_count": 120,
   "metadata": {},
   "outputs": [
    {
     "data": {
      "text/plain": [
       "<matplotlib.axes._subplots.AxesSubplot at 0xb409518>"
      ]
     },
     "execution_count": 120,
     "metadata": {},
     "output_type": "execute_result"
    },
    {
     "data": {
      "image/png": "[encoded data removed]",
      "text/plain": [
       "<Figure size 432x288 with 1 Axes>"
      ]
     },
     "metadata": {},
     "output_type": "display_data"
    }
   ],
   "source": [
    "sns.boxplot(n)"
   ]
  },
  {
   "cell_type": "code",
   "execution_count": 121,
   "metadata": {},
   "outputs": [
    {
     "name": "stderr",
     "output_type": "stream",
     "text": [
      "C:\\Users\\admin\\Anaconda3\\lib\\site-packages\\matplotlib\\axes\\_axes.py:6462: UserWarning: The 'normed' kwarg is deprecated, and has been replaced by the 'density' kwarg.\n",
      "  warnings.warn(\"The 'normed' kwarg is deprecated, and has been \"\n"
     ]
    },
    {
     "data": {
      "text/plain": [
       "<matplotlib.axes._subplots.AxesSubplot at 0xb4292b0>"
      ]
     },
     "execution_count": 121,
     "metadata": {},
     "output_type": "execute_result"
    },
    {
     "data": {
      "image/png": "[encoded data removed]",
      "text/plain": [
       "<Figure size 432x288 with 1 Axes>"
      ]
     },
     "metadata": {},
     "output_type": "display_data"
    }
   ],
   "source": [
    "sns.distplot(n)"
   ]
  },
  {
   "cell_type": "code",
   "execution_count": 123,
   "metadata": {},
   "outputs": [],
   "source": [
    "import numpy as np\n",
    "import pandas as pd\n",
    "import matplotlib.pyplot as plt\n",
    "%matplotlib inline"
   ]
  },
  {
   "cell_type": "code",
   "execution_count": 124,
   "metadata": {},
   "outputs": [],
   "source": [
    "T = pd.read_csv('d:/datasets/Titanic_sur_train.csv')"
   ]
  },
  {
   "cell_type": "code",
   "execution_count": 125,
   "metadata": {},
   "outputs": [
    {
     "data": {
      "text/html": [
       "<div>\n",
       "<style scoped>\n",
       "    .dataframe tbody tr th:only-of-type {\n",
       "        vertical-align: middle;\n",
       "    }\n",
       "\n",
       "    .dataframe tbody tr th {\n",
       "        vertical-align: top;\n",
       "    }\n",
       "\n",
       "    .dataframe thead th {\n",
       "        text-align: right;\n",
       "    }\n",
       "</style>\n",
       "<table border=\"1\" class=\"dataframe\">\n",
       "  <thead>\n",
       "    <tr style=\"text-align: right;\">\n",
       "      <th></th>\n",
       "      <th>PassengerId</th>\n",
       "      <th>Survived</th>\n",
       "      <th>Pclass</th>\n",
       "      <th>Name</th>\n",
       "      <th>Sex</th>\n",
       "      <th>Age</th>\n",
       "      <th>SibSp</th>\n",
       "      <th>Parch</th>\n",
       "      <th>Ticket</th>\n",
       "      <th>Fare</th>\n",
       "      <th>Cabin</th>\n",
       "      <th>Embarked</th>\n",
       "    </tr>\n",
       "  </thead>\n",
       "  <tbody>\n",
       "    <tr>\n",
       "      <th>0</th>\n",
       "      <td>1</td>\n",
       "      <td>0</td>\n",
       "      <td>3</td>\n",
       "      <td>Braund, Mr. Owen Harris</td>\n",
       "      <td>male</td>\n",
       "      <td>22.0</td>\n",
       "      <td>1</td>\n",
       "      <td>0</td>\n",
       "      <td>A/5 21171</td>\n",
       "      <td>7.2500</td>\n",
       "      <td>NaN</td>\n",
       "      <td>S</td>\n",
       "    </tr>\n",
       "    <tr>\n",
       "      <th>1</th>\n",
       "      <td>2</td>\n",
       "      <td>1</td>\n",
       "      <td>1</td>\n",
       "      <td>Cumings, Mrs. John Bradley (Florence Briggs Th...</td>\n",
       "      <td>female</td>\n",
       "      <td>38.0</td>\n",
       "      <td>1</td>\n",
       "      <td>0</td>\n",
       "      <td>PC 17599</td>\n",
       "      <td>71.2833</td>\n",
       "      <td>C85</td>\n",
       "      <td>C</td>\n",
       "    </tr>\n",
       "    <tr>\n",
       "      <th>2</th>\n",
       "      <td>3</td>\n",
       "      <td>1</td>\n",
       "      <td>3</td>\n",
       "      <td>Heikkinen, Miss. Laina</td>\n",
       "      <td>female</td>\n",
       "      <td>26.0</td>\n",
       "      <td>0</td>\n",
       "      <td>0</td>\n",
       "      <td>STON/O2. 3101282</td>\n",
       "      <td>7.9250</td>\n",
       "      <td>NaN</td>\n",
       "      <td>S</td>\n",
       "    </tr>\n",
       "    <tr>\n",
       "      <th>3</th>\n",
       "      <td>4</td>\n",
       "      <td>1</td>\n",
       "      <td>1</td>\n",
       "      <td>Futrelle, Mrs. Jacques Heath (Lily May Peel)</td>\n",
       "      <td>female</td>\n",
       "      <td>35.0</td>\n",
       "      <td>1</td>\n",
       "      <td>0</td>\n",
       "      <td>113803</td>\n",
       "      <td>53.1000</td>\n",
       "      <td>C123</td>\n",
       "      <td>S</td>\n",
       "    </tr>\n",
       "    <tr>\n",
       "      <th>4</th>\n",
       "      <td>5</td>\n",
       "      <td>0</td>\n",
       "      <td>3</td>\n",
       "      <td>Allen, Mr. William Henry</td>\n",
       "      <td>male</td>\n",
       "      <td>35.0</td>\n",
       "      <td>0</td>\n",
       "      <td>0</td>\n",
       "      <td>373450</td>\n",
       "      <td>8.0500</td>\n",
       "      <td>NaN</td>\n",
       "      <td>S</td>\n",
       "    </tr>\n",
       "  </tbody>\n",
       "</table>\n",
       "</div>"
      ],
      "text/plain": [
       "   PassengerId  Survived  Pclass  \\\n",
       "0            1         0       3   \n",
       "1            2         1       1   \n",
       "2            3         1       3   \n",
       "3            4         1       1   \n",
       "4            5         0       3   \n",
       "\n",
       "                                                Name     Sex   Age  SibSp  \\\n",
       "0                            Braund, Mr. Owen Harris    male  22.0      1   \n",
       "1  Cumings, Mrs. John Bradley (Florence Briggs Th...  female  38.0      1   \n",
       "2                             Heikkinen, Miss. Laina  female  26.0      0   \n",
       "3       Futrelle, Mrs. Jacques Heath (Lily May Peel)  female  35.0      1   \n",
       "4                           Allen, Mr. William Henry    male  35.0      0   \n",
       "\n",
       "   Parch            Ticket     Fare Cabin Embarked  \n",
       "0      0         A/5 21171   7.2500   NaN        S  \n",
       "1      0          PC 17599  71.2833   C85        C  \n",
       "2      0  STON/O2. 3101282   7.9250   NaN        S  \n",
       "3      0            113803  53.1000  C123        S  \n",
       "4      0            373450   8.0500   NaN        S  "
      ]
     },
     "execution_count": 125,
     "metadata": {},
     "output_type": "execute_result"
    }
   ],
   "source": [
    "T.head()"
   ]
  },
  {
   "cell_type": "code",
   "execution_count": 126,
   "metadata": {},
   "outputs": [
    {
     "data": {
      "text/plain": [
       "891"
      ]
     },
     "execution_count": 126,
     "metadata": {},
     "output_type": "execute_result"
    }
   ],
   "source": [
    "len(T)"
   ]
  },
  {
   "cell_type": "code",
   "execution_count": 131,
   "metadata": {},
   "outputs": [
    {
     "name": "stdout",
     "output_type": "stream",
     "text": [
      "Collecting pandas_profiling\n",
      "Collecting tangled-up-in-unicode==0.0.3 (from pandas_profiling)\n",
      "Collecting ipywidgets==7.5.1 (from pandas_profiling)\n",
      "  Using cached https://files.pythonhosted.org/packages/56/a0/dbcf5881bb2f51e8db678211907f16ea0a182b232c591a6d6f276985ca95/ipywidgets-7.5.1-py2.py3-none-any.whl\n",
      "Collecting kaggle==1.5.6 (from pandas_profiling)\n",
      "Collecting htmlmin==0.1.12 (from pandas_profiling)\n",
      "Collecting confuse==1.0.0 (from pandas_profiling)\n",
      "Collecting requests==2.22.0 (from pandas_profiling)\n",
      "  Using cached https://files.pythonhosted.org/packages/51/bd/23c926cd341ea6b7dd0b2a00aba99ae0f828be89d72b2190f27c11d4b7fb/requests-2.22.0-py2.py3-none-any.whl\n",
      "Collecting tqdm==4.42.0 (from pandas_profiling)\n",
      "  Using cached https://files.pythonhosted.org/packages/cc/2e/4307206db63f05ed37e21d4c0d843d0fbcacd62479f8ce99ba0f2c0875e0/tqdm-4.42.0-py2.py3-none-any.whl\n",
      "Collecting visions==0.2.2 (from pandas_profiling)\n",
      "Collecting scipy>=1.4.1 (from pandas_profiling)\n",
      "  Using cached https://files.pythonhosted.org/packages/8d/2f/fcb6150813b89d628749784370132e431f687ebab5a1063eb298cc941f76/scipy-1.4.1-cp36-cp36m-win_amd64.whl\n",
      "Collecting jinja2==2.11.1 (from pandas_profiling)\n",
      "  Using cached https://files.pythonhosted.org/packages/27/24/4f35961e5c669e96f6559760042a55b9bcfcdb82b9bdb3c8753dbe042e35/Jinja2-2.11.1-py2.py3-none-any.whl\n",
      "Collecting pandas==0.25.3 (from pandas_profiling)\n",
      "  Using cached https://files.pythonhosted.org/packages/f0/ac/92c3d2f0b627efbd1a7b2156faa697f9c2bbd7b0fe83ba8a9d36f982156f/pandas-0.25.3-cp36-cp36m-win_amd64.whl\n",
      "Collecting astropy>=3.2.3 (from pandas_profiling)\n",
      "  Using cached https://files.pythonhosted.org/packages/9a/dc/bdb8adf74aeda5bd8e9714642ccd7f49995381d3b490744004f9bf16d07b/astropy-4.0-cp36-cp36m-win_amd64.whl\n",
      "Collecting phik==0.9.9 (from pandas_profiling)\n",
      "  Using cached https://files.pythonhosted.org/packages/03/cf/b8cef2778104dc5d319f36dd836efaceb07a037cbf63f27c966b5a193ce9/phik-0.9.9-py3-none-any.whl\n",
      "Collecting missingno==0.4.2 (from pandas_profiling)\n",
      "  Using cached https://files.pythonhosted.org/packages/2b/de/6e4dd6d720c49939544352155dc06a08c9f7e4271aa631a559dfbeaaf9d4/missingno-0.4.2-py3-none-any.whl\n",
      "Collecting matplotlib>=3.0.3 (from pandas_profiling)\n",
      "  Using cached https://files.pythonhosted.org/packages/bd/ab/30e83ac00e288fe315adc040270e1c0006a21cd31a7984d36f981e0178b4/matplotlib-3.2.0-cp36-cp36m-win_amd64.whl\n",
      "Requirement already satisfied: numpy>=1.16.0 in c:\\users\\admin\\anaconda3\\lib\\site-packages (from pandas_profiling) (1.18.2)\n",
      "Requirement already satisfied: traitlets>=4.3.1 in c:\\users\\admin\\anaconda3\\lib\\site-packages (from ipywidgets==7.5.1->pandas_profiling) (4.3.2)\n",
      "Requirement already satisfied: ipython>=4.0.0; python_version >= \"3.3\" in c:\\users\\admin\\anaconda3\\lib\\site-packages (from ipywidgets==7.5.1->pandas_profiling) (6.4.0)\n",
      "Requirement already satisfied: ipykernel>=4.5.1 in c:\\users\\admin\\anaconda3\\lib\\site-packages (from ipywidgets==7.5.1->pandas_profiling) (4.8.2)\n",
      "Collecting widgetsnbextension~=3.5.0 (from ipywidgets==7.5.1->pandas_profiling)\n",
      "  Using cached https://files.pythonhosted.org/packages/6c/7b/7ac231c20d2d33c445eaacf8a433f4e22c60677eb9776c7c5262d7ddee2d/widgetsnbextension-3.5.1-py2.py3-none-any.whl\n",
      "Requirement already satisfied: nbformat>=4.2.0 in c:\\users\\admin\\anaconda3\\lib\\site-packages (from ipywidgets==7.5.1->pandas_profiling) (4.4.0)\n",
      "Requirement already satisfied: six>=1.10 in c:\\users\\admin\\anaconda3\\lib\\site-packages (from kaggle==1.5.6->pandas_profiling) (1.11.0)\n",
      "Requirement already satisfied: urllib3<1.25,>=1.21.1 in c:\\users\\admin\\anaconda3\\lib\\site-packages (from kaggle==1.5.6->pandas_profiling) (1.22)\n",
      "Requirement already satisfied: certifi in c:\\users\\admin\\anaconda3\\lib\\site-packages (from kaggle==1.5.6->pandas_profiling) (2018.4.16)\n",
      "Requirement already satisfied: python-dateutil in c:\\users\\admin\\anaconda3\\lib\\site-packages (from kaggle==1.5.6->pandas_profiling) (2.7.3)\n",
      "Collecting python-slugify (from kaggle==1.5.6->pandas_profiling)\n",
      "Requirement already satisfied: pyyaml in c:\\users\\admin\\anaconda3\\lib\\site-packages (from confuse==1.0.0->pandas_profiling) (3.12)\n",
      "Requirement already satisfied: chardet<3.1.0,>=3.0.2 in c:\\users\\admin\\anaconda3\\lib\\site-packages (from requests==2.22.0->pandas_profiling) (3.0.4)\n",
      "Requirement already satisfied: idna<2.9,>=2.5 in c:\\users\\admin\\anaconda3\\lib\\site-packages (from requests==2.22.0->pandas_profiling) (2.6)\n",
      "Requirement already satisfied: networkx in c:\\users\\admin\\anaconda3\\lib\\site-packages (from visions==0.2.2->pandas_profiling) (2.1)\n",
      "Collecting attr (from visions==0.2.2->pandas_profiling)\n",
      "Requirement already satisfied: MarkupSafe>=0.23 in c:\\users\\admin\\anaconda3\\lib\\site-packages (from jinja2==2.11.1->pandas_profiling) (1.0)\n",
      "Requirement already satisfied: pytz>=2017.2 in c:\\users\\admin\\anaconda3\\lib\\site-packages (from pandas==0.25.3->pandas_profiling) (2018.4)\n",
      "Requirement already satisfied: nbconvert>=5.3.1 in c:\\users\\admin\\anaconda3\\lib\\site-packages (from phik==0.9.9->pandas_profiling) (5.3.1)\n",
      "Requirement already satisfied: jupyter-client>=5.2.3 in c:\\users\\admin\\anaconda3\\lib\\site-packages (from phik==0.9.9->pandas_profiling) (5.2.3)\n",
      "Collecting pytest>=4.0.2 (from phik==0.9.9->pandas_profiling)\n",
      "  Using cached https://files.pythonhosted.org/packages/c7/e2/c19c667f42f72716a7d03e8dd4d6f63f47d39feadd44cc1ee7ca3089862c/pytest-5.4.1-py3-none-any.whl\n",
      "Collecting numba>=0.38.1 (from phik==0.9.9->pandas_profiling)\n",
      "  Using cached https://files.pythonhosted.org/packages/ae/61/15ac002290c77694aa88aa9ead95879e7121b9ad40b23f9b89701bec355b/numba-0.48.0-cp36-cp36m-win_amd64.whl\n",
      "Collecting joblib>=0.14.1 (from phik==0.9.9->pandas_profiling)\n",
      "  Using cached https://files.pythonhosted.org/packages/28/5c/cf6a2b65a321c4a209efcdf64c2689efae2cb62661f8f6f4bb28547cf1bf/joblib-0.14.1-py2.py3-none-any.whl\n",
      "Collecting pytest-pylint>=0.13.0 (from phik==0.9.9->pandas_profiling)\n",
      "  Using cached https://files.pythonhosted.org/packages/31/ef/e848f832a596a8a40b32d8aa169788b4df167c2d6a5960c01e83a30ebaa7/pytest_pylint-0.15.1-py3-none-any.whl\n",
      "Requirement already satisfied: seaborn in c:\\users\\admin\\anaconda3\\lib\\site-packages (from missingno==0.4.2->pandas_profiling) (0.8.1)\n",
      "Requirement already satisfied: kiwisolver>=1.0.1 in c:\\users\\admin\\anaconda3\\lib\\site-packages (from matplotlib>=3.0.3->pandas_profiling) (1.0.1)\n",
      "Requirement already satisfied: pyparsing!=2.0.4,!=2.1.2,!=2.1.6,>=2.0.1 in c:\\users\\admin\\anaconda3\\lib\\site-packages (from matplotlib>=3.0.3->pandas_profiling) (2.2.0)\n",
      "Requirement already satisfied: cycler>=0.10 in c:\\users\\admin\\anaconda3\\lib\\site-packages (from matplotlib>=3.0.3->pandas_profiling) (0.10.0)\n",
      "Requirement already satisfied: ipython_genutils in c:\\users\\admin\\anaconda3\\lib\\site-packages (from traitlets>=4.3.1->ipywidgets==7.5.1->pandas_profiling) (0.2.0)\n",
      "Requirement already satisfied: decorator in c:\\users\\admin\\anaconda3\\lib\\site-packages (from traitlets>=4.3.1->ipywidgets==7.5.1->pandas_profiling) (4.3.0)\n",
      "Requirement already satisfied: simplegeneric>0.8 in c:\\users\\admin\\anaconda3\\lib\\site-packages (from ipython>=4.0.0; python_version >= \"3.3\"->ipywidgets==7.5.1->pandas_profiling) (0.8.1)\n",
      "Requirement already satisfied: pickleshare in c:\\users\\admin\\anaconda3\\lib\\site-packages (from ipython>=4.0.0; python_version >= \"3.3\"->ipywidgets==7.5.1->pandas_profiling) (0.7.4)\n",
      "Requirement already satisfied: prompt-toolkit<2.0.0,>=1.0.15 in c:\\users\\admin\\anaconda3\\lib\\site-packages (from ipython>=4.0.0; python_version >= \"3.3\"->ipywidgets==7.5.1->pandas_profiling) (1.0.15)\n",
      "Requirement already satisfied: pygments in c:\\users\\admin\\anaconda3\\lib\\site-packages (from ipython>=4.0.0; python_version >= \"3.3\"->ipywidgets==7.5.1->pandas_profiling) (2.2.0)\n",
      "Requirement already satisfied: jedi>=0.10 in c:\\users\\admin\\anaconda3\\lib\\site-packages (from ipython>=4.0.0; python_version >= \"3.3\"->ipywidgets==7.5.1->pandas_profiling) (0.12.0)\n",
      "Requirement already satisfied: backcall in c:\\users\\admin\\anaconda3\\lib\\site-packages (from ipython>=4.0.0; python_version >= \"3.3\"->ipywidgets==7.5.1->pandas_profiling) (0.1.0)\n",
      "Requirement already satisfied: colorama; sys_platform == \"win32\" in c:\\users\\admin\\anaconda3\\lib\\site-packages (from ipython>=4.0.0; python_version >= \"3.3\"->ipywidgets==7.5.1->pandas_profiling) (0.3.9)\n",
      "Requirement already satisfied: setuptools>=18.5 in c:\\users\\admin\\anaconda3\\lib\\site-packages (from ipython>=4.0.0; python_version >= \"3.3\"->ipywidgets==7.5.1->pandas_profiling) (39.1.0)\n",
      "Requirement already satisfied: tornado>=4.0 in c:\\users\\admin\\anaconda3\\lib\\site-packages (from ipykernel>=4.5.1->ipywidgets==7.5.1->pandas_profiling) (5.0.2)\n",
      "Requirement already satisfied: notebook>=4.4.1 in c:\\users\\admin\\anaconda3\\lib\\site-packages (from widgetsnbextension~=3.5.0->ipywidgets==7.5.1->pandas_profiling) (5.5.0)\n",
      "Requirement already satisfied: jsonschema!=2.5.0,>=2.4 in c:\\users\\admin\\anaconda3\\lib\\site-packages (from nbformat>=4.2.0->ipywidgets==7.5.1->pandas_profiling) (2.6.0)\n",
      "Requirement already satisfied: jupyter_core in c:\\users\\admin\\anaconda3\\lib\\site-packages (from nbformat>=4.2.0->ipywidgets==7.5.1->pandas_profiling) (4.4.0)\n",
      "Collecting text-unidecode>=1.3 (from python-slugify->kaggle==1.5.6->pandas_profiling)\n",
      "  Using cached https://files.pythonhosted.org/packages/a6/a5/c0b6468d3824fe3fde30dbb5e1f687b291608f9473681bbf7dabbf5a87d7/text_unidecode-1.3-py2.py3-none-any.whl\n",
      "Requirement already satisfied: mistune>=0.7.4 in c:\\users\\admin\\anaconda3\\lib\\site-packages (from nbconvert>=5.3.1->phik==0.9.9->pandas_profiling) (0.8.3)\n",
      "Requirement already satisfied: entrypoints>=0.2.2 in c:\\users\\admin\\anaconda3\\lib\\site-packages (from nbconvert>=5.3.1->phik==0.9.9->pandas_profiling) (0.2.3)\n",
      "Requirement already satisfied: bleach in c:\\users\\admin\\anaconda3\\lib\\site-packages (from nbconvert>=5.3.1->phik==0.9.9->pandas_profiling) (2.1.3)\n",
      "Requirement already satisfied: pandocfilters>=1.4.1 in c:\\users\\admin\\anaconda3\\lib\\site-packages (from nbconvert>=5.3.1->phik==0.9.9->pandas_profiling) (1.4.2)\n",
      "Requirement already satisfied: testpath in c:\\users\\admin\\anaconda3\\lib\\site-packages (from nbconvert>=5.3.1->phik==0.9.9->pandas_profiling) (0.3.1)\n",
      "Requirement already satisfied: pyzmq>=13 in c:\\users\\admin\\anaconda3\\lib\\site-packages (from jupyter-client>=5.2.3->phik==0.9.9->pandas_profiling) (17.0.0)\n",
      "Requirement already satisfied: more-itertools>=4.0.0 in c:\\users\\admin\\anaconda3\\lib\\site-packages (from pytest>=4.0.2->phik==0.9.9->pandas_profiling) (4.1.0)\n",
      "Requirement already satisfied: py>=1.5.0 in c:\\users\\admin\\anaconda3\\lib\\site-packages (from pytest>=4.0.2->phik==0.9.9->pandas_profiling) (1.5.3)\n",
      "Collecting importlib-metadata>=0.12; python_version < \"3.8\" (from pytest>=4.0.2->phik==0.9.9->pandas_profiling)\n",
      "  Using cached https://files.pythonhosted.org/packages/8b/03/a00d504808808912751e64ccf414be53c29cad620e3de2421135fcae3025/importlib_metadata-1.5.0-py2.py3-none-any.whl\n",
      "Requirement already satisfied: wcwidth in c:\\users\\admin\\anaconda3\\lib\\site-packages (from pytest>=4.0.2->phik==0.9.9->pandas_profiling) (0.1.7)\n",
      "Collecting atomicwrites>=1.0; sys_platform == \"win32\" (from pytest>=4.0.2->phik==0.9.9->pandas_profiling)\n",
      "  Using cached https://files.pythonhosted.org/packages/52/90/6155aa926f43f2b2a22b01be7241be3bfd1ceaf7d0b3267213e8127d41f4/atomicwrites-1.3.0-py2.py3-none-any.whl\n",
      "Requirement already satisfied: packaging in c:\\users\\admin\\anaconda3\\lib\\site-packages (from pytest>=4.0.2->phik==0.9.9->pandas_profiling) (17.1)\n",
      "Requirement already satisfied: attrs>=17.4.0 in c:\\users\\admin\\anaconda3\\lib\\site-packages (from pytest>=4.0.2->phik==0.9.9->pandas_profiling) (18.1.0)\n",
      "Collecting pluggy<1.0,>=0.12 (from pytest>=4.0.2->phik==0.9.9->pandas_profiling)\n",
      "  Using cached https://files.pythonhosted.org/packages/a0/28/85c7aa31b80d150b772fbe4a229487bc6644da9ccb7e427dd8cc60cb8a62/pluggy-0.13.1-py2.py3-none-any.whl\n",
      "Collecting llvmlite<0.32.0,>=0.31.0dev0 (from numba>=0.38.1->phik==0.9.9->pandas_profiling)\n",
      "  Using cached https://files.pythonhosted.org/packages/41/f7/1aff7e7bd1fbfe036b1274db43006162db95df2762a831480fa85ee294ed/llvmlite-0.31.0-cp36-cp36m-win_amd64.whl\n",
      "Collecting pylint>=2.0.0 (from pytest-pylint>=0.13.0->phik==0.9.9->pandas_profiling)\n",
      "  Using cached https://files.pythonhosted.org/packages/e9/59/43fc36c5ee316bb9aeb7cf5329cdbdca89e5749c34d5602753827c0aa2dc/pylint-2.4.4-py3-none-any.whl\n",
      "Requirement already satisfied: parso>=0.2.0 in c:\\users\\admin\\anaconda3\\lib\\site-packages (from jedi>=0.10->ipython>=4.0.0; python_version >= \"3.3\"->ipywidgets==7.5.1->pandas_profiling) (0.2.0)\n",
      "Requirement already satisfied: terminado>=0.8.1 in c:\\users\\admin\\anaconda3\\lib\\site-packages (from notebook>=4.4.1->widgetsnbextension~=3.5.0->ipywidgets==7.5.1->pandas_profiling) (0.8.1)\n",
      "Requirement already satisfied: Send2Trash in c:\\users\\admin\\anaconda3\\lib\\site-packages (from notebook>=4.4.1->widgetsnbextension~=3.5.0->ipywidgets==7.5.1->pandas_profiling) (1.5.0)\n",
      "Requirement already satisfied: html5lib!=1.0b1,!=1.0b2,!=1.0b3,!=1.0b4,!=1.0b5,!=1.0b6,!=1.0b7,!=1.0b8,>=0.99999999pre in c:\\users\\admin\\anaconda3\\lib\\site-packages (from bleach->nbconvert>=5.3.1->phik==0.9.9->pandas_profiling) (1.0.1)\n",
      "Collecting zipp>=0.5 (from importlib-metadata>=0.12; python_version < \"3.8\"->pytest>=4.0.2->phik==0.9.9->pandas_profiling)\n",
      "  Using cached https://files.pythonhosted.org/packages/b2/34/bfcb43cc0ba81f527bc4f40ef41ba2ff4080e047acb0586b56b3d017ace4/zipp-3.1.0-py3-none-any.whl\n",
      "Collecting astroid<2.4,>=2.3.0 (from pylint>=2.0.0->pytest-pylint>=0.13.0->phik==0.9.9->pandas_profiling)\n",
      "  Using cached https://files.pythonhosted.org/packages/ad/ae/86734823047962e7b8c8529186a1ac4a7ca19aaf1aa0c7713c022ef593fd/astroid-2.3.3-py3-none-any.whl\n",
      "Requirement already satisfied: isort<5,>=4.2.5 in c:\\users\\admin\\anaconda3\\lib\\site-packages (from pylint>=2.0.0->pytest-pylint>=0.13.0->phik==0.9.9->pandas_profiling) (4.3.4)\n",
      "Requirement already satisfied: mccabe<0.7,>=0.6 in c:\\users\\admin\\anaconda3\\lib\\site-packages (from pylint>=2.0.0->pytest-pylint>=0.13.0->phik==0.9.9->pandas_profiling) (0.6.1)\n",
      "Requirement already satisfied: webencodings in c:\\users\\admin\\anaconda3\\lib\\site-packages (from html5lib!=1.0b1,!=1.0b2,!=1.0b3,!=1.0b4,!=1.0b5,!=1.0b6,!=1.0b7,!=1.0b8,>=0.99999999pre->bleach->nbconvert>=5.3.1->phik==0.9.9->pandas_profiling) (0.5.1)\n",
      "Collecting wrapt==1.11.* (from astroid<2.4,>=2.3.0->pylint>=2.0.0->pytest-pylint>=0.13.0->phik==0.9.9->pandas_profiling)\n",
      "Collecting lazy-object-proxy==1.4.* (from astroid<2.4,>=2.3.0->pylint>=2.0.0->pytest-pylint>=0.13.0->phik==0.9.9->pandas_profiling)\n",
      "  Using cached https://files.pythonhosted.org/packages/ae/fe/98f7c4717f1581eefc19eac54d430e4e47722d9b0dc5a7e485c3e42a5ff2/lazy_object_proxy-1.4.3-cp36-cp36m-win_amd64.whl\n",
      "Collecting typed-ast<1.5,>=1.4.0; implementation_name == \"cpython\" and python_version < \"3.8\" (from astroid<2.4,>=2.3.0->pylint>=2.0.0->pytest-pylint>=0.13.0->phik==0.9.9->pandas_profiling)\n",
      "  Using cached https://files.pythonhosted.org/packages/f3/e8/900bf1d73519069c2ad47aa865492298bbe7206f246039fba0288b4f6f84/typed_ast-1.4.1-cp36-cp36m-win_amd64.whl\n",
      "Installing collected packages: tangled-up-in-unicode, widgetsnbextension, ipywidgets, requests, tqdm, text-unidecode, python-slugify, kaggle, htmlmin, confuse, attr, pandas, visions, scipy, jinja2, astropy, zipp, importlib-metadata, atomicwrites, pluggy, pytest, llvmlite, numba, joblib, wrapt, lazy-object-proxy, typed-ast, astroid, pylint, pytest-pylint, matplotlib, phik, missingno, pandas-profiling\n",
      "  Found existing installation: widgetsnbextension 3.2.1\n",
      "    Uninstalling widgetsnbextension-3.2.1:\n",
      "      Successfully uninstalled widgetsnbextension-3.2.1\n",
      "  Found existing installation: ipywidgets 7.2.1\n",
      "    Uninstalling ipywidgets-7.2.1:\n",
      "      Successfully uninstalled ipywidgets-7.2.1\n",
      "  Found existing installation: requests 2.18.4\n",
      "    Uninstalling requests-2.18.4:\n",
      "      Successfully uninstalled requests-2.18.4\n",
      "  Found existing installation: pandas 0.23.0\n",
      "    Uninstalling pandas-0.23.0:\n",
      "      Successfully uninstalled pandas-0.23.0\n"
     ]
    },
    {
     "name": "stderr",
     "output_type": "stream",
     "text": [
      "distributed 1.21.8 requires msgpack, which is not installed.\n",
      "astroid 2.3.3 has requirement six~=1.12, but you'll have six 1.11.0 which is incompatible.\n",
      "Could not install packages due to an EnvironmentError: [WinError 5] Access is denied: 'C:\\\\Users\\\\admin\\\\AppData\\\\Local\\\\Temp\\\\pip-uninstall-191hka6t\\\\users\\\\admin\\\\anaconda3\\\\lib\\\\site-packages\\\\pandas\\\\io\\\\msgpack\\\\_packer.cp36-win_amd64.pyd'\n",
      "Consider using the `--user` option or check the permissions.\n",
      "\n",
      "You are using pip version 10.0.1, however version 20.0.2 is available.\n",
      "You should consider upgrading via the 'python -m pip install --upgrade pip' command.\n"
     ]
    }
   ],
   "source": [
    "# Pandas profiling is an open source Python module with which we can quickly do an exploratory data analysis with just a few lines of code.\n",
    "!pip install pandas_profiling\n"
   ]
  },
  {
   "cell_type": "code",
   "execution_count": 132,
   "metadata": {},
   "outputs": [
    {
     "ename": "ModuleNotFoundError",
     "evalue": "No module named 'pandas_profiling'",
     "output_type": "error",
     "traceback": [
      "\u001b[1;31m---------------------------------------------------------------------------\u001b[0m",
      "\u001b[1;31mModuleNotFoundError\u001b[0m                       Traceback (most recent call last)",
      "\u001b[1;32m<ipython-input-132-4afb823491c5>\u001b[0m in \u001b[0;36m<module>\u001b[1;34m()\u001b[0m\n\u001b[1;32m----> 1\u001b[1;33m \u001b[1;32mimport\u001b[0m \u001b[0mpandas_profiling\u001b[0m \u001b[1;32mas\u001b[0m \u001b[0mpp\u001b[0m\u001b[1;33m\u001b[0m\u001b[0m\n\u001b[0m",
      "\u001b[1;31mModuleNotFoundError\u001b[0m: No module named 'pandas_profiling'"
     ]
    }
   ],
   "source": [
    "import pandas_profiling as pp"
   ]
  },
  {
   "cell_type": "code",
   "execution_count": 133,
   "metadata": {},
   "outputs": [
    {
     "name": "stdout",
     "output_type": "stream",
     "text": [
      "Collecting pandas_profiling\n",
      "Requirement already satisfied: numpy>=1.16.0 in c:\\users\\admin\\anaconda3\\lib\\site-packages (from pandas_profiling) (1.18.2)\n",
      "Requirement already satisfied: tqdm==4.42.0 in c:\\users\\admin\\anaconda3\\lib\\site-packages (from pandas_profiling) (4.42.0)\n",
      "Collecting jinja2==2.11.1 (from pandas_profiling)\n",
      "  Using cached https://files.pythonhosted.org/packages/27/24/4f35961e5c669e96f6559760042a55b9bcfcdb82b9bdb3c8753dbe042e35/Jinja2-2.11.1-py2.py3-none-any.whl\n",
      "Collecting phik==0.9.9 (from pandas_profiling)\n",
      "  Using cached https://files.pythonhosted.org/packages/03/cf/b8cef2778104dc5d319f36dd836efaceb07a037cbf63f27c966b5a193ce9/phik-0.9.9-py3-none-any.whl\n",
      "Collecting astropy>=3.2.3 (from pandas_profiling)\n",
      "  Using cached https://files.pythonhosted.org/packages/9a/dc/bdb8adf74aeda5bd8e9714642ccd7f49995381d3b490744004f9bf16d07b/astropy-4.0-cp36-cp36m-win_amd64.whl\n",
      "Collecting scipy>=1.4.1 (from pandas_profiling)\n",
      "  Using cached https://files.pythonhosted.org/packages/8d/2f/fcb6150813b89d628749784370132e431f687ebab5a1063eb298cc941f76/scipy-1.4.1-cp36-cp36m-win_amd64.whl\n",
      "Requirement already satisfied: htmlmin==0.1.12 in c:\\users\\admin\\anaconda3\\lib\\site-packages (from pandas_profiling) (0.1.12)\n",
      "Collecting matplotlib>=3.0.3 (from pandas_profiling)\n",
      "  Using cached https://files.pythonhosted.org/packages/bd/ab/30e83ac00e288fe315adc040270e1c0006a21cd31a7984d36f981e0178b4/matplotlib-3.2.0-cp36-cp36m-win_amd64.whl\n",
      "Collecting missingno==0.4.2 (from pandas_profiling)\n",
      "  Using cached https://files.pythonhosted.org/packages/2b/de/6e4dd6d720c49939544352155dc06a08c9f7e4271aa631a559dfbeaaf9d4/missingno-0.4.2-py3-none-any.whl\n",
      "Requirement already satisfied: confuse==1.0.0 in c:\\users\\admin\\anaconda3\\lib\\site-packages (from pandas_profiling) (1.0.0)\n",
      "Requirement already satisfied: pandas==0.25.3 in c:\\users\\admin\\anaconda3\\lib\\site-packages (from pandas_profiling) (0.25.3)\n",
      "Requirement already satisfied: tangled-up-in-unicode==0.0.3 in c:\\users\\admin\\anaconda3\\lib\\site-packages (from pandas_profiling) (0.0.3)\n",
      "Requirement already satisfied: kaggle==1.5.6 in c:\\users\\admin\\anaconda3\\lib\\site-packages (from pandas_profiling) (1.5.6)\n",
      "Requirement already satisfied: ipywidgets==7.5.1 in c:\\users\\admin\\anaconda3\\lib\\site-packages (from pandas_profiling) (7.5.1)\n",
      "Requirement already satisfied: requests==2.22.0 in c:\\users\\admin\\anaconda3\\lib\\site-packages (from pandas_profiling) (2.22.0)\n",
      "Collecting visions==0.2.2 (from pandas_profiling)\n",
      "Requirement already satisfied: MarkupSafe>=0.23 in c:\\users\\admin\\anaconda3\\lib\\site-packages (from jinja2==2.11.1->pandas_profiling) (1.0)\n",
      "Requirement already satisfied: nbconvert>=5.3.1 in c:\\users\\admin\\anaconda3\\lib\\site-packages (from phik==0.9.9->pandas_profiling) (5.3.1)\n",
      "Collecting pytest-pylint>=0.13.0 (from phik==0.9.9->pandas_profiling)\n",
      "  Using cached https://files.pythonhosted.org/packages/31/ef/e848f832a596a8a40b32d8aa169788b4df167c2d6a5960c01e83a30ebaa7/pytest_pylint-0.15.1-py3-none-any.whl\n",
      "Collecting joblib>=0.14.1 (from phik==0.9.9->pandas_profiling)\n",
      "  Using cached https://files.pythonhosted.org/packages/28/5c/cf6a2b65a321c4a209efcdf64c2689efae2cb62661f8f6f4bb28547cf1bf/joblib-0.14.1-py2.py3-none-any.whl\n",
      "Collecting numba>=0.38.1 (from phik==0.9.9->pandas_profiling)\n",
      "  Using cached https://files.pythonhosted.org/packages/ae/61/15ac002290c77694aa88aa9ead95879e7121b9ad40b23f9b89701bec355b/numba-0.48.0-cp36-cp36m-win_amd64.whl\n",
      "Requirement already satisfied: jupyter-client>=5.2.3 in c:\\users\\admin\\anaconda3\\lib\\site-packages (from phik==0.9.9->pandas_profiling) (5.2.3)\n",
      "Collecting pytest>=4.0.2 (from phik==0.9.9->pandas_profiling)\n",
      "  Using cached https://files.pythonhosted.org/packages/c7/e2/c19c667f42f72716a7d03e8dd4d6f63f47d39feadd44cc1ee7ca3089862c/pytest-5.4.1-py3-none-any.whl\n",
      "Requirement already satisfied: kiwisolver>=1.0.1 in c:\\users\\admin\\anaconda3\\lib\\site-packages (from matplotlib>=3.0.3->pandas_profiling) (1.0.1)\n",
      "Requirement already satisfied: python-dateutil>=2.1 in c:\\users\\admin\\anaconda3\\lib\\site-packages (from matplotlib>=3.0.3->pandas_profiling) (2.7.3)\n",
      "Requirement already satisfied: pyparsing!=2.0.4,!=2.1.2,!=2.1.6,>=2.0.1 in c:\\users\\admin\\anaconda3\\lib\\site-packages (from matplotlib>=3.0.3->pandas_profiling) (2.2.0)\n",
      "Requirement already satisfied: cycler>=0.10 in c:\\users\\admin\\anaconda3\\lib\\site-packages (from matplotlib>=3.0.3->pandas_profiling) (0.10.0)\n",
      "Requirement already satisfied: seaborn in c:\\users\\admin\\anaconda3\\lib\\site-packages (from missingno==0.4.2->pandas_profiling) (0.8.1)\n",
      "Requirement already satisfied: pyyaml in c:\\users\\admin\\anaconda3\\lib\\site-packages (from confuse==1.0.0->pandas_profiling) (3.12)\n",
      "Requirement already satisfied: pytz>=2017.2 in c:\\users\\admin\\anaconda3\\lib\\site-packages (from pandas==0.25.3->pandas_profiling) (2018.4)\n",
      "Requirement already satisfied: certifi in c:\\users\\admin\\anaconda3\\lib\\site-packages (from kaggle==1.5.6->pandas_profiling) (2018.4.16)\n",
      "Requirement already satisfied: python-slugify in c:\\users\\admin\\anaconda3\\lib\\site-packages (from kaggle==1.5.6->pandas_profiling) (4.0.0)\n",
      "Requirement already satisfied: six>=1.10 in c:\\users\\admin\\anaconda3\\lib\\site-packages (from kaggle==1.5.6->pandas_profiling) (1.11.0)\n",
      "Requirement already satisfied: urllib3<1.25,>=1.21.1 in c:\\users\\admin\\anaconda3\\lib\\site-packages (from kaggle==1.5.6->pandas_profiling) (1.22)\n",
      "Requirement already satisfied: widgetsnbextension~=3.5.0 in c:\\users\\admin\\anaconda3\\lib\\site-packages (from ipywidgets==7.5.1->pandas_profiling) (3.5.1)\n",
      "Requirement already satisfied: ipykernel>=4.5.1 in c:\\users\\admin\\anaconda3\\lib\\site-packages (from ipywidgets==7.5.1->pandas_profiling) (4.8.2)\n",
      "Requirement already satisfied: traitlets>=4.3.1 in c:\\users\\admin\\anaconda3\\lib\\site-packages (from ipywidgets==7.5.1->pandas_profiling) (4.3.2)\n",
      "Requirement already satisfied: nbformat>=4.2.0 in c:\\users\\admin\\anaconda3\\lib\\site-packages (from ipywidgets==7.5.1->pandas_profiling) (4.4.0)\n",
      "Requirement already satisfied: ipython>=4.0.0; python_version >= \"3.3\" in c:\\users\\admin\\anaconda3\\lib\\site-packages (from ipywidgets==7.5.1->pandas_profiling) (6.4.0)\n",
      "Requirement already satisfied: chardet<3.1.0,>=3.0.2 in c:\\users\\admin\\anaconda3\\lib\\site-packages (from requests==2.22.0->pandas_profiling) (3.0.4)\n",
      "Requirement already satisfied: idna<2.9,>=2.5 in c:\\users\\admin\\anaconda3\\lib\\site-packages (from requests==2.22.0->pandas_profiling) (2.6)\n",
      "Requirement already satisfied: attr in c:\\users\\admin\\anaconda3\\lib\\site-packages (from visions==0.2.2->pandas_profiling) (0.3.1)\n",
      "Requirement already satisfied: networkx in c:\\users\\admin\\anaconda3\\lib\\site-packages (from visions==0.2.2->pandas_profiling) (2.1)\n",
      "Requirement already satisfied: mistune>=0.7.4 in c:\\users\\admin\\anaconda3\\lib\\site-packages (from nbconvert>=5.3.1->phik==0.9.9->pandas_profiling) (0.8.3)\n",
      "Requirement already satisfied: pygments in c:\\users\\admin\\anaconda3\\lib\\site-packages (from nbconvert>=5.3.1->phik==0.9.9->pandas_profiling) (2.2.0)\n",
      "Requirement already satisfied: jupyter_core in c:\\users\\admin\\anaconda3\\lib\\site-packages (from nbconvert>=5.3.1->phik==0.9.9->pandas_profiling) (4.4.0)\n",
      "Requirement already satisfied: entrypoints>=0.2.2 in c:\\users\\admin\\anaconda3\\lib\\site-packages (from nbconvert>=5.3.1->phik==0.9.9->pandas_profiling) (0.2.3)\n",
      "Requirement already satisfied: bleach in c:\\users\\admin\\anaconda3\\lib\\site-packages (from nbconvert>=5.3.1->phik==0.9.9->pandas_profiling) (2.1.3)\n",
      "Requirement already satisfied: pandocfilters>=1.4.1 in c:\\users\\admin\\anaconda3\\lib\\site-packages (from nbconvert>=5.3.1->phik==0.9.9->pandas_profiling) (1.4.2)\n",
      "Requirement already satisfied: testpath in c:\\users\\admin\\anaconda3\\lib\\site-packages (from nbconvert>=5.3.1->phik==0.9.9->pandas_profiling) (0.3.1)\n",
      "Collecting pylint>=2.0.0 (from pytest-pylint>=0.13.0->phik==0.9.9->pandas_profiling)\n",
      "  Using cached https://files.pythonhosted.org/packages/e9/59/43fc36c5ee316bb9aeb7cf5329cdbdca89e5749c34d5602753827c0aa2dc/pylint-2.4.4-py3-none-any.whl\n",
      "Collecting llvmlite<0.32.0,>=0.31.0dev0 (from numba>=0.38.1->phik==0.9.9->pandas_profiling)\n",
      "  Using cached https://files.pythonhosted.org/packages/41/f7/1aff7e7bd1fbfe036b1274db43006162db95df2762a831480fa85ee294ed/llvmlite-0.31.0-cp36-cp36m-win_amd64.whl\n",
      "Requirement already satisfied: setuptools in c:\\users\\admin\\anaconda3\\lib\\site-packages (from numba>=0.38.1->phik==0.9.9->pandas_profiling) (39.1.0)\n",
      "Requirement already satisfied: pyzmq>=13 in c:\\users\\admin\\anaconda3\\lib\\site-packages (from jupyter-client>=5.2.3->phik==0.9.9->pandas_profiling) (17.0.0)\n",
      "Requirement already satisfied: tornado>=4.1 in c:\\users\\admin\\anaconda3\\lib\\site-packages (from jupyter-client>=5.2.3->phik==0.9.9->pandas_profiling) (5.0.2)\n",
      "Requirement already satisfied: attrs>=17.4.0 in c:\\users\\admin\\anaconda3\\lib\\site-packages (from pytest>=4.0.2->phik==0.9.9->pandas_profiling) (18.1.0)\n",
      "Requirement already satisfied: more-itertools>=4.0.0 in c:\\users\\admin\\anaconda3\\lib\\site-packages (from pytest>=4.0.2->phik==0.9.9->pandas_profiling) (4.1.0)\n",
      "Collecting pluggy<1.0,>=0.12 (from pytest>=4.0.2->phik==0.9.9->pandas_profiling)\n",
      "  Using cached https://files.pythonhosted.org/packages/a0/28/85c7aa31b80d150b772fbe4a229487bc6644da9ccb7e427dd8cc60cb8a62/pluggy-0.13.1-py2.py3-none-any.whl\n",
      "Requirement already satisfied: colorama; sys_platform == \"win32\" in c:\\users\\admin\\anaconda3\\lib\\site-packages (from pytest>=4.0.2->phik==0.9.9->pandas_profiling) (0.3.9)\n",
      "Collecting atomicwrites>=1.0; sys_platform == \"win32\" (from pytest>=4.0.2->phik==0.9.9->pandas_profiling)\n",
      "  Using cached https://files.pythonhosted.org/packages/52/90/6155aa926f43f2b2a22b01be7241be3bfd1ceaf7d0b3267213e8127d41f4/atomicwrites-1.3.0-py2.py3-none-any.whl\n",
      "Requirement already satisfied: wcwidth in c:\\users\\admin\\anaconda3\\lib\\site-packages (from pytest>=4.0.2->phik==0.9.9->pandas_profiling) (0.1.7)\n",
      "Requirement already satisfied: py>=1.5.0 in c:\\users\\admin\\anaconda3\\lib\\site-packages (from pytest>=4.0.2->phik==0.9.9->pandas_profiling) (1.5.3)\n",
      "Collecting importlib-metadata>=0.12; python_version < \"3.8\" (from pytest>=4.0.2->phik==0.9.9->pandas_profiling)\n",
      "  Using cached https://files.pythonhosted.org/packages/8b/03/a00d504808808912751e64ccf414be53c29cad620e3de2421135fcae3025/importlib_metadata-1.5.0-py2.py3-none-any.whl\n",
      "Requirement already satisfied: packaging in c:\\users\\admin\\anaconda3\\lib\\site-packages (from pytest>=4.0.2->phik==0.9.9->pandas_profiling) (17.1)\n",
      "Requirement already satisfied: text-unidecode>=1.3 in c:\\users\\admin\\anaconda3\\lib\\site-packages (from python-slugify->kaggle==1.5.6->pandas_profiling) (1.3)\n",
      "Requirement already satisfied: notebook>=4.4.1 in c:\\users\\admin\\anaconda3\\lib\\site-packages (from widgetsnbextension~=3.5.0->ipywidgets==7.5.1->pandas_profiling) (5.5.0)\n",
      "Requirement already satisfied: ipython_genutils in c:\\users\\admin\\anaconda3\\lib\\site-packages (from traitlets>=4.3.1->ipywidgets==7.5.1->pandas_profiling) (0.2.0)\n",
      "Requirement already satisfied: decorator in c:\\users\\admin\\anaconda3\\lib\\site-packages (from traitlets>=4.3.1->ipywidgets==7.5.1->pandas_profiling) (4.3.0)\n",
      "Requirement already satisfied: jsonschema!=2.5.0,>=2.4 in c:\\users\\admin\\anaconda3\\lib\\site-packages (from nbformat>=4.2.0->ipywidgets==7.5.1->pandas_profiling) (2.6.0)\n",
      "Requirement already satisfied: prompt-toolkit<2.0.0,>=1.0.15 in c:\\users\\admin\\anaconda3\\lib\\site-packages (from ipython>=4.0.0; python_version >= \"3.3\"->ipywidgets==7.5.1->pandas_profiling) (1.0.15)\n",
      "Requirement already satisfied: simplegeneric>0.8 in c:\\users\\admin\\anaconda3\\lib\\site-packages (from ipython>=4.0.0; python_version >= \"3.3\"->ipywidgets==7.5.1->pandas_profiling) (0.8.1)\n",
      "Requirement already satisfied: jedi>=0.10 in c:\\users\\admin\\anaconda3\\lib\\site-packages (from ipython>=4.0.0; python_version >= \"3.3\"->ipywidgets==7.5.1->pandas_profiling) (0.12.0)\n",
      "Requirement already satisfied: pickleshare in c:\\users\\admin\\anaconda3\\lib\\site-packages (from ipython>=4.0.0; python_version >= \"3.3\"->ipywidgets==7.5.1->pandas_profiling) (0.7.4)\n",
      "Requirement already satisfied: backcall in c:\\users\\admin\\anaconda3\\lib\\site-packages (from ipython>=4.0.0; python_version >= \"3.3\"->ipywidgets==7.5.1->pandas_profiling) (0.1.0)\n",
      "Requirement already satisfied: html5lib!=1.0b1,!=1.0b2,!=1.0b3,!=1.0b4,!=1.0b5,!=1.0b6,!=1.0b7,!=1.0b8,>=0.99999999pre in c:\\users\\admin\\anaconda3\\lib\\site-packages (from bleach->nbconvert>=5.3.1->phik==0.9.9->pandas_profiling) (1.0.1)\n",
      "Requirement already satisfied: mccabe<0.7,>=0.6 in c:\\users\\admin\\anaconda3\\lib\\site-packages (from pylint>=2.0.0->pytest-pylint>=0.13.0->phik==0.9.9->pandas_profiling) (0.6.1)\n",
      "Requirement already satisfied: isort<5,>=4.2.5 in c:\\users\\admin\\anaconda3\\lib\\site-packages (from pylint>=2.0.0->pytest-pylint>=0.13.0->phik==0.9.9->pandas_profiling) (4.3.4)\n",
      "Collecting astroid<2.4,>=2.3.0 (from pylint>=2.0.0->pytest-pylint>=0.13.0->phik==0.9.9->pandas_profiling)\n",
      "  Using cached https://files.pythonhosted.org/packages/ad/ae/86734823047962e7b8c8529186a1ac4a7ca19aaf1aa0c7713c022ef593fd/astroid-2.3.3-py3-none-any.whl\n",
      "Collecting zipp>=0.5 (from importlib-metadata>=0.12; python_version < \"3.8\"->pytest>=4.0.2->phik==0.9.9->pandas_profiling)\n",
      "  Using cached https://files.pythonhosted.org/packages/b2/34/bfcb43cc0ba81f527bc4f40ef41ba2ff4080e047acb0586b56b3d017ace4/zipp-3.1.0-py3-none-any.whl\n",
      "Requirement already satisfied: Send2Trash in c:\\users\\admin\\anaconda3\\lib\\site-packages (from notebook>=4.4.1->widgetsnbextension~=3.5.0->ipywidgets==7.5.1->pandas_profiling) (1.5.0)\n",
      "Requirement already satisfied: terminado>=0.8.1 in c:\\users\\admin\\anaconda3\\lib\\site-packages (from notebook>=4.4.1->widgetsnbextension~=3.5.0->ipywidgets==7.5.1->pandas_profiling) (0.8.1)\n",
      "Requirement already satisfied: parso>=0.2.0 in c:\\users\\admin\\anaconda3\\lib\\site-packages (from jedi>=0.10->ipython>=4.0.0; python_version >= \"3.3\"->ipywidgets==7.5.1->pandas_profiling) (0.2.0)\n",
      "Requirement already satisfied: webencodings in c:\\users\\admin\\anaconda3\\lib\\site-packages (from html5lib!=1.0b1,!=1.0b2,!=1.0b3,!=1.0b4,!=1.0b5,!=1.0b6,!=1.0b7,!=1.0b8,>=0.99999999pre->bleach->nbconvert>=5.3.1->phik==0.9.9->pandas_profiling) (0.5.1)\n",
      "Collecting lazy-object-proxy==1.4.* (from astroid<2.4,>=2.3.0->pylint>=2.0.0->pytest-pylint>=0.13.0->phik==0.9.9->pandas_profiling)\n",
      "  Using cached https://files.pythonhosted.org/packages/ae/fe/98f7c4717f1581eefc19eac54d430e4e47722d9b0dc5a7e485c3e42a5ff2/lazy_object_proxy-1.4.3-cp36-cp36m-win_amd64.whl\n",
      "Collecting typed-ast<1.5,>=1.4.0; implementation_name == \"cpython\" and python_version < \"3.8\" (from astroid<2.4,>=2.3.0->pylint>=2.0.0->pytest-pylint>=0.13.0->phik==0.9.9->pandas_profiling)\n",
      "  Using cached https://files.pythonhosted.org/packages/f3/e8/900bf1d73519069c2ad47aa865492298bbe7206f246039fba0288b4f6f84/typed_ast-1.4.1-cp36-cp36m-win_amd64.whl\n",
      "Collecting wrapt==1.11.* (from astroid<2.4,>=2.3.0->pylint>=2.0.0->pytest-pylint>=0.13.0->phik==0.9.9->pandas_profiling)\n",
      "Installing collected packages: jinja2, zipp, importlib-metadata, pluggy, atomicwrites, pytest, lazy-object-proxy, typed-ast, wrapt, astroid, pylint, pytest-pylint, joblib, llvmlite, numba, matplotlib, scipy, phik, astropy, missingno, visions, pandas-profiling\n",
      "  Found existing installation: Jinja2 2.10\n",
      "    Uninstalling Jinja2-2.10:\n",
      "      Successfully uninstalled Jinja2-2.10\n",
      "  Found existing installation: pluggy 0.6.0\n",
      "    Uninstalling pluggy-0.6.0:\n",
      "      Successfully uninstalled pluggy-0.6.0\n",
      "  Found existing installation: pytest 3.5.1\n",
      "    Uninstalling pytest-3.5.1:\n",
      "      Successfully uninstalled pytest-3.5.1\n",
      "  Found existing installation: lazy-object-proxy 1.3.1\n",
      "    Uninstalling lazy-object-proxy-1.3.1:\n",
      "      Successfully uninstalled lazy-object-proxy-1.3.1\n",
      "  Found existing installation: wrapt 1.10.11\n"
     ]
    },
    {
     "name": "stderr",
     "output_type": "stream",
     "text": [
      "distributed 1.21.8 requires msgpack, which is not installed.\n",
      "astroid 2.3.3 has requirement six~=1.12, but you'll have six 1.11.0 which is incompatible.\n",
      "Cannot uninstall 'wrapt'. It is a distutils installed project and thus we cannot accurately determine which files belong to it which would lead to only a partial uninstall.\n",
      "You are using pip version 10.0.1, however version 20.0.2 is available.\n",
      "You should consider upgrading via the 'python -m pip install --upgrade pip' command.\n"
     ]
    }
   ],
   "source": [
    "!pip install pandas_profiling\n"
   ]
  },
  {
   "cell_type": "code",
   "execution_count": null,
   "metadata": {},
   "outputs": [],
   "source": []
  },
  {
   "cell_type": "code",
   "execution_count": 136,
   "metadata": {},
   "outputs": [
    {
     "name": "stderr",
     "output_type": "stream",
     "text": [
      "ERROR: To modify pip, please run the following command:\n",
      "C:\\Users\\admin\\Anaconda3\\python.exe -m pip install --upgrade pip\n",
      "You are using pip version 10.0.1, however version 20.0.2 is available.\n",
      "You should consider upgrading via the 'python -m pip install --upgrade pip' command.\n"
     ]
    }
   ],
   "source": [
    "!pip install --upgrade pip"
   ]
  },
  {
   "cell_type": "code",
   "execution_count": 137,
   "metadata": {},
   "outputs": [
    {
     "name": "stdout",
     "output_type": "stream",
     "text": [
      "Processing c:\\users\\admin\\appdata\\local\\pip\\cache\\wheels\\9b\\c9\\f1\\4a2f30c760e017f3e2f46be999c4597a93d126ef5ea38e276f\\pandas_profiling-2.5.0-py2.py3-none-any.whl\n",
      "Processing c:\\users\\admin\\appdata\\local\\pip\\cache\\wheels\\53\\87\\68\\294a9e88d82e395b38571df18f7cb71e9ab51cedae77dd6f31\\visions-0.2.2-cp36-none-any.whl\n",
      "Requirement already satisfied: ipywidgets==7.5.1 in c:\\users\\admin\\anaconda3\\lib\\site-packages (from pandas_profiling) (7.5.1)\n",
      "Collecting astropy>=3.2.3\n",
      "  Using cached astropy-4.0-cp36-cp36m-win_amd64.whl (6.1 MB)\n",
      "Requirement already satisfied: tqdm==4.42.0 in c:\\users\\admin\\anaconda3\\lib\\site-packages (from pandas_profiling) (4.42.0)\n",
      "Requirement already satisfied: htmlmin==0.1.12 in c:\\users\\admin\\anaconda3\\lib\\site-packages (from pandas_profiling) (0.1.12)\n",
      "Requirement already satisfied: kaggle==1.5.6 in c:\\users\\admin\\anaconda3\\lib\\site-packages (from pandas_profiling) (1.5.6)\n",
      "Requirement already satisfied: jinja2==2.11.1 in c:\\users\\admin\\anaconda3\\lib\\site-packages (from pandas_profiling) (2.11.1)\n",
      "Requirement already satisfied: numpy>=1.16.0 in c:\\users\\admin\\anaconda3\\lib\\site-packages (from pandas_profiling) (1.18.2)\n",
      "Collecting scipy>=1.4.1\n",
      "  Using cached scipy-1.4.1-cp36-cp36m-win_amd64.whl (30.8 MB)\n",
      "Collecting matplotlib>=3.0.3\n",
      "  Using cached matplotlib-3.2.0-cp36-cp36m-win_amd64.whl (9.2 MB)\n",
      "Requirement already satisfied: confuse==1.0.0 in c:\\users\\admin\\anaconda3\\lib\\site-packages (from pandas_profiling) (1.0.0)\n",
      "Collecting missingno==0.4.2\n",
      "  Using cached missingno-0.4.2-py3-none-any.whl (9.7 kB)\n",
      "Requirement already satisfied: tangled-up-in-unicode==0.0.3 in c:\\users\\admin\\anaconda3\\lib\\site-packages (from pandas_profiling) (0.0.3)\n",
      "Requirement already satisfied: pandas==0.25.3 in c:\\users\\admin\\anaconda3\\lib\\site-packages (from pandas_profiling) (0.25.3)\n",
      "Collecting phik==0.9.9\n",
      "  Using cached phik-0.9.9-py3-none-any.whl (607 kB)\n",
      "Requirement already satisfied: requests==2.22.0 in c:\\users\\admin\\anaconda3\\lib\\site-packages (from pandas_profiling) (2.22.0)\n",
      "Requirement already satisfied: networkx in c:\\users\\admin\\anaconda3\\lib\\site-packages (from visions==0.2.2->pandas_profiling) (2.1)\n",
      "Requirement already satisfied: attr in c:\\users\\admin\\anaconda3\\lib\\site-packages (from visions==0.2.2->pandas_profiling) (0.3.1)\n",
      "Requirement already satisfied: traitlets>=4.3.1 in c:\\users\\admin\\anaconda3\\lib\\site-packages (from ipywidgets==7.5.1->pandas_profiling) (4.3.2)\n",
      "Requirement already satisfied: widgetsnbextension~=3.5.0 in c:\\users\\admin\\anaconda3\\lib\\site-packages (from ipywidgets==7.5.1->pandas_profiling) (3.5.1)\n",
      "Requirement already satisfied: ipykernel>=4.5.1 in c:\\users\\admin\\anaconda3\\lib\\site-packages (from ipywidgets==7.5.1->pandas_profiling) (4.8.2)\n",
      "Requirement already satisfied: ipython>=4.0.0; python_version >= \"3.3\" in c:\\users\\admin\\anaconda3\\lib\\site-packages (from ipywidgets==7.5.1->pandas_profiling) (6.4.0)\n",
      "Requirement already satisfied: nbformat>=4.2.0 in c:\\users\\admin\\anaconda3\\lib\\site-packages (from ipywidgets==7.5.1->pandas_profiling) (4.4.0)\n",
      "Requirement already satisfied: python-dateutil in c:\\users\\admin\\anaconda3\\lib\\site-packages (from kaggle==1.5.6->pandas_profiling) (2.7.3)\n",
      "Requirement already satisfied: python-slugify in c:\\users\\admin\\anaconda3\\lib\\site-packages (from kaggle==1.5.6->pandas_profiling) (4.0.0)\n",
      "Requirement already satisfied: six>=1.10 in c:\\users\\admin\\anaconda3\\lib\\site-packages (from kaggle==1.5.6->pandas_profiling) (1.11.0)\n",
      "Requirement already satisfied: urllib3<1.25,>=1.21.1 in c:\\users\\admin\\anaconda3\\lib\\site-packages (from kaggle==1.5.6->pandas_profiling) (1.22)\n",
      "Requirement already satisfied: certifi in c:\\users\\admin\\anaconda3\\lib\\site-packages (from kaggle==1.5.6->pandas_profiling) (2018.4.16)\n",
      "Requirement already satisfied: MarkupSafe>=0.23 in c:\\users\\admin\\anaconda3\\lib\\site-packages (from jinja2==2.11.1->pandas_profiling) (1.0)\n",
      "Requirement already satisfied: kiwisolver>=1.0.1 in c:\\users\\admin\\anaconda3\\lib\\site-packages (from matplotlib>=3.0.3->pandas_profiling) (1.0.1)\n",
      "Requirement already satisfied: pyparsing!=2.0.4,!=2.1.2,!=2.1.6,>=2.0.1 in c:\\users\\admin\\anaconda3\\lib\\site-packages (from matplotlib>=3.0.3->pandas_profiling) (2.2.0)\n",
      "Requirement already satisfied: cycler>=0.10 in c:\\users\\admin\\anaconda3\\lib\\site-packages (from matplotlib>=3.0.3->pandas_profiling) (0.10.0)\n",
      "Requirement already satisfied: pyyaml in c:\\users\\admin\\anaconda3\\lib\\site-packages (from confuse==1.0.0->pandas_profiling) (3.12)\n",
      "Requirement already satisfied: seaborn in c:\\users\\admin\\anaconda3\\lib\\site-packages (from missingno==0.4.2->pandas_profiling) (0.8.1)\n",
      "Requirement already satisfied: pytz>=2017.2 in c:\\users\\admin\\anaconda3\\lib\\site-packages (from pandas==0.25.3->pandas_profiling) (2018.4)\n",
      "Collecting numba>=0.38.1\n",
      "  Using cached numba-0.48.0-cp36-cp36m-win_amd64.whl (2.1 MB)\n",
      "Collecting joblib>=0.14.1\n",
      "  Using cached joblib-0.14.1-py2.py3-none-any.whl (294 kB)\n",
      "Requirement already satisfied: pytest>=4.0.2 in c:\\users\\admin\\anaconda3\\lib\\site-packages (from phik==0.9.9->pandas_profiling) (5.4.1)\n",
      "Requirement already satisfied: nbconvert>=5.3.1 in c:\\users\\admin\\anaconda3\\lib\\site-packages (from phik==0.9.9->pandas_profiling) (5.3.1)\n",
      "Requirement already satisfied: jupyter-client>=5.2.3 in c:\\users\\admin\\anaconda3\\lib\\site-packages (from phik==0.9.9->pandas_profiling) (5.2.3)\n",
      "Collecting pytest-pylint>=0.13.0\n",
      "  Using cached pytest_pylint-0.15.1-py3-none-any.whl (7.9 kB)\n",
      "Requirement already satisfied: chardet<3.1.0,>=3.0.2 in c:\\users\\admin\\anaconda3\\lib\\site-packages (from requests==2.22.0->pandas_profiling) (3.0.4)\n",
      "Requirement already satisfied: idna<2.9,>=2.5 in c:\\users\\admin\\anaconda3\\lib\\site-packages (from requests==2.22.0->pandas_profiling) (2.6)\n",
      "Requirement already satisfied: decorator>=4.1.0 in c:\\users\\admin\\anaconda3\\lib\\site-packages (from networkx->visions==0.2.2->pandas_profiling) (4.3.0)\n",
      "Requirement already satisfied: ipython_genutils in c:\\users\\admin\\anaconda3\\lib\\site-packages (from traitlets>=4.3.1->ipywidgets==7.5.1->pandas_profiling) (0.2.0)\n",
      "Requirement already satisfied: notebook>=4.4.1 in c:\\users\\admin\\anaconda3\\lib\\site-packages (from widgetsnbextension~=3.5.0->ipywidgets==7.5.1->pandas_profiling) (5.5.0)\n",
      "Requirement already satisfied: tornado>=4.0 in c:\\users\\admin\\anaconda3\\lib\\site-packages (from ipykernel>=4.5.1->ipywidgets==7.5.1->pandas_profiling) (5.0.2)\n",
      "Requirement already satisfied: simplegeneric>0.8 in c:\\users\\admin\\anaconda3\\lib\\site-packages (from ipython>=4.0.0; python_version >= \"3.3\"->ipywidgets==7.5.1->pandas_profiling) (0.8.1)\n",
      "Requirement already satisfied: colorama; sys_platform == \"win32\" in c:\\users\\admin\\anaconda3\\lib\\site-packages (from ipython>=4.0.0; python_version >= \"3.3\"->ipywidgets==7.5.1->pandas_profiling) (0.3.9)\n",
      "Requirement already satisfied: setuptools>=18.5 in c:\\users\\admin\\anaconda3\\lib\\site-packages (from ipython>=4.0.0; python_version >= \"3.3\"->ipywidgets==7.5.1->pandas_profiling) (39.1.0)\n",
      "Requirement already satisfied: prompt-toolkit<2.0.0,>=1.0.15 in c:\\users\\admin\\anaconda3\\lib\\site-packages (from ipython>=4.0.0; python_version >= \"3.3\"->ipywidgets==7.5.1->pandas_profiling) (1.0.15)\n",
      "Requirement already satisfied: jedi>=0.10 in c:\\users\\admin\\anaconda3\\lib\\site-packages (from ipython>=4.0.0; python_version >= \"3.3\"->ipywidgets==7.5.1->pandas_profiling) (0.12.0)\n",
      "Requirement already satisfied: pygments in c:\\users\\admin\\anaconda3\\lib\\site-packages (from ipython>=4.0.0; python_version >= \"3.3\"->ipywidgets==7.5.1->pandas_profiling) (2.2.0)\n",
      "Requirement already satisfied: pickleshare in c:\\users\\admin\\anaconda3\\lib\\site-packages (from ipython>=4.0.0; python_version >= \"3.3\"->ipywidgets==7.5.1->pandas_profiling) (0.7.4)\n",
      "Requirement already satisfied: backcall in c:\\users\\admin\\anaconda3\\lib\\site-packages (from ipython>=4.0.0; python_version >= \"3.3\"->ipywidgets==7.5.1->pandas_profiling) (0.1.0)\n",
      "Requirement already satisfied: jsonschema!=2.5.0,>=2.4 in c:\\users\\admin\\anaconda3\\lib\\site-packages (from nbformat>=4.2.0->ipywidgets==7.5.1->pandas_profiling) (2.6.0)\n",
      "Requirement already satisfied: jupyter_core in c:\\users\\admin\\anaconda3\\lib\\site-packages (from nbformat>=4.2.0->ipywidgets==7.5.1->pandas_profiling) (4.4.0)\n",
      "Requirement already satisfied: text-unidecode>=1.3 in c:\\users\\admin\\anaconda3\\lib\\site-packages (from python-slugify->kaggle==1.5.6->pandas_profiling) (1.3)\n",
      "Collecting llvmlite<0.32.0,>=0.31.0dev0\n",
      "  Using cached llvmlite-0.31.0-cp36-cp36m-win_amd64.whl (13.6 MB)\n",
      "Requirement already satisfied: importlib-metadata>=0.12; python_version < \"3.8\" in c:\\users\\admin\\anaconda3\\lib\\site-packages (from pytest>=4.0.2->phik==0.9.9->pandas_profiling) (1.5.0)\n",
      "Requirement already satisfied: atomicwrites>=1.0; sys_platform == \"win32\" in c:\\users\\admin\\anaconda3\\lib\\site-packages (from pytest>=4.0.2->phik==0.9.9->pandas_profiling) (1.3.0)\n",
      "Requirement already satisfied: pluggy<1.0,>=0.12 in c:\\users\\admin\\anaconda3\\lib\\site-packages (from pytest>=4.0.2->phik==0.9.9->pandas_profiling) (0.13.1)\n",
      "Requirement already satisfied: attrs>=17.4.0 in c:\\users\\admin\\anaconda3\\lib\\site-packages (from pytest>=4.0.2->phik==0.9.9->pandas_profiling) (18.1.0)\n",
      "Requirement already satisfied: more-itertools>=4.0.0 in c:\\users\\admin\\anaconda3\\lib\\site-packages (from pytest>=4.0.2->phik==0.9.9->pandas_profiling) (4.1.0)\n",
      "Requirement already satisfied: py>=1.5.0 in c:\\users\\admin\\anaconda3\\lib\\site-packages (from pytest>=4.0.2->phik==0.9.9->pandas_profiling) (1.5.3)\n",
      "Requirement already satisfied: packaging in c:\\users\\admin\\anaconda3\\lib\\site-packages (from pytest>=4.0.2->phik==0.9.9->pandas_profiling) (17.1)\n",
      "Requirement already satisfied: wcwidth in c:\\users\\admin\\anaconda3\\lib\\site-packages (from pytest>=4.0.2->phik==0.9.9->pandas_profiling) (0.1.7)\n",
      "Requirement already satisfied: mistune>=0.7.4 in c:\\users\\admin\\anaconda3\\lib\\site-packages (from nbconvert>=5.3.1->phik==0.9.9->pandas_profiling) (0.8.3)\n",
      "Requirement already satisfied: entrypoints>=0.2.2 in c:\\users\\admin\\anaconda3\\lib\\site-packages (from nbconvert>=5.3.1->phik==0.9.9->pandas_profiling) (0.2.3)\n",
      "Requirement already satisfied: bleach in c:\\users\\admin\\anaconda3\\lib\\site-packages (from nbconvert>=5.3.1->phik==0.9.9->pandas_profiling) (2.1.3)\n",
      "Requirement already satisfied: pandocfilters>=1.4.1 in c:\\users\\admin\\anaconda3\\lib\\site-packages (from nbconvert>=5.3.1->phik==0.9.9->pandas_profiling) (1.4.2)\n",
      "Requirement already satisfied: testpath in c:\\users\\admin\\anaconda3\\lib\\site-packages (from nbconvert>=5.3.1->phik==0.9.9->pandas_profiling) (0.3.1)\n",
      "Requirement already satisfied: pyzmq>=13 in c:\\users\\admin\\anaconda3\\lib\\site-packages (from jupyter-client>=5.2.3->phik==0.9.9->pandas_profiling) (17.0.0)\n",
      "Collecting pylint>=2.0.0\n",
      "  Using cached pylint-2.4.4-py3-none-any.whl (302 kB)\n",
      "Requirement already satisfied: terminado>=0.8.1 in c:\\users\\admin\\anaconda3\\lib\\site-packages (from notebook>=4.4.1->widgetsnbextension~=3.5.0->ipywidgets==7.5.1->pandas_profiling) (0.8.1)\n",
      "Requirement already satisfied: Send2Trash in c:\\users\\admin\\anaconda3\\lib\\site-packages (from notebook>=4.4.1->widgetsnbextension~=3.5.0->ipywidgets==7.5.1->pandas_profiling) (1.5.0)\n",
      "Requirement already satisfied: parso>=0.2.0 in c:\\users\\admin\\anaconda3\\lib\\site-packages (from jedi>=0.10->ipython>=4.0.0; python_version >= \"3.3\"->ipywidgets==7.5.1->pandas_profiling) (0.2.0)\n",
      "Requirement already satisfied: zipp>=0.5 in c:\\users\\admin\\anaconda3\\lib\\site-packages (from importlib-metadata>=0.12; python_version < \"3.8\"->pytest>=4.0.2->phik==0.9.9->pandas_profiling) (3.1.0)\n",
      "Requirement already satisfied: html5lib!=1.0b1,!=1.0b2,!=1.0b3,!=1.0b4,!=1.0b5,!=1.0b6,!=1.0b7,!=1.0b8,>=0.99999999pre in c:\\users\\admin\\anaconda3\\lib\\site-packages (from bleach->nbconvert>=5.3.1->phik==0.9.9->pandas_profiling) (1.0.1)\n",
      "Collecting astroid<2.4,>=2.3.0\n",
      "  Using cached astroid-2.3.3-py3-none-any.whl (205 kB)\n",
      "Requirement already satisfied: isort<5,>=4.2.5 in c:\\users\\admin\\anaconda3\\lib\\site-packages (from pylint>=2.0.0->pytest-pylint>=0.13.0->phik==0.9.9->pandas_profiling) (4.3.4)\n",
      "Requirement already satisfied: mccabe<0.7,>=0.6 in c:\\users\\admin\\anaconda3\\lib\\site-packages (from pylint>=2.0.0->pytest-pylint>=0.13.0->phik==0.9.9->pandas_profiling) (0.6.1)\n",
      "Requirement already satisfied: webencodings in c:\\users\\admin\\anaconda3\\lib\\site-packages (from html5lib!=1.0b1,!=1.0b2,!=1.0b3,!=1.0b4,!=1.0b5,!=1.0b6,!=1.0b7,!=1.0b8,>=0.99999999pre->bleach->nbconvert>=5.3.1->phik==0.9.9->pandas_profiling) (0.5.1)\n",
      "Requirement already satisfied: typed-ast<1.5,>=1.4.0; implementation_name == \"cpython\" and python_version < \"3.8\" in c:\\users\\admin\\anaconda3\\lib\\site-packages (from astroid<2.4,>=2.3.0->pylint>=2.0.0->pytest-pylint>=0.13.0->phik==0.9.9->pandas_profiling) (1.4.1)\n",
      "Requirement already satisfied: lazy-object-proxy==1.4.* in c:\\users\\admin\\anaconda3\\lib\\site-packages (from astroid<2.4,>=2.3.0->pylint>=2.0.0->pytest-pylint>=0.13.0->phik==0.9.9->pandas_profiling) (1.4.3)\n",
      "Processing c:\\users\\admin\\appdata\\local\\pip\\cache\\wheels\\d7\\de\\2e\\efa132238792efb6459a96e85916ef8597fcb3d2ae51590dfd\\wrapt-1.11.2-cp36-none-any.whl\n",
      "Installing collected packages: visions, astropy, scipy, matplotlib, missingno, llvmlite, numba, joblib, wrapt, astroid, pylint, pytest-pylint, phik, pandas-profiling\n",
      "  Attempting uninstall: astropy\n",
      "    Found existing installation: astropy 3.0.2\n",
      "    Uninstalling astropy-3.0.2:\n",
      "      Successfully uninstalled astropy-3.0.2\n",
      "  Attempting uninstall: scipy\n",
      "    Found existing installation: scipy 1.1.0\n",
      "    Uninstalling scipy-1.1.0:\n",
      "      Successfully uninstalled scipy-1.1.0\n"
     ]
    },
    {
     "name": "stderr",
     "output_type": "stream",
     "text": [
      "ERROR: astroid 2.3.3 has requirement six~=1.12, but you'll have six 1.11.0 which is incompatible.\n",
      "ERROR: Could not install packages due to an EnvironmentError: [WinError 5] Access is denied: 'c:\\\\users\\\\admin\\\\anaconda3\\\\lib\\\\site-packages\\\\~cipy\\\\cluster\\\\_hierarchy.cp36-win_amd64.pyd'\n",
      "Consider using the `--user` option or check the permissions.\n",
      "\n"
     ]
    }
   ],
   "source": [
    "!pip install pandas_profiling"
   ]
  },
  {
   "cell_type": "code",
   "execution_count": 141,
   "metadata": {},
   "outputs": [
    {
     "ename": "ModuleNotFoundError",
     "evalue": "No module named 'pandas_profiling'",
     "output_type": "error",
     "traceback": [
      "\u001b[1;31m---------------------------------------------------------------------------\u001b[0m",
      "\u001b[1;31mModuleNotFoundError\u001b[0m                       Traceback (most recent call last)",
      "\u001b[1;32m<ipython-input-141-4afb823491c5>\u001b[0m in \u001b[0;36m<module>\u001b[1;34m()\u001b[0m\n\u001b[1;32m----> 1\u001b[1;33m \u001b[1;32mimport\u001b[0m \u001b[0mpandas_profiling\u001b[0m \u001b[1;32mas\u001b[0m \u001b[0mpp\u001b[0m\u001b[1;33m\u001b[0m\u001b[0m\n\u001b[0m",
      "\u001b[1;31mModuleNotFoundError\u001b[0m: No module named 'pandas_profiling'"
     ]
    }
   ],
   "source": [
    "import pandas_profiling as pp"
   ]
  },
  {
   "cell_type": "code",
   "execution_count": 143,
   "metadata": {},
   "outputs": [
    {
     "name": "stdout",
     "output_type": "stream",
     "text": [
      "Processing c:\\users\\admin\\appdata\\local\\pip\\cache\\wheels\\9b\\c9\\f1\\4a2f30c760e017f3e2f46be999c4597a93d126ef5ea38e276f\\pandas_profiling-2.5.0-py2.py3-none-any.whl\n",
      "Requirement already satisfied: jinja2==2.11.1 in c:\\users\\admin\\anaconda3\\lib\\site-packages (from pandas_profiling) (2.11.1)\n",
      "Collecting phik==0.9.9\n",
      "  Using cached phik-0.9.9-py3-none-any.whl (607 kB)\n",
      "Collecting missingno==0.4.2\n",
      "  Using cached missingno-0.4.2-py3-none-any.whl (9.7 kB)\n",
      "Requirement already satisfied: confuse==1.0.0 in c:\\users\\admin\\anaconda3\\lib\\site-packages (from pandas_profiling) (1.0.0)\n",
      "Requirement already satisfied: visions==0.2.2 in c:\\users\\admin\\anaconda3\\lib\\site-packages (from pandas_profiling) (0.2.2)\n",
      "Requirement already satisfied: astropy>=3.2.3 in c:\\users\\admin\\anaconda3\\lib\\site-packages (from pandas_profiling) (4.0)\n",
      "Requirement already satisfied: requests==2.22.0 in c:\\users\\admin\\anaconda3\\lib\\site-packages (from pandas_profiling) (2.22.0)\n",
      "Requirement already satisfied: tqdm==4.42.0 in c:\\users\\admin\\anaconda3\\lib\\site-packages (from pandas_profiling) (4.42.0)\n",
      "Requirement already satisfied: numpy>=1.16.0 in c:\\users\\admin\\anaconda3\\lib\\site-packages (from pandas_profiling) (1.18.2)\n",
      "Requirement already satisfied: pandas==0.25.3 in c:\\users\\admin\\anaconda3\\lib\\site-packages (from pandas_profiling) (0.25.3)\n",
      "Requirement already satisfied: scipy>=1.4.1 in c:\\users\\admin\\anaconda3\\lib\\site-packages (from pandas_profiling) (1.4.1)\n",
      "Collecting matplotlib>=3.0.3\n",
      "  Using cached matplotlib-3.2.0-cp36-cp36m-win_amd64.whl (9.2 MB)\n",
      "Requirement already satisfied: ipywidgets==7.5.1 in c:\\users\\admin\\anaconda3\\lib\\site-packages (from pandas_profiling) (7.5.1)\n",
      "Requirement already satisfied: htmlmin==0.1.12 in c:\\users\\admin\\anaconda3\\lib\\site-packages (from pandas_profiling) (0.1.12)\n",
      "Requirement already satisfied: tangled-up-in-unicode==0.0.3 in c:\\users\\admin\\anaconda3\\lib\\site-packages (from pandas_profiling) (0.0.3)\n",
      "Requirement already satisfied: kaggle==1.5.6 in c:\\users\\admin\\anaconda3\\lib\\site-packages (from pandas_profiling) (1.5.6)\n",
      "Requirement already satisfied: MarkupSafe>=0.23 in c:\\users\\admin\\anaconda3\\lib\\site-packages (from jinja2==2.11.1->pandas_profiling) (1.0)\n",
      "Collecting pytest-pylint>=0.13.0\n",
      "  Using cached pytest_pylint-0.15.1-py3-none-any.whl (7.9 kB)\n",
      "Requirement already satisfied: pytest>=4.0.2 in c:\\users\\admin\\anaconda3\\lib\\site-packages (from phik==0.9.9->pandas_profiling) (5.4.1)\n",
      "Requirement already satisfied: nbconvert>=5.3.1 in c:\\users\\admin\\anaconda3\\lib\\site-packages (from phik==0.9.9->pandas_profiling) (5.3.1)\n",
      "Requirement already satisfied: jupyter-client>=5.2.3 in c:\\users\\admin\\anaconda3\\lib\\site-packages (from phik==0.9.9->pandas_profiling) (5.2.3)\n",
      "Collecting numba>=0.38.1\n",
      "  Using cached numba-0.48.0-cp36-cp36m-win_amd64.whl (2.1 MB)\n",
      "Collecting joblib>=0.14.1\n",
      "  Using cached joblib-0.14.1-py2.py3-none-any.whl (294 kB)\n",
      "Requirement already satisfied: seaborn in c:\\users\\admin\\anaconda3\\lib\\site-packages (from missingno==0.4.2->pandas_profiling) (0.8.1)\n",
      "Requirement already satisfied: pyyaml in c:\\users\\admin\\anaconda3\\lib\\site-packages (from confuse==1.0.0->pandas_profiling) (3.12)\n",
      "Requirement already satisfied: attr in c:\\users\\admin\\anaconda3\\lib\\site-packages (from visions==0.2.2->pandas_profiling) (0.3.1)\n",
      "Requirement already satisfied: networkx in c:\\users\\admin\\anaconda3\\lib\\site-packages (from visions==0.2.2->pandas_profiling) (2.1)\n",
      "Requirement already satisfied: chardet<3.1.0,>=3.0.2 in c:\\users\\admin\\anaconda3\\lib\\site-packages (from requests==2.22.0->pandas_profiling) (3.0.4)\n",
      "Requirement already satisfied: certifi>=2017.4.17 in c:\\users\\admin\\anaconda3\\lib\\site-packages (from requests==2.22.0->pandas_profiling) (2018.4.16)\n",
      "Requirement already satisfied: idna<2.9,>=2.5 in c:\\users\\admin\\anaconda3\\lib\\site-packages (from requests==2.22.0->pandas_profiling) (2.6)\n",
      "Requirement already satisfied: urllib3!=1.25.0,!=1.25.1,<1.26,>=1.21.1 in c:\\users\\admin\\anaconda3\\lib\\site-packages (from requests==2.22.0->pandas_profiling) (1.22)\n",
      "Requirement already satisfied: pytz>=2017.2 in c:\\users\\admin\\anaconda3\\lib\\site-packages (from pandas==0.25.3->pandas_profiling) (2018.4)\n",
      "Requirement already satisfied: python-dateutil>=2.6.1 in c:\\users\\admin\\anaconda3\\lib\\site-packages (from pandas==0.25.3->pandas_profiling) (2.7.3)\n",
      "Requirement already satisfied: pyparsing!=2.0.4,!=2.1.2,!=2.1.6,>=2.0.1 in c:\\users\\admin\\anaconda3\\lib\\site-packages (from matplotlib>=3.0.3->pandas_profiling) (2.2.0)\n",
      "Requirement already satisfied: cycler>=0.10 in c:\\users\\admin\\anaconda3\\lib\\site-packages (from matplotlib>=3.0.3->pandas_profiling) (0.10.0)\n",
      "Requirement already satisfied: kiwisolver>=1.0.1 in c:\\users\\admin\\anaconda3\\lib\\site-packages (from matplotlib>=3.0.3->pandas_profiling) (1.0.1)\n",
      "Requirement already satisfied: ipykernel>=4.5.1 in c:\\users\\admin\\anaconda3\\lib\\site-packages (from ipywidgets==7.5.1->pandas_profiling) (4.8.2)\n",
      "Requirement already satisfied: widgetsnbextension~=3.5.0 in c:\\users\\admin\\anaconda3\\lib\\site-packages (from ipywidgets==7.5.1->pandas_profiling) (3.5.1)\n",
      "Requirement already satisfied: traitlets>=4.3.1 in c:\\users\\admin\\anaconda3\\lib\\site-packages (from ipywidgets==7.5.1->pandas_profiling) (4.3.2)\n",
      "Requirement already satisfied: nbformat>=4.2.0 in c:\\users\\admin\\anaconda3\\lib\\site-packages (from ipywidgets==7.5.1->pandas_profiling) (4.4.0)\n",
      "Requirement already satisfied: ipython>=4.0.0; python_version >= \"3.3\" in c:\\users\\admin\\anaconda3\\lib\\site-packages (from ipywidgets==7.5.1->pandas_profiling) (6.4.0)\n",
      "Requirement already satisfied: python-slugify in c:\\users\\admin\\anaconda3\\lib\\site-packages (from kaggle==1.5.6->pandas_profiling) (4.0.0)\n",
      "Requirement already satisfied: six>=1.10 in c:\\users\\admin\\anaconda3\\lib\\site-packages (from kaggle==1.5.6->pandas_profiling) (1.11.0)\n",
      "Collecting pylint>=2.0.0\n",
      "  Using cached pylint-2.4.4-py3-none-any.whl (302 kB)\n",
      "Requirement already satisfied: more-itertools>=4.0.0 in c:\\users\\admin\\anaconda3\\lib\\site-packages (from pytest>=4.0.2->phik==0.9.9->pandas_profiling) (4.1.0)\n",
      "Requirement already satisfied: attrs>=17.4.0 in c:\\users\\admin\\anaconda3\\lib\\site-packages (from pytest>=4.0.2->phik==0.9.9->pandas_profiling) (18.1.0)\n",
      "Requirement already satisfied: packaging in c:\\users\\admin\\anaconda3\\lib\\site-packages (from pytest>=4.0.2->phik==0.9.9->pandas_profiling) (17.1)\n",
      "Requirement already satisfied: wcwidth in c:\\users\\admin\\anaconda3\\lib\\site-packages (from pytest>=4.0.2->phik==0.9.9->pandas_profiling) (0.1.7)\n",
      "Requirement already satisfied: colorama; sys_platform == \"win32\" in c:\\users\\admin\\anaconda3\\lib\\site-packages (from pytest>=4.0.2->phik==0.9.9->pandas_profiling) (0.3.9)\n",
      "Requirement already satisfied: pluggy<1.0,>=0.12 in c:\\users\\admin\\anaconda3\\lib\\site-packages (from pytest>=4.0.2->phik==0.9.9->pandas_profiling) (0.13.1)\n",
      "Requirement already satisfied: py>=1.5.0 in c:\\users\\admin\\anaconda3\\lib\\site-packages (from pytest>=4.0.2->phik==0.9.9->pandas_profiling) (1.5.3)\n",
      "Requirement already satisfied: importlib-metadata>=0.12; python_version < \"3.8\" in c:\\users\\admin\\anaconda3\\lib\\site-packages (from pytest>=4.0.2->phik==0.9.9->pandas_profiling) (1.5.0)\n",
      "Requirement already satisfied: atomicwrites>=1.0; sys_platform == \"win32\" in c:\\users\\admin\\anaconda3\\lib\\site-packages (from pytest>=4.0.2->phik==0.9.9->pandas_profiling) (1.3.0)\n",
      "Requirement already satisfied: mistune>=0.7.4 in c:\\users\\admin\\anaconda3\\lib\\site-packages (from nbconvert>=5.3.1->phik==0.9.9->pandas_profiling) (0.8.3)\n",
      "Requirement already satisfied: pygments in c:\\users\\admin\\anaconda3\\lib\\site-packages (from nbconvert>=5.3.1->phik==0.9.9->pandas_profiling) (2.2.0)\n",
      "Requirement already satisfied: jupyter_core in c:\\users\\admin\\anaconda3\\lib\\site-packages (from nbconvert>=5.3.1->phik==0.9.9->pandas_profiling) (4.4.0)\n",
      "Requirement already satisfied: entrypoints>=0.2.2 in c:\\users\\admin\\anaconda3\\lib\\site-packages (from nbconvert>=5.3.1->phik==0.9.9->pandas_profiling) (0.2.3)\n",
      "Requirement already satisfied: bleach in c:\\users\\admin\\anaconda3\\lib\\site-packages (from nbconvert>=5.3.1->phik==0.9.9->pandas_profiling) (2.1.3)\n",
      "Requirement already satisfied: pandocfilters>=1.4.1 in c:\\users\\admin\\anaconda3\\lib\\site-packages (from nbconvert>=5.3.1->phik==0.9.9->pandas_profiling) (1.4.2)\n",
      "Requirement already satisfied: testpath in c:\\users\\admin\\anaconda3\\lib\\site-packages (from nbconvert>=5.3.1->phik==0.9.9->pandas_profiling) (0.3.1)\n",
      "Requirement already satisfied: pyzmq>=13 in c:\\users\\admin\\anaconda3\\lib\\site-packages (from jupyter-client>=5.2.3->phik==0.9.9->pandas_profiling) (17.0.0)\n",
      "Requirement already satisfied: tornado>=4.1 in c:\\users\\admin\\anaconda3\\lib\\site-packages (from jupyter-client>=5.2.3->phik==0.9.9->pandas_profiling) (5.0.2)\n",
      "Requirement already satisfied: setuptools in c:\\users\\admin\\anaconda3\\lib\\site-packages (from numba>=0.38.1->phik==0.9.9->pandas_profiling) (39.1.0)\n",
      "Collecting llvmlite<0.32.0,>=0.31.0dev0\n",
      "  Using cached llvmlite-0.31.0-cp36-cp36m-win_amd64.whl (13.6 MB)\n",
      "Requirement already satisfied: decorator>=4.1.0 in c:\\users\\admin\\anaconda3\\lib\\site-packages (from networkx->visions==0.2.2->pandas_profiling) (4.3.0)\n",
      "Requirement already satisfied: notebook>=4.4.1 in c:\\users\\admin\\anaconda3\\lib\\site-packages (from widgetsnbextension~=3.5.0->ipywidgets==7.5.1->pandas_profiling) (5.5.0)\n",
      "Requirement already satisfied: ipython_genutils in c:\\users\\admin\\anaconda3\\lib\\site-packages (from traitlets>=4.3.1->ipywidgets==7.5.1->pandas_profiling) (0.2.0)\n",
      "Requirement already satisfied: jsonschema!=2.5.0,>=2.4 in c:\\users\\admin\\anaconda3\\lib\\site-packages (from nbformat>=4.2.0->ipywidgets==7.5.1->pandas_profiling) (2.6.0)\n",
      "Requirement already satisfied: jedi>=0.10 in c:\\users\\admin\\anaconda3\\lib\\site-packages (from ipython>=4.0.0; python_version >= \"3.3\"->ipywidgets==7.5.1->pandas_profiling) (0.12.0)\n",
      "Requirement already satisfied: backcall in c:\\users\\admin\\anaconda3\\lib\\site-packages (from ipython>=4.0.0; python_version >= \"3.3\"->ipywidgets==7.5.1->pandas_profiling) (0.1.0)\n",
      "Requirement already satisfied: simplegeneric>0.8 in c:\\users\\admin\\anaconda3\\lib\\site-packages (from ipython>=4.0.0; python_version >= \"3.3\"->ipywidgets==7.5.1->pandas_profiling) (0.8.1)\n",
      "Requirement already satisfied: pickleshare in c:\\users\\admin\\anaconda3\\lib\\site-packages (from ipython>=4.0.0; python_version >= \"3.3\"->ipywidgets==7.5.1->pandas_profiling) (0.7.4)\n",
      "Requirement already satisfied: prompt-toolkit<2.0.0,>=1.0.15 in c:\\users\\admin\\anaconda3\\lib\\site-packages (from ipython>=4.0.0; python_version >= \"3.3\"->ipywidgets==7.5.1->pandas_profiling) (1.0.15)\n",
      "Requirement already satisfied: text-unidecode>=1.3 in c:\\users\\admin\\anaconda3\\lib\\site-packages (from python-slugify->kaggle==1.5.6->pandas_profiling) (1.3)\n",
      "Requirement already satisfied: isort<5,>=4.2.5 in c:\\users\\admin\\anaconda3\\lib\\site-packages (from pylint>=2.0.0->pytest-pylint>=0.13.0->phik==0.9.9->pandas_profiling) (4.3.4)\n",
      "Requirement already satisfied: mccabe<0.7,>=0.6 in c:\\users\\admin\\anaconda3\\lib\\site-packages (from pylint>=2.0.0->pytest-pylint>=0.13.0->phik==0.9.9->pandas_profiling) (0.6.1)\n",
      "Collecting astroid<2.4,>=2.3.0\n",
      "  Using cached astroid-2.3.3-py3-none-any.whl (205 kB)\n",
      "Requirement already satisfied: zipp>=0.5 in c:\\users\\admin\\anaconda3\\lib\\site-packages (from importlib-metadata>=0.12; python_version < \"3.8\"->pytest>=4.0.2->phik==0.9.9->pandas_profiling) (3.1.0)\n",
      "Requirement already satisfied: html5lib!=1.0b1,!=1.0b2,!=1.0b3,!=1.0b4,!=1.0b5,!=1.0b6,!=1.0b7,!=1.0b8,>=0.99999999pre in c:\\users\\admin\\anaconda3\\lib\\site-packages (from bleach->nbconvert>=5.3.1->phik==0.9.9->pandas_profiling) (1.0.1)\n",
      "Requirement already satisfied: Send2Trash in c:\\users\\admin\\anaconda3\\lib\\site-packages (from notebook>=4.4.1->widgetsnbextension~=3.5.0->ipywidgets==7.5.1->pandas_profiling) (1.5.0)\n",
      "Requirement already satisfied: terminado>=0.8.1 in c:\\users\\admin\\anaconda3\\lib\\site-packages (from notebook>=4.4.1->widgetsnbextension~=3.5.0->ipywidgets==7.5.1->pandas_profiling) (0.8.1)\n",
      "Requirement already satisfied: parso>=0.2.0 in c:\\users\\admin\\anaconda3\\lib\\site-packages (from jedi>=0.10->ipython>=4.0.0; python_version >= \"3.3\"->ipywidgets==7.5.1->pandas_profiling) (0.2.0)\n",
      "Requirement already satisfied: typed-ast<1.5,>=1.4.0; implementation_name == \"cpython\" and python_version < \"3.8\" in c:\\users\\admin\\anaconda3\\lib\\site-packages (from astroid<2.4,>=2.3.0->pylint>=2.0.0->pytest-pylint>=0.13.0->phik==0.9.9->pandas_profiling) (1.4.1)\n",
      "Processing c:\\users\\admin\\appdata\\local\\pip\\cache\\wheels\\d7\\de\\2e\\efa132238792efb6459a96e85916ef8597fcb3d2ae51590dfd\\wrapt-1.11.2-cp36-none-any.whl\n",
      "Requirement already satisfied: lazy-object-proxy==1.4.* in c:\\users\\admin\\anaconda3\\lib\\site-packages (from astroid<2.4,>=2.3.0->pylint>=2.0.0->pytest-pylint>=0.13.0->phik==0.9.9->pandas_profiling) (1.4.3)\n",
      "Requirement already satisfied: webencodings in c:\\users\\admin\\anaconda3\\lib\\site-packages (from html5lib!=1.0b1,!=1.0b2,!=1.0b3,!=1.0b4,!=1.0b5,!=1.0b6,!=1.0b7,!=1.0b8,>=0.99999999pre->bleach->nbconvert>=5.3.1->phik==0.9.9->pandas_profiling) (0.5.1)\n",
      "Installing collected packages: wrapt, astroid, pylint, pytest-pylint, matplotlib, llvmlite, numba, joblib, phik, missingno, pandas-profiling\n",
      "  Attempting uninstall: wrapt\n",
      "    Found existing installation: wrapt 1.10.11\n"
     ]
    },
    {
     "name": "stderr",
     "output_type": "stream",
     "text": [
      "ERROR: astroid 2.3.3 has requirement six~=1.12, but you'll have six 1.11.0 which is incompatible.\n",
      "ERROR: Cannot uninstall 'wrapt'. It is a distutils installed project and thus we cannot accurately determine which files belong to it which would lead to only a partial uninstall.\n"
     ]
    }
   ],
   "source": [
    "!pip install pandas_profiling"
   ]
  },
  {
   "cell_type": "code",
   "execution_count": 144,
   "metadata": {},
   "outputs": [
    {
     "ename": "ModuleNotFoundError",
     "evalue": "No module named 'pandas_profiling'",
     "output_type": "error",
     "traceback": [
      "\u001b[1;31m---------------------------------------------------------------------------\u001b[0m",
      "\u001b[1;31mModuleNotFoundError\u001b[0m                       Traceback (most recent call last)",
      "\u001b[1;32m<ipython-input-144-4afb823491c5>\u001b[0m in \u001b[0;36m<module>\u001b[1;34m()\u001b[0m\n\u001b[1;32m----> 1\u001b[1;33m \u001b[1;32mimport\u001b[0m \u001b[0mpandas_profiling\u001b[0m \u001b[1;32mas\u001b[0m \u001b[0mpp\u001b[0m\u001b[1;33m\u001b[0m\u001b[0m\n\u001b[0m",
      "\u001b[1;31mModuleNotFoundError\u001b[0m: No module named 'pandas_profiling'"
     ]
    }
   ],
   "source": [
    "import pandas_profiling as pp"
   ]
  },
  {
   "cell_type": "code",
   "execution_count": 146,
   "metadata": {},
   "outputs": [],
   "source": [
    "import numpy as np\n",
    "import pandas as pd\n",
    "import matplotlib.pyplot as plt"
   ]
  },
  {
   "cell_type": "code",
   "execution_count": 147,
   "metadata": {},
   "outputs": [
    {
     "name": "stdout",
     "output_type": "stream",
     "text": [
      "Collecting six~=1.12\n",
      "  Using cached six-1.14.0-py2.py3-none-any.whl (10 kB)\n",
      "Installing collected packages: six\n",
      "  Attempting uninstall: six\n",
      "    Found existing installation: six 1.11.0\n",
      "    Uninstalling six-1.11.0:\n",
      "      Successfully uninstalled six-1.11.0\n",
      "Successfully installed six-1.14.0\n"
     ]
    },
    {
     "name": "stderr",
     "output_type": "stream",
     "text": [
      "ERROR: distributed 1.21.8 requires msgpack, which is not installed.\n"
     ]
    }
   ],
   "source": [
    "!pip install six~=1.12\n"
   ]
  },
  {
   "cell_type": "code",
   "execution_count": 148,
   "metadata": {},
   "outputs": [
    {
     "name": "stdout",
     "output_type": "stream",
     "text": [
      "Collecting msgpack\n",
      "  Downloading msgpack-1.0.0-cp36-cp36m-win_amd64.whl (72 kB)\n",
      "Installing collected packages: msgpack\n",
      "Successfully installed msgpack-1.0.0\n"
     ]
    }
   ],
   "source": [
    "!pip install msgpack"
   ]
  },
  {
   "cell_type": "code",
   "execution_count": 149,
   "metadata": {},
   "outputs": [
    {
     "name": "stdout",
     "output_type": "stream",
     "text": [
      "Processing c:\\users\\admin\\appdata\\local\\pip\\cache\\wheels\\9b\\c9\\f1\\4a2f30c760e017f3e2f46be999c4597a93d126ef5ea38e276f\\pandas_profiling-2.5.0-py2.py3-none-any.whl\n",
      "Requirement already satisfied: jinja2==2.11.1 in c:\\users\\admin\\anaconda3\\lib\\site-packages (from pandas_profiling) (2.11.1)\n",
      "Requirement already satisfied: tangled-up-in-unicode==0.0.3 in c:\\users\\admin\\anaconda3\\lib\\site-packages (from pandas_profiling) (0.0.3)\n",
      "Requirement already satisfied: kaggle==1.5.6 in c:\\users\\admin\\anaconda3\\lib\\site-packages (from pandas_profiling) (1.5.6)\n",
      "Requirement already satisfied: ipywidgets==7.5.1 in c:\\users\\admin\\anaconda3\\lib\\site-packages (from pandas_profiling) (7.5.1)\n",
      "Requirement already satisfied: htmlmin==0.1.12 in c:\\users\\admin\\anaconda3\\lib\\site-packages (from pandas_profiling) (0.1.12)\n",
      "Requirement already satisfied: pandas==0.25.3 in c:\\users\\admin\\anaconda3\\lib\\site-packages (from pandas_profiling) (0.25.3)\n",
      "Collecting missingno==0.4.2\n",
      "  Using cached missingno-0.4.2-py3-none-any.whl (9.7 kB)\n",
      "Collecting phik==0.9.9\n",
      "  Using cached phik-0.9.9-py3-none-any.whl (607 kB)\n",
      "Requirement already satisfied: scipy>=1.4.1 in c:\\users\\admin\\anaconda3\\lib\\site-packages (from pandas_profiling) (1.4.1)\n",
      "Requirement already satisfied: confuse==1.0.0 in c:\\users\\admin\\anaconda3\\lib\\site-packages (from pandas_profiling) (1.0.0)\n",
      "Collecting matplotlib>=3.0.3\n",
      "  Using cached matplotlib-3.2.0-cp36-cp36m-win_amd64.whl (9.2 MB)\n",
      "Requirement already satisfied: visions==0.2.2 in c:\\users\\admin\\anaconda3\\lib\\site-packages (from pandas_profiling) (0.2.2)\n",
      "Requirement already satisfied: astropy>=3.2.3 in c:\\users\\admin\\anaconda3\\lib\\site-packages (from pandas_profiling) (4.0)\n",
      "Requirement already satisfied: numpy>=1.16.0 in c:\\users\\admin\\anaconda3\\lib\\site-packages (from pandas_profiling) (1.18.2)\n",
      "Requirement already satisfied: requests==2.22.0 in c:\\users\\admin\\anaconda3\\lib\\site-packages (from pandas_profiling) (2.22.0)\n",
      "Requirement already satisfied: tqdm==4.42.0 in c:\\users\\admin\\anaconda3\\lib\\site-packages (from pandas_profiling) (4.42.0)\n",
      "Requirement already satisfied: MarkupSafe>=0.23 in c:\\users\\admin\\anaconda3\\lib\\site-packages (from jinja2==2.11.1->pandas_profiling) (1.0)\n",
      "Requirement already satisfied: certifi in c:\\users\\admin\\anaconda3\\lib\\site-packages (from kaggle==1.5.6->pandas_profiling) (2018.4.16)\n",
      "Requirement already satisfied: six>=1.10 in c:\\users\\admin\\anaconda3\\lib\\site-packages (from kaggle==1.5.6->pandas_profiling) (1.14.0)\n",
      "Requirement already satisfied: python-dateutil in c:\\users\\admin\\anaconda3\\lib\\site-packages (from kaggle==1.5.6->pandas_profiling) (2.7.3)\n",
      "Requirement already satisfied: python-slugify in c:\\users\\admin\\anaconda3\\lib\\site-packages (from kaggle==1.5.6->pandas_profiling) (4.0.0)\n",
      "Requirement already satisfied: urllib3<1.25,>=1.21.1 in c:\\users\\admin\\anaconda3\\lib\\site-packages (from kaggle==1.5.6->pandas_profiling) (1.22)\n",
      "Requirement already satisfied: traitlets>=4.3.1 in c:\\users\\admin\\anaconda3\\lib\\site-packages (from ipywidgets==7.5.1->pandas_profiling) (4.3.2)\n",
      "Requirement already satisfied: widgetsnbextension~=3.5.0 in c:\\users\\admin\\anaconda3\\lib\\site-packages (from ipywidgets==7.5.1->pandas_profiling) (3.5.1)\n",
      "Requirement already satisfied: nbformat>=4.2.0 in c:\\users\\admin\\anaconda3\\lib\\site-packages (from ipywidgets==7.5.1->pandas_profiling) (4.4.0)\n",
      "Requirement already satisfied: ipykernel>=4.5.1 in c:\\users\\admin\\anaconda3\\lib\\site-packages (from ipywidgets==7.5.1->pandas_profiling) (4.8.2)\n",
      "Requirement already satisfied: ipython>=4.0.0; python_version >= \"3.3\" in c:\\users\\admin\\anaconda3\\lib\\site-packages (from ipywidgets==7.5.1->pandas_profiling) (6.4.0)\n",
      "Requirement already satisfied: pytz>=2017.2 in c:\\users\\admin\\anaconda3\\lib\\site-packages (from pandas==0.25.3->pandas_profiling) (2018.4)\n",
      "Requirement already satisfied: seaborn in c:\\users\\admin\\anaconda3\\lib\\site-packages (from missingno==0.4.2->pandas_profiling) (0.8.1)\n",
      "Requirement already satisfied: nbconvert>=5.3.1 in c:\\users\\admin\\anaconda3\\lib\\site-packages (from phik==0.9.9->pandas_profiling) (5.3.1)\n",
      "Collecting joblib>=0.14.1\n",
      "  Using cached joblib-0.14.1-py2.py3-none-any.whl (294 kB)\n",
      "Requirement already satisfied: jupyter-client>=5.2.3 in c:\\users\\admin\\anaconda3\\lib\\site-packages (from phik==0.9.9->pandas_profiling) (5.2.3)\n",
      "Requirement already satisfied: pytest>=4.0.2 in c:\\users\\admin\\anaconda3\\lib\\site-packages (from phik==0.9.9->pandas_profiling) (5.4.1)\n",
      "Collecting pytest-pylint>=0.13.0\n",
      "  Using cached pytest_pylint-0.15.1-py3-none-any.whl (7.9 kB)\n",
      "Collecting numba>=0.38.1\n",
      "  Using cached numba-0.48.0-cp36-cp36m-win_amd64.whl (2.1 MB)\n",
      "Requirement already satisfied: pyyaml in c:\\users\\admin\\anaconda3\\lib\\site-packages (from confuse==1.0.0->pandas_profiling) (3.12)\n",
      "Requirement already satisfied: pyparsing!=2.0.4,!=2.1.2,!=2.1.6,>=2.0.1 in c:\\users\\admin\\anaconda3\\lib\\site-packages (from matplotlib>=3.0.3->pandas_profiling) (2.2.0)\n",
      "Requirement already satisfied: cycler>=0.10 in c:\\users\\admin\\anaconda3\\lib\\site-packages (from matplotlib>=3.0.3->pandas_profiling) (0.10.0)\n",
      "Requirement already satisfied: kiwisolver>=1.0.1 in c:\\users\\admin\\anaconda3\\lib\\site-packages (from matplotlib>=3.0.3->pandas_profiling) (1.0.1)\n",
      "Requirement already satisfied: attr in c:\\users\\admin\\anaconda3\\lib\\site-packages (from visions==0.2.2->pandas_profiling) (0.3.1)\n",
      "Requirement already satisfied: networkx in c:\\users\\admin\\anaconda3\\lib\\site-packages (from visions==0.2.2->pandas_profiling) (2.1)\n",
      "Requirement already satisfied: chardet<3.1.0,>=3.0.2 in c:\\users\\admin\\anaconda3\\lib\\site-packages (from requests==2.22.0->pandas_profiling) (3.0.4)\n",
      "Requirement already satisfied: idna<2.9,>=2.5 in c:\\users\\admin\\anaconda3\\lib\\site-packages (from requests==2.22.0->pandas_profiling) (2.6)\n",
      "Requirement already satisfied: text-unidecode>=1.3 in c:\\users\\admin\\anaconda3\\lib\\site-packages (from python-slugify->kaggle==1.5.6->pandas_profiling) (1.3)\n",
      "Requirement already satisfied: ipython_genutils in c:\\users\\admin\\anaconda3\\lib\\site-packages (from traitlets>=4.3.1->ipywidgets==7.5.1->pandas_profiling) (0.2.0)\n",
      "Requirement already satisfied: decorator in c:\\users\\admin\\anaconda3\\lib\\site-packages (from traitlets>=4.3.1->ipywidgets==7.5.1->pandas_profiling) (4.3.0)\n",
      "Requirement already satisfied: notebook>=4.4.1 in c:\\users\\admin\\anaconda3\\lib\\site-packages (from widgetsnbextension~=3.5.0->ipywidgets==7.5.1->pandas_profiling) (5.5.0)\n",
      "Requirement already satisfied: jsonschema!=2.5.0,>=2.4 in c:\\users\\admin\\anaconda3\\lib\\site-packages (from nbformat>=4.2.0->ipywidgets==7.5.1->pandas_profiling) (2.6.0)\n",
      "Requirement already satisfied: jupyter_core in c:\\users\\admin\\anaconda3\\lib\\site-packages (from nbformat>=4.2.0->ipywidgets==7.5.1->pandas_profiling) (4.4.0)\n",
      "Requirement already satisfied: tornado>=4.0 in c:\\users\\admin\\anaconda3\\lib\\site-packages (from ipykernel>=4.5.1->ipywidgets==7.5.1->pandas_profiling) (5.0.2)\n",
      "Requirement already satisfied: jedi>=0.10 in c:\\users\\admin\\anaconda3\\lib\\site-packages (from ipython>=4.0.0; python_version >= \"3.3\"->ipywidgets==7.5.1->pandas_profiling) (0.12.0)\n",
      "Requirement already satisfied: setuptools>=18.5 in c:\\users\\admin\\anaconda3\\lib\\site-packages (from ipython>=4.0.0; python_version >= \"3.3\"->ipywidgets==7.5.1->pandas_profiling) (39.1.0)\n",
      "Requirement already satisfied: simplegeneric>0.8 in c:\\users\\admin\\anaconda3\\lib\\site-packages (from ipython>=4.0.0; python_version >= \"3.3\"->ipywidgets==7.5.1->pandas_profiling) (0.8.1)\n",
      "Requirement already satisfied: prompt-toolkit<2.0.0,>=1.0.15 in c:\\users\\admin\\anaconda3\\lib\\site-packages (from ipython>=4.0.0; python_version >= \"3.3\"->ipywidgets==7.5.1->pandas_profiling) (1.0.15)\n",
      "Requirement already satisfied: backcall in c:\\users\\admin\\anaconda3\\lib\\site-packages (from ipython>=4.0.0; python_version >= \"3.3\"->ipywidgets==7.5.1->pandas_profiling) (0.1.0)\n",
      "Requirement already satisfied: colorama; sys_platform == \"win32\" in c:\\users\\admin\\anaconda3\\lib\\site-packages (from ipython>=4.0.0; python_version >= \"3.3\"->ipywidgets==7.5.1->pandas_profiling) (0.3.9)\n",
      "Requirement already satisfied: pygments in c:\\users\\admin\\anaconda3\\lib\\site-packages (from ipython>=4.0.0; python_version >= \"3.3\"->ipywidgets==7.5.1->pandas_profiling) (2.2.0)\n",
      "Requirement already satisfied: pickleshare in c:\\users\\admin\\anaconda3\\lib\\site-packages (from ipython>=4.0.0; python_version >= \"3.3\"->ipywidgets==7.5.1->pandas_profiling) (0.7.4)\n",
      "Requirement already satisfied: mistune>=0.7.4 in c:\\users\\admin\\anaconda3\\lib\\site-packages (from nbconvert>=5.3.1->phik==0.9.9->pandas_profiling) (0.8.3)\n",
      "Requirement already satisfied: entrypoints>=0.2.2 in c:\\users\\admin\\anaconda3\\lib\\site-packages (from nbconvert>=5.3.1->phik==0.9.9->pandas_profiling) (0.2.3)\n",
      "Requirement already satisfied: bleach in c:\\users\\admin\\anaconda3\\lib\\site-packages (from nbconvert>=5.3.1->phik==0.9.9->pandas_profiling) (2.1.3)\n",
      "Requirement already satisfied: pandocfilters>=1.4.1 in c:\\users\\admin\\anaconda3\\lib\\site-packages (from nbconvert>=5.3.1->phik==0.9.9->pandas_profiling) (1.4.2)\n",
      "Requirement already satisfied: testpath in c:\\users\\admin\\anaconda3\\lib\\site-packages (from nbconvert>=5.3.1->phik==0.9.9->pandas_profiling) (0.3.1)\n",
      "Requirement already satisfied: pyzmq>=13 in c:\\users\\admin\\anaconda3\\lib\\site-packages (from jupyter-client>=5.2.3->phik==0.9.9->pandas_profiling) (17.0.0)\n",
      "Requirement already satisfied: py>=1.5.0 in c:\\users\\admin\\anaconda3\\lib\\site-packages (from pytest>=4.0.2->phik==0.9.9->pandas_profiling) (1.5.3)\n",
      "Requirement already satisfied: packaging in c:\\users\\admin\\anaconda3\\lib\\site-packages (from pytest>=4.0.2->phik==0.9.9->pandas_profiling) (17.1)\n",
      "Requirement already satisfied: more-itertools>=4.0.0 in c:\\users\\admin\\anaconda3\\lib\\site-packages (from pytest>=4.0.2->phik==0.9.9->pandas_profiling) (4.1.0)\n",
      "Requirement already satisfied: attrs>=17.4.0 in c:\\users\\admin\\anaconda3\\lib\\site-packages (from pytest>=4.0.2->phik==0.9.9->pandas_profiling) (18.1.0)\n",
      "Requirement already satisfied: importlib-metadata>=0.12; python_version < \"3.8\" in c:\\users\\admin\\anaconda3\\lib\\site-packages (from pytest>=4.0.2->phik==0.9.9->pandas_profiling) (1.5.0)\n",
      "Requirement already satisfied: pluggy<1.0,>=0.12 in c:\\users\\admin\\anaconda3\\lib\\site-packages (from pytest>=4.0.2->phik==0.9.9->pandas_profiling) (0.13.1)\n",
      "Requirement already satisfied: wcwidth in c:\\users\\admin\\anaconda3\\lib\\site-packages (from pytest>=4.0.2->phik==0.9.9->pandas_profiling) (0.1.7)\n",
      "Requirement already satisfied: atomicwrites>=1.0; sys_platform == \"win32\" in c:\\users\\admin\\anaconda3\\lib\\site-packages (from pytest>=4.0.2->phik==0.9.9->pandas_profiling) (1.3.0)\n",
      "Collecting pylint>=2.0.0\n",
      "  Using cached pylint-2.4.4-py3-none-any.whl (302 kB)\n",
      "Collecting llvmlite<0.32.0,>=0.31.0dev0\n",
      "  Using cached llvmlite-0.31.0-cp36-cp36m-win_amd64.whl (13.6 MB)\n",
      "Requirement already satisfied: Send2Trash in c:\\users\\admin\\anaconda3\\lib\\site-packages (from notebook>=4.4.1->widgetsnbextension~=3.5.0->ipywidgets==7.5.1->pandas_profiling) (1.5.0)\n",
      "Requirement already satisfied: terminado>=0.8.1 in c:\\users\\admin\\anaconda3\\lib\\site-packages (from notebook>=4.4.1->widgetsnbextension~=3.5.0->ipywidgets==7.5.1->pandas_profiling) (0.8.1)\n",
      "Requirement already satisfied: parso>=0.2.0 in c:\\users\\admin\\anaconda3\\lib\\site-packages (from jedi>=0.10->ipython>=4.0.0; python_version >= \"3.3\"->ipywidgets==7.5.1->pandas_profiling) (0.2.0)\n",
      "Requirement already satisfied: html5lib!=1.0b1,!=1.0b2,!=1.0b3,!=1.0b4,!=1.0b5,!=1.0b6,!=1.0b7,!=1.0b8,>=0.99999999pre in c:\\users\\admin\\anaconda3\\lib\\site-packages (from bleach->nbconvert>=5.3.1->phik==0.9.9->pandas_profiling) (1.0.1)\n",
      "Requirement already satisfied: zipp>=0.5 in c:\\users\\admin\\anaconda3\\lib\\site-packages (from importlib-metadata>=0.12; python_version < \"3.8\"->pytest>=4.0.2->phik==0.9.9->pandas_profiling) (3.1.0)\n",
      "Requirement already satisfied: mccabe<0.7,>=0.6 in c:\\users\\admin\\anaconda3\\lib\\site-packages (from pylint>=2.0.0->pytest-pylint>=0.13.0->phik==0.9.9->pandas_profiling) (0.6.1)\n",
      "Collecting astroid<2.4,>=2.3.0\n",
      "  Using cached astroid-2.3.3-py3-none-any.whl (205 kB)\n",
      "Requirement already satisfied: isort<5,>=4.2.5 in c:\\users\\admin\\anaconda3\\lib\\site-packages (from pylint>=2.0.0->pytest-pylint>=0.13.0->phik==0.9.9->pandas_profiling) (4.3.4)\n",
      "Requirement already satisfied: webencodings in c:\\users\\admin\\anaconda3\\lib\\site-packages (from html5lib!=1.0b1,!=1.0b2,!=1.0b3,!=1.0b4,!=1.0b5,!=1.0b6,!=1.0b7,!=1.0b8,>=0.99999999pre->bleach->nbconvert>=5.3.1->phik==0.9.9->pandas_profiling) (0.5.1)\n",
      "Processing c:\\users\\admin\\appdata\\local\\pip\\cache\\wheels\\d7\\de\\2e\\efa132238792efb6459a96e85916ef8597fcb3d2ae51590dfd\\wrapt-1.11.2-cp36-none-any.whl\n",
      "Requirement already satisfied: lazy-object-proxy==1.4.* in c:\\users\\admin\\anaconda3\\lib\\site-packages (from astroid<2.4,>=2.3.0->pylint>=2.0.0->pytest-pylint>=0.13.0->phik==0.9.9->pandas_profiling) (1.4.3)\n",
      "Requirement already satisfied: typed-ast<1.5,>=1.4.0; implementation_name == \"cpython\" and python_version < \"3.8\" in c:\\users\\admin\\anaconda3\\lib\\site-packages (from astroid<2.4,>=2.3.0->pylint>=2.0.0->pytest-pylint>=0.13.0->phik==0.9.9->pandas_profiling) (1.4.1)\n",
      "Installing collected packages: matplotlib, missingno, joblib, wrapt, astroid, pylint, pytest-pylint, llvmlite, numba, phik, pandas-profiling\n",
      "  Attempting uninstall: matplotlib\n",
      "    Found existing installation: matplotlib 2.2.2\n",
      "    Uninstalling matplotlib-2.2.2:\n"
     ]
    },
    {
     "name": "stderr",
     "output_type": "stream",
     "text": [
      "ERROR: Could not install packages due to an EnvironmentError: [WinError 5] Access is denied: 'c:\\\\users\\\\admin\\\\anaconda3\\\\lib\\\\site-packages\\\\matplotlib\\\\backends\\\\_backend_agg.cp36-win_amd64.pyd'\n",
      "Consider using the `--user` option or check the permissions.\n",
      "\n"
     ]
    }
   ],
   "source": [
    "!pip install pandas_profiling"
   ]
  },
  {
   "cell_type": "code",
   "execution_count": 150,
   "metadata": {},
   "outputs": [
    {
     "name": "stderr",
     "output_type": "stream",
     "text": [
      "ERROR: You must give at least one requirement to install (see \"pip help install\")\n"
     ]
    }
   ],
   "source": [
    "!pip install --user"
   ]
  },
  {
   "cell_type": "code",
   "execution_count": 151,
   "metadata": {},
   "outputs": [
    {
     "name": "stdout",
     "output_type": "stream",
     "text": [
      "\n",
      "Usage:   \n",
      "  pip install [options] <requirement specifier> [package-index-options] ...\n",
      "  pip install [options] -r <requirements file> [package-index-options] ...\n",
      "  pip install [options] [-e] <vcs project url> ...\n",
      "  pip install [options] [-e] <local project path> ...\n",
      "  pip install [options] <archive url/path> ...\n",
      "\n",
      "Description:\n",
      "  Install packages from:\n",
      "  \n",
      "  - PyPI (and other indexes) using requirement specifiers.\n",
      "  - VCS project urls.\n",
      "  - Local project directories.\n",
      "  - Local or remote source archives.\n",
      "  \n",
      "  pip also supports installing from \"requirements files\", which provide\n",
      "  an easy way to specify a whole environment to be installed.\n",
      "\n",
      "Install Options:\n",
      "  -r, --requirement <file>    Install from the given requirements file. This\n",
      "                              option can be used multiple times.\n",
      "  -c, --constraint <file>     Constrain versions using the given constraints\n",
      "                              file. This option can be used multiple times.\n",
      "  --no-deps                   Don't install package dependencies.\n",
      "  --pre                       Include pre-release and development versions. By\n",
      "                              default, pip only finds stable versions.\n",
      "  -e, --editable <path/url>   Install a project in editable mode (i.e.\n",
      "                              setuptools \"develop mode\") from a local project\n",
      "                              path or a VCS url.\n",
      "  -t, --target <dir>          Install packages into <dir>. By default this\n",
      "                              will not replace existing files/folders in\n",
      "                              <dir>. Use --upgrade to replace existing\n",
      "                              packages in <dir> with new versions.\n",
      "  --platform <platform>       Only use wheels compatible with <platform>.\n",
      "                              Defaults to the platform of the running system.\n",
      "  --python-version <python_version>\n",
      "                              The Python interpreter version to use for wheel\n",
      "                              and \"Requires-Python\" compatibility checks.\n",
      "                              Defaults to a version derived from the running\n",
      "                              interpreter. The version can be specified using\n",
      "                              up to three dot-separated integers (e.g. \"3\" for\n",
      "                              3.0.0, \"3.7\" for 3.7.0, or \"3.7.3\"). A major-\n",
      "                              minor version can also be given as a string\n",
      "                              without dots (e.g. \"37\" for 3.7.0).\n",
      "  --implementation <implementation>\n",
      "                              Only use wheels compatible with Python\n",
      "                              implementation <implementation>, e.g. 'pp',\n",
      "                              'jy', 'cp',  or 'ip'. If not specified, then the\n",
      "                              current interpreter implementation is used.  Use\n",
      "                              'py' to force implementation-agnostic wheels.\n",
      "  --abi <abi>                 Only use wheels compatible with Python abi\n",
      "                              <abi>, e.g. 'pypy_41'.  If not specified, then\n",
      "                              the current interpreter abi tag is used.\n",
      "                              Generally you will need to specify\n",
      "                              --implementation, --platform, and --python-\n",
      "                              version when using this option.\n",
      "  --user                      Install to the Python user install directory for\n",
      "                              your platform. Typically ~/.local/, or\n",
      "                              %APPDATA%\\Python on Windows. (See the Python\n",
      "                              documentation for site.USER_BASE for full\n",
      "                              details.)\n",
      "  --root <dir>                Install everything relative to this alternate\n",
      "                              root directory.\n",
      "  --prefix <dir>              Installation prefix where lib, bin and other\n",
      "                              top-level folders are placed\n",
      "  -b, --build <dir>           Directory to unpack packages into and build in.\n",
      "                              Note that an initial build still takes place in\n",
      "                              a temporary directory. The location of temporary\n",
      "                              directories can be controlled by setting the\n",
      "                              TMPDIR environment variable (TEMP on Windows)\n",
      "                              appropriately. When passed, build directories\n",
      "                              are not cleaned in case of failures.\n",
      "  --src <dir>                 Directory to check out editable projects into.\n",
      "                              The default in a virtualenv is \"<venv\n",
      "                              path>/src\". The default for global installs is\n",
      "                              \"<current dir>/src\".\n",
      "  -U, --upgrade               Upgrade all specified packages to the newest\n",
      "                              available version. The handling of dependencies\n",
      "                              depends on the upgrade-strategy used.\n",
      "  --upgrade-strategy <upgrade_strategy>\n",
      "                              Determines how dependency upgrading should be\n",
      "                              handled [default: only-if-needed]. \"eager\" -\n",
      "                              dependencies are upgraded regardless of whether\n",
      "                              the currently installed version satisfies the\n",
      "                              requirements of the upgraded package(s). \"only-\n",
      "                              if-needed\" -  are upgraded only when they do not\n",
      "                              satisfy the requirements of the upgraded\n",
      "                              package(s).\n",
      "  --force-reinstall           Reinstall all packages even if they are already\n",
      "                              up-to-date.\n",
      "  -I, --ignore-installed      Ignore the installed packages, overwriting them.\n",
      "                              This can break your system if the existing\n",
      "                              package is of a different version or was\n",
      "                              installed with a different package manager!\n",
      "  --ignore-requires-python    Ignore the Requires-Python information.\n",
      "  --no-build-isolation        Disable isolation when building a modern source\n",
      "                              distribution. Build dependencies specified by\n",
      "                              PEP 518 must be already installed if this option\n",
      "                              is used.\n",
      "  --use-pep517                Use PEP 517 for building source distributions\n",
      "                              (use --no-use-pep517 to force legacy behaviour).\n",
      "  --install-option <options>  Extra arguments to be supplied to the setup.py\n",
      "                              install command (use like --install-option=\"--\n",
      "                              install-scripts=/usr/local/bin\"). Use multiple\n",
      "                              --install-option options to pass multiple\n",
      "                              options to setup.py install. If you are using an\n",
      "                              option with a directory path, be sure to use\n",
      "                              absolute path.\n",
      "  --global-option <options>   Extra global options to be supplied to the\n",
      "                              setup.py call before the install command.\n",
      "  --compile                   Compile Python source files to bytecode\n",
      "  --no-compile                Do not compile Python source files to bytecode\n",
      "  --no-warn-script-location   Do not warn when installing scripts outside PATH\n",
      "  --no-warn-conflicts         Do not warn about broken dependencies\n",
      "  --no-binary <format_control>\n",
      "                              Do not use binary packages. Can be supplied\n",
      "                              multiple times, and each time adds to the\n",
      "                              existing value. Accepts either :all: to disable\n",
      "                              all binary packages, :none: to empty the set, or\n",
      "                              one or more package names with commas between\n",
      "                              them (no colons). Note that some packages are\n",
      "                              tricky to compile and may fail to install when\n",
      "                              this option is used on them.\n",
      "  --only-binary <format_control>\n",
      "                              Do not use source packages. Can be supplied\n",
      "                              multiple times, and each time adds to the\n",
      "                              existing value. Accepts either :all: to disable\n",
      "                              all source packages, :none: to empty the set, or\n",
      "                              one or more package names with commas between\n",
      "                              them. Packages without binary distributions will\n",
      "                              fail to install when this option is used on\n",
      "                              them.\n",
      "  --prefer-binary             Prefer older binary packages over newer source\n",
      "                              packages.\n",
      "  --no-clean                  Don't clean up build directories.\n",
      "  --require-hashes            Require a hash to check each requirement\n",
      "                              against, for repeatable installs. This option is\n",
      "                              implied when any package in a requirements file\n",
      "                              has a --hash option.\n",
      "  --progress-bar <progress_bar>\n",
      "                              Specify type of progress to be displayed\n",
      "                              [off|on|ascii|pretty|emoji] (default: on)\n",
      "\n",
      "Package Index Options:\n",
      "  -i, --index-url <url>       Base URL of the Python Package Index (default\n",
      "                              https://pypi.org/simple). This should point to a\n",
      "                              repository compliant with PEP 503 (the simple\n",
      "                              repository API) or a local directory laid out in\n",
      "                              the same format.\n",
      "  --extra-index-url <url>     Extra URLs of package indexes to use in addition\n",
      "                              to --index-url. Should follow the same rules as\n",
      "                              --index-url.\n",
      "  --no-index                  Ignore package index (only looking at --find-\n",
      "                              links URLs instead).\n",
      "  -f, --find-links <url>      If a url or path to an html file, then parse for\n",
      "                              links to archives. If a local path or file://\n",
      "                              url that's a directory, then look for archives\n",
      "                              in the directory listing.\n",
      "\n",
      "General Options:\n",
      "  -h, --help                  Show help.\n",
      "  --isolated                  Run pip in an isolated mode, ignoring\n",
      "                              environment variables and user configuration.\n",
      "  -v, --verbose               Give more output. Option is additive, and can be\n",
      "                              used up to 3 times.\n",
      "  -V, --version               Show version and exit.\n",
      "  -q, --quiet                 Give less output. Option is additive, and can be\n",
      "                              used up to 3 times (corresponding to WARNING,\n",
      "                              ERROR, and CRITICAL logging levels).\n",
      "  --log <path>                Path to a verbose appending log.\n",
      "  --proxy <proxy>             Specify a proxy in the form\n",
      "                              [user:passwd@]proxy.server:port.\n",
      "  --retries <retries>         Maximum number of retries each connection should\n",
      "                              attempt (default 5 times).\n",
      "  --timeout <sec>             Set the socket timeout (default 15 seconds).\n",
      "  --exists-action <action>    Default action when a path already exists:\n",
      "                              (s)witch, (i)gnore, (w)ipe, (b)ackup, (a)bort.\n",
      "  --trusted-host <hostname>   Mark this host or host:port pair as trusted,\n",
      "                              even though it does not have valid or any HTTPS.\n",
      "  --cert <path>               Path to alternate CA bundle.\n",
      "  --client-cert <path>        Path to SSL client certificate, a single file\n",
      "                              containing the private key and the certificate\n",
      "                              in PEM format.\n",
      "  --cache-dir <dir>           Store the cache data in <dir>.\n",
      "  --no-cache-dir              Disable the cache.\n",
      "  --disable-pip-version-check\n",
      "                              Don't periodically check PyPI to determine\n",
      "                              whether a new version of pip is available for\n",
      "                              download. Implied with --no-index.\n",
      "  --no-color                  Suppress colored output\n",
      "  --no-python-version-warning\n",
      "                              Silence deprecation warnings for upcoming\n",
      "                              unsupported Pythons.\n"
     ]
    }
   ],
   "source": [
    "!pip help install"
   ]
  },
  {
   "cell_type": "code",
   "execution_count": 152,
   "metadata": {},
   "outputs": [
    {
     "name": "stderr",
     "output_type": "stream",
     "text": [
      "ERROR: You must give at least one requirement to install (see \"pip help install\")\n"
     ]
    }
   ],
   "source": [
    "!pip install --user"
   ]
  },
  {
   "cell_type": "code",
   "execution_count": null,
   "metadata": {},
   "outputs": [],
   "source": []
  }
 ],
 "metadata": {
  "kernelspec": {
   "display_name": "Python 3",
   "language": "python",
   "name": "python3"
  },
  "language_info": {
   "codemirror_mode": {
    "name": "ipython",
    "version": 3
   },
   "file_extension": ".py",
   "mimetype": "text/x-python",
   "name": "python",
   "nbconvert_exporter": "python",
   "pygments_lexer": "ipython3",
   "version": "3.6.5"
  }
 },
 "nbformat": 4,
 "nbformat_minor": 2
}
