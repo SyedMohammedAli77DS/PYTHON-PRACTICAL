{
 "cells": [
  {
   "cell_type": "code",
   "execution_count": 8,
   "metadata": {},
   "outputs": [
    {
     "ename": "SystemExit",
     "evalue": "0",
     "output_type": "error",
     "traceback": [
      "An exception has occurred, use %tb to see the full traceback.\n",
      "\u001b[1;31mSystemExit\u001b[0m\u001b[1;31m:\u001b[0m 0\n"
     ]
    },
    {
     "name": "stderr",
     "output_type": "stream",
     "text": [
      "C:\\Users\\admin\\Anaconda3\\lib\\site-packages\\IPython\\core\\interactiveshell.py:2971: UserWarning: To exit: use 'exit', 'quit', or Ctrl-D.\n",
      "  warn(\"To exit: use 'exit', 'quit', or Ctrl-D.\", stacklevel=1)\n"
     ]
    }
   ],
   "source": [
    "#Beyond empty windows\n",
    "import sys\n",
    "from PyQt5.QtWidgets import QApplication, QWidget, QLabel, QPushButton, QMessageBox\n",
    "\n",
    "def dialog():\n",
    "    mbox = QMessageBox()\n",
    "\n",
    "    mbox.setText(\"Your allegiance has been noted\")\n",
    "    mbox.setDetailedText(\"You are now a disciple and subject of the all-knowing Data\")\n",
    "    mbox.setStandardButtons(QMessageBox.Ok | QMessageBox.Cancel)\n",
    "            \n",
    "    mbox.exec_()\n",
    "\n",
    "if __name__ == \"__main__\":\n",
    "    app = QApplication(sys.argv)\n",
    "    w = QWidget()\n",
    "    w.resize(300,300)\n",
    "    w.setWindowTitle('DataZone')\n",
    "    \n",
    "    label = QLabel(w)\n",
    "    label.setText(\"Behold the Data,DataZone \")\n",
    "    label.move(100,130)\n",
    "    label.show()\n",
    "\n",
    "    btn = QPushButton(w)\n",
    "    btn.setText('Beheld')\n",
    "    btn.move(110,150)\n",
    "    btn.show()\n",
    "    btn.clicked.connect(dialog)\n",
    "\n",
    "    \n",
    "    w.show()\n",
    "    sys.exit(app.exec_())\n",
    "\n",
    "\n",
    "\n"
   ]
  },
  {
   "cell_type": "code",
   "execution_count": 9,
   "metadata": {},
   "outputs": [],
   "source": [
    "#This imports some more widgets that you have used in this example, namely QLabel, QPushButton, and QMessageBox.\n",
    "def dialog():\n",
    "    mbox = QMessageBox()\n",
    "\n",
    "    mbox.setText(\"Your allegiance has been noted\")\n",
    "    mbox.setDetailedText(\"You are now a disciple and subject of the all-knowing Data\")\n",
    "    mbox.setStandardButtons(QMessageBox.Ok | QMessageBox.Cancel)\n",
    "            \n",
    "    mbox.exec_()\n",
    "\n"
   ]
  },
  {
   "cell_type": "code",
   "execution_count": 2,
   "metadata": {},
   "outputs": [
    {
     "ename": "SystemExit",
     "evalue": "0",
     "output_type": "error",
     "traceback": [
      "An exception has occurred, use %tb to see the full traceback.\n",
      "\u001b[1;31mSystemExit\u001b[0m\u001b[1;31m:\u001b[0m 0\n"
     ]
    },
    {
     "name": "stderr",
     "output_type": "stream",
     "text": [
      "C:\\Users\\admin\\Anaconda3\\lib\\site-packages\\IPython\\core\\interactiveshell.py:2971: UserWarning: To exit: use 'exit', 'quit', or Ctrl-D.\n",
      "  warn(\"To exit: use 'exit', 'quit', or Ctrl-D.\", stacklevel=1)\n"
     ]
    }
   ],
   "source": [
    "#For example, this is how three buttons aligned with QHBoxLayout will look.\n",
    "import sys\n",
    "from PyQt5.QtWidgets import *\n",
    "\n",
    "if __name__ == \"__main__\":\n",
    "\n",
    "    app = QApplication([])\n",
    "    w = QWidget()\n",
    "    w.setWindowTitle(\"Musketeers\")\n",
    "\n",
    "    btn1 = QPushButton(\"Athos\")\n",
    "    btn2 = QPushButton(\"Porthos\")\n",
    "    btn3 = QPushButton(\"Aramis\")\n",
    "\n",
    "    hbox = QHBoxLayout(w)\n",
    "\n",
    "    hbox.addWidget(btn1)\n",
    "    hbox.addWidget(btn2)\n",
    "    hbox.addWidget(btn3)\n",
    "\n",
    "    w.show()\n",
    "\n",
    "    sys.exit(app.exec_())\n",
    "\n"
   ]
  },
  {
   "cell_type": "code",
   "execution_count": null,
   "metadata": {},
   "outputs": [],
   "source": [
    "#And this is how they will look in QVBoxLayout.\n",
    "import sys\n",
    "from PyQt5.QtWidgets import *\n",
    "\n",
    "if __name__ == \"__main__\":\n",
    "\n",
    "    app = QApplication([])\n",
    "    w = QWidget()\n",
    "    w.setWindowTitle(\"Musketeers\")\n",
    "\n",
    "    btn1 = QPushButton(\"Athos\")\n",
    "    btn2 = QPushButton(\"Porthos\")\n",
    "    btn3 = QPushButton(\"Aramis\")\n",
    "\n",
    "    vb = QVBoxLayout(w)\n",
    "\n",
    "    vb.addWidget(btn1)\n",
    "    vb.addWidget(btn2)\n",
    "    vb.addWidget(btn3)\n",
    "\n",
    "    w.show()\n",
    "\n",
    "    sys.exit(app.exec_())\n"
   ]
  },
  {
   "cell_type": "code",
   "execution_count": 5,
   "metadata": {},
   "outputs": [
    {
     "ename": "SystemExit",
     "evalue": "0",
     "output_type": "error",
     "traceback": [
      "An exception has occurred, use %tb to see the full traceback.\n",
      "\u001b[1;31mSystemExit\u001b[0m\u001b[1;31m:\u001b[0m 0\n"
     ]
    },
    {
     "name": "stderr",
     "output_type": "stream",
     "text": [
      "C:\\Users\\admin\\Anaconda3\\lib\\site-packages\\IPython\\core\\interactiveshell.py:2971: UserWarning: To exit: use 'exit', 'quit', or Ctrl-D.\n",
      "  warn(\"To exit: use 'exit', 'quit', or Ctrl-D.\", stacklevel=1)\n"
     ]
    }
   ],
   "source": [
    "#QGridLayout\n",
    "import sys\n",
    "from PyQt5.QtWidgets import *\n",
    "\n",
    "if __name__ == \"__main__\":\n",
    "    app = QApplication([])\n",
    "\n",
    "    w = QWidget()\n",
    "\n",
    "    grid = QGridLayout(w)\n",
    "\n",
    "    for i in range(3):\n",
    "        for j in range(3):\n",
    "            grid.addWidget(QPushButton(\"Button\"),i,j)\n",
    "\n",
    "\n",
    "    w.show()\n",
    "    sys.exit(app.exec_())\n"
   ]
  },
  {
   "cell_type": "code",
   "execution_count": null,
   "metadata": {},
   "outputs": [],
   "source": [
    "#To understand it better, you can manually insert each widget as shown below\n",
    "import sys\n",
    "from PyQt5.QtWidgets import *\n",
    "\n",
    "if __name__ == \"__main__\":\n",
    "    app = QApplication([])\n",
    "\n",
    "    w = QWidget()\n",
    "\n",
    "    grid = QGridLayout(w)\n",
    "    grid.addWidget(QPushButton(\"Button one\"),0,0)\n",
    "    grid.addWidget(QPushButton(\"Button two\"),0,1)\n",
    "    grid.addWidget(QPushButton(\"Button three\"),1,0)\n",
    "    grid.addWidget(QPushButton(\"Button four\"),1,1)\n",
    "\n",
    "\n",
    "    w.show()\n",
    "    sys.exit(app.exec_())\n"
   ]
  },
  {
   "cell_type": "code",
   "execution_count": 1,
   "metadata": {},
   "outputs": [
    {
     "ename": "SystemExit",
     "evalue": "0",
     "output_type": "error",
     "traceback": [
      "An exception has occurred, use %tb to see the full traceback.\n",
      "\u001b[1;31mSystemExit\u001b[0m\u001b[1;31m:\u001b[0m 0\n"
     ]
    },
    {
     "name": "stderr",
     "output_type": "stream",
     "text": [
      "C:\\Users\\admin\\Anaconda3\\lib\\site-packages\\IPython\\core\\interactiveshell.py:2971: UserWarning: To exit: use 'exit', 'quit', or Ctrl-D.\n",
      "  warn(\"To exit: use 'exit', 'quit', or Ctrl-D.\", stacklevel=1)\n"
     ]
    }
   ],
   "source": [
    "#Another useful function for theming your apps is the setPalette() method. Here's the code for changing the colour of different widgets using setPalette()\n",
    "import sys\n",
    "from PyQt5.QtCore import Qt\n",
    "from PyQt5.QtWidgets import *\n",
    "from PyQt5.QtGui import QPalette\n",
    "\n",
    "if __name__ == \"__main__\":\n",
    "    app = QApplication([])\n",
    "    app.setStyle(\"Fusion\")\n",
    "    \n",
    "    qp = QPalette()\n",
    "    qp.setColor(QPalette.ButtonText, Qt.black)\n",
    "    qp.setColor(QPalette.Window, Qt.black)\n",
    "    qp.setColor(QPalette.Button, Qt.gray)\n",
    "    app.setPalette(qp)\n",
    "\n",
    "    w = QWidget()\n",
    "\n",
    "    grid = QGridLayout(w)\n",
    "    grid.addWidget(QPushButton(\"Button one\"),0,0)\n",
    "    grid.addWidget(QPushButton(\"Button two\"),0,1)\n",
    "    grid.addWidget(QPushButton(\"Button three\"),1,0)\n",
    "    grid.addWidget(QPushButton(\"Button four\"),1,1)\n",
    "\n",
    "\n",
    "    w.show()\n",
    "    sys.exit(app.exec_())\n"
   ]
  },
  {
   "cell_type": "code",
   "execution_count": null,
   "metadata": {},
   "outputs": [],
   "source": []
  }
 ],
 "metadata": {
  "kernelspec": {
   "display_name": "Python 3",
   "language": "python",
   "name": "python3"
  },
  "language_info": {
   "codemirror_mode": {
    "name": "ipython",
    "version": 3
   },
   "file_extension": ".py",
   "mimetype": "text/x-python",
   "name": "python",
   "nbconvert_exporter": "python",
   "pygments_lexer": "ipython3",
   "version": "3.6.5"
  }
 },
 "nbformat": 4,
 "nbformat_minor": 2
}
