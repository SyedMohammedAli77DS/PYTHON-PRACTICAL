{
 "cells": [
  {
   "cell_type": "code",
   "execution_count": 1,
   "metadata": {},
   "outputs": [
    {
     "name": "stdout",
     "output_type": "stream",
     "text": [
      "<class 'str'>\n",
      "<class 'dict'>\n",
      "{'id': 72, 'stationName': 'W 52 St & 11 Ave', 'availableDocks': 4, 'totalDocks': 55, 'latitude': 40.76727216, 'longitude': -73.99392888, 'statusValue': 'In Service', 'statusKey': 1, 'availableBikes': 50, 'stAddress1': 'W 52 St & 11 Ave', 'stAddress2': '', 'city': '', 'postalCode': '', 'location': '', 'altitude': '', 'testStation': False, 'lastCommunicationTime': '2020-02-23 09:23:19 AM', 'landMark': ''}\n"
     ]
    }
   ],
   "source": [
    "#Decoding JSON data from URL\n",
    "import json\n",
    "import requests\n",
    "\n",
    "# get JSON string data from CityBike NYC using web requests library\n",
    "json_response= requests.get(\"https://feeds.citibikenyc.com/stations/stations.json\")\n",
    "# check type of json_response object\n",
    "print(type(json_response.text))\n",
    "# load data in loads() function of json library\n",
    "bike_dict = json.loads(json_response.text)\n",
    "#check type of news_dict\n",
    "print(type(bike_dict))\n",
    "# now get stationBeanList key data from dict\n",
    "print(bike_dict['stationBeanList'][0]) \n"
   ]
  },
  {
   "cell_type": "code",
   "execution_count": 72,
   "metadata": {},
   "outputs": [
    {
     "name": "stdout",
     "output_type": "stream",
     "text": [
      "Infinity\n",
      "<class 'str'>\n",
      "NaN\n",
      "inf\n",
      "<class 'float'>\n"
     ]
    }
   ],
   "source": [
    "#Infinite and NaN Numbers in Python\n",
    "import json\n",
    "# pass float Infinite value\n",
    "infinite_json = json.dumps(float('inf'))\n",
    "# check infinite json type\n",
    "print(infinite_json)\n",
    "print(type(infinite_json))\n",
    "json_nan = json.dumps(float('nan'))\n",
    "print(json_nan)\n",
    "# pass json_string as Infinity\n",
    "infinite = json.loads('Infinity')\n",
    "print(infinite)\n",
    "# check type of Infinity\n",
    "print(type(infinite))\n"
   ]
  },
  {
   "cell_type": "code",
   "execution_count": 73,
   "metadata": {},
   "outputs": [
    {
     "data": {
      "text/plain": [
       "{'a': 3}"
      ]
     },
     "execution_count": 73,
     "metadata": {},
     "output_type": "execute_result"
    }
   ],
   "source": [
    "#Repeated key in JSON String\n",
    "import json\n",
    "repeat_pair = '{\"a\":  1, \"a\":  2, \"a\":  3}'\n",
    "json.loads(repeat_pair)\n"
   ]
  },
  {
   "cell_type": "code",
   "execution_count": null,
   "metadata": {},
   "outputs": [],
   "source": [
    "    "
   ]
  },
  {
   "cell_type": "code",
   "execution_count": null,
   "metadata": {},
   "outputs": [],
   "source": []
  }
 ],
 "metadata": {
  "kernelspec": {
   "display_name": "Python 3",
   "language": "python",
   "name": "python3"
  },
  "language_info": {
   "codemirror_mode": {
    "name": "ipython",
    "version": 3
   },
   "file_extension": ".py",
   "mimetype": "text/x-python",
   "name": "python",
   "nbconvert_exporter": "python",
   "pygments_lexer": "ipython3",
   "version": "3.6.5"
  }
 },
 "nbformat": 4,
 "nbformat_minor": 2
}
