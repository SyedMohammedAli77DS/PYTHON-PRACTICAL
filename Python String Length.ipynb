{
 "cells": [
  {
   "cell_type": "code",
   "execution_count": 2,
   "metadata": {},
   "outputs": [
    {
     "name": "stdout",
     "output_type": "stream",
     "text": [
      "The length of the string  is : 35\n"
     ]
    }
   ],
   "source": [
    "#the length of the given string\n",
    "# testing len() \n",
    "str1 = \"Welcome to  Guru99 Python Tutorials\"\n",
    "print(\"The length of the string  is :\", len(str1))\n"
   ]
  },
  {
   "cell_type": "code",
   "execution_count": 3,
   "metadata": {},
   "outputs": [
    {
     "name": "stdout",
     "output_type": "stream",
     "text": [
      "The length of the list is 4\n"
     ]
    }
   ],
   "source": [
    "#the length of the list in python\n",
    "# to find the length of the list\n",
    "\n",
    "list1 = [\"Tim\",\"Charlie\",\"Tiffany\",\"Robert\"]\n",
    "\n",
    "print(\"The length of the list is\", len(list1))\n"
   ]
  },
  {
   "cell_type": "code",
   "execution_count": 4,
   "metadata": {},
   "outputs": [
    {
     "name": "stdout",
     "output_type": "stream",
     "text": [
      "The length of the tuple is 3\n"
     ]
    }
   ],
   "source": [
    "# to find the length of the tuple\n",
    "\n",
    "Tup = ('Jan','feb','march')\n",
    "\n",
    "print(\"The length of the tuple is\", len(Tup))\n"
   ]
  },
  {
   "cell_type": "code",
   "execution_count": 5,
   "metadata": {},
   "outputs": [
    {
     "name": "stdout",
     "output_type": "stream",
     "text": [
      "The length of the Dictionary is 4\n"
     ]
    }
   ],
   "source": [
    "# to find the length of the Dictionary\n",
    "\n",
    "Dict = {'Tim': 18,'Charlie':12,'Tiffany':22,'Robert':25}\n",
    "\n",
    "print(\"The length of the Dictionary is\", len(Dict))\n"
   ]
  },
  {
   "cell_type": "code",
   "execution_count": 6,
   "metadata": {},
   "outputs": [
    {
     "name": "stdout",
     "output_type": "stream",
     "text": [
      "The length of the Array is 4\n"
     ]
    }
   ],
   "source": [
    "# to find the length of the array\n",
    "\n",
    "arr1 = ['Tim','Charlie','Tiffany','Robert']\n",
    "\n",
    "print(\"The length of the Array is\", len(arr1))\n"
   ]
  },
  {
   "cell_type": "code",
   "execution_count": null,
   "metadata": {},
   "outputs": [],
   "source": []
  }
 ],
 "metadata": {
  "kernelspec": {
   "display_name": "Python 3",
   "language": "python",
   "name": "python3"
  },
  "language_info": {
   "codemirror_mode": {
    "name": "ipython",
    "version": 3
   },
   "file_extension": ".py",
   "mimetype": "text/x-python",
   "name": "python",
   "nbconvert_exporter": "python",
   "pygments_lexer": "ipython3",
   "version": "3.6.5"
  }
 },
 "nbformat": 4,
 "nbformat_minor": 2
}
