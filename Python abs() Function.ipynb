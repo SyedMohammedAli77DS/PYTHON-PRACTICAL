{
 "cells": [
  {
   "cell_type": "code",
   "execution_count": 1,
   "metadata": {},
   "outputs": [
    {
     "name": "stdout",
     "output_type": "stream",
     "text": [
      "The absolute value of an integer number is: 25\n",
      "The absolute value of a float number is: 10.5\n"
     ]
    }
   ],
   "source": [
    "# testing abs() for an integer and float\n",
    "\n",
    "int_num = -25\n",
    "\n",
    "float_num = -10.50\n",
    "\n",
    "print(\"The absolute value of an integer number is:\", abs(int_num))\n",
    "print(\"The absolute value of a float number is:\", abs(float_num))\n"
   ]
  },
  {
   "cell_type": "code",
   "execution_count": 2,
   "metadata": {},
   "outputs": [
    {
     "name": "stdout",
     "output_type": "stream",
     "text": [
      "The magnitude of the complex number is: 10.44030650891055\n"
     ]
    }
   ],
   "source": [
    "# testing abs() for a complex number\n",
    "\n",
    "complex_num = (3+10j)\n",
    "\n",
    "print(\"The magnitude of the complex number is:\", abs(complex_num))\n"
   ]
  },
  {
   "cell_type": "code",
   "execution_count": null,
   "metadata": {},
   "outputs": [],
   "source": []
  }
 ],
 "metadata": {
  "kernelspec": {
   "display_name": "Python 3",
   "language": "python",
   "name": "python3"
  },
  "language_info": {
   "codemirror_mode": {
    "name": "ipython",
    "version": 3
   },
   "file_extension": ".py",
   "mimetype": "text/x-python",
   "name": "python",
   "nbconvert_exporter": "python",
   "pygments_lexer": "ipython3",
   "version": "3.6.5"
  }
 },
 "nbformat": 4,
 "nbformat_minor": 2
}
