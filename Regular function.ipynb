{
 "cells": [
  {
   "cell_type": "code",
   "execution_count": 4,
   "metadata": {},
   "outputs": [
    {
     "name": "stdout",
     "output_type": "stream",
     "text": [
      "printer 1 REGULAR CALL\n",
      "printer 2 REGULAR CALL \n",
      "\n",
      "printer 1 LAMBDA CALL\n",
      "printer 2 LAMBDA CALL\n"
     ]
    }
   ],
   "source": [
    "#A REGULAR FUNCTION\n",
    "def abc( funct, *args ):\n",
    "    funct( *args )\n",
    "def printer_one( arg ):\n",
    "    return print (arg)\n",
    "def printer_two( arg ):\n",
    "    print(arg)\n",
    "#CALL A REGULAR FUNCTION \n",
    "abc( printer_one, 'printer 1 REGULAR CALL' )\n",
    "abc( printer_two, 'printer 2 REGULAR CALL \\n' )\n",
    "#CALL A REGULAR FUNCTION THRU A LAMBDA\n",
    "abc(lambda: printer_one('printer 1 LAMBDA CALL'))\n",
    "abc(lambda: printer_two('printer 2 LAMBDA CALL'))\n"
   ]
  },
  {
   "cell_type": "code",
   "execution_count": 5,
   "metadata": {},
   "outputs": [
    {
     "name": "stdout",
     "output_type": "stream",
     "text": [
      "[10, 8, 7, 5, 11]\n"
     ]
    }
   ],
   "source": [
    "sequences = [10,2,8,7,5,4,3,11,0, 1]\n",
    "filtered_result = filter (lambda x: x > 4, sequences) \n",
    "print(list(filtered_result))\n"
   ]
  },
  {
   "cell_type": "code",
   "execution_count": null,
   "metadata": {},
   "outputs": [],
   "source": []
  }
 ],
 "metadata": {
  "kernelspec": {
   "display_name": "Python 3",
   "language": "python",
   "name": "python3"
  },
  "language_info": {
   "codemirror_mode": {
    "name": "ipython",
    "version": 3
   },
   "file_extension": ".py",
   "mimetype": "text/x-python",
   "name": "python",
   "nbconvert_exporter": "python",
   "pygments_lexer": "ipython3",
   "version": "3.6.5"
  }
 },
 "nbformat": 4,
 "nbformat_minor": 2
}
