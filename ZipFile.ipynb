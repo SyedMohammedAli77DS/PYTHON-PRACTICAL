{
 "cells": [
  {
   "cell_type": "code",
   "execution_count": 3,
   "metadata": {},
   "outputs": [],
   "source": [
    "#Rename File and Directory using os.rename()\n",
    "import os\n",
    "import shutil\n",
    "from os import path\n",
    "\n",
    "def main():\n",
    "\t# make a duplicate of an existing file\n",
    "    if path.exists(\"DataZone.txt\"):\n",
    "\t# get the path to the file in the current directory\n",
    "        src = path.realpath(\"DataZone.txt\");\n",
    "\t\t\n",
    "\t# rename the original file\n",
    "        os.rename('DataZone','career.DataZone.txt') \n",
    "\t\t\n",
    "if __name__ == \"__main__\":\n",
    "    main()\n"
   ]
  },
  {
   "cell_type": "code",
   "execution_count": 31,
   "metadata": {},
   "outputs": [],
   "source": [
    "# ZipFile\n",
    "import os\n",
    "import shutil\n",
    "from zipfile import ZipFile\n",
    "from os import path\n",
    "from shutil import make_archive\n",
    "    # Check if file exists\n",
    "if path.exists(\"DataZone.txt\"):\n",
    "    # get the path to the file in the current directory\n",
    "    src = path.realpath(\"DataZone.txt\");\n",
    "    # rename the original file\n",
    "    os.rename(\"career.DataZone.txt\",\"DataZone.txt\")\n",
    "    # now put things into a ZIP archive\n",
    "    root_dir,tail = path.split(src)\n",
    "    shutil.make_archive(\"DataZone archive\",\"zip\",root_dir)\n",
    "    # more fine-grained control over ZIP files\n",
    "    with ZipFile(\"testDataZone.zip\", \"w\") as newzip:\n",
    "        newzip.write(\"DataZone.txt\")\n",
    "        newzip.write(\"DataZone.txt.bak\")\n"
   ]
  },
  {
   "cell_type": "code",
   "execution_count": null,
   "metadata": {},
   "outputs": [],
   "source": []
  },
  {
   "cell_type": "code",
   "execution_count": null,
   "metadata": {},
   "outputs": [],
   "source": []
  }
 ],
 "metadata": {
  "kernelspec": {
   "display_name": "Python 3",
   "language": "python",
   "name": "python3"
  },
  "language_info": {
   "codemirror_mode": {
    "name": "ipython",
    "version": 3
   },
   "file_extension": ".py",
   "mimetype": "text/x-python",
   "name": "python",
   "nbconvert_exporter": "python",
   "pygments_lexer": "ipython3",
   "version": "3.6.5"
  }
 },
 "nbformat": 4,
 "nbformat_minor": 2
}
