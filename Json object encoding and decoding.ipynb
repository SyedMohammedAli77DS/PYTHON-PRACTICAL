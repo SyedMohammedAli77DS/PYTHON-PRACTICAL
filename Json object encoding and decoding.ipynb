{
 "cells": [
  {
   "cell_type": "code",
   "execution_count": 1,
   "metadata": {},
   "outputs": [
    {
     "name": "stdout",
     "output_type": "stream",
     "text": [
      "[4.0, 5.0]\n"
     ]
    }
   ],
   "source": [
    "#Complex Object encoding of Python\n",
    "import json\n",
    "\n",
    "# create function to check instance is complex or not\n",
    "def complex_encode(object):\n",
    "    # check using isinstance method\n",
    "    if isinstance(object, complex):\n",
    "        return [object.real, object.imag]\n",
    "    # raised error using exception handling if object is not complex\n",
    "    raise TypeError(repr(object) + \" is not JSON serialized\")\n",
    "\n",
    "\n",
    "# perform json encoding by passing parameter\n",
    "complex_obj = json.dumps(4 + 5j, default=complex_encode)\n",
    "print(complex_obj)\n"
   ]
  },
  {
   "cell_type": "code",
   "execution_count": 26,
   "metadata": {},
   "outputs": [
    {
     "name": "stdout",
     "output_type": "stream",
     "text": [
      "Complex_object...... (4+5j)\n",
      "Without_complex_object...... {'real': 6, 'img': 7}\n"
     ]
    }
   ],
   "source": [
    "#Complex JSON object decoding in Python\n",
    "import json\n",
    "# function check JSON string contains complex object\n",
    "def is_complex(objct):\n",
    "    if '__complex__' in objct:\n",
    "        return complex(objct['real'], objct['img'])\n",
    "    return objct\n",
    "  # use of json loads method with object_hook for check object complex or not\n",
    "complex_object =json.loads('{\"__complex__\": true, \"real\": 4, \"img\": 5}', object_hook = is_complex)\n",
    "  #here we not passed complex object so it's convert into dictionary\n",
    "simple_object =json.loads('{\"real\": 6, \"img\": 7}', object_hook = is_complex)\n",
    "print(\"Complex_object......\",complex_object)\n",
    "print(\"Without_complex_object......\",simple_object)\n"
   ]
  },
  {
   "cell_type": "code",
   "execution_count": null,
   "metadata": {},
   "outputs": [],
   "source": []
  }
 ],
 "metadata": {
  "kernelspec": {
   "display_name": "Python 3",
   "language": "python",
   "name": "python3"
  },
  "language_info": {
   "codemirror_mode": {
    "name": "ipython",
    "version": 3
   },
   "file_extension": ".py",
   "mimetype": "text/x-python",
   "name": "python",
   "nbconvert_exporter": "python",
   "pygments_lexer": "ipython3",
   "version": "3.6.5"
  }
 },
 "nbformat": 4,
 "nbformat_minor": 2
}
