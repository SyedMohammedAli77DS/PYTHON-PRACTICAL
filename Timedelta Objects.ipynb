{
 "cells": [
  {
   "cell_type": "code",
   "execution_count": 2,
   "metadata": {},
   "outputs": [
    {
     "name": "stdout",
     "output_type": "stream",
     "text": [
      "Fri Feb  7 23:06:39 2020\n",
      "02/07/20\n",
      "23:06:39\n",
      "11:06:39 PM\n",
      "23:06\n"
     ]
    }
   ],
   "source": [
    "#Example file for formatting time and date output\n",
    "from datetime import datetime\n",
    "def main():\n",
    "   #Times and dates can be formatted using a set of predefined string\n",
    "   #Control codes\n",
    "      now= datetime.now() #get the current date and time\n",
    "      #%c - local date and time, %x-local's date, %X- local's time\n",
    "      print(now.strftime(\"%c\"))\n",
    "      print(now.strftime(\"%x\"))\n",
    "      print(now.strftime(\"%X\"))\n",
    "#### Time Formatting ####\n",
    "      #%I/%H - 12/24 Hour, %M - minute, %S - second, %p - local's AM/PM\n",
    "      print(now.strftime(\"%I:%M:%S %p\")) # 12-Hour:Minute:Second:AM\n",
    "      print(now.strftime(\"%H:%M\")) # 24-Hour:Minute\n",
    "\n",
    "if __name__== \"__main__\":\n",
    "    main()\n"
   ]
  },
  {
   "cell_type": "code",
   "execution_count": 3,
   "metadata": {},
   "outputs": [
    {
     "name": "stdout",
     "output_type": "stream",
     "text": [
      "365 days, 8:15:00\n",
      "today is: 2020-02-07 23:07:13.175682\n",
      "one year from now it will be:2021-02-06 23:07:13.175682\n",
      "New Year day is already went by 37 days ago\n"
     ]
    }
   ],
   "source": [
    "# Example file for working with timedelta objects\n",
    "from datetime import date\n",
    "from datetime import time\n",
    "from datetime import datetime\n",
    "from datetime import timedelta\n",
    "\n",
    "# construct a basic timedelta and print it\n",
    "print (timedelta(days=365, hours=8, minutes=15))\n",
    "# print today's date\n",
    "print (\"today is: \" + str(datetime.now()))\n",
    "# print today's date one year from now\n",
    "print (\"one year from now it will be:\" + str(datetime.now() + timedelta(days=365)))\n",
    "# create a timedelta that uses more than one argument\n",
    "# print (in one week and 4 days it will be \" + str(datetime.now() + timedelta(weeks=1, days=4)))\n",
    "# How many days until New Year's Day?\n",
    "today = date.today()  # get todays date\n",
    "nyd = date(today.year, 1, 1)  # get New Year Day for the same year\n",
    "# use date comparison to see if New Year Day has already gone for this year\n",
    "# if it has, use the replace() function to get the date for next year\n",
    "if nyd < today:\n",
    "    print (\"New Year day is already went by %d days ago\" % ((today - nyd).days))\n"
   ]
  },
  {
   "cell_type": "code",
   "execution_count": null,
   "metadata": {},
   "outputs": [],
   "source": []
  }
 ],
 "metadata": {
  "kernelspec": {
   "display_name": "Python 3",
   "language": "python",
   "name": "python3"
  },
  "language_info": {
   "codemirror_mode": {
    "name": "ipython",
    "version": 3
   },
   "file_extension": ".py",
   "mimetype": "text/x-python",
   "name": "python",
   "nbconvert_exporter": "python",
   "pygments_lexer": "ipython3",
   "version": "3.6.5"
  }
 },
 "nbformat": 4,
 "nbformat_minor": 2
}
