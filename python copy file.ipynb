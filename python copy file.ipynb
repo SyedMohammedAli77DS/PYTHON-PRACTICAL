{
 "cells": [
  {
   "cell_type": "code",
   "execution_count": 17,
   "metadata": {},
   "outputs": [
    {
     "name": "stdout",
     "output_type": "stream",
     "text": [
      "path:C:\\Users\\admin\n",
      "file:guru99.txt\n"
     ]
    }
   ],
   "source": [
    "#Python COPY File using shutil.copy(), shutil.copystat()\n",
    "\n",
    "#Python Copy File Methods\n",
    "import os\n",
    "import shutil\n",
    "from os import path\n",
    "\n",
    "def main():\n",
    "    # make a duplicate of an existing file\n",
    "\tif path.exists(\"guru99.txt\"):\n",
    "    # get the path to the file in the current directory\n",
    "            src = path.realpath(\"guru99.txt\");\n",
    "    \n",
    "\t#seperate the path from the filter\n",
    "\thead, tail = path.split(src)\n",
    "\tprint(\"path:\" +head)\n",
    "\tprint(\"file:\" +tail)\n",
    "\t\n",
    "\t#let's make a backup copy by appending \"bak\" to the name\n",
    "\tdst = src+\".bak\"\n",
    "\t# nowuse the shell to make a copy of the file\n",
    "\tshutil.copy(src, dst)\n",
    "\t\n",
    "\t#copy over the permissions,modification\n",
    "\tshutil.copystat(src,dst)\n",
    "\t\n",
    "if __name__==\"__main__\":\n",
    "\tmain()\n"
   ]
  },
  {
   "cell_type": "code",
   "execution_count": 15,
   "metadata": {},
   "outputs": [
    {
     "name": "stdout",
     "output_type": "stream",
     "text": [
      "Mon Feb 10 14:28:52 2020\n",
      "2020-02-10 14:28:52.925334\n"
     ]
    }
   ],
   "source": [
    "# Example file for working with o.s path module\n",
    "import os\n",
    "from os import path\n",
    "import datetime\n",
    "from datetime import date, time, timedelta\n",
    "import time\n",
    "\n",
    "def main():\n",
    "\n",
    "\n",
    "    # Get the modification time\n",
    "    t = time.ctime(path.getmtime(\"guru99.txt.bak\"))\n",
    "    print(t)\n",
    "    print(datetime.datetime.fromtimestamp(path.getmtime(\"guru99.txt.bak\")))\n",
    "\n",
    "\n",
    "if __name__ == \"__main__\":\n",
    "    main()\n"
   ]
  },
  {
   "cell_type": "code",
   "execution_count": null,
   "metadata": {},
   "outputs": [],
   "source": []
  }
 ],
 "metadata": {
  "kernelspec": {
   "display_name": "Python 3",
   "language": "python",
   "name": "python3"
  },
  "language_info": {
   "codemirror_mode": {
    "name": "ipython",
    "version": 3
   },
   "file_extension": ".py",
   "mimetype": "text/x-python",
   "name": "python",
   "nbconvert_exporter": "python",
   "pygments_lexer": "ipython3",
   "version": "3.6.5"
  }
 },
 "nbformat": 4,
 "nbformat_minor": 2
}
