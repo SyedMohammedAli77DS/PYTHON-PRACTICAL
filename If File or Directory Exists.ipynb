{
 "cells": [
  {
   "cell_type": "code",
   "execution_count": 2,
   "metadata": {},
   "outputs": [
    {
     "name": "stdout",
     "output_type": "stream",
     "text": [
      "file exist:False\n",
      "File exists:False\n",
      "directory exists:False\n"
     ]
    }
   ],
   "source": [
    "#os.path.exists()\n",
    "import os.path\n",
    "from os import path\n",
    "\n",
    "def main():\n",
    "\n",
    "   print (\"file exist:\"+str(path.exists('DataZone')))\n",
    "   print (\"File exists:\" + str(path.exists('career.DataZone.txt')))\n",
    "   print (\"directory exists:\" + str(path.exists('myDirectory')))\n",
    "\n",
    "if __name__== \"__main__\":\n",
    "   main()\n"
   ]
  },
  {
   "cell_type": "code",
   "execution_count": 10,
   "metadata": {},
   "outputs": [
    {
     "name": "stdout",
     "output_type": "stream",
     "text": [
      "Is it File?False\n",
      "Is it File?False\n"
     ]
    }
   ],
   "source": [
    "#os.path.isfile()\n",
    "import os.path\n",
    "from os import path\n",
    "\t\n",
    "def main():\n",
    "\n",
    "\tprint (\"Is it File?\" + str(path.isfile('DataZone.txt')))\n",
    "\tprint (\"Is it File?\" + str(path.isfile('myDirectory')))\n",
    "if __name__== \"__main__\":\n",
    "\tmain()\n"
   ]
  },
  {
   "cell_type": "code",
   "execution_count": 9,
   "metadata": {},
   "outputs": [
    {
     "name": "stdout",
     "output_type": "stream",
     "text": [
      "Is it Directory?False\n",
      "Is it Directory?False\n"
     ]
    }
   ],
   "source": [
    "#os.path.isdir()\n",
    "import os.path\n",
    "from os import path\n",
    "\n",
    "def main():\n",
    "\n",
    "   print (\"Is it Directory?\" + str(path.isdir('DataZone.txt')))\n",
    "   print (\"Is it Directory?\" + str(path.isdir('myDirectory')))\n",
    "\n",
    "if __name__== \"__main__\":\n",
    "   main()\n"
   ]
  },
  {
   "cell_type": "code",
   "execution_count": 8,
   "metadata": {},
   "outputs": [
    {
     "name": "stdout",
     "output_type": "stream",
     "text": [
      "File not exist\n"
     ]
    }
   ],
   "source": [
    "#pathlibPath.exists() For Python 3.4\n",
    "import pathlib\n",
    "file = pathlib.Path(\"DataZone.txt\")\n",
    "if file.exists ():\n",
    "    print (\"File exist\")\n",
    "else:\n",
    "    print (\"File not exist\")\n"
   ]
  },
  {
   "cell_type": "code",
   "execution_count": 7,
   "metadata": {},
   "outputs": [
    {
     "name": "stdout",
     "output_type": "stream",
     "text": [
      "Item exists:False\n",
      "Item is a file: False\n",
      "Item is a directory: False\n",
      "nt\n"
     ]
    }
   ],
   "source": [
    "#pathlibPath.exists() \n",
    "import os\n",
    "from os import path\n",
    "\n",
    "def main():\n",
    "    # Print the name of the OS\n",
    "    print(os.name)\n",
    "#Check for item existence and type\n",
    "print(\"Item exists:\" + str(path.exists(\"DataZone.txt\")))\n",
    "print(\"Item is a file: \" + str(path.isfile(\"DataZone.txt\")))\n",
    "print(\"Item is a directory: \" + str(path.isdir(\"DataZone.txt\")))\n",
    "\n",
    "if __name__ == \"__main__\":\n",
    "    main()\n"
   ]
  },
  {
   "cell_type": "code",
   "execution_count": null,
   "metadata": {},
   "outputs": [],
   "source": []
  }
 ],
 "metadata": {
  "kernelspec": {
   "display_name": "Python 3",
   "language": "python",
   "name": "python3"
  },
  "language_info": {
   "codemirror_mode": {
    "name": "ipython",
    "version": 3
   },
   "file_extension": ".py",
   "mimetype": "text/x-python",
   "name": "python",
   "nbconvert_exporter": "python",
   "pygments_lexer": "ipython3",
   "version": "3.6.5"
  }
 },
 "nbformat": 4,
 "nbformat_minor": 2
}
