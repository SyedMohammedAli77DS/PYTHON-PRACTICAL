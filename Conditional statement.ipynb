{
 "cells": [
  {
   "cell_type": "code",
   "execution_count": 1,
   "metadata": {},
   "outputs": [
    {
     "name": "stdout",
     "output_type": "stream",
     "text": [
      "x is less than y\n"
     ]
    }
   ],
   "source": [
    "#Example file for working with conditional statement\n",
    "def main():\n",
    "\tx,y =2,8\n",
    "\t\n",
    "\tif(x < y):\n",
    "\t\tst= \"x is less than y\"\n",
    "\tprint(st)\n",
    "\t\n",
    "if __name__ == \"__main__\":\n",
    "\tmain()\n"
   ]
  },
  {
   "cell_type": "code",
   "execution_count": 2,
   "metadata": {},
   "outputs": [
    {
     "name": "stdout",
     "output_type": "stream",
     "text": [
      "x is greater than y\n"
     ]
    }
   ],
   "source": [
    "#Example file for working with conditional statement\n",
    "def main():\n",
    "\tx,y =8,4\n",
    "\t\n",
    "\tif(x < y):\n",
    "\t\tst= \"x is less than y\"\n",
    "\telse:\n",
    "\t\tst= \"x is greater than y\"\n",
    "\tprint (st)\n",
    "\t\n",
    "if __name__ == \"__main__\":\n",
    "\tmain()\n"
   ]
  },
  {
   "cell_type": "code",
   "execution_count": 3,
   "metadata": {},
   "outputs": [
    {
     "name": "stdout",
     "output_type": "stream",
     "text": [
      "x is greater than y\n"
     ]
    }
   ],
   "source": [
    "#Example file for working with conditional statement\n",
    "def main():\n",
    "\tx,y =8,8\n",
    "\t\n",
    "\tif(x < y):\n",
    "\t\tst= \"x is less than y\"\n",
    "\telse:\n",
    "\t\tst= \"x is greater than y\"\n",
    "\tprint(st)\n",
    "\t\n",
    "if __name__ == \"__main__\":\n",
    "\tmain()\n"
   ]
  },
  {
   "cell_type": "code",
   "execution_count": null,
   "metadata": {},
   "outputs": [],
   "source": []
  }
 ],
 "metadata": {
  "kernelspec": {
   "display_name": "Python 3",
   "language": "python",
   "name": "python3"
  },
  "language_info": {
   "codemirror_mode": {
    "name": "ipython",
    "version": 3
   },
   "file_extension": ".py",
   "mimetype": "text/x-python",
   "name": "python",
   "nbconvert_exporter": "python",
   "pygments_lexer": "ipython3",
   "version": "3.6.5"
  }
 },
 "nbformat": 4,
 "nbformat_minor": 2
}
