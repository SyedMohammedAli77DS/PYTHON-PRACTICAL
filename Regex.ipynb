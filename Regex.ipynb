{
 "cells": [
  {
   "cell_type": "code",
   "execution_count": 2,
   "metadata": {},
   "outputs": [
    {
     "name": "stdout",
     "output_type": "stream",
     "text": [
      "['DataZone']\n"
     ]
    }
   ],
   "source": [
    "#Example of w+ and ^ Expression\n",
    "import re\n",
    "xx = \"DataZone,education is Learning\"\n",
    "r1 = re.findall(r\"^\\w+\",xx)\n",
    "print(r1)\n"
   ]
  },
  {
   "cell_type": "code",
   "execution_count": 3,
   "metadata": {},
   "outputs": [
    {
     "name": "stdout",
     "output_type": "stream",
     "text": [
      "['we', 'are', 'splitting', 'the', 'words']\n",
      "['', 'plit the word', '']\n"
     ]
    }
   ],
   "source": [
    "#\\s expression in re.split function\n",
    "import re\n",
    "xx = \"DataZone,education is Learning\"\n",
    "r1 = re.findall(r\"^\\w+\", xx)\n",
    "print((re.split(r'\\s','we are splitting the words')))\n",
    "print((re.split(r's','split the words')))\n"
   ]
  },
  {
   "cell_type": "code",
   "execution_count": 5,
   "metadata": {},
   "outputs": [
    {
     "ename": "SyntaxError",
     "evalue": "EOL while scanning string literal (<ipython-input-5-3e531c802ab3>, line 18)",
     "output_type": "error",
     "traceback": [
      "\u001b[1;36m  File \u001b[1;32m\"<ipython-input-5-3e531c802ab3>\"\u001b[1;36m, line \u001b[1;32m18\u001b[0m\n\u001b[1;33m    abc = 'DataZone@google.com\u001b[0m\n\u001b[1;37m                              ^\u001b[0m\n\u001b[1;31mSyntaxError\u001b[0m\u001b[1;31m:\u001b[0m EOL while scanning string literal\n"
     ]
    }
   ],
   "source": [
    "#Using re.findall for text\n",
    "import re\n",
    "\n",
    "list = [\"DataZone get\", \"DataZone give\", \"DataZone Selenium\"]\n",
    "for element in list:\n",
    "    z = re.match(\"(g\\w+)\\W(g\\w+)\", element)\n",
    "if z:\n",
    "    print((z.groups()))\n",
    "    \n",
    "patterns = ['software testing', 'DataZone']\n",
    "text = 'software testing is fun?'\n",
    "for pattern in patterns:\n",
    "    print('Looking for \"%s\" in \"%s\" ->' % (pattern, text), end=' ')\n",
    "    if re.search(pattern, text):\n",
    "        print('found a match!')\n",
    "else:\n",
    "    print('no match')\n",
    "abc = 'DataZone@google.com\n",
    "\t, DataZone@hotmail.com, users@yahoomail.com'\n",
    "emails = re.findall(r'[\\w\\.-]+@[\\w\\.-]+', abc)\n",
    "for email in emails:\n",
    "    print(email)\n"
   ]
  },
  {
   "cell_type": "code",
   "execution_count": 7,
   "metadata": {},
   "outputs": [
    {
     "name": "stdout",
     "output_type": "stream",
     "text": [
      "['D']\n",
      "['D', 'D', 's']\n"
     ]
    }
   ],
   "source": [
    "#re.M or Multiline Flags\n",
    "import re\n",
    "xx = \"\"\"DataZone \n",
    "DataZone\t\n",
    "selenium\"\"\"\n",
    "k1 = re.findall(r\"^\\w\", xx)\n",
    "k2 = re.findall(r\"^\\w\", xx, re.MULTILINE)\n",
    "print(k1)\n",
    "print(k2)\n"
   ]
  },
  {
   "cell_type": "code",
   "execution_count": null,
   "metadata": {},
   "outputs": [],
   "source": []
  }
 ],
 "metadata": {
  "kernelspec": {
   "display_name": "Python 3",
   "language": "python",
   "name": "python3"
  },
  "language_info": {
   "codemirror_mode": {
    "name": "ipython",
    "version": 3
   },
   "file_extension": ".py",
   "mimetype": "text/x-python",
   "name": "python",
   "nbconvert_exporter": "python",
   "pygments_lexer": "ipython3",
   "version": "3.6.5"
  }
 },
 "nbformat": 4,
 "nbformat_minor": 2
}
