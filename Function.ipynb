{
 "cells": [
  {
   "cell_type": "code",
   "execution_count": 1,
   "metadata": {},
   "outputs": [
    {
     "name": "stdout",
     "output_type": "stream",
     "text": [
      "I am learning Python function\n",
      "still in func1\n",
      "16\n",
      "value of x= 4\n",
      "value of y= 2\n",
      "8\n"
     ]
    }
   ],
   "source": [
    "#define a function\n",
    "def func1():\n",
    "   print (\"I am learning Python function\")\n",
    "   print (\"still in func1\")\n",
    "   \n",
    "func1()\n",
    "\n",
    "def square(x):\n",
    "  \treturn x*x\n",
    "print(square(4))\n",
    "\n",
    "def multiply(x,y=0):\n",
    "\tprint(\"value of x=\",x)\n",
    "\tprint(\"value of y=\",y)\n",
    "    \n",
    "\treturn x*y\n",
    "  \n",
    "print(multiply(y=2,x=4))\n"
   ]
  },
  {
   "cell_type": "code",
   "execution_count": null,
   "metadata": {},
   "outputs": [],
   "source": []
  }
 ],
 "metadata": {
  "kernelspec": {
   "display_name": "Python 3",
   "language": "python",
   "name": "python3"
  },
  "language_info": {
   "codemirror_mode": {
    "name": "ipython",
    "version": 3
   },
   "file_extension": ".py",
   "mimetype": "text/x-python",
   "name": "python",
   "nbconvert_exporter": "python",
   "pygments_lexer": "ipython3",
   "version": "3.6.5"
  }
 },
 "nbformat": 4,
 "nbformat_minor": 2
}
