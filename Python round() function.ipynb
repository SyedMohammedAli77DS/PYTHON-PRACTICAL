{
 "cells": [
  {
   "cell_type": "code",
   "execution_count": 1,
   "metadata": {},
   "outputs": [
    {
     "name": "stdout",
     "output_type": "stream",
     "text": [
      "Testing by using truncating upto 3 decimal places\n",
      "The original sum is =  29992.02152098175\n",
      "The total using truncate =  29492.231\n",
      "The difference from original - truncate =  499.7905209817509\n",
      "\n",
      "\n",
      "\n",
      "Testing by using round() upto 3 decimal places\n",
      "The original sum is = 29992.02152098175\n",
      "The total using round =  29992.159\n",
      "The difference from original - round = -0.137479018248996\n"
     ]
    }
   ],
   "source": [
    "#How much Impact can Rounding Have? \n",
    "import random\n",
    "\n",
    "def truncate(num):\n",
    "    return int(num * 1000) / 1000\n",
    "\n",
    "arr = [random.uniform(0.01, 0.05) for _ in range(1000000)]\n",
    "sum_num = 0\n",
    "sum_truncate = 0\n",
    "for i in arr:\n",
    "    sum_num = sum_num + i        \n",
    "    sum_truncate = truncate(sum_truncate + i)\n",
    "    \n",
    "print(\"Testing by using truncating upto 3 decimal places\")\n",
    "print(\"The original sum is = \", sum_num)\n",
    "print(\"The total using truncate = \", sum_truncate)\n",
    "print(\"The difference from original - truncate = \", sum_num - sum_truncate)\n",
    "\n",
    "print(\"\\n\\n\")\n",
    "print(\"Testing by using round() upto 3 decimal places\")\n",
    "sum_num1 = 0\n",
    "sum_truncate1 = 0\n",
    "for i in arr:\n",
    "    sum_num1 = sum_num1 + i        \n",
    "    sum_truncate1 = round(sum_truncate1 + i, 3)\n",
    "\n",
    "\n",
    "print(\"The original sum is =\", sum_num1)\n",
    "print(\"The total using round = \", sum_truncate1)\n",
    "print(\"The difference from original - round =\", sum_num1 - sum_truncate1)\n"
   ]
  },
  {
   "cell_type": "code",
   "execution_count": 2,
   "metadata": {},
   "outputs": [
    {
     "name": "stdout",
     "output_type": "stream",
     "text": [
      "The rounded value without num_of_decimals is : 11\n",
      "The rounded value without num_of_decimals is : 10\n",
      "The rounded value with num_of_decimals as 2 is : 10.35\n",
      "The rounded value with num_of_decimals as 2 is : 10.34\n"
     ]
    }
   ],
   "source": [
    "#In this program, we will see how rounding words on floating numbers\n",
    "# testing round() \n",
    "\n",
    "float_num1 = 10.60 # here the value will be rounded to 11 as after the decimal point the number is 6 that is >=5 \n",
    "\n",
    "float_num2 = 10.40 # here the value will be rounded to 10 as after the decimal point the number is 4 that is <5\n",
    "\n",
    "float_num3 = 10.3456 # here the value will be 10.35 as after the 2 decimal points the value >=5 \n",
    "\n",
    "float_num4 = 10.3445 #here the value will be 10.34 as after the 2 decimal points the value is <5 \n",
    "\n",
    "print(\"The rounded value without num_of_decimals is :\", round(float_num1))\n",
    "print(\"The rounded value without num_of_decimals is :\", round(float_num2))\n",
    "print(\"The rounded value with num_of_decimals as 2 is :\", round(float_num3, 2))\n",
    "print(\"The rounded value with num_of_decimals as 2 is :\", round(float_num4, 2))\n"
   ]
  },
  {
   "cell_type": "code",
   "execution_count": 3,
   "metadata": {},
   "outputs": [
    {
     "name": "stdout",
     "output_type": "stream",
     "text": [
      "The output is 15\n"
     ]
    }
   ],
   "source": [
    "#Rounding Integer Values\n",
    "# testing round() on a integer\n",
    "\n",
    "num = 15\n",
    "\n",
    "print(\"The output is\", round(num))\n"
   ]
  },
  {
   "cell_type": "code",
   "execution_count": 4,
   "metadata": {},
   "outputs": [
    {
     "name": "stdout",
     "output_type": "stream",
     "text": [
      "The value after rounding is -3\n",
      "The value after rounding is -2\n"
     ]
    }
   ],
   "source": [
    "#Rounding on Negative Numbers\n",
    "# testing round()\n",
    "\n",
    "num = -2.8\n",
    "num1 = -1.5\n",
    "print(\"The value after rounding is\", round(num))\n",
    "print(\"The value after rounding is\", round(num1))\n"
   ]
  },
  {
   "cell_type": "code",
   "execution_count": 5,
   "metadata": {},
   "outputs": [
    {
     "name": "stdout",
     "output_type": "stream",
     "text": [
      "[-0.34  1.46  4.23 -0.34  7.63  5.12]\n"
     ]
    }
   ],
   "source": [
    "#Round Numpy Arrays\n",
    "#Using numpy.round()\n",
    "# testing round()\n",
    "import numpy as np\n",
    "\n",
    "arr = [-0.341111, 1.455098989, 4.232323, -0.3432326, 7.626632, 5.122323]\n",
    "\n",
    "arr1 = np.round(arr, 2)\n",
    "\n",
    "print(arr1)\n"
   ]
  },
  {
   "cell_type": "code",
   "execution_count": 6,
   "metadata": {},
   "outputs": [
    {
     "name": "stdout",
     "output_type": "stream",
     "text": [
      "Using round() 15.46\n",
      "Using Decimal - ROUND_CEILING  15.46\n",
      "Using Decimal - ROUND_DOWN  15.45\n",
      "Using Decimal - ROUND_FLOOR  15.45\n",
      "Using Decimal - ROUND_HALF_DOWN  15.46\n",
      "Using Decimal - ROUND_HALF_EVEN  15.46\n",
      "Using Decimal - ROUND_HALF_UP  15.46\n",
      "Using Decimal - ROUND_UP  15.46\n"
     ]
    }
   ],
   "source": [
    "#Decimal Module\n",
    "import  decimal \n",
    "round_num = 15.456\n",
    "\n",
    "final_val = round(round_num, 2)\n",
    "\n",
    "#Using decimal module\n",
    "final_val1 = decimal.Decimal(round_num).quantize(decimal.Decimal('0.00'), rounding=decimal.ROUND_CEILING)\n",
    "final_val2 = decimal.Decimal(round_num).quantize(decimal.Decimal('0.00'), rounding=decimal.ROUND_DOWN)\n",
    "final_val3 = decimal.Decimal(round_num).quantize(decimal.Decimal('0.00'), rounding=decimal.ROUND_FLOOR)\n",
    "final_val4 = decimal.Decimal(round_num).quantize(decimal.Decimal('0.00'), rounding=decimal.ROUND_HALF_DOWN)\n",
    "final_val5 = decimal.Decimal(round_num).quantize(decimal.Decimal('0.00'), rounding=decimal.ROUND_HALF_EVEN)\n",
    "final_val6 = decimal.Decimal(round_num).quantize(decimal.Decimal('0.00'), rounding=decimal.ROUND_HALF_UP)\n",
    "final_val7 = decimal.Decimal(round_num).quantize(decimal.Decimal('0.00'), rounding=decimal.ROUND_UP)\n",
    "\n",
    "print(\"Using round()\", final_val)\n",
    "print(\"Using Decimal - ROUND_CEILING \",final_val1)\n",
    "print(\"Using Decimal - ROUND_DOWN \",final_val2)\n",
    "print(\"Using Decimal - ROUND_FLOOR \",final_val3)\n",
    "print(\"Using Decimal - ROUND_HALF_DOWN \",final_val4)\n",
    "print(\"Using Decimal - ROUND_HALF_EVEN \",final_val5)\n",
    "print(\"Using Decimal - ROUND_HALF_UP \",final_val6)\n",
    "print(\"Using Decimal - ROUND_UP \",final_val7)\n"
   ]
  },
  {
   "cell_type": "code",
   "execution_count": null,
   "metadata": {},
   "outputs": [],
   "source": []
  }
 ],
 "metadata": {
  "kernelspec": {
   "display_name": "Python 3",
   "language": "python",
   "name": "python3"
  },
  "language_info": {
   "codemirror_mode": {
    "name": "ipython",
    "version": 3
   },
   "file_extension": ".py",
   "mimetype": "text/x-python",
   "name": "python",
   "nbconvert_exporter": "python",
   "pygments_lexer": "ipython3",
   "version": "3.6.5"
  }
 },
 "nbformat": 4,
 "nbformat_minor": 2
}
