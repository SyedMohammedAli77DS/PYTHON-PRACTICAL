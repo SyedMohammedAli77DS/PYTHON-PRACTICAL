{
 "cells": [
  {
   "cell_type": "code",
   "execution_count": 1,
   "metadata": {},
   "outputs": [
    {
     "data": {
      "text/plain": [
       "72.25"
      ]
     },
     "execution_count": 1,
     "metadata": {},
     "output_type": "execute_result"
    }
   ],
   "source": [
    "import numpy as np\n",
    "import pandas as pd\n",
    "import statistics\n",
    "sales = [55,66,80,90,100,80,66,66,44,77,44,99]\n",
    "statistics.mean(sales)"
   ]
  },
  {
   "cell_type": "code",
   "execution_count": 2,
   "metadata": {},
   "outputs": [
    {
     "data": {
      "text/plain": [
       "66"
      ]
     },
     "execution_count": 2,
     "metadata": {},
     "output_type": "execute_result"
    }
   ],
   "source": [
    "statistics.mode(sales)"
   ]
  },
  {
   "cell_type": "code",
   "execution_count": 3,
   "metadata": {},
   "outputs": [
    {
     "data": {
      "text/plain": [
       "71.5"
      ]
     },
     "execution_count": 3,
     "metadata": {},
     "output_type": "execute_result"
    }
   ],
   "source": [
    "statistics.median(sales)"
   ]
  },
  {
   "cell_type": "code",
   "execution_count": 4,
   "metadata": {},
   "outputs": [],
   "source": [
    "emp = pd.read_csv('d:/datasets/employee.csv')"
   ]
  },
  {
   "cell_type": "code",
   "execution_count": 5,
   "metadata": {},
   "outputs": [
    {
     "data": {
      "text/html": [
       "<div>\n",
       "<style scoped>\n",
       "    .dataframe tbody tr th:only-of-type {\n",
       "        vertical-align: middle;\n",
       "    }\n",
       "\n",
       "    .dataframe tbody tr th {\n",
       "        vertical-align: top;\n",
       "    }\n",
       "\n",
       "    .dataframe thead th {\n",
       "        text-align: right;\n",
       "    }\n",
       "</style>\n",
       "<table border=\"1\" class=\"dataframe\">\n",
       "  <thead>\n",
       "    <tr style=\"text-align: right;\">\n",
       "      <th></th>\n",
       "      <th>Unnamed: 0</th>\n",
       "      <th>dno</th>\n",
       "      <th>employee id</th>\n",
       "      <th>fullname</th>\n",
       "      <th>position</th>\n",
       "      <th>salary</th>\n",
       "      <th>manager id</th>\n",
       "      <th>department id</th>\n",
       "    </tr>\n",
       "  </thead>\n",
       "  <tbody>\n",
       "    <tr>\n",
       "      <th>0</th>\n",
       "      <td>0</td>\n",
       "      <td>10</td>\n",
       "      <td>ind-001</td>\n",
       "      <td>Abdul Rehman</td>\n",
       "      <td>CSO</td>\n",
       "      <td>100000</td>\n",
       "      <td>NaN</td>\n",
       "      <td>1</td>\n",
       "    </tr>\n",
       "    <tr>\n",
       "      <th>1</th>\n",
       "      <td>1</td>\n",
       "      <td>20</td>\n",
       "      <td>ind-002</td>\n",
       "      <td>M. Yousuf</td>\n",
       "      <td>CTO</td>\n",
       "      <td>90000</td>\n",
       "      <td>ind-001</td>\n",
       "      <td>1</td>\n",
       "    </tr>\n",
       "    <tr>\n",
       "      <th>2</th>\n",
       "      <td>2</td>\n",
       "      <td>30</td>\n",
       "      <td>ind-003</td>\n",
       "      <td>Joseph D'Souza</td>\n",
       "      <td>CVO</td>\n",
       "      <td>84000</td>\n",
       "      <td>ind-001</td>\n",
       "      <td>1</td>\n",
       "    </tr>\n",
       "    <tr>\n",
       "      <th>3</th>\n",
       "      <td>3</td>\n",
       "      <td>40</td>\n",
       "      <td>ind-004</td>\n",
       "      <td>Mahesh Kalmadi</td>\n",
       "      <td>CWO</td>\n",
       "      <td>70000</td>\n",
       "      <td>ind-002</td>\n",
       "      <td>2</td>\n",
       "    </tr>\n",
       "    <tr>\n",
       "      <th>4</th>\n",
       "      <td>4</td>\n",
       "      <td>50</td>\n",
       "      <td>us-001</td>\n",
       "      <td>Jogender Singh</td>\n",
       "      <td>STO</td>\n",
       "      <td>56000</td>\n",
       "      <td>ind-002</td>\n",
       "      <td>2</td>\n",
       "    </tr>\n",
       "    <tr>\n",
       "      <th>5</th>\n",
       "      <td>5</td>\n",
       "      <td>60</td>\n",
       "      <td>us-002</td>\n",
       "      <td>Syed Mannan</td>\n",
       "      <td>SPO</td>\n",
       "      <td>56000</td>\n",
       "      <td>ind-003</td>\n",
       "      <td>3</td>\n",
       "    </tr>\n",
       "    <tr>\n",
       "      <th>6</th>\n",
       "      <td>6</td>\n",
       "      <td>70</td>\n",
       "      <td>dub-001</td>\n",
       "      <td>John</td>\n",
       "      <td>CTO</td>\n",
       "      <td>50000</td>\n",
       "      <td>ind-002</td>\n",
       "      <td>0</td>\n",
       "    </tr>\n",
       "  </tbody>\n",
       "</table>\n",
       "</div>"
      ],
      "text/plain": [
       "   Unnamed: 0  dno employee id        fullname position  salary manager id  \\\n",
       "0           0   10     ind-001    Abdul Rehman      CSO  100000        NaN   \n",
       "1           1   20     ind-002       M. Yousuf      CTO   90000    ind-001   \n",
       "2           2   30     ind-003  Joseph D'Souza      CVO   84000    ind-001   \n",
       "3           3   40     ind-004  Mahesh Kalmadi      CWO   70000    ind-002   \n",
       "4           4   50      us-001  Jogender Singh      STO   56000    ind-002   \n",
       "5           5   60      us-002     Syed Mannan      SPO   56000    ind-003   \n",
       "6           6   70     dub-001            John      CTO   50000    ind-002   \n",
       "\n",
       "   department id  \n",
       "0              1  \n",
       "1              1  \n",
       "2              1  \n",
       "3              2  \n",
       "4              2  \n",
       "5              3  \n",
       "6              0  "
      ]
     },
     "execution_count": 5,
     "metadata": {},
     "output_type": "execute_result"
    }
   ],
   "source": [
    "emp"
   ]
  },
  {
   "cell_type": "code",
   "execution_count": 6,
   "metadata": {},
   "outputs": [
    {
     "data": {
      "text/html": [
       "<div>\n",
       "<style scoped>\n",
       "    .dataframe tbody tr th:only-of-type {\n",
       "        vertical-align: middle;\n",
       "    }\n",
       "\n",
       "    .dataframe tbody tr th {\n",
       "        vertical-align: top;\n",
       "    }\n",
       "\n",
       "    .dataframe thead th {\n",
       "        text-align: right;\n",
       "    }\n",
       "</style>\n",
       "<table border=\"1\" class=\"dataframe\">\n",
       "  <thead>\n",
       "    <tr style=\"text-align: right;\">\n",
       "      <th></th>\n",
       "      <th>Unnamed: 0</th>\n",
       "      <th>dno</th>\n",
       "      <th>salary</th>\n",
       "      <th>department id</th>\n",
       "    </tr>\n",
       "  </thead>\n",
       "  <tbody>\n",
       "    <tr>\n",
       "      <th>count</th>\n",
       "      <td>7.000000</td>\n",
       "      <td>7.000000</td>\n",
       "      <td>7.000000</td>\n",
       "      <td>7.000000</td>\n",
       "    </tr>\n",
       "    <tr>\n",
       "      <th>mean</th>\n",
       "      <td>3.000000</td>\n",
       "      <td>40.000000</td>\n",
       "      <td>72285.714286</td>\n",
       "      <td>1.428571</td>\n",
       "    </tr>\n",
       "    <tr>\n",
       "      <th>std</th>\n",
       "      <td>2.160247</td>\n",
       "      <td>21.602469</td>\n",
       "      <td>19371.063348</td>\n",
       "      <td>0.975900</td>\n",
       "    </tr>\n",
       "    <tr>\n",
       "      <th>min</th>\n",
       "      <td>0.000000</td>\n",
       "      <td>10.000000</td>\n",
       "      <td>50000.000000</td>\n",
       "      <td>0.000000</td>\n",
       "    </tr>\n",
       "    <tr>\n",
       "      <th>25%</th>\n",
       "      <td>1.500000</td>\n",
       "      <td>25.000000</td>\n",
       "      <td>56000.000000</td>\n",
       "      <td>1.000000</td>\n",
       "    </tr>\n",
       "    <tr>\n",
       "      <th>50%</th>\n",
       "      <td>3.000000</td>\n",
       "      <td>40.000000</td>\n",
       "      <td>70000.000000</td>\n",
       "      <td>1.000000</td>\n",
       "    </tr>\n",
       "    <tr>\n",
       "      <th>75%</th>\n",
       "      <td>4.500000</td>\n",
       "      <td>55.000000</td>\n",
       "      <td>87000.000000</td>\n",
       "      <td>2.000000</td>\n",
       "    </tr>\n",
       "    <tr>\n",
       "      <th>max</th>\n",
       "      <td>6.000000</td>\n",
       "      <td>70.000000</td>\n",
       "      <td>100000.000000</td>\n",
       "      <td>3.000000</td>\n",
       "    </tr>\n",
       "  </tbody>\n",
       "</table>\n",
       "</div>"
      ],
      "text/plain": [
       "       Unnamed: 0        dno         salary  department id\n",
       "count    7.000000   7.000000       7.000000       7.000000\n",
       "mean     3.000000  40.000000   72285.714286       1.428571\n",
       "std      2.160247  21.602469   19371.063348       0.975900\n",
       "min      0.000000  10.000000   50000.000000       0.000000\n",
       "25%      1.500000  25.000000   56000.000000       1.000000\n",
       "50%      3.000000  40.000000   70000.000000       1.000000\n",
       "75%      4.500000  55.000000   87000.000000       2.000000\n",
       "max      6.000000  70.000000  100000.000000       3.000000"
      ]
     },
     "execution_count": 6,
     "metadata": {},
     "output_type": "execute_result"
    }
   ],
   "source": [
    "emp.describe()"
   ]
  },
  {
   "cell_type": "code",
   "execution_count": 7,
   "metadata": {},
   "outputs": [
    {
     "name": "stdout",
     "output_type": "stream",
     "text": [
      "<class 'pandas.core.frame.DataFrame'>\n",
      "RangeIndex: 7 entries, 0 to 6\n",
      "Data columns (total 8 columns):\n",
      "Unnamed: 0       7 non-null int64\n",
      "dno              7 non-null int64\n",
      "employee id      7 non-null object\n",
      "fullname         7 non-null object\n",
      "position         7 non-null object\n",
      "salary           7 non-null int64\n",
      "manager id       6 non-null object\n",
      "department id    7 non-null int64\n",
      "dtypes: int64(4), object(4)\n",
      "memory usage: 528.0+ bytes\n"
     ]
    }
   ],
   "source": [
    "emp.info()"
   ]
  },
  {
   "cell_type": "code",
   "execution_count": 8,
   "metadata": {},
   "outputs": [
    {
     "data": {
      "text/plain": [
       "count         7.000000\n",
       "mean      72285.714286\n",
       "std       19371.063348\n",
       "min       50000.000000\n",
       "25%       56000.000000\n",
       "50%       70000.000000\n",
       "75%       87000.000000\n",
       "max      100000.000000\n",
       "Name: salary, dtype: float64"
      ]
     },
     "execution_count": 8,
     "metadata": {},
     "output_type": "execute_result"
    }
   ],
   "source": [
    "emp['salary'].describe()"
   ]
  },
  {
   "cell_type": "code",
   "execution_count": 9,
   "metadata": {},
   "outputs": [
    {
     "data": {
      "text/plain": [
       "72285.71428571429"
      ]
     },
     "execution_count": 9,
     "metadata": {},
     "output_type": "execute_result"
    }
   ],
   "source": [
    "emp['salary'].mean()"
   ]
  },
  {
   "cell_type": "code",
   "execution_count": 10,
   "metadata": {},
   "outputs": [
    {
     "data": {
      "text/plain": [
       "70000.0"
      ]
     },
     "execution_count": 10,
     "metadata": {},
     "output_type": "execute_result"
    }
   ],
   "source": [
    "emp['salary'].median()"
   ]
  },
  {
   "cell_type": "code",
   "execution_count": 11,
   "metadata": {},
   "outputs": [
    {
     "data": {
      "text/plain": [
       "0    56000\n",
       "dtype: int64"
      ]
     },
     "execution_count": 11,
     "metadata": {},
     "output_type": "execute_result"
    }
   ],
   "source": [
    "emp['salary'].mode()"
   ]
  },
  {
   "cell_type": "code",
   "execution_count": 12,
   "metadata": {},
   "outputs": [
    {
     "data": {
      "text/plain": [
       "19371.06334815142"
      ]
     },
     "execution_count": 12,
     "metadata": {},
     "output_type": "execute_result"
    }
   ],
   "source": [
    "emp['salary'].std()"
   ]
  },
  {
   "cell_type": "code",
   "execution_count": 13,
   "metadata": {},
   "outputs": [],
   "source": [
    "from scipy import stats"
   ]
  },
  {
   "cell_type": "code",
   "execution_count": 14,
   "metadata": {},
   "outputs": [
    {
     "data": {
      "text/plain": [
       "72.25"
      ]
     },
     "execution_count": 14,
     "metadata": {},
     "output_type": "execute_result"
    }
   ],
   "source": [
    "statistics.mean(sales)"
   ]
  },
  {
   "cell_type": "code",
   "execution_count": 15,
   "metadata": {},
   "outputs": [
    {
     "data": {
      "text/plain": [
       "72.3"
      ]
     },
     "execution_count": 15,
     "metadata": {},
     "output_type": "execute_result"
    }
   ],
   "source": [
    "stats.trim_mean(sales,0.1)"
   ]
  },
  {
   "cell_type": "code",
   "execution_count": 20,
   "metadata": {},
   "outputs": [
    {
     "data": {
      "text/plain": [
       "72.5"
      ]
     },
     "execution_count": 20,
     "metadata": {},
     "output_type": "execute_result"
    }
   ],
   "source": [
    "stats.trim_mean(sales,0.3)"
   ]
  },
  {
   "cell_type": "code",
   "execution_count": 21,
   "metadata": {},
   "outputs": [],
   "source": [
    "import matplotlib.pyplot as plt"
   ]
  },
  {
   "cell_type": "code",
   "execution_count": 22,
   "metadata": {},
   "outputs": [
    {
     "data": {
      "image/png": "[encoded data removed]",
      "text/plain": [
       "<Figure size 432x288 with 1 Axes>"
      ]
     },
     "metadata": {},
     "output_type": "display_data"
    }
   ],
   "source": [
    "plt.boxplot(sales,showmeans=True)\n",
    "plt.show()"
   ]
  },
  {
   "cell_type": "code",
   "execution_count": 23,
   "metadata": {},
   "outputs": [],
   "source": [
    "sales = [1,2,3,4,5,6,7,8,9,18]"
   ]
  },
  {
   "cell_type": "code",
   "execution_count": 24,
   "metadata": {},
   "outputs": [
    {
     "data": {
      "text/plain": [
       "6.3"
      ]
     },
     "execution_count": 24,
     "metadata": {},
     "output_type": "execute_result"
    }
   ],
   "source": [
    "statistics.mean(sales)"
   ]
  },
  {
   "cell_type": "code",
   "execution_count": 25,
   "metadata": {},
   "outputs": [
    {
     "data": {
      "text/plain": [
       "5.5"
      ]
     },
     "execution_count": 25,
     "metadata": {},
     "output_type": "execute_result"
    }
   ],
   "source": [
    "statistics.median(sales)"
   ]
  },
  {
   "cell_type": "code",
   "execution_count": 26,
   "metadata": {},
   "outputs": [
    {
     "data": {
      "image/png": "[encoded data removed]",
      "text/plain": [
       "<Figure size 432x288 with 1 Axes>"
      ]
     },
     "metadata": {},
     "output_type": "display_data"
    }
   ],
   "source": [
    "plt.boxplot(sales,showmeans=True)\n",
    "plt.show()"
   ]
  },
  {
   "cell_type": "code",
   "execution_count": 27,
   "metadata": {},
   "outputs": [],
   "source": [
    "import seaborn as sns"
   ]
  },
  {
   "cell_type": "code",
   "execution_count": 28,
   "metadata": {},
   "outputs": [
    {
     "data": {
      "image/png": "[encoded data removed]",
      "text/plain": [
       "<Figure size 432x288 with 1 Axes>"
      ]
     },
     "metadata": {},
     "output_type": "display_data"
    }
   ],
   "source": [
    "plt.boxplot(sales,showmeans=True)\n",
    "plt.show()"
   ]
  },
  {
   "cell_type": "code",
   "execution_count": 29,
   "metadata": {},
   "outputs": [],
   "source": [
    "import seaborn as sns"
   ]
  },
  {
   "cell_type": "code",
   "execution_count": 30,
   "metadata": {},
   "outputs": [
    {
     "name": "stderr",
     "output_type": "stream",
     "text": [
      "C:\\Users\\admin\\Anaconda3\\lib\\site-packages\\matplotlib\\axes\\_axes.py:6462: UserWarning: The 'normed' kwarg is deprecated, and has been replaced by the 'density' kwarg.\n",
      "  warnings.warn(\"The 'normed' kwarg is deprecated, and has been \"\n"
     ]
    },
    {
     "data": {
      "image/png": "[encoded data removed]",
      "text/plain": [
       "<Figure size 432x288 with 1 Axes>"
      ]
     },
     "metadata": {},
     "output_type": "display_data"
    }
   ],
   "source": [
    "sns.distplot(sales)\n",
    "plt.show()"
   ]
  },
  {
   "cell_type": "code",
   "execution_count": 32,
   "metadata": {},
   "outputs": [],
   "source": [
    "sales = pd.read_csv('d:/datasets/sales.csv')"
   ]
  },
  {
   "cell_type": "code",
   "execution_count": 40,
   "metadata": {},
   "outputs": [
    {
     "data": {
      "text/html": [
       "<div>\n",
       "<style scoped>\n",
       "    .dataframe tbody tr th:only-of-type {\n",
       "        vertical-align: middle;\n",
       "    }\n",
       "\n",
       "    .dataframe tbody tr th {\n",
       "        vertical-align: top;\n",
       "    }\n",
       "\n",
       "    .dataframe thead th {\n",
       "        text-align: right;\n",
       "    }\n",
       "</style>\n",
       "<table border=\"1\" class=\"dataframe\">\n",
       "  <thead>\n",
       "    <tr style=\"text-align: right;\">\n",
       "      <th></th>\n",
       "      <th>Country</th>\n",
       "      <th>Item_Type</th>\n",
       "      <th>Channel</th>\n",
       "      <th>Order_Date</th>\n",
       "      <th>Order_ID</th>\n",
       "      <th>Ship_Date</th>\n",
       "      <th>Units_Sold</th>\n",
       "      <th>Unit_Price</th>\n",
       "      <th>Unit_Cost</th>\n",
       "      <th>T_Revenue</th>\n",
       "      <th>T_Cost</th>\n",
       "      <th>T_Profit</th>\n",
       "    </tr>\n",
       "  </thead>\n",
       "  <tbody>\n",
       "    <tr>\n",
       "      <th>0</th>\n",
       "      <td>Tuvalu</td>\n",
       "      <td>Baby Food</td>\n",
       "      <td>Offline</td>\n",
       "      <td>40326</td>\n",
       "      <td>669165933</td>\n",
       "      <td>6/27/2010</td>\n",
       "      <td>9925</td>\n",
       "      <td>255.28</td>\n",
       "      <td>159.42</td>\n",
       "      <td>2533654.00</td>\n",
       "      <td>1582243.50</td>\n",
       "      <td>951410.50</td>\n",
       "    </tr>\n",
       "    <tr>\n",
       "      <th>1</th>\n",
       "      <td>Grenada</td>\n",
       "      <td>Cereal</td>\n",
       "      <td>Online</td>\n",
       "      <td>41143</td>\n",
       "      <td>963881480</td>\n",
       "      <td>9/15/2012</td>\n",
       "      <td>2804</td>\n",
       "      <td>205.70</td>\n",
       "      <td>117.11</td>\n",
       "      <td>576782.80</td>\n",
       "      <td>328376.44</td>\n",
       "      <td>248406.36</td>\n",
       "    </tr>\n",
       "    <tr>\n",
       "      <th>2</th>\n",
       "      <td>Russia</td>\n",
       "      <td>Office Supplies</td>\n",
       "      <td>Offline</td>\n",
       "      <td>41761</td>\n",
       "      <td>341417157</td>\n",
       "      <td>5/8/2014</td>\n",
       "      <td>1779</td>\n",
       "      <td>651.21</td>\n",
       "      <td>524.96</td>\n",
       "      <td>1158502.59</td>\n",
       "      <td>933903.84</td>\n",
       "      <td>224598.75</td>\n",
       "    </tr>\n",
       "    <tr>\n",
       "      <th>3</th>\n",
       "      <td>Sao Tome and Principe</td>\n",
       "      <td>Fruits</td>\n",
       "      <td>Online</td>\n",
       "      <td>41810</td>\n",
       "      <td>514321792</td>\n",
       "      <td>7/5/2014</td>\n",
       "      <td>8102</td>\n",
       "      <td>9.33</td>\n",
       "      <td>6.92</td>\n",
       "      <td>75591.66</td>\n",
       "      <td>56065.84</td>\n",
       "      <td>19525.82</td>\n",
       "    </tr>\n",
       "    <tr>\n",
       "      <th>4</th>\n",
       "      <td>Rwanda</td>\n",
       "      <td>Office Supplies</td>\n",
       "      <td>Offline</td>\n",
       "      <td>41306</td>\n",
       "      <td>115456712</td>\n",
       "      <td>2/6/2013</td>\n",
       "      <td>5062</td>\n",
       "      <td>651.21</td>\n",
       "      <td>524.96</td>\n",
       "      <td>3296425.02</td>\n",
       "      <td>2657347.52</td>\n",
       "      <td>639077.50</td>\n",
       "    </tr>\n",
       "    <tr>\n",
       "      <th>5</th>\n",
       "      <td>Solomon Islands</td>\n",
       "      <td>Baby Food</td>\n",
       "      <td>Online</td>\n",
       "      <td>42039</td>\n",
       "      <td>547995746</td>\n",
       "      <td>2/21/2015</td>\n",
       "      <td>2974</td>\n",
       "      <td>255.28</td>\n",
       "      <td>159.42</td>\n",
       "      <td>759202.72</td>\n",
       "      <td>474115.08</td>\n",
       "      <td>285087.64</td>\n",
       "    </tr>\n",
       "    <tr>\n",
       "      <th>6</th>\n",
       "      <td>Angola</td>\n",
       "      <td>Household</td>\n",
       "      <td>Offline</td>\n",
       "      <td>40656</td>\n",
       "      <td>135425221</td>\n",
       "      <td>4/27/2011</td>\n",
       "      <td>4187</td>\n",
       "      <td>668.27</td>\n",
       "      <td>502.54</td>\n",
       "      <td>2798046.49</td>\n",
       "      <td>2104134.98</td>\n",
       "      <td>693911.51</td>\n",
       "    </tr>\n",
       "    <tr>\n",
       "      <th>7</th>\n",
       "      <td>Burkina Faso</td>\n",
       "      <td>Vegetables</td>\n",
       "      <td>Online</td>\n",
       "      <td>41107</td>\n",
       "      <td>871543967</td>\n",
       "      <td>7/27/2012</td>\n",
       "      <td>8082</td>\n",
       "      <td>154.06</td>\n",
       "      <td>90.93</td>\n",
       "      <td>1245112.92</td>\n",
       "      <td>734896.26</td>\n",
       "      <td>510216.66</td>\n",
       "    </tr>\n",
       "    <tr>\n",
       "      <th>8</th>\n",
       "      <td>Republic of the Congo</td>\n",
       "      <td>Personal Care</td>\n",
       "      <td>Offline</td>\n",
       "      <td>42199</td>\n",
       "      <td>770463311</td>\n",
       "      <td>8/25/2015</td>\n",
       "      <td>6070</td>\n",
       "      <td>81.73</td>\n",
       "      <td>56.67</td>\n",
       "      <td>496101.10</td>\n",
       "      <td>343986.90</td>\n",
       "      <td>152114.20</td>\n",
       "    </tr>\n",
       "    <tr>\n",
       "      <th>9</th>\n",
       "      <td>Senegal</td>\n",
       "      <td>Cereal</td>\n",
       "      <td>Online</td>\n",
       "      <td>41747</td>\n",
       "      <td>616607081</td>\n",
       "      <td>5/30/2014</td>\n",
       "      <td>6593</td>\n",
       "      <td>205.70</td>\n",
       "      <td>117.11</td>\n",
       "      <td>1356180.10</td>\n",
       "      <td>772106.23</td>\n",
       "      <td>584073.87</td>\n",
       "    </tr>\n",
       "    <tr>\n",
       "      <th>10</th>\n",
       "      <td>Kyrgyzstan</td>\n",
       "      <td>Vegetables</td>\n",
       "      <td>Online</td>\n",
       "      <td>40718</td>\n",
       "      <td>814711606</td>\n",
       "      <td>7/12/2011</td>\n",
       "      <td>124</td>\n",
       "      <td>154.06</td>\n",
       "      <td>90.93</td>\n",
       "      <td>19103.44</td>\n",
       "      <td>11275.32</td>\n",
       "      <td>7828.12</td>\n",
       "    </tr>\n",
       "    <tr>\n",
       "      <th>11</th>\n",
       "      <td>Cape Verde</td>\n",
       "      <td>Clothes</td>\n",
       "      <td>Offline</td>\n",
       "      <td>41853</td>\n",
       "      <td>939825713</td>\n",
       "      <td>8/19/2014</td>\n",
       "      <td>4168</td>\n",
       "      <td>109.28</td>\n",
       "      <td>35.84</td>\n",
       "      <td>455479.04</td>\n",
       "      <td>149381.12</td>\n",
       "      <td>306097.92</td>\n",
       "    </tr>\n",
       "    <tr>\n",
       "      <th>12</th>\n",
       "      <td>Bangladesh</td>\n",
       "      <td>Clothes</td>\n",
       "      <td>Online</td>\n",
       "      <td>42748</td>\n",
       "      <td>187310731</td>\n",
       "      <td>3/1/2017</td>\n",
       "      <td>8263</td>\n",
       "      <td>109.28</td>\n",
       "      <td>35.84</td>\n",
       "      <td>902980.64</td>\n",
       "      <td>296145.92</td>\n",
       "      <td>606834.72</td>\n",
       "    </tr>\n",
       "    <tr>\n",
       "      <th>13</th>\n",
       "      <td>Honduras</td>\n",
       "      <td>Household</td>\n",
       "      <td>Offline</td>\n",
       "      <td>42774</td>\n",
       "      <td>522840487</td>\n",
       "      <td>2/13/2017</td>\n",
       "      <td>8974</td>\n",
       "      <td>668.27</td>\n",
       "      <td>502.54</td>\n",
       "      <td>5997054.98</td>\n",
       "      <td>4509793.96</td>\n",
       "      <td>1487261.02</td>\n",
       "    </tr>\n",
       "    <tr>\n",
       "      <th>14</th>\n",
       "      <td>Mongolia</td>\n",
       "      <td>Personal Care</td>\n",
       "      <td>Offline</td>\n",
       "      <td>41689</td>\n",
       "      <td>832401311</td>\n",
       "      <td>2/23/2014</td>\n",
       "      <td>4901</td>\n",
       "      <td>81.73</td>\n",
       "      <td>56.67</td>\n",
       "      <td>400558.73</td>\n",
       "      <td>277739.67</td>\n",
       "      <td>122819.06</td>\n",
       "    </tr>\n",
       "    <tr>\n",
       "      <th>15</th>\n",
       "      <td>Bulgaria</td>\n",
       "      <td>Clothes</td>\n",
       "      <td>Online</td>\n",
       "      <td>41022</td>\n",
       "      <td>972292029</td>\n",
       "      <td>6/3/2012</td>\n",
       "      <td>1673</td>\n",
       "      <td>109.28</td>\n",
       "      <td>35.84</td>\n",
       "      <td>182825.44</td>\n",
       "      <td>59960.32</td>\n",
       "      <td>122865.12</td>\n",
       "    </tr>\n",
       "    <tr>\n",
       "      <th>16</th>\n",
       "      <td>Sri Lanka</td>\n",
       "      <td>Cosmetics</td>\n",
       "      <td>Offline</td>\n",
       "      <td>42693</td>\n",
       "      <td>419123971</td>\n",
       "      <td>12/18/2016</td>\n",
       "      <td>6952</td>\n",
       "      <td>437.20</td>\n",
       "      <td>263.33</td>\n",
       "      <td>3039414.40</td>\n",
       "      <td>1830670.16</td>\n",
       "      <td>1208744.24</td>\n",
       "    </tr>\n",
       "    <tr>\n",
       "      <th>17</th>\n",
       "      <td>Cameroon</td>\n",
       "      <td>Beverages</td>\n",
       "      <td>Offline</td>\n",
       "      <td>42095</td>\n",
       "      <td>519820964</td>\n",
       "      <td>4/18/2015</td>\n",
       "      <td>5430</td>\n",
       "      <td>47.45</td>\n",
       "      <td>31.79</td>\n",
       "      <td>257653.50</td>\n",
       "      <td>172619.70</td>\n",
       "      <td>85033.80</td>\n",
       "    </tr>\n",
       "    <tr>\n",
       "      <th>18</th>\n",
       "      <td>Turkmenistan</td>\n",
       "      <td>Household</td>\n",
       "      <td>Offline</td>\n",
       "      <td>40542</td>\n",
       "      <td>441619336</td>\n",
       "      <td>1/20/2011</td>\n",
       "      <td>3830</td>\n",
       "      <td>668.27</td>\n",
       "      <td>502.54</td>\n",
       "      <td>2559474.10</td>\n",
       "      <td>1924728.20</td>\n",
       "      <td>634745.90</td>\n",
       "    </tr>\n",
       "    <tr>\n",
       "      <th>19</th>\n",
       "      <td>East Timor</td>\n",
       "      <td>Meat</td>\n",
       "      <td>Online</td>\n",
       "      <td>41121</td>\n",
       "      <td>322067916</td>\n",
       "      <td>9/11/2012</td>\n",
       "      <td>5908</td>\n",
       "      <td>421.89</td>\n",
       "      <td>364.69</td>\n",
       "      <td>2492526.12</td>\n",
       "      <td>2154588.52</td>\n",
       "      <td>337937.60</td>\n",
       "    </tr>\n",
       "    <tr>\n",
       "      <th>20</th>\n",
       "      <td>Norway</td>\n",
       "      <td>Baby Food</td>\n",
       "      <td>Online</td>\n",
       "      <td>41773</td>\n",
       "      <td>819028031</td>\n",
       "      <td>6/28/2014</td>\n",
       "      <td>7450</td>\n",
       "      <td>255.28</td>\n",
       "      <td>159.42</td>\n",
       "      <td>1901836.00</td>\n",
       "      <td>1187679.00</td>\n",
       "      <td>714157.00</td>\n",
       "    </tr>\n",
       "    <tr>\n",
       "      <th>21</th>\n",
       "      <td>Portugal</td>\n",
       "      <td>Baby Food</td>\n",
       "      <td>Online</td>\n",
       "      <td>42216</td>\n",
       "      <td>860673511</td>\n",
       "      <td>9/3/2015</td>\n",
       "      <td>1273</td>\n",
       "      <td>255.28</td>\n",
       "      <td>159.42</td>\n",
       "      <td>324971.44</td>\n",
       "      <td>202941.66</td>\n",
       "      <td>122029.78</td>\n",
       "    </tr>\n",
       "    <tr>\n",
       "      <th>22</th>\n",
       "      <td>Honduras</td>\n",
       "      <td>Snacks</td>\n",
       "      <td>Online</td>\n",
       "      <td>42551</td>\n",
       "      <td>795490682</td>\n",
       "      <td>7/26/2016</td>\n",
       "      <td>2225</td>\n",
       "      <td>152.58</td>\n",
       "      <td>97.44</td>\n",
       "      <td>339490.50</td>\n",
       "      <td>216804.00</td>\n",
       "      <td>122686.50</td>\n",
       "    </tr>\n",
       "    <tr>\n",
       "      <th>23</th>\n",
       "      <td>New Zealand</td>\n",
       "      <td>Fruits</td>\n",
       "      <td>Online</td>\n",
       "      <td>41890</td>\n",
       "      <td>142278373</td>\n",
       "      <td>10/4/2014</td>\n",
       "      <td>2187</td>\n",
       "      <td>9.33</td>\n",
       "      <td>6.92</td>\n",
       "      <td>20404.71</td>\n",
       "      <td>15134.04</td>\n",
       "      <td>5270.67</td>\n",
       "    </tr>\n",
       "    <tr>\n",
       "      <th>24</th>\n",
       "      <td>Moldova</td>\n",
       "      <td>Personal Care</td>\n",
       "      <td>Online</td>\n",
       "      <td>42497</td>\n",
       "      <td>740147912</td>\n",
       "      <td>5/10/2016</td>\n",
       "      <td>5070</td>\n",
       "      <td>81.73</td>\n",
       "      <td>56.67</td>\n",
       "      <td>414371.10</td>\n",
       "      <td>287316.90</td>\n",
       "      <td>127054.20</td>\n",
       "    </tr>\n",
       "    <tr>\n",
       "      <th>25</th>\n",
       "      <td>France</td>\n",
       "      <td>Cosmetics</td>\n",
       "      <td>Online</td>\n",
       "      <td>42877</td>\n",
       "      <td>898523128</td>\n",
       "      <td>6/5/2017</td>\n",
       "      <td>1815</td>\n",
       "      <td>437.20</td>\n",
       "      <td>263.33</td>\n",
       "      <td>793518.00</td>\n",
       "      <td>477943.95</td>\n",
       "      <td>315574.05</td>\n",
       "    </tr>\n",
       "    <tr>\n",
       "      <th>26</th>\n",
       "      <td>Kiribati</td>\n",
       "      <td>Fruits</td>\n",
       "      <td>Online</td>\n",
       "      <td>41925</td>\n",
       "      <td>347140347</td>\n",
       "      <td>11/10/2014</td>\n",
       "      <td>5398</td>\n",
       "      <td>9.33</td>\n",
       "      <td>6.92</td>\n",
       "      <td>50363.34</td>\n",
       "      <td>37354.16</td>\n",
       "      <td>13009.18</td>\n",
       "    </tr>\n",
       "    <tr>\n",
       "      <th>27</th>\n",
       "      <td>Mali</td>\n",
       "      <td>Fruits</td>\n",
       "      <td>Online</td>\n",
       "      <td>40305</td>\n",
       "      <td>686048400</td>\n",
       "      <td>5/10/2010</td>\n",
       "      <td>5822</td>\n",
       "      <td>9.33</td>\n",
       "      <td>6.92</td>\n",
       "      <td>54319.26</td>\n",
       "      <td>40288.24</td>\n",
       "      <td>14031.02</td>\n",
       "    </tr>\n",
       "    <tr>\n",
       "      <th>28</th>\n",
       "      <td>Norway</td>\n",
       "      <td>Beverages</td>\n",
       "      <td>Offline</td>\n",
       "      <td>41838</td>\n",
       "      <td>435608613</td>\n",
       "      <td>7/30/2014</td>\n",
       "      <td>5124</td>\n",
       "      <td>47.45</td>\n",
       "      <td>31.79</td>\n",
       "      <td>243133.80</td>\n",
       "      <td>162891.96</td>\n",
       "      <td>80241.84</td>\n",
       "    </tr>\n",
       "    <tr>\n",
       "      <th>29</th>\n",
       "      <td>The Gambia</td>\n",
       "      <td>Household</td>\n",
       "      <td>Offline</td>\n",
       "      <td>41055</td>\n",
       "      <td>886494815</td>\n",
       "      <td>6/9/2012</td>\n",
       "      <td>2370</td>\n",
       "      <td>668.27</td>\n",
       "      <td>502.54</td>\n",
       "      <td>1583799.90</td>\n",
       "      <td>1191019.80</td>\n",
       "      <td>392780.10</td>\n",
       "    </tr>\n",
       "    <tr>\n",
       "      <th>...</th>\n",
       "      <td>...</td>\n",
       "      <td>...</td>\n",
       "      <td>...</td>\n",
       "      <td>...</td>\n",
       "      <td>...</td>\n",
       "      <td>...</td>\n",
       "      <td>...</td>\n",
       "      <td>...</td>\n",
       "      <td>...</td>\n",
       "      <td>...</td>\n",
       "      <td>...</td>\n",
       "      <td>...</td>\n",
       "    </tr>\n",
       "    <tr>\n",
       "      <th>70</th>\n",
       "      <td>Turkmenistan</td>\n",
       "      <td>Office Supplies</td>\n",
       "      <td>Online</td>\n",
       "      <td>41387</td>\n",
       "      <td>462405812</td>\n",
       "      <td>5/20/2013</td>\n",
       "      <td>5010</td>\n",
       "      <td>651.21</td>\n",
       "      <td>524.96</td>\n",
       "      <td>3262562.10</td>\n",
       "      <td>2630049.60</td>\n",
       "      <td>632512.50</td>\n",
       "    </tr>\n",
       "    <tr>\n",
       "      <th>71</th>\n",
       "      <td>Libya</td>\n",
       "      <td>Fruits</td>\n",
       "      <td>Online</td>\n",
       "      <td>42230</td>\n",
       "      <td>816200339</td>\n",
       "      <td>9/30/2015</td>\n",
       "      <td>673</td>\n",
       "      <td>9.33</td>\n",
       "      <td>6.92</td>\n",
       "      <td>6279.09</td>\n",
       "      <td>4657.16</td>\n",
       "      <td>1621.93</td>\n",
       "    </tr>\n",
       "    <tr>\n",
       "      <th>72</th>\n",
       "      <td>Democratic Republic of the Congo</td>\n",
       "      <td>Beverages</td>\n",
       "      <td>Online</td>\n",
       "      <td>40689</td>\n",
       "      <td>585920464</td>\n",
       "      <td>7/15/2011</td>\n",
       "      <td>5741</td>\n",
       "      <td>47.45</td>\n",
       "      <td>31.79</td>\n",
       "      <td>272410.45</td>\n",
       "      <td>182506.39</td>\n",
       "      <td>89904.06</td>\n",
       "    </tr>\n",
       "    <tr>\n",
       "      <th>73</th>\n",
       "      <td>Djibouti</td>\n",
       "      <td>Cereal</td>\n",
       "      <td>Online</td>\n",
       "      <td>42875</td>\n",
       "      <td>555990016</td>\n",
       "      <td>6/17/2017</td>\n",
       "      <td>8656</td>\n",
       "      <td>205.70</td>\n",
       "      <td>117.11</td>\n",
       "      <td>1780539.20</td>\n",
       "      <td>1013704.16</td>\n",
       "      <td>766835.04</td>\n",
       "    </tr>\n",
       "    <tr>\n",
       "      <th>74</th>\n",
       "      <td>Pakistan</td>\n",
       "      <td>Cosmetics</td>\n",
       "      <td>Offline</td>\n",
       "      <td>41460</td>\n",
       "      <td>231145322</td>\n",
       "      <td>8/16/2013</td>\n",
       "      <td>9892</td>\n",
       "      <td>437.20</td>\n",
       "      <td>263.33</td>\n",
       "      <td>4324782.40</td>\n",
       "      <td>2604860.36</td>\n",
       "      <td>1719922.04</td>\n",
       "    </tr>\n",
       "    <tr>\n",
       "      <th>75</th>\n",
       "      <td>Mexico</td>\n",
       "      <td>Household</td>\n",
       "      <td>Offline</td>\n",
       "      <td>41949</td>\n",
       "      <td>986435210</td>\n",
       "      <td>12/12/2014</td>\n",
       "      <td>6954</td>\n",
       "      <td>668.27</td>\n",
       "      <td>502.54</td>\n",
       "      <td>4647149.58</td>\n",
       "      <td>3494663.16</td>\n",
       "      <td>1152486.42</td>\n",
       "    </tr>\n",
       "    <tr>\n",
       "      <th>76</th>\n",
       "      <td>Federated States of Micronesia</td>\n",
       "      <td>Beverages</td>\n",
       "      <td>Online</td>\n",
       "      <td>41940</td>\n",
       "      <td>217221009</td>\n",
       "      <td>11/15/2014</td>\n",
       "      <td>9379</td>\n",
       "      <td>47.45</td>\n",
       "      <td>31.79</td>\n",
       "      <td>445033.55</td>\n",
       "      <td>298158.41</td>\n",
       "      <td>146875.14</td>\n",
       "    </tr>\n",
       "    <tr>\n",
       "      <th>77</th>\n",
       "      <td>Laos</td>\n",
       "      <td>Vegetables</td>\n",
       "      <td>Offline</td>\n",
       "      <td>40801</td>\n",
       "      <td>789176547</td>\n",
       "      <td>10/23/2011</td>\n",
       "      <td>3732</td>\n",
       "      <td>154.06</td>\n",
       "      <td>90.93</td>\n",
       "      <td>574951.92</td>\n",
       "      <td>339350.76</td>\n",
       "      <td>235601.16</td>\n",
       "    </tr>\n",
       "    <tr>\n",
       "      <th>78</th>\n",
       "      <td>Monaco</td>\n",
       "      <td>Baby Food</td>\n",
       "      <td>Offline</td>\n",
       "      <td>41058</td>\n",
       "      <td>688288152</td>\n",
       "      <td>6/2/2012</td>\n",
       "      <td>8614</td>\n",
       "      <td>255.28</td>\n",
       "      <td>159.42</td>\n",
       "      <td>2198981.92</td>\n",
       "      <td>1373243.88</td>\n",
       "      <td>825738.04</td>\n",
       "    </tr>\n",
       "    <tr>\n",
       "      <th>79</th>\n",
       "      <td>Samoa</td>\n",
       "      <td>Cosmetics</td>\n",
       "      <td>Online</td>\n",
       "      <td>41475</td>\n",
       "      <td>670854651</td>\n",
       "      <td>8/7/2013</td>\n",
       "      <td>9654</td>\n",
       "      <td>437.20</td>\n",
       "      <td>263.33</td>\n",
       "      <td>4220728.80</td>\n",
       "      <td>2542187.82</td>\n",
       "      <td>1678540.98</td>\n",
       "    </tr>\n",
       "    <tr>\n",
       "      <th>80</th>\n",
       "      <td>Spain</td>\n",
       "      <td>Household</td>\n",
       "      <td>Offline</td>\n",
       "      <td>41203</td>\n",
       "      <td>213487374</td>\n",
       "      <td>11/30/2012</td>\n",
       "      <td>4513</td>\n",
       "      <td>668.27</td>\n",
       "      <td>502.54</td>\n",
       "      <td>3015902.51</td>\n",
       "      <td>2267963.02</td>\n",
       "      <td>747939.49</td>\n",
       "    </tr>\n",
       "    <tr>\n",
       "      <th>81</th>\n",
       "      <td>Lebanon</td>\n",
       "      <td>Clothes</td>\n",
       "      <td>Online</td>\n",
       "      <td>41170</td>\n",
       "      <td>663110148</td>\n",
       "      <td>10/8/2012</td>\n",
       "      <td>7884</td>\n",
       "      <td>109.28</td>\n",
       "      <td>35.84</td>\n",
       "      <td>861563.52</td>\n",
       "      <td>282562.56</td>\n",
       "      <td>579000.96</td>\n",
       "    </tr>\n",
       "    <tr>\n",
       "      <th>82</th>\n",
       "      <td>Iran</td>\n",
       "      <td>Cosmetics</td>\n",
       "      <td>Online</td>\n",
       "      <td>42689</td>\n",
       "      <td>286959302</td>\n",
       "      <td>12/8/2016</td>\n",
       "      <td>6489</td>\n",
       "      <td>437.20</td>\n",
       "      <td>263.33</td>\n",
       "      <td>2836990.80</td>\n",
       "      <td>1708748.37</td>\n",
       "      <td>1128242.43</td>\n",
       "    </tr>\n",
       "    <tr>\n",
       "      <th>83</th>\n",
       "      <td>Zambia</td>\n",
       "      <td>Snacks</td>\n",
       "      <td>Online</td>\n",
       "      <td>40547</td>\n",
       "      <td>122583663</td>\n",
       "      <td>1/5/2011</td>\n",
       "      <td>4085</td>\n",
       "      <td>152.58</td>\n",
       "      <td>97.44</td>\n",
       "      <td>623289.30</td>\n",
       "      <td>398042.40</td>\n",
       "      <td>225246.90</td>\n",
       "    </tr>\n",
       "    <tr>\n",
       "      <th>84</th>\n",
       "      <td>Kenya</td>\n",
       "      <td>Vegetables</td>\n",
       "      <td>Online</td>\n",
       "      <td>40986</td>\n",
       "      <td>827844560</td>\n",
       "      <td>4/7/2012</td>\n",
       "      <td>6457</td>\n",
       "      <td>154.06</td>\n",
       "      <td>90.93</td>\n",
       "      <td>994765.42</td>\n",
       "      <td>587135.01</td>\n",
       "      <td>407630.41</td>\n",
       "    </tr>\n",
       "    <tr>\n",
       "      <th>85</th>\n",
       "      <td>Mexico</td>\n",
       "      <td>Personal Care</td>\n",
       "      <td>Offline</td>\n",
       "      <td>40956</td>\n",
       "      <td>430915820</td>\n",
       "      <td>3/20/2012</td>\n",
       "      <td>6422</td>\n",
       "      <td>81.73</td>\n",
       "      <td>56.67</td>\n",
       "      <td>524870.06</td>\n",
       "      <td>363934.74</td>\n",
       "      <td>160935.32</td>\n",
       "    </tr>\n",
       "    <tr>\n",
       "      <th>86</th>\n",
       "      <td>Sao Tome and Principe</td>\n",
       "      <td>Beverages</td>\n",
       "      <td>Offline</td>\n",
       "      <td>40559</td>\n",
       "      <td>180283772</td>\n",
       "      <td>1/21/2011</td>\n",
       "      <td>8829</td>\n",
       "      <td>47.45</td>\n",
       "      <td>31.79</td>\n",
       "      <td>418936.05</td>\n",
       "      <td>280673.91</td>\n",
       "      <td>138262.14</td>\n",
       "    </tr>\n",
       "    <tr>\n",
       "      <th>87</th>\n",
       "      <td>The Gambia</td>\n",
       "      <td>Baby Food</td>\n",
       "      <td>Offline</td>\n",
       "      <td>41673</td>\n",
       "      <td>494747245</td>\n",
       "      <td>3/20/2014</td>\n",
       "      <td>5559</td>\n",
       "      <td>255.28</td>\n",
       "      <td>159.42</td>\n",
       "      <td>1419101.52</td>\n",
       "      <td>886215.78</td>\n",
       "      <td>532885.74</td>\n",
       "    </tr>\n",
       "    <tr>\n",
       "      <th>88</th>\n",
       "      <td>Kuwait</td>\n",
       "      <td>Fruits</td>\n",
       "      <td>Online</td>\n",
       "      <td>41029</td>\n",
       "      <td>513417565</td>\n",
       "      <td>5/18/2012</td>\n",
       "      <td>522</td>\n",
       "      <td>9.33</td>\n",
       "      <td>6.92</td>\n",
       "      <td>4870.26</td>\n",
       "      <td>3612.24</td>\n",
       "      <td>1258.02</td>\n",
       "    </tr>\n",
       "    <tr>\n",
       "      <th>89</th>\n",
       "      <td>Slovenia</td>\n",
       "      <td>Beverages</td>\n",
       "      <td>Offline</td>\n",
       "      <td>42666</td>\n",
       "      <td>345718562</td>\n",
       "      <td>11/25/2016</td>\n",
       "      <td>4660</td>\n",
       "      <td>47.45</td>\n",
       "      <td>31.79</td>\n",
       "      <td>221117.00</td>\n",
       "      <td>148141.40</td>\n",
       "      <td>72975.60</td>\n",
       "    </tr>\n",
       "    <tr>\n",
       "      <th>90</th>\n",
       "      <td>Sierra Leone</td>\n",
       "      <td>Office Supplies</td>\n",
       "      <td>Offline</td>\n",
       "      <td>42710</td>\n",
       "      <td>621386563</td>\n",
       "      <td>12/14/2016</td>\n",
       "      <td>948</td>\n",
       "      <td>651.21</td>\n",
       "      <td>524.96</td>\n",
       "      <td>617347.08</td>\n",
       "      <td>497662.08</td>\n",
       "      <td>119685.00</td>\n",
       "    </tr>\n",
       "    <tr>\n",
       "      <th>91</th>\n",
       "      <td>Australia</td>\n",
       "      <td>Beverages</td>\n",
       "      <td>Offline</td>\n",
       "      <td>41827</td>\n",
       "      <td>240470397</td>\n",
       "      <td>7/11/2014</td>\n",
       "      <td>9389</td>\n",
       "      <td>47.45</td>\n",
       "      <td>31.79</td>\n",
       "      <td>445508.05</td>\n",
       "      <td>298476.31</td>\n",
       "      <td>147031.74</td>\n",
       "    </tr>\n",
       "    <tr>\n",
       "      <th>92</th>\n",
       "      <td>Azerbaijan</td>\n",
       "      <td>Office Supplies</td>\n",
       "      <td>Online</td>\n",
       "      <td>41073</td>\n",
       "      <td>423331391</td>\n",
       "      <td>7/24/2012</td>\n",
       "      <td>2021</td>\n",
       "      <td>651.21</td>\n",
       "      <td>524.96</td>\n",
       "      <td>1316095.41</td>\n",
       "      <td>1060944.16</td>\n",
       "      <td>255151.25</td>\n",
       "    </tr>\n",
       "    <tr>\n",
       "      <th>93</th>\n",
       "      <td>Romania</td>\n",
       "      <td>Cosmetics</td>\n",
       "      <td>Online</td>\n",
       "      <td>40508</td>\n",
       "      <td>660643374</td>\n",
       "      <td>12/25/2010</td>\n",
       "      <td>7910</td>\n",
       "      <td>437.20</td>\n",
       "      <td>263.33</td>\n",
       "      <td>3458252.00</td>\n",
       "      <td>2082940.30</td>\n",
       "      <td>1375311.70</td>\n",
       "    </tr>\n",
       "    <tr>\n",
       "      <th>94</th>\n",
       "      <td>Nicaragua</td>\n",
       "      <td>Beverages</td>\n",
       "      <td>Offline</td>\n",
       "      <td>40582</td>\n",
       "      <td>963392674</td>\n",
       "      <td>3/21/2011</td>\n",
       "      <td>8156</td>\n",
       "      <td>47.45</td>\n",
       "      <td>31.79</td>\n",
       "      <td>387002.20</td>\n",
       "      <td>259279.24</td>\n",
       "      <td>127722.96</td>\n",
       "    </tr>\n",
       "    <tr>\n",
       "      <th>95</th>\n",
       "      <td>Mali</td>\n",
       "      <td>Clothes</td>\n",
       "      <td>Online</td>\n",
       "      <td>40750</td>\n",
       "      <td>512878119</td>\n",
       "      <td>9/3/2011</td>\n",
       "      <td>888</td>\n",
       "      <td>109.28</td>\n",
       "      <td>35.84</td>\n",
       "      <td>97040.64</td>\n",
       "      <td>31825.92</td>\n",
       "      <td>65214.72</td>\n",
       "    </tr>\n",
       "    <tr>\n",
       "      <th>96</th>\n",
       "      <td>Malaysia</td>\n",
       "      <td>Fruits</td>\n",
       "      <td>Offline</td>\n",
       "      <td>40858</td>\n",
       "      <td>810711038</td>\n",
       "      <td>12/28/2011</td>\n",
       "      <td>6267</td>\n",
       "      <td>9.33</td>\n",
       "      <td>6.92</td>\n",
       "      <td>58471.11</td>\n",
       "      <td>43367.64</td>\n",
       "      <td>15103.47</td>\n",
       "    </tr>\n",
       "    <tr>\n",
       "      <th>97</th>\n",
       "      <td>Sierra Leone</td>\n",
       "      <td>Vegetables</td>\n",
       "      <td>Offline</td>\n",
       "      <td>42522</td>\n",
       "      <td>728815257</td>\n",
       "      <td>6/29/2016</td>\n",
       "      <td>1485</td>\n",
       "      <td>154.06</td>\n",
       "      <td>90.93</td>\n",
       "      <td>228779.10</td>\n",
       "      <td>135031.05</td>\n",
       "      <td>93748.05</td>\n",
       "    </tr>\n",
       "    <tr>\n",
       "      <th>98</th>\n",
       "      <td>Mexico</td>\n",
       "      <td>Personal Care</td>\n",
       "      <td>Offline</td>\n",
       "      <td>42215</td>\n",
       "      <td>559427106</td>\n",
       "      <td>8/8/2015</td>\n",
       "      <td>5767</td>\n",
       "      <td>81.73</td>\n",
       "      <td>56.67</td>\n",
       "      <td>471336.91</td>\n",
       "      <td>326815.89</td>\n",
       "      <td>144521.02</td>\n",
       "    </tr>\n",
       "    <tr>\n",
       "      <th>99</th>\n",
       "      <td>Mozambique</td>\n",
       "      <td>Household</td>\n",
       "      <td>Offline</td>\n",
       "      <td>40949</td>\n",
       "      <td>665095412</td>\n",
       "      <td>2/15/2012</td>\n",
       "      <td>5367</td>\n",
       "      <td>668.27</td>\n",
       "      <td>502.54</td>\n",
       "      <td>3586605.09</td>\n",
       "      <td>2697132.18</td>\n",
       "      <td>889472.91</td>\n",
       "    </tr>\n",
       "  </tbody>\n",
       "</table>\n",
       "<p>100 rows × 12 columns</p>\n",
       "</div>"
      ],
      "text/plain": [
       "                             Country        Item_Type  Channel  Order_Date  \\\n",
       "0                             Tuvalu        Baby Food  Offline       40326   \n",
       "1                            Grenada           Cereal   Online       41143   \n",
       "2                             Russia  Office Supplies  Offline       41761   \n",
       "3              Sao Tome and Principe           Fruits   Online       41810   \n",
       "4                             Rwanda  Office Supplies  Offline       41306   \n",
       "5                    Solomon Islands        Baby Food   Online       42039   \n",
       "6                             Angola        Household  Offline       40656   \n",
       "7                       Burkina Faso       Vegetables   Online       41107   \n",
       "8              Republic of the Congo    Personal Care  Offline       42199   \n",
       "9                            Senegal           Cereal   Online       41747   \n",
       "10                        Kyrgyzstan       Vegetables   Online       40718   \n",
       "11                        Cape Verde          Clothes  Offline       41853   \n",
       "12                        Bangladesh          Clothes   Online       42748   \n",
       "13                          Honduras        Household  Offline       42774   \n",
       "14                          Mongolia    Personal Care  Offline       41689   \n",
       "15                          Bulgaria          Clothes   Online       41022   \n",
       "16                         Sri Lanka        Cosmetics  Offline       42693   \n",
       "17                          Cameroon        Beverages  Offline       42095   \n",
       "18                      Turkmenistan        Household  Offline       40542   \n",
       "19                        East Timor             Meat   Online       41121   \n",
       "20                            Norway        Baby Food   Online       41773   \n",
       "21                          Portugal        Baby Food   Online       42216   \n",
       "22                          Honduras           Snacks   Online       42551   \n",
       "23                       New Zealand           Fruits   Online       41890   \n",
       "24                          Moldova     Personal Care   Online       42497   \n",
       "25                            France        Cosmetics   Online       42877   \n",
       "26                          Kiribati           Fruits   Online       41925   \n",
       "27                              Mali           Fruits   Online       40305   \n",
       "28                            Norway        Beverages  Offline       41838   \n",
       "29                        The Gambia        Household  Offline       41055   \n",
       "..                               ...              ...      ...         ...   \n",
       "70                      Turkmenistan  Office Supplies   Online       41387   \n",
       "71                             Libya           Fruits   Online       42230   \n",
       "72  Democratic Republic of the Congo        Beverages   Online       40689   \n",
       "73                          Djibouti           Cereal   Online       42875   \n",
       "74                          Pakistan        Cosmetics  Offline       41460   \n",
       "75                            Mexico        Household  Offline       41949   \n",
       "76    Federated States of Micronesia        Beverages   Online       41940   \n",
       "77                              Laos       Vegetables  Offline       40801   \n",
       "78                            Monaco        Baby Food  Offline       41058   \n",
       "79                            Samoa         Cosmetics   Online       41475   \n",
       "80                             Spain        Household  Offline       41203   \n",
       "81                           Lebanon          Clothes   Online       41170   \n",
       "82                              Iran        Cosmetics   Online       42689   \n",
       "83                            Zambia           Snacks   Online       40547   \n",
       "84                             Kenya       Vegetables   Online       40986   \n",
       "85                            Mexico    Personal Care  Offline       40956   \n",
       "86             Sao Tome and Principe        Beverages  Offline       40559   \n",
       "87                        The Gambia        Baby Food  Offline       41673   \n",
       "88                            Kuwait           Fruits   Online       41029   \n",
       "89                          Slovenia        Beverages  Offline       42666   \n",
       "90                      Sierra Leone  Office Supplies  Offline       42710   \n",
       "91                         Australia        Beverages  Offline       41827   \n",
       "92                        Azerbaijan  Office Supplies   Online       41073   \n",
       "93                           Romania        Cosmetics   Online       40508   \n",
       "94                         Nicaragua        Beverages  Offline       40582   \n",
       "95                              Mali          Clothes   Online       40750   \n",
       "96                          Malaysia           Fruits  Offline       40858   \n",
       "97                      Sierra Leone       Vegetables  Offline       42522   \n",
       "98                            Mexico    Personal Care  Offline       42215   \n",
       "99                        Mozambique        Household  Offline       40949   \n",
       "\n",
       "     Order_ID   Ship_Date  Units_Sold  Unit_Price  Unit_Cost   T_Revenue  \\\n",
       "0   669165933   6/27/2010        9925      255.28     159.42  2533654.00   \n",
       "1   963881480   9/15/2012        2804      205.70     117.11   576782.80   \n",
       "2   341417157    5/8/2014        1779      651.21     524.96  1158502.59   \n",
       "3   514321792    7/5/2014        8102        9.33       6.92    75591.66   \n",
       "4   115456712    2/6/2013        5062      651.21     524.96  3296425.02   \n",
       "5   547995746   2/21/2015        2974      255.28     159.42   759202.72   \n",
       "6   135425221   4/27/2011        4187      668.27     502.54  2798046.49   \n",
       "7   871543967   7/27/2012        8082      154.06      90.93  1245112.92   \n",
       "8   770463311   8/25/2015        6070       81.73      56.67   496101.10   \n",
       "9   616607081   5/30/2014        6593      205.70     117.11  1356180.10   \n",
       "10  814711606   7/12/2011         124      154.06      90.93    19103.44   \n",
       "11  939825713   8/19/2014        4168      109.28      35.84   455479.04   \n",
       "12  187310731    3/1/2017        8263      109.28      35.84   902980.64   \n",
       "13  522840487   2/13/2017        8974      668.27     502.54  5997054.98   \n",
       "14  832401311   2/23/2014        4901       81.73      56.67   400558.73   \n",
       "15  972292029    6/3/2012        1673      109.28      35.84   182825.44   \n",
       "16  419123971  12/18/2016        6952      437.20     263.33  3039414.40   \n",
       "17  519820964   4/18/2015        5430       47.45      31.79   257653.50   \n",
       "18  441619336   1/20/2011        3830      668.27     502.54  2559474.10   \n",
       "19  322067916   9/11/2012        5908      421.89     364.69  2492526.12   \n",
       "20  819028031   6/28/2014        7450      255.28     159.42  1901836.00   \n",
       "21  860673511    9/3/2015        1273      255.28     159.42   324971.44   \n",
       "22  795490682   7/26/2016        2225      152.58      97.44   339490.50   \n",
       "23  142278373   10/4/2014        2187        9.33       6.92    20404.71   \n",
       "24  740147912   5/10/2016        5070       81.73      56.67   414371.10   \n",
       "25  898523128    6/5/2017        1815      437.20     263.33   793518.00   \n",
       "26  347140347  11/10/2014        5398        9.33       6.92    50363.34   \n",
       "27  686048400   5/10/2010        5822        9.33       6.92    54319.26   \n",
       "28  435608613   7/30/2014        5124       47.45      31.79   243133.80   \n",
       "29  886494815    6/9/2012        2370      668.27     502.54  1583799.90   \n",
       "..        ...         ...         ...         ...        ...         ...   \n",
       "70  462405812   5/20/2013        5010      651.21     524.96  3262562.10   \n",
       "71  816200339   9/30/2015         673        9.33       6.92     6279.09   \n",
       "72  585920464   7/15/2011        5741       47.45      31.79   272410.45   \n",
       "73  555990016   6/17/2017        8656      205.70     117.11  1780539.20   \n",
       "74  231145322   8/16/2013        9892      437.20     263.33  4324782.40   \n",
       "75  986435210  12/12/2014        6954      668.27     502.54  4647149.58   \n",
       "76  217221009  11/15/2014        9379       47.45      31.79   445033.55   \n",
       "77  789176547  10/23/2011        3732      154.06      90.93   574951.92   \n",
       "78  688288152    6/2/2012        8614      255.28     159.42  2198981.92   \n",
       "79  670854651    8/7/2013        9654      437.20     263.33  4220728.80   \n",
       "80  213487374  11/30/2012        4513      668.27     502.54  3015902.51   \n",
       "81  663110148   10/8/2012        7884      109.28      35.84   861563.52   \n",
       "82  286959302   12/8/2016        6489      437.20     263.33  2836990.80   \n",
       "83  122583663    1/5/2011        4085      152.58      97.44   623289.30   \n",
       "84  827844560    4/7/2012        6457      154.06      90.93   994765.42   \n",
       "85  430915820   3/20/2012        6422       81.73      56.67   524870.06   \n",
       "86  180283772   1/21/2011        8829       47.45      31.79   418936.05   \n",
       "87  494747245   3/20/2014        5559      255.28     159.42  1419101.52   \n",
       "88  513417565   5/18/2012         522        9.33       6.92     4870.26   \n",
       "89  345718562  11/25/2016        4660       47.45      31.79   221117.00   \n",
       "90  621386563  12/14/2016         948      651.21     524.96   617347.08   \n",
       "91  240470397   7/11/2014        9389       47.45      31.79   445508.05   \n",
       "92  423331391   7/24/2012        2021      651.21     524.96  1316095.41   \n",
       "93  660643374  12/25/2010        7910      437.20     263.33  3458252.00   \n",
       "94  963392674   3/21/2011        8156       47.45      31.79   387002.20   \n",
       "95  512878119    9/3/2011         888      109.28      35.84    97040.64   \n",
       "96  810711038  12/28/2011        6267        9.33       6.92    58471.11   \n",
       "97  728815257   6/29/2016        1485      154.06      90.93   228779.10   \n",
       "98  559427106    8/8/2015        5767       81.73      56.67   471336.91   \n",
       "99  665095412   2/15/2012        5367      668.27     502.54  3586605.09   \n",
       "\n",
       "        T_Cost    T_Profit  \n",
       "0   1582243.50   951410.50  \n",
       "1    328376.44   248406.36  \n",
       "2    933903.84   224598.75  \n",
       "3     56065.84    19525.82  \n",
       "4   2657347.52   639077.50  \n",
       "5    474115.08   285087.64  \n",
       "6   2104134.98   693911.51  \n",
       "7    734896.26   510216.66  \n",
       "8    343986.90   152114.20  \n",
       "9    772106.23   584073.87  \n",
       "10    11275.32     7828.12  \n",
       "11   149381.12   306097.92  \n",
       "12   296145.92   606834.72  \n",
       "13  4509793.96  1487261.02  \n",
       "14   277739.67   122819.06  \n",
       "15    59960.32   122865.12  \n",
       "16  1830670.16  1208744.24  \n",
       "17   172619.70    85033.80  \n",
       "18  1924728.20   634745.90  \n",
       "19  2154588.52   337937.60  \n",
       "20  1187679.00   714157.00  \n",
       "21   202941.66   122029.78  \n",
       "22   216804.00   122686.50  \n",
       "23    15134.04     5270.67  \n",
       "24   287316.90   127054.20  \n",
       "25   477943.95   315574.05  \n",
       "26    37354.16    13009.18  \n",
       "27    40288.24    14031.02  \n",
       "28   162891.96    80241.84  \n",
       "29  1191019.80   392780.10  \n",
       "..         ...         ...  \n",
       "70  2630049.60   632512.50  \n",
       "71     4657.16     1621.93  \n",
       "72   182506.39    89904.06  \n",
       "73  1013704.16   766835.04  \n",
       "74  2604860.36  1719922.04  \n",
       "75  3494663.16  1152486.42  \n",
       "76   298158.41   146875.14  \n",
       "77   339350.76   235601.16  \n",
       "78  1373243.88   825738.04  \n",
       "79  2542187.82  1678540.98  \n",
       "80  2267963.02   747939.49  \n",
       "81   282562.56   579000.96  \n",
       "82  1708748.37  1128242.43  \n",
       "83   398042.40   225246.90  \n",
       "84   587135.01   407630.41  \n",
       "85   363934.74   160935.32  \n",
       "86   280673.91   138262.14  \n",
       "87   886215.78   532885.74  \n",
       "88     3612.24     1258.02  \n",
       "89   148141.40    72975.60  \n",
       "90   497662.08   119685.00  \n",
       "91   298476.31   147031.74  \n",
       "92  1060944.16   255151.25  \n",
       "93  2082940.30  1375311.70  \n",
       "94   259279.24   127722.96  \n",
       "95    31825.92    65214.72  \n",
       "96    43367.64    15103.47  \n",
       "97   135031.05    93748.05  \n",
       "98   326815.89   144521.02  \n",
       "99  2697132.18   889472.91  \n",
       "\n",
       "[100 rows x 12 columns]"
      ]
     },
     "execution_count": 40,
     "metadata": {},
     "output_type": "execute_result"
    }
   ],
   "source": [
    "sales"
   ]
  },
  {
   "cell_type": "code",
   "execution_count": 34,
   "metadata": {},
   "outputs": [
    {
     "data": {
      "text/plain": [
       "2794.4845616956904"
      ]
     },
     "execution_count": 34,
     "metadata": {},
     "output_type": "execute_result"
    }
   ],
   "source": [
    "sales['Units_Sold'].std()"
   ]
  },
  {
   "cell_type": "code",
   "execution_count": 36,
   "metadata": {},
   "outputs": [
    {
     "data": {
      "text/plain": [
       "235.59224058433128"
      ]
     },
     "execution_count": 36,
     "metadata": {},
     "output_type": "execute_result"
    }
   ],
   "source": [
    "sales['Unit_Price'].std()"
   ]
  },
  {
   "cell_type": "code",
   "execution_count": 37,
   "metadata": {},
   "outputs": [
    {
     "data": {
      "text/plain": [
       "5128.71"
      ]
     },
     "execution_count": 37,
     "metadata": {},
     "output_type": "execute_result"
    }
   ],
   "source": [
    "sales['Units_Sold'].mean()"
   ]
  },
  {
   "cell_type": "code",
   "execution_count": 38,
   "metadata": {},
   "outputs": [
    {
     "data": {
      "text/plain": [
       "276.76130000000006"
      ]
     },
     "execution_count": 38,
     "metadata": {},
     "output_type": "execute_result"
    }
   ],
   "source": [
    "sales['Unit_Price'].mean()"
   ]
  },
  {
   "cell_type": "code",
   "execution_count": 42,
   "metadata": {},
   "outputs": [
    {
     "data": {
      "image/png": "[encoded data removed]",
      "text/plain": [
       "<Figure size 432x288 with 1 Axes>"
      ]
     },
     "metadata": {},
     "output_type": "display_data"
    }
   ],
   "source": [
    "sales = [1,2,3,4,5,6,7,8,9,10,11,12,13,14,15]\n",
    "sns.boxplot(sales)\n",
    "plt.show()"
   ]
  },
  {
   "cell_type": "code",
   "execution_count": 43,
   "metadata": {},
   "outputs": [
    {
     "data": {
      "text/html": [
       "<div>\n",
       "<style scoped>\n",
       "    .dataframe tbody tr th:only-of-type {\n",
       "        vertical-align: middle;\n",
       "    }\n",
       "\n",
       "    .dataframe tbody tr th {\n",
       "        vertical-align: top;\n",
       "    }\n",
       "\n",
       "    .dataframe thead th {\n",
       "        text-align: right;\n",
       "    }\n",
       "</style>\n",
       "<table border=\"1\" class=\"dataframe\">\n",
       "  <thead>\n",
       "    <tr style=\"text-align: right;\">\n",
       "      <th></th>\n",
       "      <th>Unnamed: 0</th>\n",
       "      <th>dno</th>\n",
       "      <th>employee id</th>\n",
       "      <th>fullname</th>\n",
       "      <th>position</th>\n",
       "      <th>salary</th>\n",
       "      <th>manager id</th>\n",
       "      <th>department id</th>\n",
       "    </tr>\n",
       "  </thead>\n",
       "  <tbody>\n",
       "    <tr>\n",
       "      <th>0</th>\n",
       "      <td>0</td>\n",
       "      <td>10</td>\n",
       "      <td>ind-001</td>\n",
       "      <td>Abdul Rehman</td>\n",
       "      <td>CSO</td>\n",
       "      <td>100000</td>\n",
       "      <td>NaN</td>\n",
       "      <td>1</td>\n",
       "    </tr>\n",
       "    <tr>\n",
       "      <th>1</th>\n",
       "      <td>1</td>\n",
       "      <td>20</td>\n",
       "      <td>ind-002</td>\n",
       "      <td>M. Yousuf</td>\n",
       "      <td>CTO</td>\n",
       "      <td>90000</td>\n",
       "      <td>ind-001</td>\n",
       "      <td>1</td>\n",
       "    </tr>\n",
       "    <tr>\n",
       "      <th>2</th>\n",
       "      <td>2</td>\n",
       "      <td>30</td>\n",
       "      <td>ind-003</td>\n",
       "      <td>Joseph D'Souza</td>\n",
       "      <td>CVO</td>\n",
       "      <td>84000</td>\n",
       "      <td>ind-001</td>\n",
       "      <td>1</td>\n",
       "    </tr>\n",
       "    <tr>\n",
       "      <th>3</th>\n",
       "      <td>3</td>\n",
       "      <td>40</td>\n",
       "      <td>ind-004</td>\n",
       "      <td>Mahesh Kalmadi</td>\n",
       "      <td>CWO</td>\n",
       "      <td>70000</td>\n",
       "      <td>ind-002</td>\n",
       "      <td>2</td>\n",
       "    </tr>\n",
       "    <tr>\n",
       "      <th>4</th>\n",
       "      <td>4</td>\n",
       "      <td>50</td>\n",
       "      <td>us-001</td>\n",
       "      <td>Jogender Singh</td>\n",
       "      <td>STO</td>\n",
       "      <td>56000</td>\n",
       "      <td>ind-002</td>\n",
       "      <td>2</td>\n",
       "    </tr>\n",
       "    <tr>\n",
       "      <th>5</th>\n",
       "      <td>5</td>\n",
       "      <td>60</td>\n",
       "      <td>us-002</td>\n",
       "      <td>Syed Mannan</td>\n",
       "      <td>SPO</td>\n",
       "      <td>56000</td>\n",
       "      <td>ind-003</td>\n",
       "      <td>3</td>\n",
       "    </tr>\n",
       "    <tr>\n",
       "      <th>6</th>\n",
       "      <td>6</td>\n",
       "      <td>70</td>\n",
       "      <td>dub-001</td>\n",
       "      <td>John</td>\n",
       "      <td>CTO</td>\n",
       "      <td>50000</td>\n",
       "      <td>ind-002</td>\n",
       "      <td>0</td>\n",
       "    </tr>\n",
       "  </tbody>\n",
       "</table>\n",
       "</div>"
      ],
      "text/plain": [
       "   Unnamed: 0  dno employee id        fullname position  salary manager id  \\\n",
       "0           0   10     ind-001    Abdul Rehman      CSO  100000        NaN   \n",
       "1           1   20     ind-002       M. Yousuf      CTO   90000    ind-001   \n",
       "2           2   30     ind-003  Joseph D'Souza      CVO   84000    ind-001   \n",
       "3           3   40     ind-004  Mahesh Kalmadi      CWO   70000    ind-002   \n",
       "4           4   50      us-001  Jogender Singh      STO   56000    ind-002   \n",
       "5           5   60      us-002     Syed Mannan      SPO   56000    ind-003   \n",
       "6           6   70     dub-001            John      CTO   50000    ind-002   \n",
       "\n",
       "   department id  \n",
       "0              1  \n",
       "1              1  \n",
       "2              1  \n",
       "3              2  \n",
       "4              2  \n",
       "5              3  \n",
       "6              0  "
      ]
     },
     "execution_count": 43,
     "metadata": {},
     "output_type": "execute_result"
    }
   ],
   "source": [
    "emp"
   ]
  },
  {
   "cell_type": "code",
   "execution_count": 44,
   "metadata": {},
   "outputs": [
    {
     "data": {
      "image/png": "[encoded data removed]",
      "text/plain": [
       "<Figure size 432x288 with 1 Axes>"
      ]
     },
     "metadata": {},
     "output_type": "display_data"
    }
   ],
   "source": [
    "emp.salary.plot(kind='hist',bins=100)\n",
    "plt.show()"
   ]
  },
  {
   "cell_type": "code",
   "execution_count": 45,
   "metadata": {},
   "outputs": [],
   "source": [
    "prices = [55.50,40.25,60.50,55.50]"
   ]
  },
  {
   "cell_type": "code",
   "execution_count": 46,
   "metadata": {},
   "outputs": [
    {
     "data": {
      "text/plain": [
       "52.9375"
      ]
     },
     "execution_count": 46,
     "metadata": {},
     "output_type": "execute_result"
    }
   ],
   "source": [
    "import statistics\n",
    "statistics.mean(prices)"
   ]
  },
  {
   "cell_type": "code",
   "execution_count": 49,
   "metadata": {},
   "outputs": [
    {
     "data": {
      "text/plain": [
       "55.5"
      ]
     },
     "execution_count": 49,
     "metadata": {},
     "output_type": "execute_result"
    }
   ],
   "source": [
    "statistics.mode(prices)"
   ]
  },
  {
   "cell_type": "code",
   "execution_count": 48,
   "metadata": {},
   "outputs": [
    {
     "data": {
      "text/plain": [
       "55.5"
      ]
     },
     "execution_count": 48,
     "metadata": {},
     "output_type": "execute_result"
    }
   ],
   "source": [
    "statistics.median(prices)"
   ]
  },
  {
   "cell_type": "code",
   "execution_count": 50,
   "metadata": {},
   "outputs": [
    {
     "data": {
      "text/plain": [
       "['Decimal',\n",
       " 'Fraction',\n",
       " 'StatisticsError',\n",
       " '__all__',\n",
       " '__builtins__',\n",
       " '__cached__',\n",
       " '__doc__',\n",
       " '__file__',\n",
       " '__loader__',\n",
       " '__name__',\n",
       " '__package__',\n",
       " '__spec__',\n",
       " '_coerce',\n",
       " '_convert',\n",
       " '_counts',\n",
       " '_exact_ratio',\n",
       " '_fail_neg',\n",
       " '_find_lteq',\n",
       " '_find_rteq',\n",
       " '_isfinite',\n",
       " '_ss',\n",
       " '_sum',\n",
       " 'bisect_left',\n",
       " 'bisect_right',\n",
       " 'chain',\n",
       " 'collections',\n",
       " 'decimal',\n",
       " 'groupby',\n",
       " 'harmonic_mean',\n",
       " 'math',\n",
       " 'mean',\n",
       " 'median',\n",
       " 'median_grouped',\n",
       " 'median_high',\n",
       " 'median_low',\n",
       " 'mode',\n",
       " 'numbers',\n",
       " 'pstdev',\n",
       " 'pvariance',\n",
       " 'stdev',\n",
       " 'variance']"
      ]
     },
     "execution_count": 50,
     "metadata": {},
     "output_type": "execute_result"
    }
   ],
   "source": [
    "dir(statistics)"
   ]
  },
  {
   "cell_type": "code",
   "execution_count": 51,
   "metadata": {},
   "outputs": [
    {
     "data": {
      "text/plain": [
       "7.604223744078024"
      ]
     },
     "execution_count": 51,
     "metadata": {},
     "output_type": "execute_result"
    }
   ],
   "source": [
    "statistics.pstdev(prices)"
   ]
  },
  {
   "cell_type": "code",
   "execution_count": 52,
   "metadata": {},
   "outputs": [
    {
     "data": {
      "text/plain": [
       "8.780601251243182"
      ]
     },
     "execution_count": 52,
     "metadata": {},
     "output_type": "execute_result"
    }
   ],
   "source": [
    "statistics.stdev(prices)"
   ]
  },
  {
   "cell_type": "code",
   "execution_count": 53,
   "metadata": {},
   "outputs": [
    {
     "data": {
      "text/plain": [
       "77.09895833333333"
      ]
     },
     "execution_count": 53,
     "metadata": {},
     "output_type": "execute_result"
    }
   ],
   "source": [
    "statistics.variance(prices)"
   ]
  },
  {
   "cell_type": "code",
   "execution_count": 54,
   "metadata": {},
   "outputs": [
    {
     "data": {
      "text/plain": [
       "8.780601251243182"
      ]
     },
     "execution_count": 54,
     "metadata": {},
     "output_type": "execute_result"
    }
   ],
   "source": [
    "import math\n",
    "math.sqrt(statistics.variance(prices))"
   ]
  },
  {
   "cell_type": "code",
   "execution_count": 55,
   "metadata": {},
   "outputs": [],
   "source": [
    "def fact(n):\n",
    "    if n == 0 or n == 1:\n",
    "        return 1\n",
    "    else:\n",
    "        return fact(n-1) * n"
   ]
  },
  {
   "cell_type": "code",
   "execution_count": 56,
   "metadata": {},
   "outputs": [
    {
     "data": {
      "text/plain": [
       "120"
      ]
     },
     "execution_count": 56,
     "metadata": {},
     "output_type": "execute_result"
    }
   ],
   "source": [
    "fact(5)"
   ]
  },
  {
   "cell_type": "code",
   "execution_count": 59,
   "metadata": {},
   "outputs": [],
   "source": [
    "def fib(n):\n",
    "    if n == 0 or n == 1:\n",
    "        return 1\n",
    "    else:\n",
    "        return fib(n-1) + fib(n-2)\n",
    "    "
   ]
  },
  {
   "cell_type": "code",
   "execution_count": 61,
   "metadata": {},
   "outputs": [
    {
     "name": "stdout",
     "output_type": "stream",
     "text": [
      "1\n",
      "1\n",
      "2\n",
      "3\n",
      "5\n",
      "8\n",
      "13\n",
      "21\n",
      "34\n",
      "55\n",
      "89\n"
     ]
    }
   ],
   "source": [
    "for i in range(11):\n",
    "        print (fib(i))"
   ]
  },
  {
   "cell_type": "code",
   "execution_count": 88,
   "metadata": {},
   "outputs": [],
   "source": [
    "emp = pd.read_csv('d:/datasets/employee.csv')"
   ]
  },
  {
   "cell_type": "code",
   "execution_count": 89,
   "metadata": {},
   "outputs": [
    {
     "data": {
      "text/html": [
       "<div>\n",
       "<style scoped>\n",
       "    .dataframe tbody tr th:only-of-type {\n",
       "        vertical-align: middle;\n",
       "    }\n",
       "\n",
       "    .dataframe tbody tr th {\n",
       "        vertical-align: top;\n",
       "    }\n",
       "\n",
       "    .dataframe thead th {\n",
       "        text-align: right;\n",
       "    }\n",
       "</style>\n",
       "<table border=\"1\" class=\"dataframe\">\n",
       "  <thead>\n",
       "    <tr style=\"text-align: right;\">\n",
       "      <th></th>\n",
       "      <th>Unnamed: 0</th>\n",
       "      <th>dno</th>\n",
       "      <th>employee id</th>\n",
       "      <th>fullname</th>\n",
       "      <th>position</th>\n",
       "      <th>salary</th>\n",
       "      <th>manager id</th>\n",
       "      <th>department id</th>\n",
       "    </tr>\n",
       "  </thead>\n",
       "  <tbody>\n",
       "    <tr>\n",
       "      <th>0</th>\n",
       "      <td>0</td>\n",
       "      <td>10</td>\n",
       "      <td>ind-001</td>\n",
       "      <td>Abdul Rehman</td>\n",
       "      <td>CSO</td>\n",
       "      <td>100000</td>\n",
       "      <td>NaN</td>\n",
       "      <td>1</td>\n",
       "    </tr>\n",
       "    <tr>\n",
       "      <th>1</th>\n",
       "      <td>1</td>\n",
       "      <td>20</td>\n",
       "      <td>ind-002</td>\n",
       "      <td>M. Yousuf</td>\n",
       "      <td>CTO</td>\n",
       "      <td>90000</td>\n",
       "      <td>ind-001</td>\n",
       "      <td>1</td>\n",
       "    </tr>\n",
       "    <tr>\n",
       "      <th>2</th>\n",
       "      <td>2</td>\n",
       "      <td>30</td>\n",
       "      <td>ind-003</td>\n",
       "      <td>Joseph D'Souza</td>\n",
       "      <td>CVO</td>\n",
       "      <td>84000</td>\n",
       "      <td>ind-001</td>\n",
       "      <td>1</td>\n",
       "    </tr>\n",
       "    <tr>\n",
       "      <th>3</th>\n",
       "      <td>3</td>\n",
       "      <td>40</td>\n",
       "      <td>ind-004</td>\n",
       "      <td>Mahesh Kalmadi</td>\n",
       "      <td>CWO</td>\n",
       "      <td>70000</td>\n",
       "      <td>ind-002</td>\n",
       "      <td>2</td>\n",
       "    </tr>\n",
       "    <tr>\n",
       "      <th>4</th>\n",
       "      <td>4</td>\n",
       "      <td>50</td>\n",
       "      <td>us-001</td>\n",
       "      <td>Jogender Singh</td>\n",
       "      <td>STO</td>\n",
       "      <td>56000</td>\n",
       "      <td>ind-002</td>\n",
       "      <td>2</td>\n",
       "    </tr>\n",
       "    <tr>\n",
       "      <th>5</th>\n",
       "      <td>5</td>\n",
       "      <td>60</td>\n",
       "      <td>us-002</td>\n",
       "      <td>Syed Mannan</td>\n",
       "      <td>SPO</td>\n",
       "      <td>56000</td>\n",
       "      <td>ind-003</td>\n",
       "      <td>3</td>\n",
       "    </tr>\n",
       "    <tr>\n",
       "      <th>6</th>\n",
       "      <td>6</td>\n",
       "      <td>70</td>\n",
       "      <td>dub-001</td>\n",
       "      <td>John</td>\n",
       "      <td>CTO</td>\n",
       "      <td>50000</td>\n",
       "      <td>ind-002</td>\n",
       "      <td>0</td>\n",
       "    </tr>\n",
       "  </tbody>\n",
       "</table>\n",
       "</div>"
      ],
      "text/plain": [
       "   Unnamed: 0  dno employee id        fullname position  salary manager id  \\\n",
       "0           0   10     ind-001    Abdul Rehman      CSO  100000        NaN   \n",
       "1           1   20     ind-002       M. Yousuf      CTO   90000    ind-001   \n",
       "2           2   30     ind-003  Joseph D'Souza      CVO   84000    ind-001   \n",
       "3           3   40     ind-004  Mahesh Kalmadi      CWO   70000    ind-002   \n",
       "4           4   50      us-001  Jogender Singh      STO   56000    ind-002   \n",
       "5           5   60      us-002     Syed Mannan      SPO   56000    ind-003   \n",
       "6           6   70     dub-001            John      CTO   50000    ind-002   \n",
       "\n",
       "   department id  \n",
       "0              1  \n",
       "1              1  \n",
       "2              1  \n",
       "3              2  \n",
       "4              2  \n",
       "5              3  \n",
       "6              0  "
      ]
     },
     "execution_count": 89,
     "metadata": {},
     "output_type": "execute_result"
    }
   ],
   "source": [
    "emp"
   ]
  },
  {
   "cell_type": "code",
   "execution_count": 90,
   "metadata": {},
   "outputs": [
    {
     "data": {
      "text/html": [
       "<div>\n",
       "<style scoped>\n",
       "    .dataframe tbody tr th:only-of-type {\n",
       "        vertical-align: middle;\n",
       "    }\n",
       "\n",
       "    .dataframe tbody tr th {\n",
       "        vertical-align: top;\n",
       "    }\n",
       "\n",
       "    .dataframe thead th {\n",
       "        text-align: right;\n",
       "    }\n",
       "</style>\n",
       "<table border=\"1\" class=\"dataframe\">\n",
       "  <thead>\n",
       "    <tr style=\"text-align: right;\">\n",
       "      <th></th>\n",
       "      <th>Unnamed: 0</th>\n",
       "      <th>dno</th>\n",
       "      <th>employee id</th>\n",
       "      <th>fullname</th>\n",
       "      <th>position</th>\n",
       "      <th>salary</th>\n",
       "      <th>manager id</th>\n",
       "      <th>department id</th>\n",
       "    </tr>\n",
       "  </thead>\n",
       "  <tbody>\n",
       "    <tr>\n",
       "      <th>0</th>\n",
       "      <td>0</td>\n",
       "      <td>10</td>\n",
       "      <td>ind-001</td>\n",
       "      <td>Abdul Rehman</td>\n",
       "      <td>CSO</td>\n",
       "      <td>100000</td>\n",
       "      <td>NaN</td>\n",
       "      <td>1</td>\n",
       "    </tr>\n",
       "    <tr>\n",
       "      <th>1</th>\n",
       "      <td>1</td>\n",
       "      <td>20</td>\n",
       "      <td>ind-002</td>\n",
       "      <td>M. Yousuf</td>\n",
       "      <td>CTO</td>\n",
       "      <td>90000</td>\n",
       "      <td>ind-001</td>\n",
       "      <td>1</td>\n",
       "    </tr>\n",
       "    <tr>\n",
       "      <th>2</th>\n",
       "      <td>2</td>\n",
       "      <td>30</td>\n",
       "      <td>ind-003</td>\n",
       "      <td>Joseph D'Souza</td>\n",
       "      <td>CVO</td>\n",
       "      <td>84000</td>\n",
       "      <td>ind-001</td>\n",
       "      <td>1</td>\n",
       "    </tr>\n",
       "    <tr>\n",
       "      <th>3</th>\n",
       "      <td>3</td>\n",
       "      <td>40</td>\n",
       "      <td>ind-004</td>\n",
       "      <td>Mahesh Kalmadi</td>\n",
       "      <td>CWO</td>\n",
       "      <td>70000</td>\n",
       "      <td>ind-002</td>\n",
       "      <td>2</td>\n",
       "    </tr>\n",
       "    <tr>\n",
       "      <th>4</th>\n",
       "      <td>4</td>\n",
       "      <td>50</td>\n",
       "      <td>us-001</td>\n",
       "      <td>Jogender Singh</td>\n",
       "      <td>STO</td>\n",
       "      <td>56000</td>\n",
       "      <td>ind-002</td>\n",
       "      <td>2</td>\n",
       "    </tr>\n",
       "  </tbody>\n",
       "</table>\n",
       "</div>"
      ],
      "text/plain": [
       "   Unnamed: 0  dno employee id        fullname position  salary manager id  \\\n",
       "0           0   10     ind-001    Abdul Rehman      CSO  100000        NaN   \n",
       "1           1   20     ind-002       M. Yousuf      CTO   90000    ind-001   \n",
       "2           2   30     ind-003  Joseph D'Souza      CVO   84000    ind-001   \n",
       "3           3   40     ind-004  Mahesh Kalmadi      CWO   70000    ind-002   \n",
       "4           4   50      us-001  Jogender Singh      STO   56000    ind-002   \n",
       "\n",
       "   department id  \n",
       "0              1  \n",
       "1              1  \n",
       "2              1  \n",
       "3              2  \n",
       "4              2  "
      ]
     },
     "execution_count": 90,
     "metadata": {},
     "output_type": "execute_result"
    }
   ],
   "source": [
    "emp.head()"
   ]
  },
  {
   "cell_type": "code",
   "execution_count": 91,
   "metadata": {},
   "outputs": [
    {
     "data": {
      "text/plain": [
       "Unnamed: 0       0.000000\n",
       "dno              0.000000\n",
       "salary           0.280370\n",
       "department id    0.276668\n",
       "dtype: float64"
      ]
     },
     "execution_count": 91,
     "metadata": {},
     "output_type": "execute_result"
    }
   ],
   "source": [
    "emp.skew()"
   ]
  },
  {
   "cell_type": "code",
   "execution_count": 92,
   "metadata": {},
   "outputs": [],
   "source": [
    "import matplotlib.pyplot as plt\n",
    "%matplotlib inline"
   ]
  },
  {
   "cell_type": "code",
   "execution_count": 93,
   "metadata": {},
   "outputs": [
    {
     "data": {
      "text/plain": [
       "<matplotlib.axes._subplots.AxesSubplot at 0xb4b8e10>"
      ]
     },
     "execution_count": 93,
     "metadata": {},
     "output_type": "execute_result"
    },
    {
     "data": {
      "image/png": "[encoded data removed]",
      "text/plain": [
       "<Figure size 432x288 with 1 Axes>"
      ]
     },
     "metadata": {},
     "output_type": "display_data"
    }
   ],
   "source": [
    "emp['salary'].plot(kind='hist')"
   ]
  },
  {
   "cell_type": "code",
   "execution_count": 94,
   "metadata": {},
   "outputs": [],
   "source": [
    "import seaborn as sns"
   ]
  },
  {
   "cell_type": "code",
   "execution_count": 95,
   "metadata": {},
   "outputs": [
    {
     "name": "stderr",
     "output_type": "stream",
     "text": [
      "C:\\Users\\admin\\Anaconda3\\lib\\site-packages\\matplotlib\\axes\\_axes.py:6462: UserWarning: The 'normed' kwarg is deprecated, and has been replaced by the 'density' kwarg.\n",
      "  warnings.warn(\"The 'normed' kwarg is deprecated, and has been \"\n"
     ]
    },
    {
     "data": {
      "text/plain": [
       "<matplotlib.axes._subplots.AxesSubplot at 0xad2c898>"
      ]
     },
     "execution_count": 95,
     "metadata": {},
     "output_type": "execute_result"
    },
    {
     "data": {
      "image/png": "[encoded data removed]",
      "text/plain": [
       "<Figure size 432x288 with 1 Axes>"
      ]
     },
     "metadata": {},
     "output_type": "display_data"
    }
   ],
   "source": [
    "sns.distplot(emp['salary'])"
   ]
  },
  {
   "cell_type": "code",
   "execution_count": 96,
   "metadata": {},
   "outputs": [
    {
     "data": {
      "text/plain": [
       "{'whiskers': [<matplotlib.lines.Line2D at 0xb3b90f0>,\n",
       "  <matplotlib.lines.Line2D at 0xaca16d8>],\n",
       " 'caps': [<matplotlib.lines.Line2D at 0xaca1be0>,\n",
       "  <matplotlib.lines.Line2D at 0xaca19b0>],\n",
       " 'boxes': [<matplotlib.lines.Line2D at 0xb3b9b38>],\n",
       " 'medians': [<matplotlib.lines.Line2D at 0x99bd550>],\n",
       " 'fliers': [<matplotlib.lines.Line2D at 0x99bd1d0>],\n",
       " 'means': [<matplotlib.lines.Line2D at 0x99bd668>]}"
      ]
     },
     "execution_count": 96,
     "metadata": {},
     "output_type": "execute_result"
    },
    {
     "data": {
      "image/png": "[encoded data removed]",
      "text/plain": [
       "<Figure size 432x288 with 1 Axes>"
      ]
     },
     "metadata": {},
     "output_type": "display_data"
    }
   ],
   "source": [
    "plt.boxplot(emp['salary'],showmeans=True)"
   ]
  },
  {
   "cell_type": "code",
   "execution_count": 97,
   "metadata": {},
   "outputs": [
    {
     "data": {
      "text/html": [
       "<div>\n",
       "<style scoped>\n",
       "    .dataframe tbody tr th:only-of-type {\n",
       "        vertical-align: middle;\n",
       "    }\n",
       "\n",
       "    .dataframe tbody tr th {\n",
       "        vertical-align: top;\n",
       "    }\n",
       "\n",
       "    .dataframe thead th {\n",
       "        text-align: right;\n",
       "    }\n",
       "</style>\n",
       "<table border=\"1\" class=\"dataframe\">\n",
       "  <thead>\n",
       "    <tr style=\"text-align: right;\">\n",
       "      <th></th>\n",
       "      <th>Unnamed: 0</th>\n",
       "      <th>dno</th>\n",
       "      <th>employee id</th>\n",
       "      <th>fullname</th>\n",
       "      <th>position</th>\n",
       "      <th>salary</th>\n",
       "      <th>manager id</th>\n",
       "      <th>department id</th>\n",
       "      <th>age</th>\n",
       "    </tr>\n",
       "  </thead>\n",
       "  <tbody>\n",
       "    <tr>\n",
       "      <th>0</th>\n",
       "      <td>0</td>\n",
       "      <td>10</td>\n",
       "      <td>ind-001</td>\n",
       "      <td>Abdul Rehman</td>\n",
       "      <td>CSO</td>\n",
       "      <td>100000</td>\n",
       "      <td>NaN</td>\n",
       "      <td>1</td>\n",
       "      <td>10</td>\n",
       "    </tr>\n",
       "    <tr>\n",
       "      <th>1</th>\n",
       "      <td>1</td>\n",
       "      <td>20</td>\n",
       "      <td>ind-002</td>\n",
       "      <td>M. Yousuf</td>\n",
       "      <td>CTO</td>\n",
       "      <td>90000</td>\n",
       "      <td>ind-001</td>\n",
       "      <td>1</td>\n",
       "      <td>20</td>\n",
       "    </tr>\n",
       "    <tr>\n",
       "      <th>2</th>\n",
       "      <td>2</td>\n",
       "      <td>30</td>\n",
       "      <td>ind-003</td>\n",
       "      <td>Joseph D'Souza</td>\n",
       "      <td>CVO</td>\n",
       "      <td>84000</td>\n",
       "      <td>ind-001</td>\n",
       "      <td>1</td>\n",
       "      <td>30</td>\n",
       "    </tr>\n",
       "    <tr>\n",
       "      <th>3</th>\n",
       "      <td>3</td>\n",
       "      <td>40</td>\n",
       "      <td>ind-004</td>\n",
       "      <td>Mahesh Kalmadi</td>\n",
       "      <td>CWO</td>\n",
       "      <td>70000</td>\n",
       "      <td>ind-002</td>\n",
       "      <td>2</td>\n",
       "      <td>40</td>\n",
       "    </tr>\n",
       "    <tr>\n",
       "      <th>4</th>\n",
       "      <td>4</td>\n",
       "      <td>50</td>\n",
       "      <td>us-001</td>\n",
       "      <td>Jogender Singh</td>\n",
       "      <td>STO</td>\n",
       "      <td>56000</td>\n",
       "      <td>ind-002</td>\n",
       "      <td>2</td>\n",
       "      <td>50</td>\n",
       "    </tr>\n",
       "    <tr>\n",
       "      <th>5</th>\n",
       "      <td>5</td>\n",
       "      <td>60</td>\n",
       "      <td>us-002</td>\n",
       "      <td>Syed Mannan</td>\n",
       "      <td>SPO</td>\n",
       "      <td>56000</td>\n",
       "      <td>ind-003</td>\n",
       "      <td>3</td>\n",
       "      <td>60</td>\n",
       "    </tr>\n",
       "    <tr>\n",
       "      <th>6</th>\n",
       "      <td>6</td>\n",
       "      <td>70</td>\n",
       "      <td>dub-001</td>\n",
       "      <td>John</td>\n",
       "      <td>CTO</td>\n",
       "      <td>50000</td>\n",
       "      <td>ind-002</td>\n",
       "      <td>0</td>\n",
       "      <td>70</td>\n",
       "    </tr>\n",
       "  </tbody>\n",
       "</table>\n",
       "</div>"
      ],
      "text/plain": [
       "   Unnamed: 0  dno employee id        fullname position  salary manager id  \\\n",
       "0           0   10     ind-001    Abdul Rehman      CSO  100000        NaN   \n",
       "1           1   20     ind-002       M. Yousuf      CTO   90000    ind-001   \n",
       "2           2   30     ind-003  Joseph D'Souza      CVO   84000    ind-001   \n",
       "3           3   40     ind-004  Mahesh Kalmadi      CWO   70000    ind-002   \n",
       "4           4   50      us-001  Jogender Singh      STO   56000    ind-002   \n",
       "5           5   60      us-002     Syed Mannan      SPO   56000    ind-003   \n",
       "6           6   70     dub-001            John      CTO   50000    ind-002   \n",
       "\n",
       "   department id  age  \n",
       "0              1   10  \n",
       "1              1   20  \n",
       "2              1   30  \n",
       "3              2   40  \n",
       "4              2   50  \n",
       "5              3   60  \n",
       "6              0   70  "
      ]
     },
     "execution_count": 97,
     "metadata": {},
     "output_type": "execute_result"
    }
   ],
   "source": [
    "age = [10,20,30,40,50,60,70]\n",
    "emp['age'] = age\n",
    "emp"
   ]
  },
  {
   "cell_type": "code",
   "execution_count": 98,
   "metadata": {},
   "outputs": [],
   "source": [
    "emp['newage'] = emp['department id'] + 10"
   ]
  },
  {
   "cell_type": "code",
   "execution_count": 99,
   "metadata": {},
   "outputs": [
    {
     "data": {
      "text/plain": [
       "<bound method Series.drop of 0    11\n",
       "1    11\n",
       "2    11\n",
       "3    12\n",
       "4    12\n",
       "5    13\n",
       "6    10\n",
       "Name: newage, dtype: int64>"
      ]
     },
     "execution_count": 99,
     "metadata": {},
     "output_type": "execute_result"
    }
   ],
   "source": [
    "emp['newage'].drop"
   ]
  },
  {
   "cell_type": "code",
   "execution_count": 100,
   "metadata": {},
   "outputs": [
    {
     "name": "stdout",
     "output_type": "stream",
     "text": [
      "AxesSubplot(0.125,0.125;0.775x0.755)\n"
     ]
    },
    {
     "name": "stderr",
     "output_type": "stream",
     "text": [
      "C:\\Users\\admin\\Anaconda3\\lib\\site-packages\\matplotlib\\axes\\_axes.py:6462: UserWarning: The 'normed' kwarg is deprecated, and has been replaced by the 'density' kwarg.\n",
      "  warnings.warn(\"The 'normed' kwarg is deprecated, and has been \"\n"
     ]
    },
    {
     "data": {
      "image/png": "[encoded data removed]",
      "text/plain": [
       "<Figure size 432x288 with 1 Axes>"
      ]
     },
     "metadata": {},
     "output_type": "display_data"
    }
   ],
   "source": [
    "marks = [10,20,30,40,50]\n",
    "#plt.boxplot(marks,showmeans=True)\n",
    "print(sns.distplot(marks))"
   ]
  },
  {
   "cell_type": "code",
   "execution_count": 101,
   "metadata": {},
   "outputs": [],
   "source": [
    "import numpy as np"
   ]
  },
  {
   "cell_type": "code",
   "execution_count": 102,
   "metadata": {},
   "outputs": [],
   "source": [
    "marks = [50,60,79,88,89,66,77,55,66,77]"
   ]
  },
  {
   "cell_type": "code",
   "execution_count": 103,
   "metadata": {},
   "outputs": [],
   "source": [
    "marks= np.array(marks)"
   ]
  },
  {
   "cell_type": "code",
   "execution_count": 104,
   "metadata": {},
   "outputs": [
    {
     "name": "stderr",
     "output_type": "stream",
     "text": [
      "C:\\Users\\admin\\Anaconda3\\lib\\site-packages\\matplotlib\\axes\\_axes.py:6462: UserWarning: The 'normed' kwarg is deprecated, and has been replaced by the 'density' kwarg.\n",
      "  warnings.warn(\"The 'normed' kwarg is deprecated, and has been \"\n"
     ]
    },
    {
     "data": {
      "text/plain": [
       "<matplotlib.axes._subplots.AxesSubplot at 0xacd6f60>"
      ]
     },
     "execution_count": 104,
     "metadata": {},
     "output_type": "execute_result"
    },
    {
     "data": {
      "image/png": "[encoded data removed]",
      "text/plain": [
       "<Figure size 432x288 with 1 Axes>"
      ]
     },
     "metadata": {},
     "output_type": "display_data"
    }
   ],
   "source": [
    "sns.distplot(marks)"
   ]
  },
  {
   "cell_type": "code",
   "execution_count": 105,
   "metadata": {},
   "outputs": [
    {
     "data": {
      "text/plain": [
       "7"
      ]
     },
     "execution_count": 105,
     "metadata": {},
     "output_type": "execute_result"
    }
   ],
   "source": [
    "len(emp)"
   ]
  },
  {
   "cell_type": "code",
   "execution_count": 106,
   "metadata": {},
   "outputs": [],
   "source": [
    "comm = [10,20,30,40,50,60,70]"
   ]
  },
  {
   "cell_type": "code",
   "execution_count": 107,
   "metadata": {},
   "outputs": [],
   "source": [
    "emp['Comm'] = comm"
   ]
  },
  {
   "cell_type": "code",
   "execution_count": 108,
   "metadata": {},
   "outputs": [
    {
     "data": {
      "text/plain": [
       "[10, 20, 30, 40, 50, 60, 70]"
      ]
     },
     "execution_count": 108,
     "metadata": {},
     "output_type": "execute_result"
    }
   ],
   "source": [
    "comm"
   ]
  },
  {
   "cell_type": "code",
   "execution_count": 109,
   "metadata": {},
   "outputs": [
    {
     "data": {
      "text/html": [
       "<div>\n",
       "<style scoped>\n",
       "    .dataframe tbody tr th:only-of-type {\n",
       "        vertical-align: middle;\n",
       "    }\n",
       "\n",
       "    .dataframe tbody tr th {\n",
       "        vertical-align: top;\n",
       "    }\n",
       "\n",
       "    .dataframe thead th {\n",
       "        text-align: right;\n",
       "    }\n",
       "</style>\n",
       "<table border=\"1\" class=\"dataframe\">\n",
       "  <thead>\n",
       "    <tr style=\"text-align: right;\">\n",
       "      <th></th>\n",
       "      <th>Unnamed: 0</th>\n",
       "      <th>dno</th>\n",
       "      <th>employee id</th>\n",
       "      <th>fullname</th>\n",
       "      <th>position</th>\n",
       "      <th>salary</th>\n",
       "      <th>manager id</th>\n",
       "      <th>department id</th>\n",
       "      <th>age</th>\n",
       "      <th>newage</th>\n",
       "      <th>Comm</th>\n",
       "    </tr>\n",
       "  </thead>\n",
       "  <tbody>\n",
       "    <tr>\n",
       "      <th>0</th>\n",
       "      <td>0</td>\n",
       "      <td>10</td>\n",
       "      <td>ind-001</td>\n",
       "      <td>Abdul Rehman</td>\n",
       "      <td>CSO</td>\n",
       "      <td>100000</td>\n",
       "      <td>NaN</td>\n",
       "      <td>1</td>\n",
       "      <td>10</td>\n",
       "      <td>11</td>\n",
       "      <td>10</td>\n",
       "    </tr>\n",
       "    <tr>\n",
       "      <th>1</th>\n",
       "      <td>1</td>\n",
       "      <td>20</td>\n",
       "      <td>ind-002</td>\n",
       "      <td>M. Yousuf</td>\n",
       "      <td>CTO</td>\n",
       "      <td>90000</td>\n",
       "      <td>ind-001</td>\n",
       "      <td>1</td>\n",
       "      <td>20</td>\n",
       "      <td>11</td>\n",
       "      <td>20</td>\n",
       "    </tr>\n",
       "    <tr>\n",
       "      <th>2</th>\n",
       "      <td>2</td>\n",
       "      <td>30</td>\n",
       "      <td>ind-003</td>\n",
       "      <td>Joseph D'Souza</td>\n",
       "      <td>CVO</td>\n",
       "      <td>84000</td>\n",
       "      <td>ind-001</td>\n",
       "      <td>1</td>\n",
       "      <td>30</td>\n",
       "      <td>11</td>\n",
       "      <td>30</td>\n",
       "    </tr>\n",
       "    <tr>\n",
       "      <th>3</th>\n",
       "      <td>3</td>\n",
       "      <td>40</td>\n",
       "      <td>ind-004</td>\n",
       "      <td>Mahesh Kalmadi</td>\n",
       "      <td>CWO</td>\n",
       "      <td>70000</td>\n",
       "      <td>ind-002</td>\n",
       "      <td>2</td>\n",
       "      <td>40</td>\n",
       "      <td>12</td>\n",
       "      <td>40</td>\n",
       "    </tr>\n",
       "    <tr>\n",
       "      <th>4</th>\n",
       "      <td>4</td>\n",
       "      <td>50</td>\n",
       "      <td>us-001</td>\n",
       "      <td>Jogender Singh</td>\n",
       "      <td>STO</td>\n",
       "      <td>56000</td>\n",
       "      <td>ind-002</td>\n",
       "      <td>2</td>\n",
       "      <td>50</td>\n",
       "      <td>12</td>\n",
       "      <td>50</td>\n",
       "    </tr>\n",
       "    <tr>\n",
       "      <th>5</th>\n",
       "      <td>5</td>\n",
       "      <td>60</td>\n",
       "      <td>us-002</td>\n",
       "      <td>Syed Mannan</td>\n",
       "      <td>SPO</td>\n",
       "      <td>56000</td>\n",
       "      <td>ind-003</td>\n",
       "      <td>3</td>\n",
       "      <td>60</td>\n",
       "      <td>13</td>\n",
       "      <td>60</td>\n",
       "    </tr>\n",
       "    <tr>\n",
       "      <th>6</th>\n",
       "      <td>6</td>\n",
       "      <td>70</td>\n",
       "      <td>dub-001</td>\n",
       "      <td>John</td>\n",
       "      <td>CTO</td>\n",
       "      <td>50000</td>\n",
       "      <td>ind-002</td>\n",
       "      <td>0</td>\n",
       "      <td>70</td>\n",
       "      <td>10</td>\n",
       "      <td>70</td>\n",
       "    </tr>\n",
       "  </tbody>\n",
       "</table>\n",
       "</div>"
      ],
      "text/plain": [
       "   Unnamed: 0  dno employee id        fullname position  salary manager id  \\\n",
       "0           0   10     ind-001    Abdul Rehman      CSO  100000        NaN   \n",
       "1           1   20     ind-002       M. Yousuf      CTO   90000    ind-001   \n",
       "2           2   30     ind-003  Joseph D'Souza      CVO   84000    ind-001   \n",
       "3           3   40     ind-004  Mahesh Kalmadi      CWO   70000    ind-002   \n",
       "4           4   50      us-001  Jogender Singh      STO   56000    ind-002   \n",
       "5           5   60      us-002     Syed Mannan      SPO   56000    ind-003   \n",
       "6           6   70     dub-001            John      CTO   50000    ind-002   \n",
       "\n",
       "   department id  age  newage  Comm  \n",
       "0              1   10      11    10  \n",
       "1              1   20      11    20  \n",
       "2              1   30      11    30  \n",
       "3              2   40      12    40  \n",
       "4              2   50      12    50  \n",
       "5              3   60      13    60  \n",
       "6              0   70      10    70  "
      ]
     },
     "execution_count": 109,
     "metadata": {},
     "output_type": "execute_result"
    }
   ],
   "source": [
    "emp"
   ]
  },
  {
   "cell_type": "code",
   "execution_count": 110,
   "metadata": {},
   "outputs": [
    {
     "name": "stderr",
     "output_type": "stream",
     "text": [
      "C:\\Users\\admin\\Anaconda3\\lib\\site-packages\\matplotlib\\axes\\_axes.py:6462: UserWarning: The 'normed' kwarg is deprecated, and has been replaced by the 'density' kwarg.\n",
      "  warnings.warn(\"The 'normed' kwarg is deprecated, and has been \"\n"
     ]
    },
    {
     "data": {
      "text/plain": [
       "<matplotlib.axes._subplots.AxesSubplot at 0xb2ec9b0>"
      ]
     },
     "execution_count": 110,
     "metadata": {},
     "output_type": "execute_result"
    },
    {
     "data": {
      "image/png": "[encoded data removed]",
      "text/plain": [
       "<Figure size 432x288 with 1 Axes>"
      ]
     },
     "metadata": {},
     "output_type": "display_data"
    }
   ],
   "source": [
    "sns.distplot(emp['Comm'])"
   ]
  },
  {
   "cell_type": "code",
   "execution_count": 114,
   "metadata": {},
   "outputs": [
    {
     "ename": "ValueError",
     "evalue": "too many values to unpack (expected 2)",
     "output_type": "error",
     "traceback": [
      "\u001b[1;31m---------------------------------------------------------------------------\u001b[0m",
      "\u001b[1;31mValueError\u001b[0m                                Traceback (most recent call last)",
      "\u001b[1;32m<ipython-input-114-74373ac5e9ec>\u001b[0m in \u001b[0;36m<module>\u001b[1;34m()\u001b[0m\n\u001b[1;32m----> 1\u001b[1;33m \u001b[1;32mfor\u001b[0m \u001b[0mi\u001b[0m\u001b[1;33m,\u001b[0m\u001b[0mr\u001b[0m \u001b[1;32min\u001b[0m \u001b[0memp\u001b[0m\u001b[1;33m:\u001b[0m\u001b[1;33m\u001b[0m\u001b[0m\n\u001b[0m\u001b[0;32m      2\u001b[0m     \u001b[0mprint\u001b[0m \u001b[1;33m(\u001b[0m\u001b[0mi\u001b[0m\u001b[1;33m)\u001b[0m\u001b[1;33m\u001b[0m\u001b[0m\n",
      "\u001b[1;31mValueError\u001b[0m: too many values to unpack (expected 2)"
     ]
    }
   ],
   "source": [
    "for i,r in emp:\n",
    "    print (i)"
   ]
  },
  {
   "cell_type": "code",
   "execution_count": 115,
   "metadata": {},
   "outputs": [],
   "source": [
    "from scipy.stats import percentileofscore\n",
    "#percentile = 3\n",
    "#print (percentileofscore([1, 2, 3, 4, 5], percentile))"
   ]
  },
  {
   "cell_type": "code",
   "execution_count": 116,
   "metadata": {},
   "outputs": [],
   "source": [
    "marks = [55,43,66,77,88,66,55,44,66,80]"
   ]
  },
  {
   "cell_type": "code",
   "execution_count": 117,
   "metadata": {},
   "outputs": [
    {
     "name": "stdout",
     "output_type": "stream",
     "text": [
      "90.0\n"
     ]
    }
   ],
   "source": [
    "print (percentileofscore(marks,80))"
   ]
  },
  {
   "cell_type": "code",
   "execution_count": 118,
   "metadata": {},
   "outputs": [],
   "source": [
    "import sys"
   ]
  },
  {
   "cell_type": "code",
   "execution_count": 119,
   "metadata": {},
   "outputs": [
    {
     "data": {
      "text/plain": [
       "'3.6.5 |Anaconda, Inc.| (default, Mar 29 2018, 13:32:41) [MSC v.1900 64 bit (AMD64)]'"
      ]
     },
     "execution_count": 119,
     "metadata": {},
     "output_type": "execute_result"
    }
   ],
   "source": [
    "sys.version"
   ]
  },
  {
   "cell_type": "code",
   "execution_count": 120,
   "metadata": {},
   "outputs": [],
   "source": [
    "#Create a DataFrame\n",
    "df1 = {\n",
    "     'Name':['Ahmed','Osman','Salman','John','Ram','Singh','Umar'],\n",
    "   'Mathematics_score':[62,47,55,74,32,77,86]}\n",
    " \n",
    "df1 = pd.DataFrame(df1,columns=['Name','Mathematics_score'])"
   ]
  },
  {
   "cell_type": "code",
   "execution_count": 121,
   "metadata": {},
   "outputs": [
    {
     "data": {
      "text/html": [
       "<div>\n",
       "<style scoped>\n",
       "    .dataframe tbody tr th:only-of-type {\n",
       "        vertical-align: middle;\n",
       "    }\n",
       "\n",
       "    .dataframe tbody tr th {\n",
       "        vertical-align: top;\n",
       "    }\n",
       "\n",
       "    .dataframe thead th {\n",
       "        text-align: right;\n",
       "    }\n",
       "</style>\n",
       "<table border=\"1\" class=\"dataframe\">\n",
       "  <thead>\n",
       "    <tr style=\"text-align: right;\">\n",
       "      <th></th>\n",
       "      <th>Name</th>\n",
       "      <th>Mathematics_score</th>\n",
       "    </tr>\n",
       "  </thead>\n",
       "  <tbody>\n",
       "    <tr>\n",
       "      <th>0</th>\n",
       "      <td>Ahmed</td>\n",
       "      <td>62</td>\n",
       "    </tr>\n",
       "    <tr>\n",
       "      <th>1</th>\n",
       "      <td>Osman</td>\n",
       "      <td>47</td>\n",
       "    </tr>\n",
       "    <tr>\n",
       "      <th>2</th>\n",
       "      <td>Salman</td>\n",
       "      <td>55</td>\n",
       "    </tr>\n",
       "    <tr>\n",
       "      <th>3</th>\n",
       "      <td>John</td>\n",
       "      <td>74</td>\n",
       "    </tr>\n",
       "    <tr>\n",
       "      <th>4</th>\n",
       "      <td>Ram</td>\n",
       "      <td>32</td>\n",
       "    </tr>\n",
       "    <tr>\n",
       "      <th>5</th>\n",
       "      <td>Singh</td>\n",
       "      <td>77</td>\n",
       "    </tr>\n",
       "    <tr>\n",
       "      <th>6</th>\n",
       "      <td>Umar</td>\n",
       "      <td>86</td>\n",
       "    </tr>\n",
       "  </tbody>\n",
       "</table>\n",
       "</div>"
      ],
      "text/plain": [
       "     Name  Mathematics_score\n",
       "0   Ahmed                 62\n",
       "1   Osman                 47\n",
       "2  Salman                 55\n",
       "3    John                 74\n",
       "4     Ram                 32\n",
       "5   Singh                 77\n",
       "6    Umar                 86"
      ]
     },
     "execution_count": 121,
     "metadata": {},
     "output_type": "execute_result"
    }
   ],
   "source": [
    "df1"
   ]
  },
  {
   "cell_type": "code",
   "execution_count": 122,
   "metadata": {},
   "outputs": [
    {
     "name": "stdout",
     "output_type": "stream",
     "text": [
      "     Name  Mathematics_score  Percentile_rank\n",
      "0   Ahmed                 62        57.142857\n",
      "1   Osman                 47        28.571429\n",
      "2  Salman                 55        42.857143\n",
      "3    John                 74        71.428571\n",
      "4     Ram                 32        14.285714\n",
      "5   Singh                 77        85.714286\n",
      "6    Umar                 86       100.000000\n"
     ]
    }
   ],
   "source": [
    "df1['Percentile_rank']=df1.Mathematics_score.rank(pct=True)*100\n",
    "print(df1)"
   ]
  },
  {
   "cell_type": "code",
   "execution_count": 123,
   "metadata": {},
   "outputs": [],
   "source": [
    "df1['Percent'] = df1['Percentile_rank']* 100"
   ]
  },
  {
   "cell_type": "code",
   "execution_count": 124,
   "metadata": {},
   "outputs": [
    {
     "data": {
      "text/html": [
       "<div>\n",
       "<style scoped>\n",
       "    .dataframe tbody tr th:only-of-type {\n",
       "        vertical-align: middle;\n",
       "    }\n",
       "\n",
       "    .dataframe tbody tr th {\n",
       "        vertical-align: top;\n",
       "    }\n",
       "\n",
       "    .dataframe thead th {\n",
       "        text-align: right;\n",
       "    }\n",
       "</style>\n",
       "<table border=\"1\" class=\"dataframe\">\n",
       "  <thead>\n",
       "    <tr style=\"text-align: right;\">\n",
       "      <th></th>\n",
       "      <th>Name</th>\n",
       "      <th>Mathematics_score</th>\n",
       "      <th>Percentile_rank</th>\n",
       "      <th>Percent</th>\n",
       "    </tr>\n",
       "  </thead>\n",
       "  <tbody>\n",
       "    <tr>\n",
       "      <th>0</th>\n",
       "      <td>Ahmed</td>\n",
       "      <td>62</td>\n",
       "      <td>57.142857</td>\n",
       "      <td>5714.285714</td>\n",
       "    </tr>\n",
       "    <tr>\n",
       "      <th>1</th>\n",
       "      <td>Osman</td>\n",
       "      <td>47</td>\n",
       "      <td>28.571429</td>\n",
       "      <td>2857.142857</td>\n",
       "    </tr>\n",
       "    <tr>\n",
       "      <th>2</th>\n",
       "      <td>Salman</td>\n",
       "      <td>55</td>\n",
       "      <td>42.857143</td>\n",
       "      <td>4285.714286</td>\n",
       "    </tr>\n",
       "    <tr>\n",
       "      <th>3</th>\n",
       "      <td>John</td>\n",
       "      <td>74</td>\n",
       "      <td>71.428571</td>\n",
       "      <td>7142.857143</td>\n",
       "    </tr>\n",
       "    <tr>\n",
       "      <th>4</th>\n",
       "      <td>Ram</td>\n",
       "      <td>32</td>\n",
       "      <td>14.285714</td>\n",
       "      <td>1428.571429</td>\n",
       "    </tr>\n",
       "    <tr>\n",
       "      <th>5</th>\n",
       "      <td>Singh</td>\n",
       "      <td>77</td>\n",
       "      <td>85.714286</td>\n",
       "      <td>8571.428571</td>\n",
       "    </tr>\n",
       "    <tr>\n",
       "      <th>6</th>\n",
       "      <td>Umar</td>\n",
       "      <td>86</td>\n",
       "      <td>100.000000</td>\n",
       "      <td>10000.000000</td>\n",
       "    </tr>\n",
       "  </tbody>\n",
       "</table>\n",
       "</div>"
      ],
      "text/plain": [
       "     Name  Mathematics_score  Percentile_rank       Percent\n",
       "0   Ahmed                 62        57.142857   5714.285714\n",
       "1   Osman                 47        28.571429   2857.142857\n",
       "2  Salman                 55        42.857143   4285.714286\n",
       "3    John                 74        71.428571   7142.857143\n",
       "4     Ram                 32        14.285714   1428.571429\n",
       "5   Singh                 77        85.714286   8571.428571\n",
       "6    Umar                 86       100.000000  10000.000000"
      ]
     },
     "execution_count": 124,
     "metadata": {},
     "output_type": "execute_result"
    }
   ],
   "source": [
    "df1"
   ]
  },
  {
   "cell_type": "code",
   "execution_count": 125,
   "metadata": {},
   "outputs": [],
   "source": [
    "df = pd.DataFrame(np.array([[1, 1], [2, 10], [3, 100], [4, 100]]),\n",
    "                  columns=['a', 'b'])\n",
    "#df.quantile(.1)"
   ]
  },
  {
   "cell_type": "code",
   "execution_count": 126,
   "metadata": {},
   "outputs": [
    {
     "data": {
      "text/html": [
       "<div>\n",
       "<style scoped>\n",
       "    .dataframe tbody tr th:only-of-type {\n",
       "        vertical-align: middle;\n",
       "    }\n",
       "\n",
       "    .dataframe tbody tr th {\n",
       "        vertical-align: top;\n",
       "    }\n",
       "\n",
       "    .dataframe thead th {\n",
       "        text-align: right;\n",
       "    }\n",
       "</style>\n",
       "<table border=\"1\" class=\"dataframe\">\n",
       "  <thead>\n",
       "    <tr style=\"text-align: right;\">\n",
       "      <th></th>\n",
       "      <th>a</th>\n",
       "      <th>b</th>\n",
       "    </tr>\n",
       "  </thead>\n",
       "  <tbody>\n",
       "    <tr>\n",
       "      <th>0</th>\n",
       "      <td>1</td>\n",
       "      <td>1</td>\n",
       "    </tr>\n",
       "    <tr>\n",
       "      <th>1</th>\n",
       "      <td>2</td>\n",
       "      <td>10</td>\n",
       "    </tr>\n",
       "    <tr>\n",
       "      <th>2</th>\n",
       "      <td>3</td>\n",
       "      <td>100</td>\n",
       "    </tr>\n",
       "    <tr>\n",
       "      <th>3</th>\n",
       "      <td>4</td>\n",
       "      <td>100</td>\n",
       "    </tr>\n",
       "  </tbody>\n",
       "</table>\n",
       "</div>"
      ],
      "text/plain": [
       "   a    b\n",
       "0  1    1\n",
       "1  2   10\n",
       "2  3  100\n",
       "3  4  100"
      ]
     },
     "execution_count": 126,
     "metadata": {},
     "output_type": "execute_result"
    }
   ],
   "source": [
    "df"
   ]
  },
  {
   "cell_type": "code",
   "execution_count": 127,
   "metadata": {},
   "outputs": [
    {
     "data": {
      "text/plain": [
       "a      3.1\n",
       "b    100.0\n",
       "Name: 0.7, dtype: float64"
      ]
     },
     "execution_count": 127,
     "metadata": {},
     "output_type": "execute_result"
    }
   ],
   "source": [
    "df.quantile(.70)\n",
    "#df.quantile([.1,.5,1])"
   ]
  },
  {
   "cell_type": "code",
   "execution_count": 129,
   "metadata": {},
   "outputs": [
    {
     "name": "stdout",
     "output_type": "stream",
     "text": [
      "Name                   Ahmed\n",
      "Mathematics_score         62\n",
      "Percentile_rank      57.1429\n",
      "Percent              5714.29\n",
      "Name: 0, dtype: object\n",
      "Name                   Osman\n",
      "Mathematics_score         47\n",
      "Percentile_rank      28.5714\n",
      "Percent              2857.14\n",
      "Name: 1, dtype: object\n",
      "Name                  Salman\n",
      "Mathematics_score         55\n",
      "Percentile_rank      42.8571\n",
      "Percent              4285.71\n",
      "Name: 2, dtype: object\n",
      "Name                    John\n",
      "Mathematics_score         74\n",
      "Percentile_rank      71.4286\n",
      "Percent              7142.86\n",
      "Name: 3, dtype: object\n",
      "Name                     Ram\n",
      "Mathematics_score         32\n",
      "Percentile_rank      14.2857\n",
      "Percent              1428.57\n",
      "Name: 4, dtype: object\n",
      "Name                   Singh\n",
      "Mathematics_score         77\n",
      "Percentile_rank      85.7143\n",
      "Percent              8571.43\n",
      "Name: 5, dtype: object\n",
      "Name                  Umar\n",
      "Mathematics_score       86\n",
      "Percentile_rank        100\n",
      "Percent              10000\n",
      "Name: 6, dtype: object\n"
     ]
    }
   ],
   "source": [
    "for i,r in df1.iterrows():\n",
    "    print (r)"
   ]
  },
  {
   "cell_type": "code",
   "execution_count": 130,
   "metadata": {},
   "outputs": [
    {
     "data": {
      "text/html": [
       "<div>\n",
       "<style scoped>\n",
       "    .dataframe tbody tr th:only-of-type {\n",
       "        vertical-align: middle;\n",
       "    }\n",
       "\n",
       "    .dataframe tbody tr th {\n",
       "        vertical-align: top;\n",
       "    }\n",
       "\n",
       "    .dataframe thead th {\n",
       "        text-align: right;\n",
       "    }\n",
       "</style>\n",
       "<table border=\"1\" class=\"dataframe\">\n",
       "  <thead>\n",
       "    <tr style=\"text-align: right;\">\n",
       "      <th></th>\n",
       "      <th>Unnamed: 0</th>\n",
       "      <th>dno</th>\n",
       "      <th>employee id</th>\n",
       "      <th>fullname</th>\n",
       "      <th>position</th>\n",
       "      <th>salary</th>\n",
       "      <th>manager id</th>\n",
       "      <th>department id</th>\n",
       "      <th>age</th>\n",
       "      <th>newage</th>\n",
       "      <th>Comm</th>\n",
       "    </tr>\n",
       "  </thead>\n",
       "  <tbody>\n",
       "    <tr>\n",
       "      <th>0</th>\n",
       "      <td>0</td>\n",
       "      <td>10</td>\n",
       "      <td>ind-001</td>\n",
       "      <td>Abdul Rehman</td>\n",
       "      <td>CSO</td>\n",
       "      <td>100000</td>\n",
       "      <td>NaN</td>\n",
       "      <td>1</td>\n",
       "      <td>10</td>\n",
       "      <td>11</td>\n",
       "      <td>10</td>\n",
       "    </tr>\n",
       "    <tr>\n",
       "      <th>1</th>\n",
       "      <td>1</td>\n",
       "      <td>20</td>\n",
       "      <td>ind-002</td>\n",
       "      <td>M. Yousuf</td>\n",
       "      <td>CTO</td>\n",
       "      <td>90000</td>\n",
       "      <td>ind-001</td>\n",
       "      <td>1</td>\n",
       "      <td>20</td>\n",
       "      <td>11</td>\n",
       "      <td>20</td>\n",
       "    </tr>\n",
       "    <tr>\n",
       "      <th>2</th>\n",
       "      <td>2</td>\n",
       "      <td>30</td>\n",
       "      <td>ind-003</td>\n",
       "      <td>Joseph D'Souza</td>\n",
       "      <td>CVO</td>\n",
       "      <td>84000</td>\n",
       "      <td>ind-001</td>\n",
       "      <td>1</td>\n",
       "      <td>30</td>\n",
       "      <td>11</td>\n",
       "      <td>30</td>\n",
       "    </tr>\n",
       "    <tr>\n",
       "      <th>3</th>\n",
       "      <td>3</td>\n",
       "      <td>40</td>\n",
       "      <td>ind-004</td>\n",
       "      <td>Mahesh Kalmadi</td>\n",
       "      <td>CWO</td>\n",
       "      <td>70000</td>\n",
       "      <td>ind-002</td>\n",
       "      <td>2</td>\n",
       "      <td>40</td>\n",
       "      <td>12</td>\n",
       "      <td>40</td>\n",
       "    </tr>\n",
       "    <tr>\n",
       "      <th>4</th>\n",
       "      <td>4</td>\n",
       "      <td>50</td>\n",
       "      <td>us-001</td>\n",
       "      <td>Jogender Singh</td>\n",
       "      <td>STO</td>\n",
       "      <td>56000</td>\n",
       "      <td>ind-002</td>\n",
       "      <td>2</td>\n",
       "      <td>50</td>\n",
       "      <td>12</td>\n",
       "      <td>50</td>\n",
       "    </tr>\n",
       "    <tr>\n",
       "      <th>5</th>\n",
       "      <td>5</td>\n",
       "      <td>60</td>\n",
       "      <td>us-002</td>\n",
       "      <td>Syed Mannan</td>\n",
       "      <td>SPO</td>\n",
       "      <td>56000</td>\n",
       "      <td>ind-003</td>\n",
       "      <td>3</td>\n",
       "      <td>60</td>\n",
       "      <td>13</td>\n",
       "      <td>60</td>\n",
       "    </tr>\n",
       "    <tr>\n",
       "      <th>6</th>\n",
       "      <td>6</td>\n",
       "      <td>70</td>\n",
       "      <td>dub-001</td>\n",
       "      <td>John</td>\n",
       "      <td>CTO</td>\n",
       "      <td>50000</td>\n",
       "      <td>ind-002</td>\n",
       "      <td>0</td>\n",
       "      <td>70</td>\n",
       "      <td>10</td>\n",
       "      <td>70</td>\n",
       "    </tr>\n",
       "  </tbody>\n",
       "</table>\n",
       "</div>"
      ],
      "text/plain": [
       "   Unnamed: 0  dno employee id        fullname position  salary manager id  \\\n",
       "0           0   10     ind-001    Abdul Rehman      CSO  100000        NaN   \n",
       "1           1   20     ind-002       M. Yousuf      CTO   90000    ind-001   \n",
       "2           2   30     ind-003  Joseph D'Souza      CVO   84000    ind-001   \n",
       "3           3   40     ind-004  Mahesh Kalmadi      CWO   70000    ind-002   \n",
       "4           4   50      us-001  Jogender Singh      STO   56000    ind-002   \n",
       "5           5   60      us-002     Syed Mannan      SPO   56000    ind-003   \n",
       "6           6   70     dub-001            John      CTO   50000    ind-002   \n",
       "\n",
       "   department id  age  newage  Comm  \n",
       "0              1   10      11    10  \n",
       "1              1   20      11    20  \n",
       "2              1   30      11    30  \n",
       "3              2   40      12    40  \n",
       "4              2   50      12    50  \n",
       "5              3   60      13    60  \n",
       "6              0   70      10    70  "
      ]
     },
     "execution_count": 130,
     "metadata": {},
     "output_type": "execute_result"
    }
   ],
   "source": [
    "emp"
   ]
  },
  {
   "cell_type": "code",
   "execution_count": 131,
   "metadata": {},
   "outputs": [
    {
     "data": {
      "text/plain": [
       "0.0"
      ]
     },
     "execution_count": 131,
     "metadata": {},
     "output_type": "execute_result"
    }
   ],
   "source": [
    "emp['age'].skew()"
   ]
  },
  {
   "cell_type": "code",
   "execution_count": 132,
   "metadata": {},
   "outputs": [
    {
     "data": {
      "text/plain": [
       "72285.71428571429"
      ]
     },
     "execution_count": 132,
     "metadata": {},
     "output_type": "execute_result"
    }
   ],
   "source": [
    "emp['salary'].mean()"
   ]
  },
  {
   "cell_type": "code",
   "execution_count": 133,
   "metadata": {},
   "outputs": [
    {
     "data": {
      "text/plain": [
       "70000.0"
      ]
     },
     "execution_count": 133,
     "metadata": {},
     "output_type": "execute_result"
    }
   ],
   "source": [
    "emp['salary'].median()"
   ]
  },
  {
   "cell_type": "code",
   "execution_count": 134,
   "metadata": {},
   "outputs": [
    {
     "data": {
      "text/html": [
       "<div>\n",
       "<style scoped>\n",
       "    .dataframe tbody tr th:only-of-type {\n",
       "        vertical-align: middle;\n",
       "    }\n",
       "\n",
       "    .dataframe tbody tr th {\n",
       "        vertical-align: top;\n",
       "    }\n",
       "\n",
       "    .dataframe thead th {\n",
       "        text-align: right;\n",
       "    }\n",
       "</style>\n",
       "<table border=\"1\" class=\"dataframe\">\n",
       "  <thead>\n",
       "    <tr style=\"text-align: right;\">\n",
       "      <th></th>\n",
       "      <th>Unnamed: 0</th>\n",
       "      <th>dno</th>\n",
       "      <th>employee id</th>\n",
       "      <th>fullname</th>\n",
       "      <th>position</th>\n",
       "      <th>salary</th>\n",
       "      <th>manager id</th>\n",
       "      <th>department id</th>\n",
       "      <th>age</th>\n",
       "      <th>newage</th>\n",
       "      <th>Comm</th>\n",
       "    </tr>\n",
       "  </thead>\n",
       "  <tbody>\n",
       "    <tr>\n",
       "      <th>0</th>\n",
       "      <td>0</td>\n",
       "      <td>10</td>\n",
       "      <td>ind-001</td>\n",
       "      <td>Abdul Rehman</td>\n",
       "      <td>CSO</td>\n",
       "      <td>100000</td>\n",
       "      <td>NaN</td>\n",
       "      <td>1</td>\n",
       "      <td>10</td>\n",
       "      <td>11</td>\n",
       "      <td>10</td>\n",
       "    </tr>\n",
       "    <tr>\n",
       "      <th>1</th>\n",
       "      <td>1</td>\n",
       "      <td>20</td>\n",
       "      <td>ind-002</td>\n",
       "      <td>M. Yousuf</td>\n",
       "      <td>CTO</td>\n",
       "      <td>90000</td>\n",
       "      <td>ind-001</td>\n",
       "      <td>1</td>\n",
       "      <td>20</td>\n",
       "      <td>11</td>\n",
       "      <td>20</td>\n",
       "    </tr>\n",
       "    <tr>\n",
       "      <th>2</th>\n",
       "      <td>2</td>\n",
       "      <td>30</td>\n",
       "      <td>ind-003</td>\n",
       "      <td>Joseph D'Souza</td>\n",
       "      <td>CVO</td>\n",
       "      <td>84000</td>\n",
       "      <td>ind-001</td>\n",
       "      <td>1</td>\n",
       "      <td>30</td>\n",
       "      <td>11</td>\n",
       "      <td>30</td>\n",
       "    </tr>\n",
       "    <tr>\n",
       "      <th>3</th>\n",
       "      <td>3</td>\n",
       "      <td>40</td>\n",
       "      <td>ind-004</td>\n",
       "      <td>Mahesh Kalmadi</td>\n",
       "      <td>CWO</td>\n",
       "      <td>70000</td>\n",
       "      <td>ind-002</td>\n",
       "      <td>2</td>\n",
       "      <td>40</td>\n",
       "      <td>12</td>\n",
       "      <td>40</td>\n",
       "    </tr>\n",
       "    <tr>\n",
       "      <th>4</th>\n",
       "      <td>4</td>\n",
       "      <td>50</td>\n",
       "      <td>us-001</td>\n",
       "      <td>Jogender Singh</td>\n",
       "      <td>STO</td>\n",
       "      <td>56000</td>\n",
       "      <td>ind-002</td>\n",
       "      <td>2</td>\n",
       "      <td>50</td>\n",
       "      <td>12</td>\n",
       "      <td>50</td>\n",
       "    </tr>\n",
       "  </tbody>\n",
       "</table>\n",
       "</div>"
      ],
      "text/plain": [
       "   Unnamed: 0  dno employee id        fullname position  salary manager id  \\\n",
       "0           0   10     ind-001    Abdul Rehman      CSO  100000        NaN   \n",
       "1           1   20     ind-002       M. Yousuf      CTO   90000    ind-001   \n",
       "2           2   30     ind-003  Joseph D'Souza      CVO   84000    ind-001   \n",
       "3           3   40     ind-004  Mahesh Kalmadi      CWO   70000    ind-002   \n",
       "4           4   50      us-001  Jogender Singh      STO   56000    ind-002   \n",
       "\n",
       "   department id  age  newage  Comm  \n",
       "0              1   10      11    10  \n",
       "1              1   20      11    20  \n",
       "2              1   30      11    30  \n",
       "3              2   40      12    40  \n",
       "4              2   50      12    50  "
      ]
     },
     "execution_count": 134,
     "metadata": {},
     "output_type": "execute_result"
    }
   ],
   "source": [
    "emp.head()"
   ]
  },
  {
   "cell_type": "code",
   "execution_count": 135,
   "metadata": {},
   "outputs": [
    {
     "data": {
      "text/html": [
       "<div>\n",
       "<style scoped>\n",
       "    .dataframe tbody tr th:only-of-type {\n",
       "        vertical-align: middle;\n",
       "    }\n",
       "\n",
       "    .dataframe tbody tr th {\n",
       "        vertical-align: top;\n",
       "    }\n",
       "\n",
       "    .dataframe thead th {\n",
       "        text-align: right;\n",
       "    }\n",
       "</style>\n",
       "<table border=\"1\" class=\"dataframe\">\n",
       "  <thead>\n",
       "    <tr style=\"text-align: right;\">\n",
       "      <th></th>\n",
       "      <th>Unnamed: 0</th>\n",
       "      <th>dno</th>\n",
       "      <th>salary</th>\n",
       "      <th>department id</th>\n",
       "      <th>age</th>\n",
       "      <th>newage</th>\n",
       "      <th>Comm</th>\n",
       "    </tr>\n",
       "  </thead>\n",
       "  <tbody>\n",
       "    <tr>\n",
       "      <th>Unnamed: 0</th>\n",
       "      <td>1.000000</td>\n",
       "      <td>1.000000</td>\n",
       "      <td>-0.979776</td>\n",
       "      <td>0.158114</td>\n",
       "      <td>1.000000</td>\n",
       "      <td>0.158114</td>\n",
       "      <td>1.000000</td>\n",
       "    </tr>\n",
       "    <tr>\n",
       "      <th>dno</th>\n",
       "      <td>1.000000</td>\n",
       "      <td>1.000000</td>\n",
       "      <td>-0.979776</td>\n",
       "      <td>0.158114</td>\n",
       "      <td>1.000000</td>\n",
       "      <td>0.158114</td>\n",
       "      <td>1.000000</td>\n",
       "    </tr>\n",
       "    <tr>\n",
       "      <th>salary</th>\n",
       "      <td>-0.979776</td>\n",
       "      <td>-0.979776</td>\n",
       "      <td>1.000000</td>\n",
       "      <td>-0.254415</td>\n",
       "      <td>-0.979776</td>\n",
       "      <td>-0.254415</td>\n",
       "      <td>-0.979776</td>\n",
       "    </tr>\n",
       "    <tr>\n",
       "      <th>department id</th>\n",
       "      <td>0.158114</td>\n",
       "      <td>0.158114</td>\n",
       "      <td>-0.254415</td>\n",
       "      <td>1.000000</td>\n",
       "      <td>0.158114</td>\n",
       "      <td>1.000000</td>\n",
       "      <td>0.158114</td>\n",
       "    </tr>\n",
       "    <tr>\n",
       "      <th>age</th>\n",
       "      <td>1.000000</td>\n",
       "      <td>1.000000</td>\n",
       "      <td>-0.979776</td>\n",
       "      <td>0.158114</td>\n",
       "      <td>1.000000</td>\n",
       "      <td>0.158114</td>\n",
       "      <td>1.000000</td>\n",
       "    </tr>\n",
       "    <tr>\n",
       "      <th>newage</th>\n",
       "      <td>0.158114</td>\n",
       "      <td>0.158114</td>\n",
       "      <td>-0.254415</td>\n",
       "      <td>1.000000</td>\n",
       "      <td>0.158114</td>\n",
       "      <td>1.000000</td>\n",
       "      <td>0.158114</td>\n",
       "    </tr>\n",
       "    <tr>\n",
       "      <th>Comm</th>\n",
       "      <td>1.000000</td>\n",
       "      <td>1.000000</td>\n",
       "      <td>-0.979776</td>\n",
       "      <td>0.158114</td>\n",
       "      <td>1.000000</td>\n",
       "      <td>0.158114</td>\n",
       "      <td>1.000000</td>\n",
       "    </tr>\n",
       "  </tbody>\n",
       "</table>\n",
       "</div>"
      ],
      "text/plain": [
       "               Unnamed: 0       dno    salary  department id       age  \\\n",
       "Unnamed: 0       1.000000  1.000000 -0.979776       0.158114  1.000000   \n",
       "dno              1.000000  1.000000 -0.979776       0.158114  1.000000   \n",
       "salary          -0.979776 -0.979776  1.000000      -0.254415 -0.979776   \n",
       "department id    0.158114  0.158114 -0.254415       1.000000  0.158114   \n",
       "age              1.000000  1.000000 -0.979776       0.158114  1.000000   \n",
       "newage           0.158114  0.158114 -0.254415       1.000000  0.158114   \n",
       "Comm             1.000000  1.000000 -0.979776       0.158114  1.000000   \n",
       "\n",
       "                 newage      Comm  \n",
       "Unnamed: 0     0.158114  1.000000  \n",
       "dno            0.158114  1.000000  \n",
       "salary        -0.254415 -0.979776  \n",
       "department id  1.000000  0.158114  \n",
       "age            0.158114  1.000000  \n",
       "newage         1.000000  0.158114  \n",
       "Comm           0.158114  1.000000  "
      ]
     },
     "execution_count": 135,
     "metadata": {},
     "output_type": "execute_result"
    }
   ],
   "source": [
    "emp.corr()"
   ]
  },
  {
   "cell_type": "code",
   "execution_count": 136,
   "metadata": {},
   "outputs": [
    {
     "data": {
      "text/html": [
       "<div>\n",
       "<style scoped>\n",
       "    .dataframe tbody tr th:only-of-type {\n",
       "        vertical-align: middle;\n",
       "    }\n",
       "\n",
       "    .dataframe tbody tr th {\n",
       "        vertical-align: top;\n",
       "    }\n",
       "\n",
       "    .dataframe thead th {\n",
       "        text-align: right;\n",
       "    }\n",
       "</style>\n",
       "<table border=\"1\" class=\"dataframe\">\n",
       "  <thead>\n",
       "    <tr style=\"text-align: right;\">\n",
       "      <th></th>\n",
       "      <th>salary</th>\n",
       "      <th>age</th>\n",
       "    </tr>\n",
       "  </thead>\n",
       "  <tbody>\n",
       "    <tr>\n",
       "      <th>salary</th>\n",
       "      <td>1.000000</td>\n",
       "      <td>-0.979776</td>\n",
       "    </tr>\n",
       "    <tr>\n",
       "      <th>age</th>\n",
       "      <td>-0.979776</td>\n",
       "      <td>1.000000</td>\n",
       "    </tr>\n",
       "  </tbody>\n",
       "</table>\n",
       "</div>"
      ],
      "text/plain": [
       "          salary       age\n",
       "salary  1.000000 -0.979776\n",
       "age    -0.979776  1.000000"
      ]
     },
     "execution_count": 136,
     "metadata": {},
     "output_type": "execute_result"
    }
   ],
   "source": [
    "emp[['salary','age']].corr()"
   ]
  },
  {
   "cell_type": "code",
   "execution_count": 137,
   "metadata": {},
   "outputs": [],
   "source": [
    "x = [5,6,7,8,9,10,11]\n",
    "y = [4,7,8,9,10,10,11]"
   ]
  },
  {
   "cell_type": "code",
   "execution_count": 138,
   "metadata": {},
   "outputs": [],
   "source": [
    "emp['x'] = x\n",
    "emp['y'] = y"
   ]
  },
  {
   "cell_type": "code",
   "execution_count": 139,
   "metadata": {},
   "outputs": [
    {
     "data": {
      "text/html": [
       "<div>\n",
       "<style scoped>\n",
       "    .dataframe tbody tr th:only-of-type {\n",
       "        vertical-align: middle;\n",
       "    }\n",
       "\n",
       "    .dataframe tbody tr th {\n",
       "        vertical-align: top;\n",
       "    }\n",
       "\n",
       "    .dataframe thead th {\n",
       "        text-align: right;\n",
       "    }\n",
       "</style>\n",
       "<table border=\"1\" class=\"dataframe\">\n",
       "  <thead>\n",
       "    <tr style=\"text-align: right;\">\n",
       "      <th></th>\n",
       "      <th>x</th>\n",
       "      <th>y</th>\n",
       "    </tr>\n",
       "  </thead>\n",
       "  <tbody>\n",
       "    <tr>\n",
       "      <th>0</th>\n",
       "      <td>5</td>\n",
       "      <td>4</td>\n",
       "    </tr>\n",
       "    <tr>\n",
       "      <th>1</th>\n",
       "      <td>6</td>\n",
       "      <td>7</td>\n",
       "    </tr>\n",
       "    <tr>\n",
       "      <th>2</th>\n",
       "      <td>7</td>\n",
       "      <td>8</td>\n",
       "    </tr>\n",
       "    <tr>\n",
       "      <th>3</th>\n",
       "      <td>8</td>\n",
       "      <td>9</td>\n",
       "    </tr>\n",
       "    <tr>\n",
       "      <th>4</th>\n",
       "      <td>9</td>\n",
       "      <td>10</td>\n",
       "    </tr>\n",
       "    <tr>\n",
       "      <th>5</th>\n",
       "      <td>10</td>\n",
       "      <td>10</td>\n",
       "    </tr>\n",
       "    <tr>\n",
       "      <th>6</th>\n",
       "      <td>11</td>\n",
       "      <td>11</td>\n",
       "    </tr>\n",
       "  </tbody>\n",
       "</table>\n",
       "</div>"
      ],
      "text/plain": [
       "    x   y\n",
       "0   5   4\n",
       "1   6   7\n",
       "2   7   8\n",
       "3   8   9\n",
       "4   9  10\n",
       "5  10  10\n",
       "6  11  11"
      ]
     },
     "execution_count": 139,
     "metadata": {},
     "output_type": "execute_result"
    }
   ],
   "source": [
    "emp[['x','y']]"
   ]
  },
  {
   "cell_type": "code",
   "execution_count": 140,
   "metadata": {},
   "outputs": [
    {
     "data": {
      "text/html": [
       "<div>\n",
       "<style scoped>\n",
       "    .dataframe tbody tr th:only-of-type {\n",
       "        vertical-align: middle;\n",
       "    }\n",
       "\n",
       "    .dataframe tbody tr th {\n",
       "        vertical-align: top;\n",
       "    }\n",
       "\n",
       "    .dataframe thead th {\n",
       "        text-align: right;\n",
       "    }\n",
       "</style>\n",
       "<table border=\"1\" class=\"dataframe\">\n",
       "  <thead>\n",
       "    <tr style=\"text-align: right;\">\n",
       "      <th></th>\n",
       "      <th>x</th>\n",
       "      <th>y</th>\n",
       "    </tr>\n",
       "  </thead>\n",
       "  <tbody>\n",
       "    <tr>\n",
       "      <th>x</th>\n",
       "      <td>1.00000</td>\n",
       "      <td>0.94387</td>\n",
       "    </tr>\n",
       "    <tr>\n",
       "      <th>y</th>\n",
       "      <td>0.94387</td>\n",
       "      <td>1.00000</td>\n",
       "    </tr>\n",
       "  </tbody>\n",
       "</table>\n",
       "</div>"
      ],
      "text/plain": [
       "         x        y\n",
       "x  1.00000  0.94387\n",
       "y  0.94387  1.00000"
      ]
     },
     "execution_count": 140,
     "metadata": {},
     "output_type": "execute_result"
    }
   ],
   "source": [
    "emp[['x','y']].corr()"
   ]
  },
  {
   "cell_type": "code",
   "execution_count": 141,
   "metadata": {},
   "outputs": [
    {
     "data": {
      "text/html": [
       "<div>\n",
       "<style scoped>\n",
       "    .dataframe tbody tr th:only-of-type {\n",
       "        vertical-align: middle;\n",
       "    }\n",
       "\n",
       "    .dataframe tbody tr th {\n",
       "        vertical-align: top;\n",
       "    }\n",
       "\n",
       "    .dataframe thead th {\n",
       "        text-align: right;\n",
       "    }\n",
       "</style>\n",
       "<table border=\"1\" class=\"dataframe\">\n",
       "  <thead>\n",
       "    <tr style=\"text-align: right;\">\n",
       "      <th></th>\n",
       "      <th>salary</th>\n",
       "      <th>Comm</th>\n",
       "    </tr>\n",
       "  </thead>\n",
       "  <tbody>\n",
       "    <tr>\n",
       "      <th>salary</th>\n",
       "      <td>1.000000</td>\n",
       "      <td>-0.979776</td>\n",
       "    </tr>\n",
       "    <tr>\n",
       "      <th>Comm</th>\n",
       "      <td>-0.979776</td>\n",
       "      <td>1.000000</td>\n",
       "    </tr>\n",
       "  </tbody>\n",
       "</table>\n",
       "</div>"
      ],
      "text/plain": [
       "          salary      Comm\n",
       "salary  1.000000 -0.979776\n",
       "Comm   -0.979776  1.000000"
      ]
     },
     "execution_count": 141,
     "metadata": {},
     "output_type": "execute_result"
    }
   ],
   "source": [
    "emp[['salary','Comm']].corr()"
   ]
  },
  {
   "cell_type": "code",
   "execution_count": 142,
   "metadata": {},
   "outputs": [],
   "source": [
    "import itertools"
   ]
  },
  {
   "cell_type": "code",
   "execution_count": 143,
   "metadata": {},
   "outputs": [],
   "source": [
    "i = [1,2,3]"
   ]
  },
  {
   "cell_type": "code",
   "execution_count": 144,
   "metadata": {},
   "outputs": [],
   "source": [
    "combinations = itertools.combinations(i,2)"
   ]
  },
  {
   "cell_type": "code",
   "execution_count": 145,
   "metadata": {},
   "outputs": [
    {
     "data": {
      "text/plain": [
       "<itertools.combinations at 0xba35f98>"
      ]
     },
     "execution_count": 145,
     "metadata": {},
     "output_type": "execute_result"
    }
   ],
   "source": [
    "combinations"
   ]
  },
  {
   "cell_type": "code",
   "execution_count": 146,
   "metadata": {},
   "outputs": [
    {
     "name": "stdout",
     "output_type": "stream",
     "text": [
      "(1, 2)\n",
      "(1, 3)\n",
      "(2, 3)\n"
     ]
    }
   ],
   "source": [
    "for c in combinations:\n",
    "    print (c)"
   ]
  },
  {
   "cell_type": "code",
   "execution_count": 147,
   "metadata": {},
   "outputs": [],
   "source": [
    "perm = itertools.permutations(i,2)"
   ]
  },
  {
   "cell_type": "code",
   "execution_count": 148,
   "metadata": {},
   "outputs": [
    {
     "data": {
      "text/plain": [
       "<itertools.permutations at 0xba2f518>"
      ]
     },
     "execution_count": 148,
     "metadata": {},
     "output_type": "execute_result"
    }
   ],
   "source": [
    "perm"
   ]
  },
  {
   "cell_type": "code",
   "execution_count": 149,
   "metadata": {},
   "outputs": [
    {
     "name": "stdout",
     "output_type": "stream",
     "text": [
      "(1, 2)\n",
      "(1, 3)\n",
      "(2, 1)\n",
      "(2, 3)\n",
      "(3, 1)\n",
      "(3, 2)\n"
     ]
    }
   ],
   "source": [
    "for p in perm:\n",
    "    print (p)"
   ]
  },
  {
   "cell_type": "code",
   "execution_count": null,
   "metadata": {},
   "outputs": [],
   "source": [
    "from scipy.stats import chi2\n",
    "a,b,c=[],[],[]\n",
    "for i in range (2):\n",
    "    if i==0:\n",
    "        z=int(input(\"enter the observed value for a:\"))\n",
    "        a.append(z)\n",
    "    else:\n",
    "        z=int(input(\"enter the expected value for a:\")) \n",
    "        a.append(z)\n",
    "for i in range (2):\n",
    "    if i==0:\n",
    "        z=int(input(\"enter the observed value for b:\"))\n",
    "        b.append(z)\n",
    "    else:\n",
    "        z=int(input(\"enter the expected value for b:\")) \n",
    "        b.append(z)\n",
    "for i in range (2):\n",
    "    if i==0:\n",
    "        z=int(input(\"enter the observed value for c:\"))\n",
    "        c.append(z)\n",
    "    else:\n",
    "        z=int(input(\"enter the expected value for c:\")) \n",
    "        c.append(z)\n",
    "        \n",
    "#average of observed values\n",
    "\n",
    "avgo=(a[0]+b[0]+c[0])/3\n",
    "\n",
    "#find the chi square value\n",
    "\n",
    "chi=((a[0]-a[1])**2)/a[1]+((b[0]-b[1])**2)/b[1]+((c[0]-c[1])**2)/c[1]\n",
    "\n",
    "#find the critical value as 95%\n",
    "from scipy.stats import chi2\n",
    "alp=0.05\n",
    "dof=2\n",
    "\n",
    "cr=chi2.isf (alp,dof)\n",
    "\n"
   ]
  },
  {
   "cell_type": "code",
   "execution_count": null,
   "metadata": {},
   "outputs": [],
   "source": [
    "from scipy import stats\n",
    "a,b,c=[],[],[]\n",
    "n=int(input(\"enter the sample values for each group:\"))\n",
    "for i in range (n):\n",
    "    while True:\n",
    "        f=int(input(\"enter the sample values for group a \"))\n",
    "        d=a.count(f)\n",
    "        if d==1:\n",
    "            print(\"entered duplicate value\")\n",
    "        else:\n",
    "            a.append(f)\n",
    "            break\n",
    "for i in range (n):\n",
    "    while True:\n",
    "        f=int(input(\"enter the sample values for group b \"))\n",
    "        d=b.count(f)\n",
    "        if d==1:\n",
    "            print(\"entered duplicate value\")\n",
    "        else:\n",
    "            b.append(f)\n",
    "            break\n",
    "for i in range (n):\n",
    "    while True:\n",
    "        f=int(input(\"enter the sample values for group c \"))\n",
    "        d=c.count(f)\n",
    "        if d==1:\n",
    "            print(\"entered duplicate value\")\n",
    "        else:\n",
    "            c.append(f)\n",
    "            break\n",
    "# findng averages of each grop\n",
    "ga,gb,gc=0,0,0\n",
    "for i in range(n):\n",
    "    ga=ga+a[i]\n",
    "ga=ga/n\n",
    "for i in range(n):\n",
    "    gb=gb+b[i]\n",
    "gb=gb/n\n",
    "for i in range(n):\n",
    "    gc=gc+c[i]\n",
    "gc=gc/n\n",
    "\n",
    "# finding average of three groups\n",
    "g=(ga+gb+gc)/3\n",
    "\n",
    "# finding variance b/w groups\n",
    "ssa=(((ga-g)**2)+((gb-g)**2)+((gc-g)**2))\n",
    "ssa=ssa*10\n",
    "dfg=2\n",
    "\n",
    "# finding variance within groups\n",
    "ssea,sseb,ssec=0,0,0\n",
    "for i in range (n):\n",
    "    ssea=ssea+((a[i]-ga)**2)\n",
    "for i in range (n):\n",
    "    sseb=sseb+((b[i]-gb)**2)\n",
    "for i in range (n):\n",
    "    ssec=ssec+((c[i]-gc)**2)\n",
    "sse=ssea+sseb+ssec\n",
    "dfe=(n-1)*3\n",
    "\n",
    "# finding f value\n",
    "\n",
    "f=(ssa/dfg)/(sse/dfe)\n",
    "\n",
    "# finding critical value\n",
    "\n",
    "cr=stats.f.ppf(1-.05,dfn=dfg,dfd=dfe)\n",
    "\n",
    "\n",
    "if f < cr:\n",
    "    print(\"fail to reject null hypothesis\")\n",
    "else:\n",
    "    print(\"reject null hypothesis\")"
   ]
  },
  {
   "cell_type": "code",
   "execution_count": null,
   "metadata": {},
   "outputs": [],
   "source": []
  },
  {
   "cell_type": "code",
   "execution_count": null,
   "metadata": {},
   "outputs": [],
   "source": []
  }
 ],
 "metadata": {
  "kernelspec": {
   "display_name": "Python 3",
   "language": "python",
   "name": "python3"
  },
  "language_info": {
   "codemirror_mode": {
    "name": "ipython",
    "version": 3
   },
   "file_extension": ".py",
   "mimetype": "text/x-python",
   "name": "python",
   "nbconvert_exporter": "python",
   "pygments_lexer": "ipython3",
   "version": "3.6.5"
  }
 },
 "nbformat": 4,
 "nbformat_minor": 2
}
