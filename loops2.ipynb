{
 "cells": [
  {
   "cell_type": "code",
   "execution_count": 1,
   "metadata": {},
   "outputs": [
    {
     "name": "stdout",
     "output_type": "stream",
     "text": [
      "10\n",
      "11\n",
      "12\n",
      "13\n",
      "14\n"
     ]
    }
   ],
   "source": [
    "#break statements in For Loop\n",
    "def main():\n",
    "\t#use a for loop over a collection\n",
    "\t#Months = [\"Jan\",\"Feb\",\"Mar\",\"April\",\"May\",\"June\"]\n",
    "\t#for m in Months:\n",
    "\t\t#print m\n",
    "\t\t\n",
    "# use the break and continue statements\n",
    "\t\t\n",
    "\t\t\n",
    "\t\tfor x in range (10,20):\n",
    "\t\t\tif (x == 15): break\n",
    "\t\t\t#if (x % 2 == 0) : continue\n",
    "\t\t\tprint(x)\n",
    "\n",
    "if __name__ == \"__main__\":\n",
    "\tmain()\n"
   ]
  },
  {
   "cell_type": "code",
   "execution_count": 2,
   "metadata": {},
   "outputs": [
    {
     "name": "stdout",
     "output_type": "stream",
     "text": [
      "11\n",
      "12\n",
      "13\n",
      "14\n",
      "16\n",
      "17\n",
      "18\n",
      "19\n"
     ]
    }
   ],
   "source": [
    "#\"continue statement\" in For Loop\n",
    "def main():\n",
    "\t#use a for loop over a collection\n",
    "\t#Months = [\"Jan\",\"Feb\",\"Mar\",\"April\",\"May\",\"June\"]\n",
    "\t#for m in Months:\n",
    "\t\t#print m\n",
    "\t\t\n",
    "# use the break and continue statements\n",
    "\t\t\n",
    "\t\t\n",
    "\t\tfor x in range (10,20):\n",
    "\t\t\t#if (x == 15): break\n",
    "\t\t\tif (x % 5 == 0) : continue\n",
    "\t\t\tprint(x)\n",
    "\n",
    "if __name__ == \"__main__\":\n",
    "\tmain()\n"
   ]
  },
  {
   "cell_type": "code",
   "execution_count": 3,
   "metadata": {},
   "outputs": [
    {
     "name": "stdout",
     "output_type": "stream",
     "text": [
      "0 Jan\n",
      "1 Feb\n",
      "2 Mar\n",
      "3 April\n",
      "4 May\n",
      "5 June\n"
     ]
    }
   ],
   "source": [
    "#\"enumerate\" function for \"For Loop\"\n",
    "def main():\n",
    "\t#use a for loop over a collection\n",
    "\tMonths = [\"Jan\",\"Feb\",\"Mar\",\"April\",\"May\",\"June\"]\n",
    "\tfor i, m in enumerate (Months):\n",
    "\t\tprint(i,m)\n",
    "\t\t\n",
    "# use the break and continue statements\n",
    "\t\t\n",
    "\t\t\n",
    "\t\t#for x in range (10,20):\n",
    "\t\t#if (x == 15): break\n",
    "\t\t#if (x % 5 == 0) : continue\n",
    "\t\t#print x\n",
    "\n",
    "\n",
    "\t\t\n",
    "if __name__ == \"__main__\":\n",
    "\tmain()\n"
   ]
  },
  {
   "cell_type": "code",
   "execution_count": null,
   "metadata": {},
   "outputs": [],
   "source": []
  }
 ],
 "metadata": {
  "kernelspec": {
   "display_name": "Python 3",
   "language": "python",
   "name": "python3"
  },
  "language_info": {
   "codemirror_mode": {
    "name": "ipython",
    "version": 3
   },
   "file_extension": ".py",
   "mimetype": "text/x-python",
   "name": "python",
   "nbconvert_exporter": "python",
   "pygments_lexer": "ipython3",
   "version": "3.6.5"
  }
 },
 "nbformat": 4,
 "nbformat_minor": 2
}
